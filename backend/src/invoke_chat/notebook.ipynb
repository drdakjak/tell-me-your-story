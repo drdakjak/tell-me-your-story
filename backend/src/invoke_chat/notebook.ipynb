{
 "cells": [
  {
   "cell_type": "code",
   "execution_count": 1,
   "metadata": {},
   "outputs": [],
   "source": [
    "import json"
   ]
  },
  {
   "cell_type": "code",
   "execution_count": 2,
   "metadata": {},
   "outputs": [],
   "source": [
    "from handler import handler, get_message_history"
   ]
  },
  {
   "cell_type": "code",
   "execution_count": 3,
   "metadata": {},
   "outputs": [
    {
     "data": {
      "text/plain": [
       "{'statusCode': 200,\n",
       " 'headers': {'Access-Control-Allow-Headers': '*',\n",
       "  'Access-Control-Allow-Origin': '*',\n",
       "  'Access-Control-Allow-Methods': '*'},\n",
       " 'body': '[{\"type\": \"human\", \"content\": \"Can you tell me what the original section is?\"}, {\"type\": \"ai\", \"content\": \"\"}, {\"type\": \"ai\", \"content\": \"The original section of the resume includes the following details:\\\\n\\\\n### Bio\\\\nMachine Learning and AI Specialist with 6+ years of experience having driven advancements in advertising and recommender systems at Seznam.cz, a leading Czech tech company. I\\\\u2019ve led research teams, tackled large-scale data projects, and initiated and driven complex strategic initiatives. I\\\\u2019m also a seasoned speaker and event organiser, with a few co-authored papers in top conferences such as RECSYS and SIGIR. I highly value and foster teamwork and cross-functional collaboration and enjoy seeking ways to present complex problems and findings in a clear and understandable manner for everyone.\\\\n\\\\n### Experience\\\\n- **Study and Travel** (Nov. 2022 - present)\\\\n  - Language Proficiency: Traveled and studied to achieve proficiency in English, enabling effective collaboration in international teams. Enrolled in intensive courses of English and Spanish, achieved conversational proficiency in English and basic Spanish skills.\\\\n  - Continuous Learning: Maintained up-to-date knowledge of AI advancements by enrolling in AI courses, and attending AI meetups in Sydney, Australia.\\\\n\\\\n- **Head of Research Department** (Aug. 2019 - Nov. 2022)\\\\n  - Leadership: Managed the research department of the Advertising System division at Seznam.cz, a prominent Czech tech and media company, reaching millions of users with its proprietary advertising system and search engine.\\\\n  - Team Expansion and Organization: Led the expansion of the research department by 300% (from 6 to 24 members), establishing 5 specialized teams focused on sponsored search, display advertising, targeting, recommender systems, and operational research. Implemented a hybrid organizational structure to foster greater cross-team collaboration, innovation, and research throughput.\\\\n  - Project Management: Directed research teams, collaborated on setting project priorities both within individual teams and across the division. Initiated and drove strategic multi-team and cross-functional projects, defined requirements, and facilitated collaboration to ensure successful outcomes.\\\\n  - Process and Framework Development: Co-developed and implemented a competency and continuous education framework, an improved internal hiring process, and a management platform for research environments.\\\\n  - Strategic Communication: Engaged daily with developers, product managers, project managers, and business managers across the division, as well as on a regular basis with other divisions. Developed and presented vision and strategy to top management.\\\\n\\\\n- **Research Team Leader** (Feb. 2019 - Aug. 2019)\\\\n  - Team Leadership: Managed a team of Applied Machine Learning Scientists, fostering close collaboration with development teams.\\\\n  - Project Leadership: Directed and managed research projects, ensuring alignment with strategic goals.\\\\n  - Cross-functional Communication: Coordinated with product managers and development team leaders to gather and convey requests and priorities, enhancing collaboration and efficiency.\\\\n  - Research Contributions: Conducted and led research on video recommendation for a streaming service, resulting in a significant 28% increase in user engagement and publication at RecSys 2020.\\\\n  - Technological Transformation: Oversaw the successful transition from linear model-based to neural network-based online machine learning.\\\\n  - Best Practices Development: Co-developed and implemented best practices for the ML project life-cycle and software development.\\\\n  - Strategic Planning: Contributed to the strategic planning and prioritization of recommender systems development.\\\\n\\\\n- **Applied Machine Learning Scientist** (Nov. 2016 - Feb. 2019)\\\\n  - Recommender Systems Development: Worked on recommender systems for lifestyle, news, and video content, reaching over half of the Czech internet population.\\\\n  - Data Processing and Analysis: Processed and analyzed terabytes of logs daily using an on-premise cluster.\\\\n  - Collaboration and Code Review: Worked closely with the ML engineering team to reimplement prototypes into the production environment and review production code.\\\\n  - Highlighted projects: Model Improvement, Recommendation Diversification, Hyperparameter Optimization, Offline Evaluation Framework, A/B/n Test Evaluation, Production Implementation, Contextual Bandits Research.\\\\n\\\\n- **Data Analyst** (Jul. 2015 - Jan. 2020)\\\\n  - Data Processing and Analysis: Processed, cleaned, and analyzed data from various sources.\\\\n  - Data Visualization: Generated charts and visualizations to represent data trends and insights.\\\\n  - Report Automation: Developed automation scripts to generate essential annual reports.\\\\n  - Collaboration and Presentation: Worked closely with the IT department and presented findings and recommendations to stakeholders.\\\\n\\\\n### Education\\\\n- Master\\\\u2019s degree in Knowledge Engineering\\\\n- Bachelor\\\\u2019s degree in Information Systems and Management\\\\n\\\\n### Publication\\\\n- Combining Models for Better User Satisfaction in Video Recommendation RECSYS 2020\\\\n- Vertical Search Blending - A Real-world Counterfactual Dataset SIGIR 2019\\\\n\\\\n### Others\\\\n- Co-authored a workshop on recommender systems\\\\n- Presented on AI to 300 attendees with minimal or no background in AI\\\\n- Led the organization of an AI meetup, attracting over 140 attendees\\\\n- Representation and Engagement - Represented Seznam.cz at numerous events\\\\n\\\\n### Technical Skills\\\\n- Languages: Proficient in Python, SQL; Basic knowledge of C/C++, JavaScript, HTML/CSS, R, Scala\\\\n- Machine Learning: Scikit-Learn, Vowpal Wabbit, NumPy, Statsmodels, SciPy, PyTorch, MLFlow\\\\n- Data Processing: Apache Spark, Hadoop, pandas, SQL; Basic knowledge of AWS\\\\n- Data Visualization: Matplotlib, Plotly, Seaborn, Dash\\\\n- Tools: Git, Docker, JupyterLab, VS Code, Scrum methodologies\\\\n\\\\n### Soft Skills\\\\n- Leadership and Team Management\\\\n- Strategic Planning and Execution\\\\n- Cross-functional Collaboration\\\\n- Effective Communication and Public Speaking\\\\n- Event Organization and Management\\\\n- Problem-solving and Critical Thinking\\\\n\\\\n### Language Proficiency\\\\n- Czech, Conversational English, Basic Spanish, Basic German\"}, {\"type\": \"human\", \"content\": \"Can you tell me what the original section is?\"}, {\"type\": \"ai\", \"content\": \"The original section of the resume is as follows:\\\\n\\\\n## Applied Machine Learning Scientist \\\\n\\\\nNov. 2016 - Feb. 2019\\\\n\\\\n- Recommender Systems Development: Worked on recommender systems (e.g., collaborative filtering, online ML learning) for lifestyle, news, and video content, reaching over half of the Czech internet population. This resulted in a substantial double-digit increase in key performance metrics. \\\\n- Data Processing and Analysis: Processed and analyzed terabytes of logs daily using an on-premise cluster. Developed and maintained a proprietary framework for data manipulation and quality checks. PySpark \\\\n- Collaboration and Code Review: Worked closely with the ML engineering team to reimplement prototypes into the production environment and review production code. Participated in planning and prioritization meetings. \\\\n- Highlighted projects: \\\\n    * Model Improvement: Continuously improved online machine learning models through data cleaning, feature selection/extraction/engineering techniques, and conducting numerous offline and online tests. Vowpal Wabbit \\\\n    * Recommendation Diversification: Developed an approach for recommendation diversification based on clustering of semantic and text vectors. scikit-learn \\\\n    * Hyperparameter Optimization: Developed an approach based on the Nelder-Mead method, enabling real-time adjustments based on online metrics (e.g., user engagement). Python \\\\n    * Offline Evaluation Framework: Created a framework for offline evaluation of models based on matrix factorization, leading to informed deployment and improved performance in online metrics. Python \\\\n    * A/B/n Test Evaluation: Coauthored a proprietary library for A/B/n test evaluation based on a frequentist approach. Designed, evaluated, and interpreted results of A/B/n tests. Python, Pyspark, Statmodels \\\\n    * Production Implementation: Implemented the machine learning component of a recommender system based on matrix factorization into production, significantly optimizing its memory efficiency and performance. NumPy, multiprocessing \\\\n    * Contextual Bandits Research: Focused research on the field of contextual bandits, leading to collaboration with the counterpart research department and a publication (short paper) at SIGIR 2019.\"}, {\"type\": \"human\", \"content\": \"Can you tell me what the original section is?\"}, {\"type\": \"ai\", \"content\": \"The original section of the resume is as follows:\\\\n\\\\n## Applied Machine Learning Scientist \\\\n\\\\nNov. 2016 - Feb. 2019\\\\n\\\\n- Recommender Systems Development: Worked on recommender systems (e.g., collaborative filtering, online ML learning) for lifestyle, news, and video content, reaching over half of the Czech internet population. This resulted in a substantial double-digit increase in key performance metrics. \\\\n- Data Processing and Analysis: Processed and analyzed terabytes of logs daily using an on-premise cluster. Developed and maintained a proprietary framework for data manipulation and quality checks. PySpark \\\\n- Collaboration and Code Review: Worked closely with the ML engineering team to reimplement prototypes into the production environment and review production code. Participated in planning and prioritization meetings. \\\\n- Highlighted projects: \\\\n    * Model Improvement: Continuously improved online machine learning models through data cleaning, feature selection/extraction/engineering techniques, and conducting numerous offline and online tests. Vowpal Wabbit \\\\n    * Recommendation Diversification: Developed an approach for recommendation diversification based on clustering of semantic and text vectors. scikit-learn \\\\n    * Hyperparameter Optimization: Developed an approach based on the Nelder-Mead method, enabling real-time adjustments based on online metrics (e.g., user engagement). Python \\\\n    * Offline Evaluation Framework: Created a framework for offline evaluation of models based on matrix factorization, leading to informed deployment and improved performance in online metrics. Python \\\\n    * A/B/n Test Evaluation: Coauthored a proprietary library for A/B/n test evaluation based on a frequentist approach. Designed, evaluated, and interpreted results of A/B/n tests. Python, Pyspark, Statmodels \\\\n    * Production Implementation: Implemented the machine learning component of a recommender system based on matrix factorization into production, significantly optimizing its memory efficiency and performance. NumPy, multiprocessing \\\\n    * Contextual Bandits Research: Focused research on the field of contextual bandits, leading to collaboration with the counterpart research department and a publication (short paper) at SIGIR 2019.\"}]'}"
      ]
     },
     "execution_count": 3,
     "metadata": {},
     "output_type": "execute_result"
    }
   ],
   "source": [
    "with open('events/event.json') as f:\n",
    "    event = json.load(f)\n",
    "    response = handler(event, None)\n",
    "response\n"
   ]
  },
  {
   "cell_type": "code",
   "execution_count": 4,
   "metadata": {},
   "outputs": [],
   "source": [
    "for msg in json.loads(response['body']):\n",
    "    print(msg)\n",
    "    print('--'*10)"
   ]
  },
  {
   "cell_type": "code",
   "execution_count": 5,
   "metadata": {},
   "outputs": [
    {
     "data": {
      "text/plain": [
       "[]"
      ]
     },
     "execution_count": 5,
     "metadata": {},
     "output_type": "execute_result"
    }
   ],
   "source": [
    "conversation_id = \"0\"\n",
    "message_history = get_message_history(conversation_id)\n",
    "message_history.messages\n"
   ]
  },
  {
   "cell_type": "code",
   "execution_count": null,
   "metadata": {},
   "outputs": [],
   "source": []
  },
  {
   "cell_type": "code",
   "execution_count": null,
   "metadata": {},
   "outputs": [],
   "source": []
  }
 ],
 "metadata": {
  "kernelspec": {
   "display_name": ".venv",
   "language": "python",
   "name": "python3"
  },
  "language_info": {
   "codemirror_mode": {
    "name": "ipython",
    "version": 3
   },
   "file_extension": ".py",
   "mimetype": "text/x-python",
   "name": "python",
   "nbconvert_exporter": "python",
   "pygments_lexer": "ipython3",
   "version": "3.11.4"
  }
 },
 "nbformat": 4,
 "nbformat_minor": 2
}
