{
 "cells": [
  {
   "cell_type": "code",
   "execution_count": 1,
   "metadata": {},
   "outputs": [],
   "source": [
    "import sys\n",
    "sys.path.append('../shared')"
   ]
  },
  {
   "cell_type": "code",
   "execution_count": 2,
   "metadata": {},
   "outputs": [],
   "source": [
    "import json"
   ]
  },
  {
   "cell_type": "code",
   "execution_count": 3,
   "metadata": {},
   "outputs": [],
   "source": [
    "from handler import handler, get_message_history"
   ]
  },
  {
   "cell_type": "code",
   "execution_count": 4,
   "metadata": {},
   "outputs": [
    {
     "data": {
      "text/plain": [
       "{'statusCode': 200,\n",
       " 'headers': {'Access-Control-Allow-Headers': '*',\n",
       "  'Access-Control-Allow-Origin': '*',\n",
       "  'Access-Control-Allow-Methods': '*'},\n",
       " 'body': '[{\"type\": \"ai\", \"content\": \"{\\\\\"text\\\\\": \\\\\"\\\\\\\\nHi! \\\\\\\\n\\\\\\\\nI\\'m here to help you tailor this section. I have access to the:\\\\\\\\n\\\\\\\\n- hiring criteria, \\\\\\\\n- original section, \\\\\\\\n- current tailored section, \\\\\\\\n- the whole resume.\\\\\\\\n\\\\\\\\nHow can I help you?\\\\\\\\n\\\\\", \\\\\"tailored_section\\\\\": \\\\\"\\\\\"}\"}]'}"
      ]
     },
     "execution_count": 4,
     "metadata": {},
     "output_type": "execute_result"
    }
   ],
   "source": [
    "with open('events/event.json') as f:\n",
    "    event = json.load(f)\n",
    "    response = handler(event, None)\n",
    "response\n"
   ]
  },
  {
   "cell_type": "code",
   "execution_count": 5,
   "metadata": {},
   "outputs": [
    {
     "name": "stdout",
     "output_type": "stream",
     "text": [
      "{'type': 'ai', 'content': '{\"text\": \"\\\\nHi! \\\\n\\\\nI\\'m here to help you tailor this section. I have access to the:\\\\n\\\\n- hiring criteria, \\\\n- original section, \\\\n- current tailored section, \\\\n- the whole resume.\\\\n\\\\nHow can I help you?\\\\n\", \"tailored_section\": \"\"}'}\n",
      "--------------------\n"
     ]
    }
   ],
   "source": [
    "for msg in json.loads(response['body']):\n",
    "    print(msg)\n",
    "    print('--'*10)"
   ]
  },
  {
   "cell_type": "code",
   "execution_count": 6,
   "metadata": {},
   "outputs": [
    {
     "data": {
      "text/plain": [
       "[AIMessage(content='{\"text\": \"\\\\nHi! \\\\n\\\\nI\\'m here to help you tailor this section. I have access to the:\\\\n\\\\n- hiring criteria, \\\\n- original section, \\\\n- current tailored section, \\\\n- the whole resume.\\\\n\\\\nHow can I help you?\\\\n\", \"tailored_section\": \"\"}')]"
      ]
     },
     "execution_count": 6,
     "metadata": {},
     "output_type": "execute_result"
    }
   ],
   "source": [
    "conversation_id = \"0\"\n",
    "user_id=\"1234567890\"\n",
    "message_history = get_message_history(user_id, conversation_id)\n",
    "message_history.messages\n"
   ]
  },
  {
   "cell_type": "code",
   "execution_count": null,
   "metadata": {},
   "outputs": [],
   "source": []
  },
  {
   "cell_type": "code",
   "execution_count": null,
   "metadata": {},
   "outputs": [],
   "source": []
  }
 ],
 "metadata": {
  "kernelspec": {
   "display_name": ".venv",
   "language": "python",
   "name": "python3"
  },
  "language_info": {
   "codemirror_mode": {
    "name": "ipython",
    "version": 3
   },
   "file_extension": ".py",
   "mimetype": "text/x-python",
   "name": "python",
   "nbconvert_exporter": "python",
   "pygments_lexer": "ipython3",
   "version": "3.11.4"
  }
 },
 "nbformat": 4,
 "nbformat_minor": 2
}
