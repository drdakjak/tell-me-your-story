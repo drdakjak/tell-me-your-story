{
 "cells": [
  {
   "cell_type": "code",
   "execution_count": 1,
   "metadata": {},
   "outputs": [],
   "source": [
    "import json\n",
    "from IPython.display import display, Markdown"
   ]
  },
  {
   "cell_type": "code",
   "execution_count": 2,
   "metadata": {},
   "outputs": [],
   "source": [
    "from handler import handler"
   ]
  },
  {
   "cell_type": "code",
   "execution_count": 3,
   "metadata": {},
   "outputs": [],
   "source": [
    "with open('./events/event.json') as f:\n",
    "    event = json.load(f)\n",
    "    response = handler(event, None)"
   ]
  },
  {
   "cell_type": "code",
   "execution_count": 5,
   "metadata": {},
   "outputs": [
    {
     "data": {
      "text/plain": [
       "'[{\"header\": \"Contact Information\", \"content\": \"Jakub Drdak  \\\\n+420 XXX XXX XXX  \\\\nx@gmail.com  \\\\nlinkedin.com/in/x  \\\\n\"}, {\"header\": \"Bio\", \"content\": \"Machine Learning and AI Specialist with 6+ years of experience having driven advancements in advertising and recommender systems at Seznam.cz, a leading Czech tech company. I\\\\u2019ve led research teams, tackled large-scale data projects, and initiated and driven complex strategic initiatives. I\\\\u2019m also a seasoned speaker and event organiser, with a few co-authored papers in top conferences such as RECSYS and SIGIR. I highly value and foster teamwork and cross-functional collaboration and enjoy seeking ways to present complex problems and findings in a clear and understandable manner for everyone.\"}, {\"header\": \"Experience\", \"content\": \"\", \"advice\": \"\", \"section_id\": \"FpKY9AcHfivAbzYixx32kK\"}, {\"header\": \"Study and Travel\", \"content\": \"Nov. 2022 - present  \\\\n\\\\n- Language Proficiency: Traveled and studied to achieve proficiency in English, enabling effective collaboration in international teams. Enrolled in intensive courses of English and Spanish, achieved conversational proficiency in English and basic Spanish skills.  \\\\n- Continuous Learning: Maintained up-to-date knowledge of AI advancements by enrolling in AI courses, and attending AI meetups in Sydney, Australia.\"}, {\"header\": \"Head of Research Department\", \"content\": \"Aug. 2019 - Nov. 2022  \\\\n\\\\n- Leadership: Managed the research department of the Advertising System division at Seznam.cz, a prominent Czech tech and media company, reaching millions of users with its proprietary advertising system and search engine.  \\\\n- Team Expansion and Organization: Led the expansion of the research department by 300% (from 6 to 24 members), establishing 5 specialized teams focused on sponsored search, display advertising, targeting, recommender systems, and operational research. Implemented a hybrid organizational structure (replacing the centralized structure) to foster greater cross-team collaboration, innovation and research throughput.  \\\\n- Project Management: Directed research teams, collaborated on setting project priorities both within individual teams and across the division. Initiated and drove strategic multi-team and cross-functional projects, defined requirements, and facilitated collaboration to ensure successful outcomes. Projects included:  \\\\n    * A universal A/B/n testing platform spanning the entire advertising and recommender systems  \\\\n    * Development of Machine Learning platforms to substantially accelerate the ML project life-cycle Kubeflow  \\\\n    * A Data Quality platform to ensure high standards in data handling and analysis  \\\\n- Process and Framework Development: Co-developed and implemented:  \\\\n    * A competency and continuous education framework  \\\\n    * An improved internal hiring process  \\\\n    * A management platform for research environments, enabling fast initialization, reliability, and reproducibility of research projects. MLFlow, CI, OpenStack  \\\\n- Strategic Communication: Engaged daily with developers, product managers, project managers, and business managers across the division, as well as on a regular basis with other divisions. Developed and presented vision and strategy to top management.\"}, {\"header\": \"Research Team Leader\", \"content\": \"Feb. 2019 - Aug. 2019  \\\\n\\\\n- Team Leadership: Managed a team of Applied Machine Learning Scientists, fostering close collaboration with development teams.  \\\\n- Project Leadership: Directed and managed research projects, ensuring alignment with strategic goals.  \\\\n- Cross-functional Communication: Coordinated with product managers and development team leaders to gather and convey requests and priorities, enhancing collaboration and efficiency.  \\\\n- Research Contributions: Conducted and led research on video recommendation for a streaming service, resulting in a significant 28% increase in user engagement and publication (short paper) at RecSys 2020.  \\\\n- Technological Transformation: Oversaw the successful transition from linear model-based to neural network-based online machine learning. Tensorflow  \\\\n- Best Practices Development: Co-developed and implemented best practices for the ML project life-cycle and software development. Gitlab, Docker, YouTrack, Scrum  \\\\n- Strategic Planning: Contributed to the strategic planning and prioritization of recommender systems development.\"}, {\"header\": \"Applied Machine Learning Scientist\", \"content\": \"Nov. 2016 - Feb. 2019  \\\\n\\\\n- Recommender Systems Development: Worked on recommender systems (e.g., collaborative filtering, online ML learning) for lifestyle, news, and video content, reaching over half of the Czech internet population. This resulted in a substantial double-digit increase in key performance metrics.  \\\\n- Data Processing and Analysis: Processed and analyzed terabytes of logs daily using an on-premise cluster. Developed and maintained a proprietary framework for data manipulation and quality checks. PySpark  \\\\n- Collaboration and Code Review: Worked closely with the ML engineering team to reimplement prototypes into the production environment and review production code. Participated in planning and prioritization meetings.  \\\\n- Highlighted projects:  \\\\n    * Model Improvement: Continuously improved online machine learning models through data cleaning, feature selection/extraction/engineering techniques, and conducting numerous offline and online tests. Vowpal Wabbit  \\\\n    * Recommendation Diversification: Developed an approach for recommendation diversification based on clustering of semantic and text vectors. scikit-learn  \\\\n    * Hyperparameter Optimization: Developed an approach based on the Nelder-Mead method, enabling real-time adjustments based on online metrics (e.g., user engagement). Python  \\\\n    * Offline Evaluation Framework: Created a framework for offline evaluation of models based on matrix factorization, leading to informed deployment and improved performance in online metrics. Python  \\\\n    * A/B/n Test Evaluation: Coauthored a proprietary library for A/B/n test evaluation based on a frequentist approach. Designed, evaluated, and interpreted results of A/B/n tests. Python, Pyspark, Statmodels  \\\\n    * Production Implementation: Implemented the machine learning component of a recommender system based on matrix factorization into production, significantly optimizing its memory efficiency and performance. NumPy, multiprocessing  \\\\n    * Contextual Bandits Research: Focused research on the field of contextual bandits, leading to collaboration with the counterpart research department and a publication (short paper) at SIGIR 2019.\"}, {\"header\": \"Data Analyst\", \"content\": \"Jul. 2015 - Jan. 2020  \\\\n\\\\n- Data Processing and Analysis: Processed, cleaned, and analyzed data from various sources, including database dumps, Excel files, and scraped web pages. SQL, Python  \\\\n- Data Visualization: Generated charts and visualizations to represent data trends and insights. Python, Matplotlib  \\\\n- Report Automation: Developed automation scripts to generate essential annual reports that guided decisions on allocating financial support to research institutions across the Czech Republic. Python, pandas, Git  \\\\n- Collaboration and Presentation: Worked closely with the IT department and presented findings and recommendations to stakeholders through detailed reports and presentations.\"}, {\"header\": \"Education\", \"content\": \"- Master\\\\u2019s degree in Knowledge Engineering  \\\\n- Bachelor\\\\u2019s degree in Information Systems and Management\"}, {\"header\": \"Publication\", \"content\": \"- Combining Models for Better User Satisfaction in Video Recommendation RECSYS 2020  \\\\n- Vertical Search Blending - A Real-world Counterfactual Dataset SIGIR 2019\"}, {\"header\": \"Others\", \"content\": \"- Co-authored a workshop on recommender systems  \\\\n- Presented on AI to 300 attendees with minimal or no background in AI  \\\\n- Led the organization of an AI meetup, attracting over 140 attendees  \\\\n- Representation and Engagement - Represented Seznam.cz at numerous events, including job fairs and meetups\"}, {\"header\": \"Technical Skills\", \"content\": \"- Languages: Proficient in: Python, SQL | Basic knowledge of: C/C++, JavaScript, HTML/CSS, R, Scala  \\\\n- Machine Learning: Scikit-Learn, Vowpal Wabbit, NumPy, Statsmodels, SciPy, PyTorch, MLFlow  \\\\n- Data Processing: Apache Spark, Hadoop, pandas, SQL | Basic knowledge of: AWS  \\\\n- Data Visualisation: Matplotlib, Plotly, Seaborn, Dash  \\\\n- Tools: Git, Docker, JupyterLab, VS Code, Scrum methodologies  \\\\n\"}, {\"header\": \"Soft Skills\", \"content\": \"- Leadership and Team Management  \\\\n- Strategic Planning and Execution  \\\\n- Cross-functional Collaboration  \\\\n- Effective Communication and Public Speaking  \\\\n- Event Organization and Management  \\\\n- Problem-solving and Critical Thinking  \\\\n- Language Proficiency: Czech, Conversational English, Basic Spanish, Basic German\"}]'"
      ]
     },
     "execution_count": 5,
     "metadata": {},
     "output_type": "execute_result"
    }
   ],
   "source": [
    "json.loads(response['body'])['semantic_sections']"
   ]
  },
  {
   "cell_type": "code",
   "execution_count": 6,
   "metadata": {},
   "outputs": [
    {
     "data": {
      "text/plain": [
       "'[{\"header\": \"Contact Information\", \"content\": \"Jakub Drdak  \\\\n+420 XXX XXX XXX  \\\\nx@gmail.com  \\\\n[linkedin.com/in/x](http://linkedin.com/in/x)  \\\\n\\\\n\", \"advice\": \"1. **Improvement Suggestions**\\\\n\\\\n   a) **Relevance to the job post**: \\\\n   - While the contact information is essential, consider adding a professional title or a brief tagline that reflects your expertise in software development, machine learning, or data analysis. This can help immediately convey your relevance to the job post.\\\\n\\\\n   b) **ATS compatibility**: \\\\n   - Ensure that your email address and LinkedIn URL are hyperlinked in the digital version of your resume. This can improve the user experience for both ATS and human reviewers. Additionally, avoid using special characters in your phone number format (e.g., use only numbers) to ensure ATS can read it correctly.\\\\n\\\\n   c) **Overall appeal to human reviewers**: \\\\n   - Consider formatting your contact information in a cleaner layout. For example, you could use a single line for your name and title, followed by a second line for your contact details. This can enhance readability and make a better first impression.\\\\n\\\\n2. **Overall score on the scale of 1-10**: \\\\n   - **Score: 6/10**. The section is functional but lacks elements that would enhance its relevance and appeal. Improving the layout and adding a professional title would significantly increase its effectiveness.\", \"section_id\": \"AzEFSaqT5eZ2AfezHQtQSY\"}, {\"header\": \"Professional Summary\", \"content\": \"Machine Learning and AI Specialist with over 6 years of experience in software development, focusing on machine learning algorithms and recommender systems at Seznam.cz, a leading Czech tech company. Proven expertise in developing and implementing large-scale data projects, including A/B/n testing platforms and machine learning frameworks, enhancing user engagement and data quality. \\\\n\\\\n- Led research teams in the design and execution of machine learning models, including deep learning and natural language processing, resulting in significant advancements in advertising technologies.\\\\n- Co-authored research papers presented at top conferences such as RECSYS and SIGIR, demonstrating a commitment to innovation and knowledge sharing in the field.\\\\n- Strong advocate for cross-functional collaboration, effectively communicating complex findings to diverse audiences and fostering teamwork to drive strategic initiatives.\", \"advice\": \"### Improvement Suggestions\\\\n\\\\n1. **Relevance to the Job Post:**\\\\n   - **Highlight Specific Skills:** The job post emphasizes experience with machine learning algorithms, large language models, and recommendation systems. Explicitly mention relevant technologies (e.g., TensorFlow, Python, C++) and specific projects or achievements related to these areas.\\\\n   - **Quantify Achievements:** Include metrics or specific outcomes from your work on advertising and recommender systems to demonstrate impact (e.g., \\\\\"increased recommendation accuracy by X%\\\\\").\\\\n   - **Align with Responsibilities:** Reference your experience in coding, modeling, and analysis directly, as these are key responsibilities in the job description.\\\\n\\\\n2. **ATS Compatibility:**\\\\n   - **Use Keywords from the Job Post:** Incorporate industry-specific keywords such as \\\\\"software engineering,\\\\\" \\\\\"natural language processing,\\\\\" \\\\\"data analysis,\\\\\" and \\\\\"user experience\\\\\" to enhance ATS compatibility.\\\\n   - **Structured Format:** Consider using bullet points for clarity and to ensure that ATS can easily parse your qualifications and experiences.\\\\n\\\\n3. **Overall Appeal to Human Reviewers:**\\\\n   - **Conciseness and Clarity:** While your bio is informative, it could be more concise. Aim for a balance between detail and brevity to maintain the reader\\'s attention.\\\\n   - **Soft Skills Integration:** While you mention teamwork and collaboration, consider integrating these soft skills with specific examples of how they contributed to project success or team dynamics.\\\\n\\\\n### Overall Score: 7/10\\\\n\\\\nYour bio has a strong foundation, but enhancing its alignment with the job requirements, improving ATS compatibility, and refining its overall appeal will significantly increase your chances of attracting HR professionals and hiring managers.\", \"section_id\": \"f8tQvqujENKXKPeEDH9udP\"}, {\"header\": \"Experience\", \"content\": \"\", \"advice\": \"\", \"section_id\": \"FpKY9AcHfivAbzYixx32kK\"}, {\"header\": \"Professional Development\", \"content\": \"Nov. 2022 - present  \\\\n\\\\n- **Continuous Learning in AI**: Engaged in AI courses and meetups to stay current with advancements in machine learning, natural language processing, and generative AI, enhancing expertise relevant to software development and AI applications.  \\\\n- **Language Proficiency**: Achieved conversational proficiency in English, facilitating effective collaboration in international teams, crucial for cross-functional project management and communication.\", \"advice\": \"### Improvement Suggestions\\\\n\\\\n1. **Relevance to the Job Post:**\\\\n   - The current section lacks direct relevance to the job requirements outlined in the job post. To improve this, consider emphasizing any technical skills or projects related to software development, machine learning, or data analysis that you may have worked on during your study and travel. \\\\n   - Instead of focusing primarily on language proficiency and general AI knowledge, highlight specific programming languages, tools, or frameworks you have learned or used, especially those mentioned in the job post (e.g., Python, TensorFlow).\\\\n\\\\n2. **ATS Compatibility:**\\\\n   - The section should include keywords that align with the job description to ensure it passes through ATS filters. Incorporate terms such as \\\\\"machine learning,\\\\\" \\\\\"data analysis,\\\\\" \\\\\"NLP,\\\\\" \\\\\"recommendation systems,\\\\\" and any specific programming languages you have experience with.\\\\n   - Consider rephrasing the content to include more action-oriented language that reflects the skills and experiences relevant to the job requirements.\\\\n\\\\n3. **Overall Appeal to Human Reviewers:**\\\\n   - While the section demonstrates a commitment to learning, it lacks concrete examples of how this learning translates into applicable skills. Include specific projects or achievements that showcase your technical abilities and how they relate to the job.\\\\n   - Consider restructuring the section to focus on relevant experiences and skills first, followed by language proficiency and continuous learning as supplementary information.\\\\n\\\\n### Revised Section Example:\\\\n**Professional Development:**\\\\n- **AI and Machine Learning Courses:** Completed multiple online courses in machine learning and AI, focusing on practical applications using Python and TensorFlow. Participated in hands-on projects involving data analysis and model development.\\\\n- **Language Proficiency:** Achieved conversational proficiency in English and basic Spanish, enhancing collaboration in diverse teams.\\\\n- **Networking and Continuous Learning:** Attended AI meetups in Sydney, engaging with industry professionals to stay current on AI advancements and best practices.\\\\n\\\\n### Overall Score: 4/10\\\\nThe section currently lacks direct relevance to the job requirements and does not effectively showcase applicable skills. By incorporating specific technical experiences and aligning with the job description, the score can be significantly improved.\", \"section_id\": \"ZvfXsTREY9J4vpKoZmuTiu\"}, {\"header\": \"Head of Research Department\", \"content\": \"Aug. 2019 - Nov. 2022  \\\\n\\\\n- **Leadership in Machine Learning**: Managed the research department at Seznam.cz, focusing on machine learning and recommender systems, driving innovations that reached millions of users.  \\\\n- **Project Management & Development**: Initiated and led strategic projects, including a universal A/B/n testing platform and a Machine Learning platform (Kubeflow) to enhance project life-cycles and data quality standards.  \\\\n- **Cross-Functional Collaboration**: Fostered collaboration across teams, engaging with developers and product managers to align project priorities and ensure successful outcomes in machine learning and AI initiatives.\", \"advice\": \"### Improvement Suggestions\\\\n\\\\n1. **Relevance to the Job Post:**\\\\n   - **Highlight Specific Technologies:** The job post emphasizes experience with machine learning algorithms, tools like TensorFlow, and large language models. Explicitly mention any relevant technologies or frameworks you used (e.g., TensorFlow, PyTorch) in your projects.\\\\n   - **Emphasize Machine Learning Experience:** While you mention developing machine learning platforms, clarify your direct experience with machine learning algorithms and tools, especially in relation to NLP or generative AI, as these are key requirements.\\\\n   - **Recommendation Systems:** You mention recommender systems; consider elaborating on your specific contributions or outcomes related to these systems to align more closely with the job requirements.\\\\n\\\\n2. **ATS Compatibility:**\\\\n   - **Use Keywords from the Job Post:** Incorporate specific keywords from the job description, such as \\\\\"software development,\\\\\" \\\\\"data analysis,\\\\\" \\\\\"recommendation systems,\\\\\" \\\\\"NLP,\\\\\" and \\\\\"artificial intelligence.\\\\\" This will help ensure your resume is picked up by ATS.\\\\n   - **Standardize Job Titles and Terminology:** Ensure that your job title and terminology match those used in the job post. For example, if the job post mentions \\\\\"data analyst/scientist,\\\\\" consider including that terminology if applicable to your role.\\\\n\\\\n3. **Overall Appeal to Human Reviewers:**\\\\n   - **Quantify Achievements:** Where possible, quantify your achievements (e.g., \\\\\"increased efficiency by X%,\\\\\" \\\\\"improved model accuracy by Y%\\\\\") to provide concrete evidence of your impact.\\\\n   - **Soft Skills Integration:** While you mention leadership and strategic communication, consider integrating soft skills more explicitly into your achievements (e.g., \\\\\"fostered a collaborative environment that led to X outcome\\\\\").\\\\n   - **Formatting and Clarity:** Use bullet points consistently and ensure that each point is concise and impactful. Consider breaking down complex sentences for better readability.\\\\n\\\\n### Overall Score: 7/10\\\\n\\\\nYour experience is strong and relevant, but enhancing the alignment with the job post, improving ATS compatibility, and making the section more appealing to human reviewers will significantly increase your chances of standing out.\", \"section_id\": \"HLSGQmybFZAM7B4ajGaw7k\"}, {\"header\": \"Research Team Leader\", \"content\": \"Feb. 2019 - Aug. 2019  \\\\n\\\\n- **Project Leadership:** Directed research projects focused on machine learning and recommender systems, ensuring alignment with strategic goals and enhancing user engagement by 28% through innovative video recommendation solutions.  \\\\n- **Technological Transformation:** Led the transition to neural network-based online machine learning using TensorFlow, improving model performance and scalability.  \\\\n- **Best Practices Development:** Co-developed best practices for the machine learning project life-cycle, utilizing tools such as GitLab and Docker to streamline processes and enhance collaboration across teams.\", \"advice\": \"### Improvement Suggestions\\\\n\\\\n1. **Relevance to the Job Post:**\\\\n   - **Highlight Specific Technologies:** The job post emphasizes experience with specific tools and languages (e.g., TensorFlow, Python, C++). Ensure these are explicitly mentioned in the context of your work. For example, clarify your use of TensorFlow in the context of machine learning projects.\\\\n   - **Emphasize Machine Learning and NLP Experience:** The job post requires experience with machine learning algorithms and tools, as well as NLP. Make sure to explicitly mention any relevant algorithms or techniques you used in your research, especially if they relate to Large Language Models or Generative AI.\\\\n   - **Quantify Achievements:** While you mention a 28% increase in user engagement, consider adding more metrics or outcomes related to your work with recommendation systems or any other relevant projects.\\\\n\\\\n2. **ATS Compatibility:**\\\\n   - **Use Keywords from the Job Post:** Incorporate industry-specific keywords from the job description, such as \\\\\"software engineering,\\\\\" \\\\\"artificial intelligence,\\\\\" \\\\\"natural language processing,\\\\\" and \\\\\"recommendation systems.\\\\\" This will help your resume rank higher in ATS scans.\\\\n   - **Standardize Terminology:** Ensure that the terminology used in your resume matches that of the job description. For example, if the job post mentions \\\\\"data analysis,\\\\\" ensure that this phrase is included in your bullet points.\\\\n\\\\n3. **Overall Appeal to Human Reviewers:**\\\\n   - **Structure and Clarity:** Consider using bullet points that start with strong action verbs and are concise. For example, \\\\\"Led a team of Applied Machine Learning Scientists\\\\\" instead of \\\\\"Managed a team of Applied Machine Learning Scientists.\\\\\"\\\\n   - **Soft Skills Integration:** While your technical skills are well-highlighted, consider weaving in soft skills such as \\\\\"leadership\\\\\" and \\\\\"collaboration\\\\\" more explicitly. For instance, you could say, \\\\\"Demonstrated leadership by managing a diverse team and fostering collaboration across departments.\\\\\"\\\\n   - **Education and Certifications:** If you have relevant degrees or certifications, consider adding them to this section or a separate education section to enhance credibility.\\\\n\\\\n### Overall Score: 7/10\\\\n\\\\nYour resume section demonstrates strong leadership and technical skills, but it could benefit from clearer alignment with the job requirements, enhanced ATS compatibility, and improved overall appeal to human reviewers. By incorporating specific keywords, quantifying achievements, and emphasizing relevant technologies, you can significantly strengthen this section.\", \"section_id\": \"QP77Dgz3dFTx5beUoa8vf3\"}, {\"header\": \"Applied Machine Learning Scientist\", \"content\": \"Nov. 2016 - Feb. 2019  \\\\n\\\\n- **Recommender Systems Development:** Developed and optimized recommender systems using collaborative filtering and online machine learning, achieving significant performance improvements for lifestyle, news, and video content, impacting over half of the Czech internet population.  \\\\n- **Machine Learning and Data Analysis:** Processed and analyzed terabytes of data daily, utilizing PySpark for data manipulation and quality checks. Created an offline evaluation framework based on matrix factorization, enhancing model deployment and performance metrics.  \\\\n- **Experimentation and Optimization:** Coauthored a library for A/B/n test evaluation, designed and interpreted results to inform decision-making. Implemented machine learning components in production, focusing on memory efficiency and performance optimization.\", \"advice\": \"### Improvement Suggestions\\\\n\\\\n1. **Relevance to the Job Post:**\\\\n   - **Highlight Key Skills:** Ensure that the programming languages and tools mentioned in the job post (e.g., TensorFlow, C++, statistical analysis) are explicitly included in your resume. For instance, if you have experience with TensorFlow, mention it in the context of your recommender systems or model improvement work.\\\\n   - **Emphasize Machine Learning Experience:** The job post emphasizes experience with machine learning algorithms and tools. Make sure to clearly state your experience with specific algorithms and tools that align with the job requirements, such as deep learning or natural language processing.\\\\n   - **User Behavior Understanding:** If applicable, add any experience or projects that demonstrate your understanding of user behavior or mathematical modeling, as this is a preferred qualification.\\\\n\\\\n2. **ATS Compatibility:**\\\\n   - **Use Keywords from the Job Post:** Incorporate industry-specific keywords from the job description, such as \\\\\"software engineering,\\\\\" \\\\\"artificial intelligence,\\\\\" \\\\\"natural language processing,\\\\\" and \\\\\"recommendation systems.\\\\\" This will help your resume rank higher in ATS.\\\\n   - **Standardize Formatting:** Ensure that your formatting is ATS-friendly. Use standard section headings (e.g., \\\\\"Experience,\\\\\" \\\\\"Education\\\\\") and avoid complex formatting (e.g., tables, graphics) that may confuse ATS.\\\\n\\\\n3. **Overall Appeal to Human Reviewers:**\\\\n   - **Quantify Achievements:** While you have some metrics mentioned (e.g., \\\\\"double-digit increase in key performance metrics\\\\\"), try to quantify your achievements further. For example, specify the percentage increase in user engagement or the scale of data processed.\\\\n   - **Clear Structure:** Use bullet points effectively to enhance readability. Consider breaking down complex sentences into simpler, more digestible points.\\\\n   - **Soft Skills Integration:** Integrate soft skills that align with the company culture, such as collaboration and leadership, into your descriptions. For example, mention how your collaboration with the ML engineering team led to successful project outcomes.\\\\n\\\\n### Overall Score: 7/10\\\\n\\\\nYour resume section demonstrates relevant experience and skills, but it can be improved by aligning more closely with the job requirements, enhancing ATS compatibility, and increasing overall appeal to human reviewers.\", \"section_id\": \"9dGKj26GUzC96vXV3i2MNo\"}, {\"header\": \"Data Analyst\", \"content\": \"Jul. 2015 - Jan. 2020  \\\\n\\\\n- **Data Processing and Analysis:** Processed, cleaned, and analyzed large datasets from diverse sources, utilizing SQL and Python to ensure data integrity and quality, aligning with data analysis requirements for machine learning projects.  \\\\n- **Report Automation:** Developed automation scripts in Python and pandas to streamline reporting processes, enhancing decision-making for resource allocation, which supports the need for efficient data handling and analysis.  \\\\n- **Collaboration and Presentation:** Collaborated with cross-functional teams, effectively communicating insights and recommendations through detailed reports and visualizations, fostering a data-driven culture and supporting strategic initiatives.\", \"advice\": \"1. **Improvement Suggestions**\\\\n\\\\n   a) **Relevance to the job post:**\\\\n   - **Highlight Machine Learning Experience:** The job post emphasizes experience with machine learning algorithms and tools. If applicable, include any relevant projects or experiences that demonstrate your familiarity with machine learning, especially with tools like TensorFlow.\\\\n   - **Incorporate Keywords:** Use specific keywords from the job description, such as \\\\\"recommendation systems,\\\\\" \\\\\"NLP,\\\\\" \\\\\"data analysis,\\\\\" and \\\\\"large language models,\\\\\" to align your experience with the job requirements.\\\\n   - **Emphasize Software Development:** Since the job requires software development experience, consider adding any relevant software development projects or experiences that showcase your programming skills beyond data analysis.\\\\n\\\\n   b) **ATS compatibility:**\\\\n   - **Use Standard Job Titles:** Instead of \\\\\"Data Analyst,\\\\\" consider using \\\\\"Data Analyst / Machine Learning Engineer\\\\\" if you have relevant experience, as this may help in matching the job title in ATS.\\\\n   - **Bullet Points with Keywords:** Ensure that each bullet point includes relevant keywords from the job description. For example, explicitly mention \\\\\"machine learning\\\\\" or \\\\\"data structures\\\\\" if applicable.\\\\n\\\\n   c) **Overall appeal to human reviewers:**\\\\n   - **Quantify Achievements:** Where possible, quantify your achievements (e.g., \\\\\"Improved report generation time by 30% through automation\\\\\") to provide concrete evidence of your impact.\\\\n   - **Showcase Soft Skills:** Incorporate soft skills mentioned in the job post, such as versatility and leadership, by providing examples of how you demonstrated these in your previous roles.\\\\n\\\\n2. **Overall score on the scale of 1-10:**\\\\n   - **Score: 6/10**  \\\\n   The section demonstrates relevant experience in data analysis but lacks emphasis on machine learning and software development, which are critical for the job. Additionally, it could benefit from more quantifiable achievements and the inclusion of specific keywords to enhance ATS compatibility and appeal to hiring managers.\", \"section_id\": \"2jwhhv2eYz26t6ZVtqX3CP\"}, {\"header\": \"Education\", \"content\": \"- Master\\\\u2019s degree in Knowledge Engineering, providing a strong foundation in advanced computational techniques and machine learning principles.\\\\n- Bachelor\\\\u2019s degree in Information Systems and Management, equipping with essential skills in software development and data analysis.\", \"advice\": \"1. **Improvement Suggestions**\\\\n\\\\n   a) **Relevance to the job post**: \\\\n   - The resume section already includes a Master\\\\u2019s degree, which aligns well with the preferred qualifications of the job post. However, it would be beneficial to explicitly mention any relevant coursework or projects related to machine learning, artificial intelligence, or data analysis to further demonstrate alignment with the job requirements.\\\\n\\\\n   b) **ATS compatibility**: \\\\n   - Ensure that the degrees are formatted clearly and consistently. Use standard terminology (e.g., \\\\\"Master\\'s\\\\\" instead of \\\\\"Master\\\\u2019s\\\\\") to avoid potential parsing issues with ATS. Consider adding the graduation years for both degrees, as this can help the ATS assess the recency of education.\\\\n\\\\n   c) **Overall appeal to human reviewers**: \\\\n   - To enhance appeal, consider adding a brief description or bullet points under each degree that highlight relevant skills or projects. For example, mention any specific machine learning or data analysis projects completed during the Master\\\\u2019s program. This will provide context and demonstrate practical application of the education.\\\\n\\\\n2. **Overall score on the scale of 1-10**: \\\\n   - **Score: 7/10**. The education section is strong but could be improved with additional details that directly relate to the job requirements and enhance ATS compatibility.\", \"section_id\": \"Wy3pbSnqqgkDTDAPZJVHGH\"}, {\"header\": \"Publications\", \"content\": \"- **Combining Models for Better User Satisfaction in Video Recommendation**, RECSYS 2020: Focused on enhancing user engagement through advanced recommendation techniques, aligning with machine learning and AI applications.\\\\n- **Vertical Search Blending - A Real-world Counterfactual Dataset**, SIGIR 2019: Contributed to the understanding of search algorithms and user behavior, relevant to large-scale system design and data analysis.\", \"advice\": \"### Improvement Suggestions\\\\n\\\\n1. **Relevance to the Job Post:**\\\\n   - **Highlight Relevant Skills:** The publications listed are relevant to recommendation systems, which is a key requirement in the job post. However, it would be beneficial to explicitly mention how these publications demonstrate your experience with recommendation systems and data analysis. Consider adding a brief description or bullet points under each publication that highlights the skills or technologies used (e.g., machine learning algorithms, data structures).\\\\n   - **Connect to Job Responsibilities:** You could also mention how the findings or methodologies from these publications can be applied to the responsibilities outlined in the job post, such as integrating models into production stacks or conducting live experiments.\\\\n\\\\n2. **ATS Compatibility:**\\\\n   - **Use Keywords:** Ensure that the titles of your publications include keywords from the job description, such as \\\\\"machine learning,\\\\\" \\\\\"NLP,\\\\\" or \\\\\"data analysis.\\\\\" This will help your resume rank higher in ATS scans.\\\\n   - **Format Consistency:** Ensure that the formatting of the publication section is consistent with the rest of your resume. Use bullet points or a clear structure that ATS can easily parse.\\\\n\\\\n3. **Overall Appeal to Human Reviewers:**\\\\n   - **Add Context:** Provide context for your publications. For example, you could include a brief summary of the impact of your research or any recognition received (e.g., citations, awards). This will make your contributions more compelling to HR professionals and hiring managers.\\\\n   - **Showcase Collaboration:** If applicable, mention any collaboration with teams or other researchers, as this aligns with the company\\\\u2019s emphasis on collaboration and innovation.\\\\n\\\\n### Overall Score: 6/10\\\\n\\\\nWhile the publications are relevant and demonstrate expertise in areas pertinent to the job post, enhancing the descriptions, ensuring keyword optimization, and providing context will significantly improve the section\\'s effectiveness in both ATS and human reviews.\", \"section_id\": \"87nXXcry8GhmpchEqgM3qy\"}, {\"header\": \"Professional Engagement and Leadership\", \"content\": \"- Co-authored a workshop on recommender systems, enhancing knowledge sharing and collaboration in the field.\\\\n- Delivered a presentation on AI to 300 attendees, effectively communicating complex concepts to diverse audiences.\\\\n- Organized an AI meetup, successfully attracting over 140 participants, demonstrating leadership and community engagement.\", \"advice\": \"### Improvement Suggestions\\\\n\\\\n1. **Relevance to the Job Post:**\\\\n   - **Highlight Specific Skills:** The current section lacks direct references to the required qualifications and key technical skills outlined in the job post. Consider adding specific programming languages (e.g., Python, C++) and machine learning tools (e.g., TensorFlow) to demonstrate technical expertise.\\\\n   - **Focus on Machine Learning and AI:** Emphasize any direct experience with machine learning algorithms, large language models, or natural language processing. For example, if the workshop on recommender systems involved practical applications of machine learning, specify that.\\\\n   - **Quantify Achievements:** Where possible, quantify your contributions (e.g., \\\\\"Increased engagement by X% through AI presentations\\\\\") to provide a clearer picture of your impact.\\\\n\\\\n2. **ATS Compatibility:**\\\\n   - **Use Keywords from the Job Post:** Incorporate industry-specific keywords such as \\\\\"machine learning,\\\\\" \\\\\"artificial intelligence,\\\\\" \\\\\"NLP,\\\\\" and \\\\\"recommendation systems\\\\\" to enhance ATS compatibility. This will help ensure that your resume is picked up by automated systems.\\\\n   - **Standardize Formatting:** Ensure that the section is formatted consistently with the rest of the resume. Use bullet points and clear headings to improve readability for ATS.\\\\n\\\\n3. **Overall Appeal to Human Reviewers:**\\\\n   - **Showcase Leadership and Collaboration:** Highlight leadership qualities and collaboration skills more explicitly. For instance, mention any specific outcomes from leading the AI meetup or workshop that demonstrate your ability to work with diverse teams.\\\\n   - **Align with Company Values:** Consider adding a sentence that reflects your commitment to diversity and innovation, aligning with the company\\'s culture. For example, \\\\\"Passionate about fostering inclusive discussions in AI and technology.\\\\\"\\\\n\\\\n### Overall Score: 5/10\\\\n\\\\nThe section demonstrates some relevant experience but lacks direct alignment with the job requirements and key skills. By incorporating specific technical skills, using relevant keywords, and quantifying achievements, the section can be significantly improved to better attract HR professionals and hiring managers.\", \"section_id\": \"VfPook9Pgz7rD4gqKSyT7m\"}, {\"header\": \"Technical Skills\", \"content\": \"- **Programming Languages:** Proficient in Python, SQL; basic knowledge of C++, JavaScript, HTML/CSS, R, Scala.\\\\n- **Machine Learning & AI:** Extensive experience with Scikit-Learn, TensorFlow, Vowpal Wabbit, PyTorch, and MLFlow; skilled in developing and implementing machine learning algorithms, including deep learning and natural language processing.\\\\n- **Data Processing & Analysis:** Proficient in Apache Spark, Hadoop, and pandas for large-scale data manipulation; experienced in statistical analysis and data visualization using Matplotlib, Plotly, and Seaborn; adept at designing and analyzing experiments for recommendation systems.\", \"advice\": \"1. **Improvement Suggestions**\\\\n\\\\n   a) **Relevance to the job post:**\\\\n   - **Highlight Key Skills:** Ensure that the most relevant skills to the job post are prominently featured. For instance, explicitly mention experience with TensorFlow, as it is a key requirement in the job description.\\\\n   - **Focus on Machine Learning and NLP:** Since the job emphasizes machine learning algorithms and tools, consider adding specific projects or experiences that demonstrate your expertise in this area, particularly with Large Language Models and NLP.\\\\n   - **Recommendation Systems:** If applicable, include any experience or projects related to recommendation systems, as this is a specific requirement in the job post.\\\\n\\\\n   b) **ATS compatibility:**\\\\n   - **Use Standard Terminology:** Ensure that the terminology used matches the job description. For example, instead of \\\\\"Basic knowledge of: C/C++,\\\\\" consider stating \\\\\"Familiar with C/C++\\\\\" to align with the preferred qualifications.\\\\n   - **Consistent Formatting:** Use bullet points consistently and avoid using slashes (/) in lists. Instead, separate items with commas for better readability by ATS.\\\\n\\\\n   c) **Overall appeal to human reviewers:**\\\\n   - **Add Context:** Provide brief context or examples for each skill, such as how you used Python for a specific project or how you applied machine learning techniques in a real-world scenario.\\\\n   - **Showcase Soft Skills:** Consider adding a brief section or bullet points that highlight soft skills like versatility and leadership, which are mentioned in the job post.\\\\n\\\\n2. **Overall score on the scale of 1-10:**\\\\n   - **Score: 6/10** \\\\n   - The section contains relevant skills but lacks specific alignment with the job requirements and could benefit from improved clarity and context to enhance both ATS compatibility and human appeal.\", \"section_id\": \"5ksdYEkk4b55FMoTVEN9Fk\"}, {\"header\": \"Soft Skills\", \"content\": \"- **Leadership and Team Management:** Successfully led and expanded research teams, fostering collaboration and innovation across departments.\\\\n- **Effective Communication:** Developed and presented strategic visions to top management, ensuring clarity in complex technical concepts for diverse audiences.\\\\n- **Cross-functional Collaboration:** Engaged with product managers, developers, and business stakeholders to align project goals and enhance efficiency.\", \"advice\": \"1. **Improvement Suggestions**\\\\n\\\\n   a) **Relevance to the job post:**\\\\n   - The soft skills listed are valuable, but they do not directly align with the specific soft skills mentioned in the job post (versatility, leadership qualities, enthusiasm to take on new problems). Consider rephrasing or adding skills that reflect these qualities.\\\\n   - Remove less relevant skills such as \\\\\"Event Organization and Management\\\\\" unless it can be tied back to a relevant experience in a tech context.\\\\n\\\\n   b) **ATS compatibility:**\\\\n   - Ensure that the section includes keywords from the job post. For example, explicitly mention \\\\\"versatility\\\\\" and \\\\\"enthusiasm\\\\\" as part of your soft skills.\\\\n   - Consider using bullet points that start with action verbs to enhance ATS readability (e.g., \\\\\"Demonstrated leadership in team settings\\\\\" instead of just \\\\\"Leadership and Team Management\\\\\").\\\\n\\\\n   c) **Overall appeal to human reviewers:**\\\\n   - Highlight how these soft skills have been applied in a technical context. For example, instead of just listing \\\\\"Effective Communication,\\\\\" you could say \\\\\"Effective Communication in cross-functional teams to drive project success.\\\\\"\\\\n   - Consider adding a brief statement or example that illustrates how these skills have contributed to your success in software development or machine learning projects.\\\\n\\\\n2. **Overall score on the scale of 1-10:**\\\\n   - **Score: 5/10** \\\\n   - The section has potential but lacks direct alignment with the job requirements and could benefit from more specific examples and keywords that resonate with both ATS and human reviewers.\", \"section_id\": \"DCTiHq85eRKRqx8j63kTBX\"}]'"
      ]
     },
     "execution_count": 6,
     "metadata": {},
     "output_type": "execute_result"
    }
   ],
   "source": [
    "json.loads(response['body'])['tailored_sections']"
   ]
  },
  {
   "cell_type": "code",
   "execution_count": 7,
   "metadata": {},
   "outputs": [
    {
     "data": {
      "text/markdown": [
       "Contact Information"
      ],
      "text/plain": [
       "<IPython.core.display.Markdown object>"
      ]
     },
     "metadata": {},
     "output_type": "display_data"
    },
    {
     "data": {
      "text/markdown": [
       "Jakub Drdak  \n",
       "+420 XXX XXX XXX  \n",
       "x@gmail.com  \n",
       "[linkedin.com/in/x](http://linkedin.com/in/x)  \n",
       "\n"
      ],
      "text/plain": [
       "<IPython.core.display.Markdown object>"
      ]
     },
     "metadata": {},
     "output_type": "display_data"
    },
    {
     "data": {
      "text/markdown": [
       "Professional Summary"
      ],
      "text/plain": [
       "<IPython.core.display.Markdown object>"
      ]
     },
     "metadata": {},
     "output_type": "display_data"
    },
    {
     "data": {
      "text/markdown": [
       "Machine Learning and AI Specialist with over 6 years of experience in software development, focusing on machine learning algorithms and recommender systems at Seznam.cz, a leading Czech tech company. Proven expertise in developing and implementing large-scale data projects, including A/B/n testing platforms and machine learning frameworks, enhancing user engagement and data quality. \n",
       "\n",
       "- Led research teams in the design and execution of machine learning models, including deep learning and natural language processing, resulting in significant advancements in advertising technologies.\n",
       "- Co-authored research papers presented at top conferences such as RECSYS and SIGIR, demonstrating a commitment to innovation and knowledge sharing in the field.\n",
       "- Strong advocate for cross-functional collaboration, effectively communicating complex findings to diverse audiences and fostering teamwork to drive strategic initiatives."
      ],
      "text/plain": [
       "<IPython.core.display.Markdown object>"
      ]
     },
     "metadata": {},
     "output_type": "display_data"
    },
    {
     "data": {
      "text/markdown": [
       "Experience"
      ],
      "text/plain": [
       "<IPython.core.display.Markdown object>"
      ]
     },
     "metadata": {},
     "output_type": "display_data"
    },
    {
     "data": {
      "text/markdown": [],
      "text/plain": [
       "<IPython.core.display.Markdown object>"
      ]
     },
     "metadata": {},
     "output_type": "display_data"
    },
    {
     "data": {
      "text/markdown": [
       "Professional Development"
      ],
      "text/plain": [
       "<IPython.core.display.Markdown object>"
      ]
     },
     "metadata": {},
     "output_type": "display_data"
    },
    {
     "data": {
      "text/markdown": [
       "Nov. 2022 - present  \n",
       "\n",
       "- **Continuous Learning in AI**: Engaged in AI courses and meetups to stay current with advancements in machine learning, natural language processing, and generative AI, enhancing expertise relevant to software development and AI applications.  \n",
       "- **Language Proficiency**: Achieved conversational proficiency in English, facilitating effective collaboration in international teams, crucial for cross-functional project management and communication."
      ],
      "text/plain": [
       "<IPython.core.display.Markdown object>"
      ]
     },
     "metadata": {},
     "output_type": "display_data"
    },
    {
     "data": {
      "text/markdown": [
       "Head of Research Department"
      ],
      "text/plain": [
       "<IPython.core.display.Markdown object>"
      ]
     },
     "metadata": {},
     "output_type": "display_data"
    },
    {
     "data": {
      "text/markdown": [
       "Aug. 2019 - Nov. 2022  \n",
       "\n",
       "- **Leadership in Machine Learning**: Managed the research department at Seznam.cz, focusing on machine learning and recommender systems, driving innovations that reached millions of users.  \n",
       "- **Project Management & Development**: Initiated and led strategic projects, including a universal A/B/n testing platform and a Machine Learning platform (Kubeflow) to enhance project life-cycles and data quality standards.  \n",
       "- **Cross-Functional Collaboration**: Fostered collaboration across teams, engaging with developers and product managers to align project priorities and ensure successful outcomes in machine learning and AI initiatives."
      ],
      "text/plain": [
       "<IPython.core.display.Markdown object>"
      ]
     },
     "metadata": {},
     "output_type": "display_data"
    },
    {
     "data": {
      "text/markdown": [
       "Research Team Leader"
      ],
      "text/plain": [
       "<IPython.core.display.Markdown object>"
      ]
     },
     "metadata": {},
     "output_type": "display_data"
    },
    {
     "data": {
      "text/markdown": [
       "Feb. 2019 - Aug. 2019  \n",
       "\n",
       "- **Project Leadership:** Directed research projects focused on machine learning and recommender systems, ensuring alignment with strategic goals and enhancing user engagement by 28% through innovative video recommendation solutions.  \n",
       "- **Technological Transformation:** Led the transition to neural network-based online machine learning using TensorFlow, improving model performance and scalability.  \n",
       "- **Best Practices Development:** Co-developed best practices for the machine learning project life-cycle, utilizing tools such as GitLab and Docker to streamline processes and enhance collaboration across teams."
      ],
      "text/plain": [
       "<IPython.core.display.Markdown object>"
      ]
     },
     "metadata": {},
     "output_type": "display_data"
    },
    {
     "data": {
      "text/markdown": [
       "Applied Machine Learning Scientist"
      ],
      "text/plain": [
       "<IPython.core.display.Markdown object>"
      ]
     },
     "metadata": {},
     "output_type": "display_data"
    },
    {
     "data": {
      "text/markdown": [
       "Nov. 2016 - Feb. 2019  \n",
       "\n",
       "- **Recommender Systems Development:** Developed and optimized recommender systems using collaborative filtering and online machine learning, achieving significant performance improvements for lifestyle, news, and video content, impacting over half of the Czech internet population.  \n",
       "- **Machine Learning and Data Analysis:** Processed and analyzed terabytes of data daily, utilizing PySpark for data manipulation and quality checks. Created an offline evaluation framework based on matrix factorization, enhancing model deployment and performance metrics.  \n",
       "- **Experimentation and Optimization:** Coauthored a library for A/B/n test evaluation, designed and interpreted results to inform decision-making. Implemented machine learning components in production, focusing on memory efficiency and performance optimization."
      ],
      "text/plain": [
       "<IPython.core.display.Markdown object>"
      ]
     },
     "metadata": {},
     "output_type": "display_data"
    },
    {
     "data": {
      "text/markdown": [
       "Data Analyst"
      ],
      "text/plain": [
       "<IPython.core.display.Markdown object>"
      ]
     },
     "metadata": {},
     "output_type": "display_data"
    },
    {
     "data": {
      "text/markdown": [
       "Jul. 2015 - Jan. 2020  \n",
       "\n",
       "- **Data Processing and Analysis:** Processed, cleaned, and analyzed large datasets from diverse sources, utilizing SQL and Python to ensure data integrity and quality, aligning with data analysis requirements for machine learning projects.  \n",
       "- **Report Automation:** Developed automation scripts in Python and pandas to streamline reporting processes, enhancing decision-making for resource allocation, which supports the need for efficient data handling and analysis.  \n",
       "- **Collaboration and Presentation:** Collaborated with cross-functional teams, effectively communicating insights and recommendations through detailed reports and visualizations, fostering a data-driven culture and supporting strategic initiatives."
      ],
      "text/plain": [
       "<IPython.core.display.Markdown object>"
      ]
     },
     "metadata": {},
     "output_type": "display_data"
    },
    {
     "data": {
      "text/markdown": [
       "Education"
      ],
      "text/plain": [
       "<IPython.core.display.Markdown object>"
      ]
     },
     "metadata": {},
     "output_type": "display_data"
    },
    {
     "data": {
      "text/markdown": [
       "- Master’s degree in Knowledge Engineering, providing a strong foundation in advanced computational techniques and machine learning principles.\n",
       "- Bachelor’s degree in Information Systems and Management, equipping with essential skills in software development and data analysis."
      ],
      "text/plain": [
       "<IPython.core.display.Markdown object>"
      ]
     },
     "metadata": {},
     "output_type": "display_data"
    },
    {
     "data": {
      "text/markdown": [
       "Publications"
      ],
      "text/plain": [
       "<IPython.core.display.Markdown object>"
      ]
     },
     "metadata": {},
     "output_type": "display_data"
    },
    {
     "data": {
      "text/markdown": [
       "- **Combining Models for Better User Satisfaction in Video Recommendation**, RECSYS 2020: Focused on enhancing user engagement through advanced recommendation techniques, aligning with machine learning and AI applications.\n",
       "- **Vertical Search Blending - A Real-world Counterfactual Dataset**, SIGIR 2019: Contributed to the understanding of search algorithms and user behavior, relevant to large-scale system design and data analysis."
      ],
      "text/plain": [
       "<IPython.core.display.Markdown object>"
      ]
     },
     "metadata": {},
     "output_type": "display_data"
    },
    {
     "data": {
      "text/markdown": [
       "Professional Engagement and Leadership"
      ],
      "text/plain": [
       "<IPython.core.display.Markdown object>"
      ]
     },
     "metadata": {},
     "output_type": "display_data"
    },
    {
     "data": {
      "text/markdown": [
       "- Co-authored a workshop on recommender systems, enhancing knowledge sharing and collaboration in the field.\n",
       "- Delivered a presentation on AI to 300 attendees, effectively communicating complex concepts to diverse audiences.\n",
       "- Organized an AI meetup, successfully attracting over 140 participants, demonstrating leadership and community engagement."
      ],
      "text/plain": [
       "<IPython.core.display.Markdown object>"
      ]
     },
     "metadata": {},
     "output_type": "display_data"
    },
    {
     "data": {
      "text/markdown": [
       "Technical Skills"
      ],
      "text/plain": [
       "<IPython.core.display.Markdown object>"
      ]
     },
     "metadata": {},
     "output_type": "display_data"
    },
    {
     "data": {
      "text/markdown": [
       "- **Programming Languages:** Proficient in Python, SQL; basic knowledge of C++, JavaScript, HTML/CSS, R, Scala.\n",
       "- **Machine Learning & AI:** Extensive experience with Scikit-Learn, TensorFlow, Vowpal Wabbit, PyTorch, and MLFlow; skilled in developing and implementing machine learning algorithms, including deep learning and natural language processing.\n",
       "- **Data Processing & Analysis:** Proficient in Apache Spark, Hadoop, and pandas for large-scale data manipulation; experienced in statistical analysis and data visualization using Matplotlib, Plotly, and Seaborn; adept at designing and analyzing experiments for recommendation systems."
      ],
      "text/plain": [
       "<IPython.core.display.Markdown object>"
      ]
     },
     "metadata": {},
     "output_type": "display_data"
    },
    {
     "data": {
      "text/markdown": [
       "Soft Skills"
      ],
      "text/plain": [
       "<IPython.core.display.Markdown object>"
      ]
     },
     "metadata": {},
     "output_type": "display_data"
    },
    {
     "data": {
      "text/markdown": [
       "- **Leadership and Team Management:** Successfully led and expanded research teams, fostering collaboration and innovation across departments.\n",
       "- **Effective Communication:** Developed and presented strategic visions to top management, ensuring clarity in complex technical concepts for diverse audiences.\n",
       "- **Cross-functional Collaboration:** Engaged with product managers, developers, and business stakeholders to align project goals and enhance efficiency."
      ],
      "text/plain": [
       "<IPython.core.display.Markdown object>"
      ]
     },
     "metadata": {},
     "output_type": "display_data"
    }
   ],
   "source": [
    "for section in json.loads(response['body'])['tailored_sections']:\n",
    "    if section:\n",
    "        display(Markdown(section['header']))\n",
    "        display(Markdown(section['content']))"
   ]
  },
  {
   "cell_type": "code",
   "execution_count": 8,
   "metadata": {},
   "outputs": [],
   "source": [
    "job_post = \"\"\"\n",
    "Minimum qualifications:\n",
    "\n",
    "Bachelor’s degree or equivalent practical experience.\n",
    "2 years of experience with software development in one or more programming languages, and with data structures or algorithms. \n",
    "2 years of experience with machine learning algorithms and tools (e.g., TensorFlow), artificial intelligence, deep learning or natural language processing.\n",
    "Experience with Large Language Models, NLP, or Generative AI.\n",
    "Experience with Coding, Experiment Design, Data Analysis.\n",
    "Experience with recommendation systems/rankings/predictions.\n",
    "\n",
    "Preferred qualifications:\n",
    "\n",
    "Master's degree or PhD in Computer Science or related technical fields.\n",
    "Experience developing accessible technologies.\n",
    "Experience with C++, Statistical Analysis, Python.\n",
    "Experience with quality work in either serving quality or data quality.\n",
    "Experience as a data analyst/scientist.\n",
    "Experience in understanding user behavior (i.e., mathematical modeling or social science background).\n",
    "\n",
    "About The Job\n",
    "\n",
    "Google's software engineers develop the next-generation technologies that change how billions of users connect, explore, and interact with information and one another. Our products need to handle information at massive scale, and extend well beyond web search. We're looking for engineers who bring fresh ideas from all areas, including information retrieval, distributed computing, large-scale system design, networking and data storage, security, artificial intelligence, natural language processing, UI design and mobile; the list goes on and is growing every day. As a software engineer, you will work on a specific project critical to Google’s needs with opportunities to switch teams and projects as you and our fast-paced business grow and evolve. We need our engineers to be versatile, display leadership qualities and be enthusiastic to take on new problems across the full-stack as we continue to push technology forward.\n",
    "\n",
    "Our goal is to organize shopping results across Google surfaces to make them relevant and helpful for users on their shopping journey. Find the best configuration of Shopping units on the Shopping pages across Google surfaces by taking into consideration a wide range of Quality and UI factors: relevance of features, position on the page, collapsed/expanded states, density of the units.\n",
    "\n",
    "People shop on Google more than a billion times a day - and the Commerce team is responsible for building the experiences that serve these users. The mission for Google Commerce is to be an essential part of the shopping journey for consumers - from inspiration to to a simple and secure checkout experience - and the best place for retailers/merchants to connect with consumers. We support and partner with the commerce ecosystem, from large retailers to small local merchants, to give them the tools, technology and scale to thrive in today’s digital world.\n",
    "\n",
    "Responsibilities\n",
    "\n",
    "Work in coding, modeling, and analysis.\n",
    "Find the right signals or create them if they don't exist yet. Combine them into a model that allows you to show their merit through offline evaluation. Wire these in the production stack (e.g., search and shopping) and start a live experiment.\n",
    "\n",
    "\n",
    "Google is proud to be an equal opportunity workplace and is an affirmative action employer. We are committed to equal employment opportunity regardless of race, color, ancestry, religion, sex, national origin, sexual orientation, age, citizenship, marital status, disability, gender identity or Veteran status. We also consider qualified applicants regardless of criminal histories, consistent with legal requirements. See also Google's EEO Policy and EEO is the Law. If you have a disability or special need that requires accommodation, please let us know by completing our Accommodations for Applicants form .\n",
    "\"\"\""
   ]
  },
  {
   "cell_type": "code",
   "execution_count": 9,
   "metadata": {},
   "outputs": [],
   "source": [
    "resume = \"\"\"\n",
    "Jakub Drdak \n",
    "+420 XXX XXX XXX \n",
    "x@gmail.com \n",
    "linkedin.com/in/xxx \n",
    "\n",
    "# Bio\n",
    "\n",
    "Machine Learning and AI Specialist with 6+ years of experience having driven advancements in advertising and recommender systems at Seznam.cz, a leading Czech tech company. I’ve led research teams, tackled large-scale data projects, and initiated and driven complex strategic initiatives. I’m also a seasoned speaker and event organiser, with a few co-authored papers in top conferences such as RECSYS and SIGIR. I highly value and foster teamwork and cross-functional collaboration and enjoy seeking ways to present complex problems and findings in a clear and understandable manner for everyone. \n",
    "\n",
    "# Experience \n",
    "\n",
    "## Study and Travel \n",
    "\n",
    "Nov. 2022 - present \n",
    "\n",
    "- Language Proficiency: Traveled and studied to achieve proficiency in English, enabling effective collaboration in international teams. Enrolled in intensive courses of English and Spanish, achieved conversational proficiency in English and basic Spanish skills.\n",
    "- Continuous Learning: Maintained up-to-date knowledge of AI advancements by enrolling in AI courses, and attending AI meetups in Sydney, Australia. \n",
    "\n",
    "## Head of Research Departmen \n",
    "\n",
    "Aug. 2019 - Nov. 2022\n",
    "\n",
    "- Leadership: Managed the research department of the Advertising System division at Seznam.cz, a prominent Czech tech and media company, reaching millions of users with its proprietary advertising system and search engine. \n",
    "- Team Expansion and Organization: Led the expansion of the research department by 300% (from 6 to 24 members), establishing 5 specialized teams focused on sponsored search, display advertising, targeting, recommender systems, and operational research. Implemented a hybrid organizational structure (replacing the centralized structure) to foster greater cross-team collaboration, innovation and research throughput. \n",
    "- Project Management: Directed research teams, collaborated on setting project priorities both within individual teams and across the division. Initiated and drove strategic multi-team and cross-functional projects, defined requirements, and facilitated collaboration to ensure successful outcomes. Projects included: \n",
    "    * A universal A/B/n testing platform spanning the entire advertising and recommender systems \n",
    "    * Development of Machine Learning platforms to substantially accelerate the ML project life-cycle Kubeflow \n",
    "    * A Data Quality platform to ensure high standards in data handling and analysis \n",
    "- Process and Framework Development: Co-developed and implemented: \n",
    "    * A competency and continuous education framework \n",
    "    * An improved internal hiring process \n",
    "    * A management platform for research environments, enabling fast initialization, reliability, and reproducibility of research projects. MLFlow, CI, OpenStack \n",
    "- Strategic Communication: Engaged daily with developers, product managers, project managers, and business managers across the division, as well as on a regular basis with other divisions. Developed and presented vision and strategy to top management. \n",
    "\n",
    "## Research Team Leader \n",
    "\n",
    "Feb. 2019 - Aug. 2019\n",
    "\n",
    "- Team Leadership: Managed a team of Applied Machine Learning Scientists, fostering close collaboration with development teams. \n",
    "- Project Leadership: Directed and managed research projects, ensuring alignment with strategic goals. \n",
    "- Cross-functional Communication: Coordinated with product managers and development team leaders to gather and convey requests and priorities, enhancing collaboration and efficiency. \n",
    "- Research Contributions: Conducted and led research on video recommendation for a streaming service, resulting in a significant 28% increase in user engagement and publication (short paper) at RecSys 2020. \n",
    "- Technological Transformation: Oversaw the successful transition from linear model-based to neural network-based online machine learning. Tensorflow \n",
    "- Best Practices Development: Co-developed and implemented best practices for the ML project life-cycle and software development. Gitlab, Docker, YouTrack, Scrum \n",
    "- Strategic Planning: Contributed to the strategic planning and prioritization of recommender systems development. \n",
    "\n",
    "## Applied Machine Learning Scientist \n",
    "\n",
    "Nov. 2016 - Feb. 2019\n",
    "\n",
    "- Recommender Systems Development: Worked on recommender systems (e.g., collaborative filtering, online ML learning) for lifestyle, news, and video content, reaching over half of the Czech internet population. This resulted in a substantial double-digit increase in key performance metrics. \n",
    "- Data Processing and Analysis: Processed and analyzed terabytes of logs daily using an on-premise cluster. Developed and maintained a proprietary framework for data manipulation and quality checks. PySpark \n",
    "- Collaboration and Code Review: Worked closely with the ML engineering team to reimplement prototypes into the production environment and review production code. Participated in planning and prioritization meetings. \n",
    "- Highlighted projects: \n",
    "    * Model Improvement: Continuously improved online machine learning models through data cleaning, feature selection/extraction/engineering techniques, and conducting numerous offline and online tests. Vowpal Wabbit \n",
    "    * Recommendation Diversification: Developed an approach for recommendation diversification based on clustering of semantic and text vectors. scikit-learn \n",
    "    * Hyperparameter Optimization: Developed an approach based on the Nelder-Mead method, enabling real-time adjustments based on online metrics (e.g., user engagement). Python \n",
    "    * Offline Evaluation Framework: Created a framework for offline evaluation of models based on matrix factorization, leading to informed deployment and improved performance in online metrics. Python \n",
    "    * A/B/n Test Evaluation: Coauthored a proprietary library for A/B/n test evaluation based on a frequentist approach. Designed, evaluated, and interpreted results of A/B/n tests. Python, Pyspark, Statmodels \n",
    "    * Production Implementation: Implemented the machine learning component of a recommender system based on matrix factorization into production, significantly optimizing its memory efficiency and performance. NumPy, multiprocessing \n",
    "    * Contextual Bandits Research: Focused research on the field of contextual bandits, leading to collaboration with the counterpart research department and a publication (short paper) at SIGIR 2019. \n",
    "\n",
    "## Data Analyst \n",
    "\n",
    "Jul. 2015 - Jan. 2020\n",
    "\n",
    "- Data Processing and Analysis: Processed, cleaned, and analyzed data from various sources, including database dumps, Excel files, and scraped web pages. SQL, Python \n",
    "- Data Visualization: Generated charts and visualizations to represent data trends and insights. Python, Matplotlib \n",
    "- Report Automation: Developed automation scripts to generate essential annual reports that guided decisions on allocating financial support to research institutions across the Czech Republic. Python, pandas, Git\n",
    "- Collaboration and Presentation: Worked closely with the IT department and presented findings and recommendations to stakeholders through detailed reports and presentations. \n",
    "\n",
    "# Education \n",
    "\n",
    "- Master’s degree in Knowledge Engineering \n",
    "- Bachelor’s degree in Information Systems and Management \n",
    "\n",
    "# Publication \n",
    "\n",
    "- Combining Models for Better User Satisfaction in Video Recommendation RECSYS 2020 \n",
    "- Vertical Search Blending - A Real-world Counterfactual Dataset SIGIR 2019 \n",
    "\n",
    "# Others \n",
    "\n",
    "- Co-authored a workshop on recommender systems \n",
    "- Presented on AI to 300 attendees with minimal or no background in AI \n",
    "- Led the organization of an AI meetup, attracting over 140 attendees \n",
    "- Representation and Engagement - Represented Seznam.cz at numerous events, including job fairs and meetups \n",
    "\n",
    "# Technical Skills \n",
    "\n",
    "- Languages: Proficient in: Python, SQL | Basic knowledge of: C/C++, JavaScript, HTML/CSS, R, Scala \n",
    "- Machine Learning: Scikit-Learn, Vowpal Wabbit, NumPy, Statsmodels, SciPy, PyTorch, MLFlow \n",
    "- Data Processing: Apache Spark, Hadoop, pandas, SQL | Basic knowledge of: AWS \n",
    "- Data Visualisation: Matplotlib, Plotly, Seaborn, Dash \n",
    "- Tools: Git, Docker, JupyterLab, VS Code, Scrum methodologies \n",
    "\n",
    "\n",
    "# Soft Skills \n",
    "\n",
    "- Leadership and Team Management \n",
    "- Strategic Planning and Execution \n",
    "- Cross-functional Collaboration \n",
    "- Effective Communication and Public Speaking \n",
    "- Event Organization and Management \n",
    "- Problem-solving and Critical Thinking Language \n",
    "- Proficiency: Czech, Conversational English, Basic Spanish, Basic German\n",
    "\"\"\"\n"
   ]
  }
 ],
 "metadata": {
  "kernelspec": {
   "display_name": ".venv",
   "language": "python",
   "name": "python3"
  },
  "language_info": {
   "codemirror_mode": {
    "name": "ipython",
    "version": 3
   },
   "file_extension": ".py",
   "mimetype": "text/x-python",
   "name": "python",
   "nbconvert_exporter": "python",
   "pygments_lexer": "ipython3",
   "version": "3.11.4"
  }
 },
 "nbformat": 4,
 "nbformat_minor": 2
}
