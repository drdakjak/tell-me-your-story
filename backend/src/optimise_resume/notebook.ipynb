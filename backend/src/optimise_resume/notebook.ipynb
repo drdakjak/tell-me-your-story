{
 "cells": [
  {
   "cell_type": "code",
   "execution_count": 1,
   "metadata": {},
   "outputs": [],
   "source": [
    "import json\n",
    "from IPython.display import display, Markdown"
   ]
  },
  {
   "cell_type": "code",
   "execution_count": 2,
   "metadata": {},
   "outputs": [],
   "source": [
    "from handler import handler"
   ]
  },
  {
   "cell_type": "code",
   "execution_count": 3,
   "metadata": {},
   "outputs": [],
   "source": [
    "with open('./events/event.json') as f:\n",
    "    event = json.load(f)\n",
    "    response = handler(event, None)"
   ]
  },
  {
   "cell_type": "code",
   "execution_count": 6,
   "metadata": {},
   "outputs": [
    {
     "data": {
      "text/plain": [
       "[{'advice': '1. **Improvement Suggestions**\\n\\n   a) **Relevance to the job post**: While the contact information is essential, it does not directly relate to the job requirements. However, ensure that your LinkedIn profile is updated to reflect your qualifications and experiences that align with the job post. Consider adding a link to a personal portfolio or GitHub if applicable, showcasing relevant projects or code samples.\\n\\n   b) **ATS compatibility**: The contact information is generally ATS-friendly. However, ensure that your email address and LinkedIn URL are hyperlinked in digital formats, as this can improve accessibility and ease of use for recruiters. Avoid using special characters in your email or phone number that could confuse ATS.\\n\\n   c) **Overall appeal to human reviewers**: The contact information is straightforward, but consider formatting it in a more visually appealing way. For example, you could use bullet points or a table format to separate each piece of information clearly. This can enhance readability and make a positive first impression.\\n\\n2. **Overall score on the scale of 1-10**: 7/10\\n\\n   - The contact information is clear and concise, but it lacks additional elements that could enhance its relevance and appeal. Improving the presentation and ensuring that your LinkedIn profile is aligned with the job requirements will increase its effectiveness.',\n",
       "  'tailored_section': {'title': 'Contact Information',\n",
       "   'content': 'Jakub Drdak  \\nPhone: +420 728 533 859  \\nEmail: jak.drd@gmail.com  \\nLinkedIn: linkedin.com/in/jakub-drdak',\n",
       "   'section_id': 'AyvQR8fDL67AgETpagm5Vc'}},\n",
       " {'advice': '### Improvement Suggestions\\n\\n1. **Relevance to the Job Post:**\\n   - **Highlight Specific Skills:** The job post emphasizes experience with machine learning algorithms, NLP, and recommendation systems. Explicitly mention relevant technologies (e.g., TensorFlow, Python, C++) and methodologies (e.g., statistical analysis) to align with the job requirements.\\n   - **Quantify Achievements:** Instead of general statements about leading teams and projects, provide specific examples of your contributions, such as the impact of your work on advertising or recommender systems (e.g., percentage improvements in performance metrics).\\n   - **Include Keywords:** Integrate industry-specific keywords from the job post, such as \"Large Language Models,\" \"data analysis,\" and \"user experience,\" to enhance relevance.\\n\\n2. **ATS Compatibility:**\\n   - **Use Standard Headings:** Change \"Bio\" to a more standard heading like \"Professional Summary\" or \"Profile\" to ensure ATS can categorize this section correctly.\\n   - **Avoid Uncommon Phrasing:** Phrases like \"tackled large-scale data projects\" could be simplified to \"managed large-scale data projects\" for clarity and ATS readability.\\n\\n3. **Overall Appeal to Human Reviewers:**\\n   - **Showcase Soft Skills:** While you mention teamwork and collaboration, consider adding specific examples of how these skills have led to successful outcomes in your projects.\\n   - **Engaging Language:** Use more dynamic language to convey enthusiasm and passion for the field. For example, instead of \"I highly value and foster teamwork,\" you could say, \"I thrive in collaborative environments, driving innovation through teamwork.\"\\n   - **Focus on Impact:** Emphasize how your work has contributed to the success of your previous employers, particularly in relation to the responsibilities outlined in the job post.\\n\\n### Overall Score: 6/10\\n\\nThe section provides a solid foundation but lacks specific alignment with the job requirements and could benefit from clearer, more impactful language. By incorporating the suggestions above, the section can significantly improve its relevance, ATS compatibility, and overall appeal to hiring managers.',\n",
       "  'tailored_section': {'title': 'Professional Summary',\n",
       "   'content': 'Machine Learning and AI Specialist with over 6 years of experience in software development, focusing on advertising and recommendation systems at Seznam.cz, a leading Czech tech company. \\n\\n- Proven expertise in machine learning algorithms, including deep learning and natural language processing, with hands-on experience in tools such as TensorFlow. \\n- Led research teams on large-scale data projects, integrating models into production systems and conducting live experiments to enhance user experience and system performance. \\n- Strong communicator and collaborator, with a track record of presenting complex findings clearly and effectively, fostering teamwork across cross-functional teams.',\n",
       "   'section_id': '4EeiaXZi4DffUAbkMXM8pR'}},\n",
       " {'advice': '',\n",
       "  'tailored_section': {'title': 'Experience',\n",
       "   'section_id': '7Z5q3P3GFm5J4APkCuFryk',\n",
       "   'content': ''}},\n",
       " {'advice': '### Improvement Suggestions\\n\\n1. **Relevance to the Job Post:**\\n   - The current section lacks direct relevance to the job requirements outlined in the job post. To improve this, consider emphasizing any technical skills or projects related to software development, machine learning, or data analysis that you may have worked on during your study and travel. \\n   - Instead of focusing primarily on language proficiency and general AI knowledge, highlight specific programming languages, tools, or frameworks you have learned or used, especially those mentioned in the job post (e.g., Python, TensorFlow).\\n\\n2. **ATS Compatibility:**\\n   - The section should include keywords that align with the job description to ensure it passes through ATS filters. Incorporate terms such as \"machine learning,\" \"data analysis,\" \"NLP,\" \"recommendation systems,\" and \"software development\" where applicable.\\n   - Consider rephrasing the content to include more action-oriented language that reflects the skills and experiences relevant to the job requirements.\\n\\n3. **Overall Appeal to Human Reviewers:**\\n   - While the section demonstrates a commitment to learning, it lacks concrete examples of how this learning translates into applicable skills. Include specific projects or experiences that showcase your ability to apply AI concepts or programming skills in practical scenarios.\\n   - Highlight any collaborative projects or teamwork experiences that demonstrate your ability to work in diverse teams, as this aligns with the company’s emphasis on collaboration and diversity.\\n\\n### Revised Section Example:\\n**Title:**\\nProfessional Development in AI and Language Proficiency\\n\\n**Content:**\\nNov. 2022 - Present\\n\\n- **Language Proficiency:** Achieved conversational proficiency in English and basic Spanish through immersive study and travel, enhancing my ability to collaborate effectively in international teams.\\n- **AI and Machine Learning:** Enrolled in advanced AI courses focusing on machine learning algorithms and tools such as TensorFlow. Participated in AI meetups in Sydney, where I collaborated on projects involving natural language processing and recommendation systems.\\n- **Continuous Learning:** Actively engaged in self-directed learning to stay current with AI advancements, applying knowledge in practical coding exercises and projects.\\n\\n### Overall Score: 4/10\\n\\nThe current section does not effectively align with the job requirements and lacks the necessary technical focus. By incorporating relevant skills, experiences, and keywords, the score can be significantly improved.',\n",
       "  'tailored_section': {'title': 'Professional Development',\n",
       "   'content': 'Nov. 2022 - Present  \\n\\n- **Language Proficiency:** Enhanced English proficiency through immersive study and travel, facilitating effective collaboration in diverse, international teams.  \\n- **Continuous Learning in AI:** Actively pursued knowledge in AI by enrolling in specialized courses and participating in AI meetups, ensuring familiarity with the latest advancements in machine learning and natural language processing.',\n",
       "   'section_id': 'eapHK5DGG96E6dLaaHF2JV'}},\n",
       " {'advice': '### Improvement Suggestions\\n\\n1. **Relevance to the Job Post:**\\n   - **Highlight Specific Technologies:** The job post emphasizes experience with machine learning algorithms, tools like TensorFlow, and large language models. Explicitly mention any relevant technologies or frameworks you used (e.g., TensorFlow, PyTorch) in your projects.\\n   - **Emphasize Machine Learning and NLP Experience:** While you mention developing machine learning platforms, it would be beneficial to specify any experience with NLP or generative AI, as these are key requirements in the job post.\\n   - **Quantify Achievements Related to Key Responsibilities:** For example, if your projects led to measurable improvements in user engagement or system performance, include those metrics to demonstrate impact.\\n\\n2. **ATS Compatibility:**\\n   - **Use Keywords from the Job Post:** Incorporate specific keywords from the job description, such as \"recommendation systems,\" \"data analysis,\" \"statistical analysis,\" and \"C++.\" This will help ensure your resume is picked up by ATS.\\n   - **Standardize Terminology:** Ensure that the terminology used in your resume matches that of the job post. For instance, if the job post mentions \"data quality,\" use that exact phrase instead of \"high standards in data handling.\"\\n\\n3. **Overall Appeal to Human Reviewers:**\\n   - **Structure and Clarity:** Consider breaking down your bullet points into more digestible parts. Use sub-bullets to clarify complex projects or achievements, making it easier for hiring managers to scan your accomplishments.\\n   - **Soft Skills Integration:** While your leadership and project management skills are evident, explicitly mentioning soft skills like versatility and enthusiasm for innovation can enhance your appeal to HR professionals.\\n   - **Tailor the Title:** If the position you are applying for is more technical, consider adjusting your title to reflect a more technical role (e.g., \"Head of Research and Development in Machine Learning\") to align with the job post.\\n\\n### Overall Score: 7/10\\n\\nYour experience is strong and relevant, but there are opportunities to enhance alignment with the job requirements, improve ATS compatibility, and increase overall appeal to human reviewers. By incorporating specific technologies, using relevant keywords, and structuring your achievements more clearly, you can significantly strengthen this section of your resume.',\n",
       "  'tailored_section': {'title': 'Head of Research Department',\n",
       "   'content': 'Aug. 2019 - Nov. 2022\\n\\n- **Leadership in Machine Learning and AI**: Managed the research department at Seznam.cz, focusing on machine learning and artificial intelligence projects that reached millions of users. Spearheaded the development of machine learning platforms, including Kubeflow, to enhance project life-cycles and foster innovation in advertising systems.\\n\\n- **Team Expansion and Collaboration**: Expanded the research team by 300%, establishing specialized groups in recommender systems and operational research. Implemented a hybrid organizational structure to enhance collaboration and drive research throughput, aligning with the need for effective coding and modeling in large-scale systems.\\n\\n- **Project Management and Experimentation**: Directed cross-functional projects, including a universal A/B/n testing platform for advertising and recommender systems. Led initiatives to integrate models into production environments, ensuring robust data analysis and quality standards through the development of a Data Quality platform.',\n",
       "   'section_id': 'nVGpM3ug6jssjo6gJxKq6p'}},\n",
       " {'advice': '### Improvement Suggestions\\n\\n1. **Relevance to the Job Post:**\\n   - **Highlight Specific Technologies:** Explicitly mention the use of specific programming languages (e.g., Python, C++) and tools (e.g., TensorFlow) in your projects. This aligns with the job requirements for machine learning algorithms and tools.\\n   - **Emphasize Experience with NLP and Generative AI:** If applicable, include any experience with Natural Language Processing (NLP) or Generative AI, as these are key requirements in the job post.\\n   - **Quantify Achievements:** While you mention a 28% increase in user engagement, consider adding more metrics related to coding, experiment design, and data analysis to showcase your impact further.\\n\\n2. **ATS Compatibility:**\\n   - **Use Keywords from the Job Post:** Integrate industry-specific keywords such as \"software engineering,\" \"machine learning,\" \"recommendation systems,\" and \"data analysis\" into your bullet points. This will help your resume rank higher in ATS scans.\\n   - **Standardize Terminology:** Ensure that terms like \"machine learning\" and \"recommendation systems\" are consistently used as they appear in the job description to improve ATS recognition.\\n\\n3. **Overall Appeal to Human Reviewers:**\\n   - **Showcase Leadership and Collaboration:** While you mention team leadership, consider adding a brief example of how your leadership directly contributed to project success or team development.\\n   - **Highlight Soft Skills:** Incorporate soft skills such as versatility and enthusiasm, which are valued in the job post. For example, you could mention how your leadership style fosters innovation or encourages team members to tackle new challenges.\\n   - **Formatting and Clarity:** Ensure that the formatting is clean and easy to read. Use bullet points consistently and consider bolding key achievements or technologies to draw attention.\\n\\n### Overall Score: 7/10\\n\\nYour experience as a Research Team Leader is relevant and demonstrates strong leadership and technical skills. However, enhancing the alignment with the job post\\'s specific requirements and improving ATS compatibility will significantly increase your chances of attracting HR professionals and hiring managers.',\n",
       "  'tailored_section': {'title': 'Research Team Leader',\n",
       "   'content': 'Feb. 2019 - Aug. 2019\\n\\n- **Team Leadership & Collaboration:** Led a team of Applied Machine Learning Scientists, enhancing collaboration with development teams to drive project success in software engineering and machine learning.\\n- **Project Management & Research:** Directed research on video recommendation systems, achieving a 28% increase in user engagement and contributing to a publication at RecSys 2020, demonstrating expertise in recommendation systems and user experience.\\n- **Technological Innovation:** Spearheaded the transition from linear models to neural network-based online machine learning using TensorFlow, aligning with industry standards in artificial intelligence and deep learning.',\n",
       "   'section_id': 'fj2Pvx89KRoCtkG35VR99R'}},\n",
       " {'advice': '### Improvement Suggestions\\n\\n1. **Relevance to the Job Post:**\\n   - **Highlight Key Skills:** Ensure that the programming languages and tools mentioned in the job post (e.g., TensorFlow, C++, statistical analysis) are explicitly included in your resume. For instance, if you have experience with TensorFlow, mention it directly in the context of your projects.\\n   - **Emphasize Machine Learning Experience:** The job post emphasizes experience with machine learning algorithms and tools. While you mention recommender systems and online ML, consider explicitly stating your experience with machine learning algorithms and any relevant tools you used (e.g., TensorFlow, Keras).\\n   - **User Behavior Understanding:** If applicable, add any experience or projects that demonstrate your understanding of user behavior or mathematical modeling, as this is a preferred qualification.\\n\\n2. **ATS Compatibility:**\\n   - **Use Keywords from the Job Post:** Incorporate specific keywords from the job description, such as \"Large Language Models,\" \"NLP,\" \"Generative AI,\" and \"recommendation systems.\" This will help your resume rank higher in ATS scans.\\n   - **Consistent Formatting:** Ensure that your formatting is consistent (e.g., bullet points, font size) and that you use standard section headings (e.g., \"Experience,\" \"Education\") to improve ATS readability.\\n\\n3. **Overall Appeal to Human Reviewers:**\\n   - **Quantify Achievements:** While you mention a \"substantial double-digit increase in key performance metrics,\" consider providing specific numbers or percentages to quantify your impact further.\\n   - **Clear Project Descriptions:** While your project descriptions are detailed, consider simplifying some language for clarity. For example, instead of \"Developed an approach based on the Nelder-Mead method,\" you could say, \"Implemented real-time hyperparameter optimization using the Nelder-Mead method.\"\\n   - **Soft Skills Integration:** Integrate soft skills such as versatility and leadership into your descriptions. For example, mention how your collaboration with the ML engineering team demonstrated leadership or teamwork.\\n\\n### Overall Score: 8/10\\n\\nYour resume section is strong and relevant, but with some adjustments to enhance alignment with the job post, improve ATS compatibility, and increase overall appeal, it can be even more effective.',\n",
       "  'tailored_section': {'title': 'Applied Machine Learning Scientist',\n",
       "   'content': 'Nov. 2016 - Feb. 2019\\n\\n- **Recommender Systems Development:** Engineered collaborative filtering and online machine learning models for lifestyle, news, and video content, achieving a double-digit increase in key performance metrics and impacting over half of the Czech internet population.\\n\\n- **Machine Learning and Data Analysis:** Processed terabytes of logs daily using PySpark; developed a proprietary framework for data manipulation and quality checks. Continuously improved machine learning models through data cleaning, feature engineering, and rigorous offline/online testing.\\n\\n- **Production Implementation and Experimentation:** Integrated machine learning components of recommender systems into production, enhancing memory efficiency and performance. Coauthored a library for A/B/n test evaluation, designing and interpreting results to optimize user engagement.',\n",
       "   'section_id': 'jK8xDezXVhU3rPHU33kAEi'}},\n",
       " {'advice': '1. **Improvement Suggestions**\\n\\n   a) **Relevance to the job post:**\\n   - Emphasize experience with machine learning algorithms and tools, as this is a key requirement. Consider adding any relevant projects or tasks that involved machine learning, AI, or NLP.\\n   - Highlight any experience with recommendation systems or predictive modeling, as this aligns with the job\\'s focus on rankings and predictions.\\n   - If applicable, mention any experience with Large Language Models or Generative AI, as this is specifically called out in the job requirements.\\n\\n   b) **ATS compatibility:**\\n   - Ensure that the section includes keywords from the job post, such as \"machine learning,\" \"data analysis,\" \"recommendation systems,\" \"Python,\" and \"SQL.\" This will help the resume rank higher in ATS scans.\\n   - Use standard job titles and terminology that match the job description to improve ATS recognition.\\n\\n   c) **Overall appeal to human reviewers:**\\n   - Use bullet points that start with strong action verbs to convey impact (e.g., \"Implemented,\" \"Designed,\" \"Collaborated\").\\n   - Quantify achievements where possible (e.g., \"Increased report generation efficiency by 30% through automation\").\\n   - Consider adding a brief summary at the beginning of the section that encapsulates your overall experience and skills relevant to the job.\\n\\n2. **Overall score on the scale of 1-10:**\\n   - **Score: 6/10**\\n   - The section demonstrates relevant experience in data analysis but lacks emphasis on machine learning and other key skills mentioned in the job post. Enhancing the alignment with the job requirements and improving ATS compatibility will significantly boost the score.',\n",
       "  'tailored_section': {'title': 'Data Analyst',\n",
       "   'content': 'Jul. 2015 - Jan. 2020\\n\\n- **Data Processing and Analysis:** Leveraged SQL and Python to process, clean, and analyze diverse datasets, enhancing data quality and supporting machine learning initiatives.\\n- **Machine Learning and Experiment Design:** Developed automation scripts using Python and pandas for generating reports, facilitating data-driven decision-making in research funding, and contributing to model evaluation.\\n- **Collaboration and Reporting:** Collaborated with IT to present analytical findings and recommendations, ensuring alignment with user experience and business objectives.',\n",
       "   'section_id': 'UhcGXwviXqvBFeZGVAMe6L'}},\n",
       " {'advice': '1. **Improvement Suggestions**\\n\\n   a) **Relevance to the job post**: \\n   - The resume section lists a Master’s degree, which aligns well with the preferred qualifications of having a Master\\'s degree or PhD in Computer Science or related technical fields. However, it would be beneficial to explicitly mention how the degrees relate to the required skills in software development, machine learning, or data analysis. Consider adding relevant coursework or projects that demonstrate your expertise in these areas.\\n\\n   b) **ATS compatibility**: \\n   - Ensure that the degrees are formatted in a way that ATS can easily read. Use standard terminology (e.g., \"Master of Science in Knowledge Engineering\" instead of \"Master’s degree in Knowledge Engineering\") and include the graduation years if applicable. This can help the ATS better categorize your qualifications.\\n\\n   c) **Overall appeal to human reviewers**: \\n   - To enhance the appeal, consider adding a brief description or bullet points under each degree that highlight relevant skills or projects. For example, mention any specific machine learning projects or software development experiences that were part of your education. This will provide context and demonstrate your practical experience in addition to your academic credentials.\\n\\n2. **Overall score on the scale of 1-10**: \\n   - **Score: 6/10**. The education section is strong in terms of meeting the preferred qualifications, but it lacks detail and context that would enhance its relevance and appeal to both ATS and human reviewers. Adding specific details about how your education relates to the job requirements would significantly improve this section.',\n",
       "  'tailored_section': {'title': 'Education',\n",
       "   'content': '- Master’s degree in Knowledge Engineering, focusing on machine learning and artificial intelligence.\\n- Bachelor’s degree in Information Systems and Management, providing a strong foundation in software development and data analysis.',\n",
       "   'section_id': 'FqFdPXN6YHzgFJc8xnKwU6'}},\n",
       " {'advice': '1. **Improvement Suggestions**\\n\\n   a) **Relevance to the job post**: \\n   - The publications listed are relevant to the field of machine learning and recommendation systems, which aligns well with the job requirements. However, it would be beneficial to explicitly mention how these publications relate to the job responsibilities, such as user experience or modeling. Consider adding a brief description or bullet points under each publication that highlights the key contributions or findings, especially those that pertain to user satisfaction or recommendation systems.\\n\\n   b) **ATS compatibility**: \\n   - Ensure that the titles of the publications are formatted consistently and include keywords from the job description. For example, you could include terms like \"recommendation systems\" or \"user experience\" in the descriptions. This will help the ATS recognize the relevance of your work to the job requirements.\\n\\n   c) **Overall appeal to human reviewers**: \\n   - To enhance the appeal to HR professionals and hiring managers, consider adding a summary statement at the beginning of the section that emphasizes your expertise in machine learning and recommendation systems. This will provide context for your publications and demonstrate your qualifications at a glance. Additionally, consider including any metrics or outcomes from your research that showcase the impact of your work.\\n\\n2. **Overall score on the scale of 1-10**: \\n   - **Score: 6/10** \\n   - The publications are relevant and demonstrate expertise, but they lack context and connection to the job requirements. Enhancing descriptions and ensuring ATS compatibility will improve the overall effectiveness of this section.',\n",
       "  'tailored_section': {'title': 'Publications',\n",
       "   'content': '- **Combining Models for Better User Satisfaction in Video Recommendation**, RECSYS 2020: Focused on enhancing user experience through advanced recommendation systems, aligning with expertise in user behavior modeling and predictions.\\n- **Vertical Search Blending - A Real-world Counterfactual Dataset**, SIGIR 2019: Contributed to the development of datasets for machine learning applications, emphasizing skills in data analysis and algorithm design.',\n",
       "   'section_id': 'iQGr7D5yBTQv45SUBfFNC8'}},\n",
       " {'advice': '### Improvement Suggestions\\n\\n1. **Relevance to the Job Post:**\\n   - **Highlight Specific Skills:** The current section lacks direct references to the required qualifications and key technical skills outlined in the job post. Consider adding specific programming languages (e.g., Python, C++) and machine learning tools (e.g., TensorFlow) that you have experience with.\\n   - **Focus on Machine Learning and AI:** Emphasize any direct experience with machine learning algorithms, large language models, or natural language processing. For example, if the workshop on recommender systems involved practical applications or tools, mention those explicitly.\\n   - **Quantify Achievements:** Where possible, quantify your contributions to the workshop and presentations. For instance, specify the impact of your presentation on attendees\\' understanding of AI or any follow-up actions taken as a result.\\n\\n2. **ATS Compatibility:**\\n   - **Use Keywords from the Job Post:** Incorporate industry-specific keywords such as \"machine learning,\" \"artificial intelligence,\" \"NLP,\" and \"recommendation systems\" to ensure the section is optimized for ATS scanning.\\n   - **Structured Format:** Consider using bullet points that start with action verbs and include relevant keywords. For example, \"Developed and co-authored a workshop on recommender systems utilizing [specific tools or languages].\"\\n\\n3. **Overall Appeal to Human Reviewers:**\\n   - **Showcase Leadership and Collaboration:** Highlight your leadership and organizational skills more explicitly. For example, mention any specific outcomes from leading the AI meetup or how it contributed to community engagement or knowledge sharing.\\n   - **Connect to Company Values:** Reflect the company’s emphasis on innovation and collaboration by mentioning how your initiatives fostered a diverse and inclusive environment or encouraged fresh ideas in AI.\\n\\n### Overall Score: 5/10\\n\\nThe section demonstrates some relevant experience but lacks direct alignment with the job requirements and key skills. By incorporating specific technical skills, using relevant keywords, and quantifying achievements, the section can be significantly improved to better attract both ATS and human reviewers.',\n",
       "  'tailored_section': {'title': 'Professional Engagement and Leadership',\n",
       "   'content': '- Co-authored a workshop on recommendation systems, enhancing understanding of algorithms and user behavior in AI applications.\\n- Presented on artificial intelligence to 300 attendees, demonstrating ability to communicate complex concepts effectively to diverse audiences.\\n- Organized an AI meetup, attracting over 140 participants, showcasing leadership and commitment to fostering community engagement in technology.',\n",
       "   'section_id': 'mefyoEo772MbaaHYzNqF4i'}},\n",
       " {'advice': '1. **Improvement Suggestions**\\n\\n   a) **Relevance to the job post:**\\n   - **Highlight Key Skills:** Ensure that the most relevant skills to the job post are prominently featured. For instance, explicitly mention experience with TensorFlow, as it is a key requirement for machine learning tools.\\n   - **Focus on Machine Learning and NLP:** Given the emphasis on machine learning algorithms, Large Language Models, and NLP in the job post, consider adding any specific projects or experiences that demonstrate proficiency in these areas.\\n   - **Recommendation Systems:** If applicable, include any experience or projects related to recommendation systems, as this is specifically mentioned in the job requirements.\\n\\n   b) **ATS compatibility:**\\n   - **Use Standard Terminology:** Ensure that the terminology used matches the job description. For example, instead of \"Basic knowledge of,\" use \"Familiar with\" or \"Working knowledge of\" to maintain a professional tone.\\n   - **Consistent Formatting:** Use bullet points consistently and avoid using slashes (/) in lists. Instead, separate items with commas for better ATS readability.\\n\\n   c) **Overall appeal to human reviewers:**\\n   - **Add Context:** Consider adding a brief description or context for each skill area. For example, mention how you have applied these tools in real-world projects or the impact of your work.\\n   - **Showcase Soft Skills:** While this section focuses on technical skills, consider integrating a brief mention of soft skills relevant to the role, such as teamwork or problem-solving, to provide a more holistic view of your capabilities.\\n\\n2. **Overall score on the scale of 1-10:**\\n   - **Score: 6/10** \\n   - The section contains relevant skills but lacks specific alignment with the job requirements and could benefit from improved clarity and context. Enhancing the relevance and presentation will significantly increase its effectiveness.',\n",
       "  'tailored_section': {'title': 'Technical Skills',\n",
       "   'content': '- **Programming Languages:** Proficient in Python and SQL; foundational knowledge in C/C++, JavaScript, HTML/CSS, R, and Scala.\\n- **Machine Learning & AI:** Experienced with TensorFlow, Scikit-Learn, PyTorch, and MLFlow; adept in developing machine learning algorithms and tools, including deep learning and natural language processing.\\n- **Data Analysis & Processing:** Skilled in data processing with Apache Spark, Hadoop, and pandas; proficient in statistical analysis and data visualization using Matplotlib, Plotly, and Seaborn; experienced in coding, experiment design, and data analysis.',\n",
       "   'section_id': '3fVyGnsKSNCxT6wgA3SdcX'}},\n",
       " {'advice': '### Improvement Suggestions\\n\\n1. **Relevance to the Job Post:**\\n   - The soft skills listed are valuable, but they do not directly align with the specific soft skills mentioned in the job post (versatility, leadership qualities, enthusiasm to take on new problems). \\n   - Consider rephrasing or adding skills that reflect the job requirements more closely. For example, emphasize adaptability and a willingness to tackle new challenges.\\n\\n2. **ATS Compatibility:**\\n   - While the section is generally compatible with ATS, it could benefit from incorporating keywords from the job post. For instance, include terms like \"versatility\" and \"enthusiasm\" to ensure the resume is picked up by ATS.\\n   - Consider using bullet points that start with action verbs or keywords relevant to the job description, such as \"Demonstrated leadership in cross-functional teams\" or \"Proven problem-solving abilities in software development contexts.\"\\n\\n3. **Overall Appeal to Human Reviewers:**\\n   - The current list of soft skills is somewhat generic. To enhance appeal, provide context or examples for each skill. For instance, instead of just listing \"Event Organization and Management,\" you could say, \"Organized cross-departmental workshops to enhance team collaboration and innovation.\"\\n   - Highlight any specific achievements or outcomes related to these skills to make them more impactful.\\n\\n### Overall Score: 5/10\\n\\nThe section has a solid foundation but lacks direct alignment with the job requirements and could be more tailored to both ATS and human reviewers. By incorporating relevant keywords, emphasizing adaptability, and providing context for the skills, the section can be significantly improved.',\n",
       "  'tailored_section': {'title': 'Soft Skills',\n",
       "   'content': \"- Leadership and Team Management: Proven ability to lead diverse teams and drive projects to successful completion, aligning with the company's emphasis on collaboration and innovation.\\n- Problem-solving and Critical Thinking: Strong analytical skills to tackle complex challenges, essential for developing machine learning models and enhancing user experience.\\n- Effective Communication: Skilled in conveying technical concepts clearly to cross-functional teams, fostering collaboration and ensuring alignment with project goals.\",\n",
       "   'section_id': 'mESbzHvKhe79JPbSR2NpBZ'}}]"
      ]
     },
     "execution_count": 6,
     "metadata": {},
     "output_type": "execute_result"
    }
   ],
   "source": [
    "json.loads(response['body'])['tailored_sections']\n"
   ]
  },
  {
   "cell_type": "code",
   "execution_count": 5,
   "metadata": {},
   "outputs": [
    {
     "data": {
      "text/plain": [
       "[{'title': 'Contact Information',\n",
       "  'section_id': 'AyvQR8fDL67AgETpagm5Vc',\n",
       "  'content': 'Jakub Drdak \\n+420 728 533 859 \\njak.drd@gmail.com \\nlinkedin.com/in/jakub-drdak '},\n",
       " {'title': 'Bio',\n",
       "  'section_id': '4EeiaXZi4DffUAbkMXM8pR',\n",
       "  'content': 'Machine Learning and AI Specialist with 6+ years of experience having driven advancements in advertising and recommender systems at Seznam.cz, a leading Czech tech company. I’ve led research teams, tackled large-scale data projects, and initiated and driven complex strategic initiatives. I’m also a seasoned speaker and event organiser, with a few co-authored papers in top conferences such as RECSYS and SIGIR. I highly value and foster teamwork and cross-functional collaboration and enjoy seeking ways to present complex problems and findings in a clear and understandable manner for everyone.'},\n",
       " {'title': 'Experience',\n",
       "  'section_id': '7Z5q3P3GFm5J4APkCuFryk',\n",
       "  'content': ''},\n",
       " {'title': 'Study and Travel',\n",
       "  'section_id': 'eapHK5DGG96E6dLaaHF2JV',\n",
       "  'content': 'Nov. 2022 - present \\n\\n- Language Proficiency: Traveled and studied to achieve proficiency in English, enabling effective collaboration in international teams. Enrolled in intensive courses of English and Spanish, achieved conversational proficiency in English and basic Spanish skills.\\n- Continuous Learning: Maintained up-to-date knowledge of AI advancements by enrolling in AI courses, and attending AI meetups in Sydney, Australia.'},\n",
       " {'title': 'Head of Research Department',\n",
       "  'section_id': 'nVGpM3ug6jssjo6gJxKq6p',\n",
       "  'content': 'Aug. 2019 - Nov. 2022\\n\\n- Leadership: Managed the research department of the Advertising System division at Seznam.cz, a prominent Czech tech and media company, reaching millions of users with its proprietary advertising system and search engine. \\n- Team Expansion and Organization: Led the expansion of the research department by 300% (from 6 to 24 members), establishing 5 specialized teams focused on sponsored search, display advertising, targeting, recommender systems, and operational research. Implemented a hybrid organizational structure (replacing the centralized structure) to foster greater cross-team collaboration, innovation and research throughput. \\n- Project Management: Directed research teams, collaborated on setting project priorities both within individual teams and across the division. Initiated and drove strategic multi-team and cross-functional projects, defined requirements, and facilitated collaboration to ensure successful outcomes. Projects included: \\n    * A universal A/B/n testing platform spanning the entire advertising and recommender systems \\n    * Development of Machine Learning platforms to substantially accelerate the ML project life-cycle Kubeflow \\n    * A Data Quality platform to ensure high standards in data handling and analysis \\n- Process and Framework Development: Co-developed and implemented: \\n    * A competency and continuous education framework \\n    * An improved internal hiring process \\n    * A management platform for research environments, enabling fast initialization, reliability, and reproducibility of research projects. MLFlow, CI, OpenStack \\n- Strategic Communication: Engaged daily with developers, product managers, project managers, and business managers across the division, as well as on a regular basis with other divisions. Developed and presented vision and strategy to top management.'},\n",
       " {'title': 'Research Team Leader',\n",
       "  'section_id': 'fj2Pvx89KRoCtkG35VR99R',\n",
       "  'content': 'Feb. 2019 - Aug. 2019\\n\\n- Team Leadership: Managed a team of Applied Machine Learning Scientists, fostering close collaboration with development teams. \\n- Project Leadership: Directed and managed research projects, ensuring alignment with strategic goals. \\n- Cross-functional Communication: Coordinated with product managers and development team leaders to gather and convey requests and priorities, enhancing collaboration and efficiency. \\n- Research Contributions: Conducted and led research on video recommendation for a streaming service, resulting in a significant 28% increase in user engagement and publication (short paper) at RecSys 2020. \\n- Technological Transformation: Oversaw the successful transition from linear model-based to neural network-based online machine learning. Tensorflow \\n- Best Practices Development: Co-developed and implemented best practices for the ML project life-cycle and software development. Gitlab, Docker, YouTrack, Scrum \\n- Strategic Planning: Contributed to the strategic planning and prioritization of recommender systems development.'},\n",
       " {'title': 'Applied Machine Learning Scientist',\n",
       "  'section_id': 'jK8xDezXVhU3rPHU33kAEi',\n",
       "  'content': 'Nov. 2016 - Feb. 2019\\n\\n- Recommender Systems Development: Worked on recommender systems (e.g., collaborative filtering, online ML learning) for lifestyle, news, and video content, reaching over half of the Czech internet population. This resulted in a substantial double-digit increase in key performance metrics. \\n- Data Processing and Analysis: Processed and analyzed terabytes of logs daily using an on-premise cluster. Developed and maintained a proprietary framework for data manipulation and quality checks. PySpark \\n- Collaboration and Code Review: Worked closely with the ML engineering team to reimplement prototypes into the production environment and review production code. Participated in planning and prioritization meetings. \\n- Highlighted projects: \\n    * Model Improvement: Continuously improved online machine learning models through data cleaning, feature selection/extraction/engineering techniques, and conducting numerous offline and online tests. Vowpal Wabbit \\n    * Recommendation Diversification: Developed an approach for recommendation diversification based on clustering of semantic and text vectors. scikit-learn \\n    * Hyperparameter Optimization: Developed an approach based on the Nelder-Mead method, enabling real-time adjustments based on online metrics (e.g., user engagement). Python \\n    * Offline Evaluation Framework: Created a framework for offline evaluation of models based on matrix factorization, leading to informed deployment and improved performance in online metrics. Python \\n    * A/B/n Test Evaluation: Coauthored a proprietary library for A/B/n test evaluation based on a frequentist approach. Designed, evaluated, and interpreted results of A/B/n tests. Python, Pyspark, Statmodels \\n    * Production Implementation: Implemented the machine learning component of a recommender system based on matrix factorization into production, significantly optimizing its memory efficiency and performance. NumPy, multiprocessing \\n    * Contextual Bandits Research: Focused research on the field of contextual bandits, leading to collaboration with the counterpart research department and a publication (short paper) at SIGIR 2019.'},\n",
       " {'title': 'Data Analyst',\n",
       "  'section_id': 'UhcGXwviXqvBFeZGVAMe6L',\n",
       "  'content': 'Jul. 2015 - Jan. 2020\\n\\n- Data Processing and Analysis: Processed, cleaned, and analyzed data from various sources, including database dumps, Excel files, and scraped web pages. SQL, Python \\n- Data Visualization: Generated charts and visualizations to represent data trends and insights. Python, Matplotlib \\n- Report Automation: Developed automation scripts to generate essential annual reports that guided decisions on allocating financial support to research institutions across the Czech Republic. Python, pandas, Git\\n- Collaboration and Presentation: Worked closely with the IT department and presented findings and recommendations to stakeholders through detailed reports and presentations.'},\n",
       " {'title': 'Education',\n",
       "  'section_id': 'FqFdPXN6YHzgFJc8xnKwU6',\n",
       "  'content': '- Master’s degree in Knowledge Engineering \\n- Bachelor’s degree in Information Systems and Management '},\n",
       " {'title': 'Publication',\n",
       "  'section_id': 'iQGr7D5yBTQv45SUBfFNC8',\n",
       "  'content': '- Combining Models for Better User Satisfaction in Video Recommendation RECSYS 2020 \\n- Vertical Search Blending - A Real-world Counterfactual Dataset SIGIR 2019 '},\n",
       " {'title': 'Others',\n",
       "  'section_id': 'mefyoEo772MbaaHYzNqF4i',\n",
       "  'content': '- Co-authored a workshop on recommender systems \\n- Presented on AI to 300 attendees with minimal or no background in AI \\n- Led the organization of an AI meetup, attracting over 140 attendees \\n- Representation and Engagement - Represented Seznam.cz at numerous events, including job fairs and meetups '},\n",
       " {'title': 'Technical Skills',\n",
       "  'section_id': '3fVyGnsKSNCxT6wgA3SdcX',\n",
       "  'content': '- Languages: Proficient in: Python, SQL | Basic knowledge of: C/C++, JavaScript, HTML/CSS, R, Scala \\n- Machine Learning: Scikit-Learn, Vowpal Wabbit, NumPy, Statsmodels, SciPy, PyTorch, MLFlow \\n- Data Processing: Apache Spark, Hadoop, pandas, SQL | Basic knowledge of: AWS \\n- Data Visualisation: Matplotlib, Plotly, Seaborn, Dash \\n- Tools: Git, Docker, JupyterLab, VS Code, Scrum methodologies '},\n",
       " {'title': 'Soft Skills',\n",
       "  'section_id': 'mESbzHvKhe79JPbSR2NpBZ',\n",
       "  'content': '- Leadership and Team Management \\n- Strategic Planning and Execution \\n- Cross-functional Collaboration \\n- Effective Communication and Public Speaking \\n- Event Organization and Management \\n- Problem-solving and Critical Thinking \\n- Language Proficiency: Czech, Conversational English, Basic Spanish, Basic German'}]"
      ]
     },
     "execution_count": 5,
     "metadata": {},
     "output_type": "execute_result"
    }
   ],
   "source": [
    "json.loads(response['body'])['semantic_sections']"
   ]
  },
  {
   "cell_type": "code",
   "execution_count": 4,
   "metadata": {},
   "outputs": [
    {
     "data": {
      "text/markdown": [
       "Contact Information"
      ],
      "text/plain": [
       "<IPython.core.display.Markdown object>"
      ]
     },
     "metadata": {},
     "output_type": "display_data"
    },
    {
     "data": {
      "text/markdown": [
       "Jakub Drdak  \n",
       "Phone: +420 728 533 859  \n",
       "Email: jak.drd@gmail.com  \n",
       "LinkedIn: linkedin.com/in/jakub-drdak"
      ],
      "text/plain": [
       "<IPython.core.display.Markdown object>"
      ]
     },
     "metadata": {},
     "output_type": "display_data"
    },
    {
     "data": {
      "text/markdown": [
       "Professional Summary"
      ],
      "text/plain": [
       "<IPython.core.display.Markdown object>"
      ]
     },
     "metadata": {},
     "output_type": "display_data"
    },
    {
     "data": {
      "text/markdown": [
       "Machine Learning and AI Specialist with over 6 years of experience in software development, specializing in advertising and recommendation systems. Proven expertise in machine learning algorithms, including deep learning and natural language processing, with hands-on experience using tools like TensorFlow. \n",
       "\n",
       "- Led research teams in large-scale data projects, focusing on developing and integrating models for recommender systems and user behavior analysis.\n",
       "- Co-authored papers presented at top conferences such as RECSYS and SIGIR, demonstrating a commitment to innovation and collaboration in the field.\n",
       "- Strong advocate for teamwork and cross-functional collaboration, effectively communicating complex findings to diverse audiences."
      ],
      "text/plain": [
       "<IPython.core.display.Markdown object>"
      ]
     },
     "metadata": {},
     "output_type": "display_data"
    },
    {
     "data": {
      "text/markdown": [
       "Experience"
      ],
      "text/plain": [
       "<IPython.core.display.Markdown object>"
      ]
     },
     "metadata": {},
     "output_type": "display_data"
    },
    {
     "data": {
      "text/markdown": [],
      "text/plain": [
       "<IPython.core.display.Markdown object>"
      ]
     },
     "metadata": {},
     "output_type": "display_data"
    },
    {
     "data": {
      "text/markdown": [
       "Professional Development"
      ],
      "text/plain": [
       "<IPython.core.display.Markdown object>"
      ]
     },
     "metadata": {},
     "output_type": "display_data"
    },
    {
     "data": {
      "text/markdown": [
       "Nov. 2022 - Present  \n",
       "- **Language Proficiency:** Enhanced English proficiency through immersive study and travel, facilitating effective collaboration in diverse, international teams.  \n",
       "- **Continuous Learning in AI:** Actively pursued knowledge in artificial intelligence by enrolling in specialized AI courses and participating in meetups, ensuring familiarity with the latest advancements in machine learning and natural language processing."
      ],
      "text/plain": [
       "<IPython.core.display.Markdown object>"
      ]
     },
     "metadata": {},
     "output_type": "display_data"
    },
    {
     "data": {
      "text/markdown": [
       "Head of Research Department"
      ],
      "text/plain": [
       "<IPython.core.display.Markdown object>"
      ]
     },
     "metadata": {},
     "output_type": "display_data"
    },
    {
     "data": {
      "text/markdown": [
       "**Aug. 2019 - Nov. 2022**  \n",
       "- **Leadership in AI and Machine Learning:** Managed the research department at Seznam.cz, focusing on machine learning and artificial intelligence, enhancing the advertising system and search engine used by millions.  \n",
       "- **Team Development and Collaboration:** Expanded the research team by 300%, establishing specialized groups in recommender systems and operational research, fostering innovation through a hybrid organizational structure that improved cross-team collaboration.  \n",
       "- **Project Management and Experiment Design:** Directed multi-team projects, including the development of a universal A/B/n testing platform and machine learning platforms (e.g., Kubeflow) to streamline project life-cycles. Initiated a Data Quality platform to uphold high standards in data analysis, ensuring robust data handling for machine learning applications."
      ],
      "text/plain": [
       "<IPython.core.display.Markdown object>"
      ]
     },
     "metadata": {},
     "output_type": "display_data"
    },
    {
     "data": {
      "text/markdown": [
       "Research Team Leader"
      ],
      "text/plain": [
       "<IPython.core.display.Markdown object>"
      ]
     },
     "metadata": {},
     "output_type": "display_data"
    },
    {
     "data": {
      "text/markdown": [
       "Feb. 2019 - Aug. 2019\n",
       "\n",
       "- **Team Leadership & Collaboration:** Led a team of Applied Machine Learning Scientists, enhancing collaboration with development teams to drive innovation in software engineering and artificial intelligence projects.\n",
       "- **Machine Learning & Recommendation Systems:** Directed research on video recommendation systems, achieving a 28% increase in user engagement. This project utilized TensorFlow and neural network-based models, aligning with the requirements for experience in machine learning algorithms and recommendation systems.\n",
       "- **Best Practices & Experiment Design:** Co-developed best practices for the machine learning project lifecycle, incorporating experiment design and data analysis methodologies to ensure quality and efficiency in project execution."
      ],
      "text/plain": [
       "<IPython.core.display.Markdown object>"
      ]
     },
     "metadata": {},
     "output_type": "display_data"
    },
    {
     "data": {
      "text/markdown": [
       "Applied Machine Learning Scientist"
      ],
      "text/plain": [
       "<IPython.core.display.Markdown object>"
      ]
     },
     "metadata": {},
     "output_type": "display_data"
    },
    {
     "data": {
      "text/markdown": [
       "Nov. 2016 - Feb. 2019\n",
       "\n",
       "- **Recommender Systems Development:** Designed and implemented collaborative filtering and online machine learning models for lifestyle, news, and video content, achieving a double-digit increase in key performance metrics and reaching over half of the Czech internet population.\n",
       "\n",
       "- **Machine Learning and Data Analysis:** Developed and maintained a proprietary framework for processing and analyzing terabytes of logs daily using PySpark. Improved online machine learning models through data cleaning, feature engineering, and rigorous offline and online testing.\n",
       "\n",
       "- **Production Integration and Experimentation:** Collaborated with ML engineering teams to transition prototypes into production, optimizing memory efficiency and performance. Coauthored a library for A/B/n test evaluation, designing and interpreting results to inform model deployment. \n",
       "\n",
       "- **Highlighted Projects:**  \n",
       "  * **Recommendation Diversification:** Created a clustering approach for semantic and text vector-based recommendation diversification using scikit-learn.  \n",
       "  * **Hyperparameter Optimization:** Developed a real-time hyperparameter adjustment method using the Nelder-Mead approach in Python, enhancing user engagement metrics.  \n",
       "  * **Contextual Bandits Research:** Conducted research on contextual bandits, resulting in a publication at SIGIR 2019, showcasing commitment to innovation in machine learning."
      ],
      "text/plain": [
       "<IPython.core.display.Markdown object>"
      ]
     },
     "metadata": {},
     "output_type": "display_data"
    },
    {
     "data": {
      "text/markdown": [
       "Data Analyst"
      ],
      "text/plain": [
       "<IPython.core.display.Markdown object>"
      ]
     },
     "metadata": {},
     "output_type": "display_data"
    },
    {
     "data": {
      "text/markdown": [
       "Jul. 2015 - Jan. 2020\n",
       "\n",
       "- **Data Processing and Analysis:** Leveraged SQL and Python to process, clean, and analyze diverse datasets, enhancing data quality and supporting machine learning initiatives.\n",
       "- **Experiment Design and Data Visualization:** Designed experiments and utilized Python and Matplotlib to create visualizations that effectively communicated data trends and insights, aligning with user behavior analysis.\n",
       "- **Automation and Reporting:** Developed Python scripts for automating annual report generation, facilitating data-driven decision-making for financial allocations in research, demonstrating strong coding and analytical skills."
      ],
      "text/plain": [
       "<IPython.core.display.Markdown object>"
      ]
     },
     "metadata": {},
     "output_type": "display_data"
    },
    {
     "data": {
      "text/markdown": [
       "Education"
      ],
      "text/plain": [
       "<IPython.core.display.Markdown object>"
      ]
     },
     "metadata": {},
     "output_type": "display_data"
    },
    {
     "data": {
      "text/markdown": [
       "- Master’s degree in Knowledge Engineering, focusing on artificial intelligence and machine learning applications.\n",
       "- Bachelor’s degree in Information Systems and Management, providing a strong foundation in software development and data analysis."
      ],
      "text/plain": [
       "<IPython.core.display.Markdown object>"
      ]
     },
     "metadata": {},
     "output_type": "display_data"
    },
    {
     "data": {
      "text/markdown": [
       "Publications"
      ],
      "text/plain": [
       "<IPython.core.display.Markdown object>"
      ]
     },
     "metadata": {},
     "output_type": "display_data"
    },
    {
     "data": {
      "text/markdown": [
       "- **Combining Models for Better User Satisfaction in Video Recommendation**, RECSYS 2020: Focused on enhancing user experience through advanced recommendation systems, aligning with user behavior analysis and modeling.  \n",
       "- **Vertical Search Blending - A Real-world Counterfactual Dataset**, SIGIR 2019: Developed methodologies for integrating signals in search systems, relevant to large-scale system design and data analysis."
      ],
      "text/plain": [
       "<IPython.core.display.Markdown object>"
      ]
     },
     "metadata": {},
     "output_type": "display_data"
    },
    {
     "data": {
      "text/markdown": [
       "Professional Engagement and Leadership"
      ],
      "text/plain": [
       "<IPython.core.display.Markdown object>"
      ]
     },
     "metadata": {},
     "output_type": "display_data"
    },
    {
     "data": {
      "text/markdown": [
       "- Co-authored a workshop on recommendation systems, enhancing understanding of algorithms and user behavior in AI applications.\n",
       "- Presented on artificial intelligence to 300 attendees, demonstrating ability to communicate complex concepts effectively to diverse audiences.\n",
       "- Organized an AI meetup, attracting over 140 participants, showcasing leadership and commitment to fostering community engagement in technology."
      ],
      "text/plain": [
       "<IPython.core.display.Markdown object>"
      ]
     },
     "metadata": {},
     "output_type": "display_data"
    },
    {
     "data": {
      "text/markdown": [
       "Technical Skills"
      ],
      "text/plain": [
       "<IPython.core.display.Markdown object>"
      ]
     },
     "metadata": {},
     "output_type": "display_data"
    },
    {
     "data": {
      "text/markdown": [
       "- **Programming Languages:** Proficient in Python and SQL; foundational knowledge in C/C++, JavaScript, HTML/CSS, R, and Scala.\n",
       "- **Machine Learning & AI:** Experienced with TensorFlow, Scikit-Learn, PyTorch, and MLFlow; adept in implementing machine learning algorithms and tools, including deep learning and natural language processing.\n",
       "- **Data Processing & Analysis:** Skilled in Apache Spark, Hadoop, and pandas for data manipulation; proficient in SQL for data querying and analysis; experienced in experiment design and data visualization using Matplotlib, Plotly, and Seaborn."
      ],
      "text/plain": [
       "<IPython.core.display.Markdown object>"
      ]
     },
     "metadata": {},
     "output_type": "display_data"
    },
    {
     "data": {
      "text/markdown": [
       "Soft Skills"
      ],
      "text/plain": [
       "<IPython.core.display.Markdown object>"
      ]
     },
     "metadata": {},
     "output_type": "display_data"
    },
    {
     "data": {
      "text/markdown": [
       "- Leadership and Team Management: Proven ability to lead diverse teams and drive projects to successful completion, aligning with the company's emphasis on collaboration and innovation.\n",
       "- Problem-solving and Critical Thinking: Strong analytical skills to tackle complex challenges, essential for coding, modeling, and analysis in software engineering and AI.\n",
       "- Effective Communication: Excellent communication skills to convey technical concepts clearly, fostering collaboration across cross-functional teams."
      ],
      "text/plain": [
       "<IPython.core.display.Markdown object>"
      ]
     },
     "metadata": {},
     "output_type": "display_data"
    }
   ],
   "source": [
    "for section in json.loads(response['body']['tailored_sections']):\n",
    "    if section['tailored_section']:\n",
    "        display(Markdown(section['tailored_section']['title']))\n",
    "        display(Markdown(section['tailored_section']['content']))"
   ]
  },
  {
   "cell_type": "code",
   "execution_count": 5,
   "metadata": {},
   "outputs": [],
   "source": [
    "job_post = \"\"\"\n",
    "Minimum qualifications:\n",
    "\n",
    "Bachelor’s degree or equivalent practical experience.\n",
    "2 years of experience with software development in one or more programming languages, and with data structures or algorithms. \n",
    "2 years of experience with machine learning algorithms and tools (e.g., TensorFlow), artificial intelligence, deep learning or natural language processing.\n",
    "Experience with Large Language Models, NLP, or Generative AI.\n",
    "Experience with Coding, Experiment Design, Data Analysis.\n",
    "Experience with recommendation systems/rankings/predictions.\n",
    "\n",
    "Preferred qualifications:\n",
    "\n",
    "Master's degree or PhD in Computer Science or related technical fields.\n",
    "Experience developing accessible technologies.\n",
    "Experience with C++, Statistical Analysis, Python.\n",
    "Experience with quality work in either serving quality or data quality.\n",
    "Experience as a data analyst/scientist.\n",
    "Experience in understanding user behavior (i.e., mathematical modeling or social science background).\n",
    "\n",
    "About The Job\n",
    "\n",
    "Google's software engineers develop the next-generation technologies that change how billions of users connect, explore, and interact with information and one another. Our products need to handle information at massive scale, and extend well beyond web search. We're looking for engineers who bring fresh ideas from all areas, including information retrieval, distributed computing, large-scale system design, networking and data storage, security, artificial intelligence, natural language processing, UI design and mobile; the list goes on and is growing every day. As a software engineer, you will work on a specific project critical to Google’s needs with opportunities to switch teams and projects as you and our fast-paced business grow and evolve. We need our engineers to be versatile, display leadership qualities and be enthusiastic to take on new problems across the full-stack as we continue to push technology forward.\n",
    "\n",
    "Our goal is to organize shopping results across Google surfaces to make them relevant and helpful for users on their shopping journey. Find the best configuration of Shopping units on the Shopping pages across Google surfaces by taking into consideration a wide range of Quality and UI factors: relevance of features, position on the page, collapsed/expanded states, density of the units.\n",
    "\n",
    "People shop on Google more than a billion times a day - and the Commerce team is responsible for building the experiences that serve these users. The mission for Google Commerce is to be an essential part of the shopping journey for consumers - from inspiration to to a simple and secure checkout experience - and the best place for retailers/merchants to connect with consumers. We support and partner with the commerce ecosystem, from large retailers to small local merchants, to give them the tools, technology and scale to thrive in today’s digital world.\n",
    "\n",
    "Responsibilities\n",
    "\n",
    "Work in coding, modeling, and analysis.\n",
    "Find the right signals or create them if they don't exist yet. Combine them into a model that allows you to show their merit through offline evaluation. Wire these in the production stack (e.g., search and shopping) and start a live experiment.\n",
    "\n",
    "\n",
    "Google is proud to be an equal opportunity workplace and is an affirmative action employer. We are committed to equal employment opportunity regardless of race, color, ancestry, religion, sex, national origin, sexual orientation, age, citizenship, marital status, disability, gender identity or Veteran status. We also consider qualified applicants regardless of criminal histories, consistent with legal requirements. See also Google's EEO Policy and EEO is the Law. If you have a disability or special need that requires accommodation, please let us know by completing our Accommodations for Applicants form .\n",
    "\"\"\""
   ]
  },
  {
   "cell_type": "code",
   "execution_count": 6,
   "metadata": {},
   "outputs": [],
   "source": [
    "resume = \"\"\"\n",
    "Jakub Drdak \n",
    "+420 728 533 859 \n",
    "jak.drd@gmail.com \n",
    "linkedin.com/in/jakub-drdak \n",
    "\n",
    "# Bio\n",
    "\n",
    "Machine Learning and AI Specialist with 6+ years of experience having driven advancements in advertising and recommender systems at Seznam.cz, a leading Czech tech company. I’ve led research teams, tackled large-scale data projects, and initiated and driven complex strategic initiatives. I’m also a seasoned speaker and event organiser, with a few co-authored papers in top conferences such as RECSYS and SIGIR. I highly value and foster teamwork and cross-functional collaboration and enjoy seeking ways to present complex problems and findings in a clear and understandable manner for everyone. \n",
    "\n",
    "# Experience \n",
    "\n",
    "## Study and Travel \n",
    "\n",
    "Nov. 2022 - present \n",
    "\n",
    "- Language Proficiency: Traveled and studied to achieve proficiency in English, enabling effective collaboration in international teams. Enrolled in intensive courses of English and Spanish, achieved conversational proficiency in English and basic Spanish skills.\n",
    "- Continuous Learning: Maintained up-to-date knowledge of AI advancements by enrolling in AI courses, and attending AI meetups in Sydney, Australia. \n",
    "\n",
    "## Head of Research Departmen \n",
    "\n",
    "Aug. 2019 - Nov. 2022\n",
    "\n",
    "- Leadership: Managed the research department of the Advertising System division at Seznam.cz, a prominent Czech tech and media company, reaching millions of users with its proprietary advertising system and search engine. \n",
    "- Team Expansion and Organization: Led the expansion of the research department by 300% (from 6 to 24 members), establishing 5 specialized teams focused on sponsored search, display advertising, targeting, recommender systems, and operational research. Implemented a hybrid organizational structure (replacing the centralized structure) to foster greater cross-team collaboration, innovation and research throughput. \n",
    "- Project Management: Directed research teams, collaborated on setting project priorities both within individual teams and across the division. Initiated and drove strategic multi-team and cross-functional projects, defined requirements, and facilitated collaboration to ensure successful outcomes. Projects included: \n",
    "    * A universal A/B/n testing platform spanning the entire advertising and recommender systems \n",
    "    * Development of Machine Learning platforms to substantially accelerate the ML project life-cycle Kubeflow \n",
    "    * A Data Quality platform to ensure high standards in data handling and analysis \n",
    "- Process and Framework Development: Co-developed and implemented: \n",
    "    * A competency and continuous education framework \n",
    "    * An improved internal hiring process \n",
    "    * A management platform for research environments, enabling fast initialization, reliability, and reproducibility of research projects. MLFlow, CI, OpenStack \n",
    "- Strategic Communication: Engaged daily with developers, product managers, project managers, and business managers across the division, as well as on a regular basis with other divisions. Developed and presented vision and strategy to top management. \n",
    "\n",
    "## Research Team Leader \n",
    "\n",
    "Feb. 2019 - Aug. 2019\n",
    "\n",
    "- Team Leadership: Managed a team of Applied Machine Learning Scientists, fostering close collaboration with development teams. \n",
    "- Project Leadership: Directed and managed research projects, ensuring alignment with strategic goals. \n",
    "- Cross-functional Communication: Coordinated with product managers and development team leaders to gather and convey requests and priorities, enhancing collaboration and efficiency. \n",
    "- Research Contributions: Conducted and led research on video recommendation for a streaming service, resulting in a significant 28% increase in user engagement and publication (short paper) at RecSys 2020. \n",
    "- Technological Transformation: Oversaw the successful transition from linear model-based to neural network-based online machine learning. Tensorflow \n",
    "- Best Practices Development: Co-developed and implemented best practices for the ML project life-cycle and software development. Gitlab, Docker, YouTrack, Scrum \n",
    "- Strategic Planning: Contributed to the strategic planning and prioritization of recommender systems development. \n",
    "\n",
    "## Applied Machine Learning Scientist \n",
    "\n",
    "Nov. 2016 - Feb. 2019\n",
    "\n",
    "- Recommender Systems Development: Worked on recommender systems (e.g., collaborative filtering, online ML learning) for lifestyle, news, and video content, reaching over half of the Czech internet population. This resulted in a substantial double-digit increase in key performance metrics. \n",
    "- Data Processing and Analysis: Processed and analyzed terabytes of logs daily using an on-premise cluster. Developed and maintained a proprietary framework for data manipulation and quality checks. PySpark \n",
    "- Collaboration and Code Review: Worked closely with the ML engineering team to reimplement prototypes into the production environment and review production code. Participated in planning and prioritization meetings. \n",
    "- Highlighted projects: \n",
    "    * Model Improvement: Continuously improved online machine learning models through data cleaning, feature selection/extraction/engineering techniques, and conducting numerous offline and online tests. Vowpal Wabbit \n",
    "    * Recommendation Diversification: Developed an approach for recommendation diversification based on clustering of semantic and text vectors. scikit-learn \n",
    "    * Hyperparameter Optimization: Developed an approach based on the Nelder-Mead method, enabling real-time adjustments based on online metrics (e.g., user engagement). Python \n",
    "    * Offline Evaluation Framework: Created a framework for offline evaluation of models based on matrix factorization, leading to informed deployment and improved performance in online metrics. Python \n",
    "    * A/B/n Test Evaluation: Coauthored a proprietary library for A/B/n test evaluation based on a frequentist approach. Designed, evaluated, and interpreted results of A/B/n tests. Python, Pyspark, Statmodels \n",
    "    * Production Implementation: Implemented the machine learning component of a recommender system based on matrix factorization into production, significantly optimizing its memory efficiency and performance. NumPy, multiprocessing \n",
    "    * Contextual Bandits Research: Focused research on the field of contextual bandits, leading to collaboration with the counterpart research department and a publication (short paper) at SIGIR 2019. \n",
    "\n",
    "## Data Analyst \n",
    "\n",
    "Jul. 2015 - Jan. 2020\n",
    "\n",
    "- Data Processing and Analysis: Processed, cleaned, and analyzed data from various sources, including database dumps, Excel files, and scraped web pages. SQL, Python \n",
    "- Data Visualization: Generated charts and visualizations to represent data trends and insights. Python, Matplotlib \n",
    "- Report Automation: Developed automation scripts to generate essential annual reports that guided decisions on allocating financial support to research institutions across the Czech Republic. Python, pandas, Git\n",
    "- Collaboration and Presentation: Worked closely with the IT department and presented findings and recommendations to stakeholders through detailed reports and presentations. \n",
    "\n",
    "# Education \n",
    "\n",
    "- Master’s degree in Knowledge Engineering \n",
    "- Bachelor’s degree in Information Systems and Management \n",
    "\n",
    "# Publication \n",
    "\n",
    "- Combining Models for Better User Satisfaction in Video Recommendation RECSYS 2020 \n",
    "- Vertical Search Blending - A Real-world Counterfactual Dataset SIGIR 2019 \n",
    "\n",
    "# Others \n",
    "\n",
    "- Co-authored a workshop on recommender systems \n",
    "- Presented on AI to 300 attendees with minimal or no background in AI \n",
    "- Led the organization of an AI meetup, attracting over 140 attendees \n",
    "- Representation and Engagement - Represented Seznam.cz at numerous events, including job fairs and meetups \n",
    "\n",
    "# Technical Skills \n",
    "\n",
    "- Languages: Proficient in: Python, SQL | Basic knowledge of: C/C++, JavaScript, HTML/CSS, R, Scala \n",
    "- Machine Learning: Scikit-Learn, Vowpal Wabbit, NumPy, Statsmodels, SciPy, PyTorch, MLFlow \n",
    "- Data Processing: Apache Spark, Hadoop, pandas, SQL | Basic knowledge of: AWS \n",
    "- Data Visualisation: Matplotlib, Plotly, Seaborn, Dash \n",
    "- Tools: Git, Docker, JupyterLab, VS Code, Scrum methodologies \n",
    "\n",
    "\n",
    "# Soft Skills \n",
    "\n",
    "- Leadership and Team Management \n",
    "- Strategic Planning and Execution \n",
    "- Cross-functional Collaboration \n",
    "- Effective Communication and Public Speaking \n",
    "- Event Organization and Management \n",
    "- Problem-solving and Critical Thinking Language \n",
    "- Proficiency: Czech, Conversational English, Basic Spanish, Basic German\n",
    "\"\"\"\n"
   ]
  }
 ],
 "metadata": {
  "kernelspec": {
   "display_name": ".venv",
   "language": "python",
   "name": "python3"
  },
  "language_info": {
   "codemirror_mode": {
    "name": "ipython",
    "version": 3
   },
   "file_extension": ".py",
   "mimetype": "text/x-python",
   "name": "python",
   "nbconvert_exporter": "python",
   "pygments_lexer": "ipython3",
   "version": "3.11.4"
  }
 },
 "nbformat": 4,
 "nbformat_minor": 2
}
