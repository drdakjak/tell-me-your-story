{
 "cells": [
  {
   "cell_type": "code",
   "execution_count": 1,
   "metadata": {},
   "outputs": [],
   "source": [
    "import json\n",
    "from IPython.display import display, Markdown"
   ]
  },
  {
   "cell_type": "code",
   "execution_count": 2,
   "metadata": {},
   "outputs": [],
   "source": [
    "from handler import handler"
   ]
  },
  {
   "cell_type": "code",
   "execution_count": 3,
   "metadata": {},
   "outputs": [],
   "source": [
    "with open('./events/event.json') as f:\n",
    "    event = json.load(f)\n",
    "    response = handler(event, None)"
   ]
  },
  {
   "cell_type": "code",
   "execution_count": 4,
   "metadata": {},
   "outputs": [
    {
     "data": {
      "text/plain": [
       "[{'section_id': 'Z2P8yMbzhxGWoyYubDodms',\n",
       "  'header': 'Contact Information',\n",
       "  'content': 'Jakub Drdak  \\n+420 XXX XXX XXX  \\nx@gmail.com  \\nlinkedin.com/in/x  \\n'},\n",
       " {'section_id': 'DFrTbnfu8PQUup5bQKDkoU',\n",
       "  'header': 'Bio',\n",
       "  'content': 'Machine Learning and AI Specialist with 6+ years of experience having driven advancements in advertising and recommender systems at Seznam.cz, a leading Czech tech company. I’ve led research teams, tackled large-scale data projects, and initiated and driven complex strategic initiatives. I’m also a seasoned speaker and event organiser, with a few co-authored papers in top conferences such as RECSYS and SIGIR. I highly value and foster teamwork and cross-functional collaboration and enjoy seeking ways to present complex problems and findings in a clear and understandable manner for everyone.'},\n",
       " {'section_id': 'agtajW9TPRpgVYrZZXM9Mh',\n",
       "  'header': 'Experience',\n",
       "  'content': '',\n",
       "  'advice': ''},\n",
       " {'section_id': 'mKANauGdG7SqL66o5Ye96Q',\n",
       "  'header': 'Study and Travel',\n",
       "  'content': 'Nov. 2022 - present  \\n\\n- Language Proficiency: Traveled and studied to achieve proficiency in English, enabling effective collaboration in international teams. Enrolled in intensive courses of English and Spanish, achieved conversational proficiency in English and basic Spanish skills.  \\n- Continuous Learning: Maintained up-to-date knowledge of AI advancements by enrolling in AI courses, and attending AI meetups in Sydney, Australia.'},\n",
       " {'section_id': '4sATNTwQ6M6DZEQ3S23nJc',\n",
       "  'header': 'Head of Research Department',\n",
       "  'content': 'Aug. 2019 - Nov. 2022  \\n\\n- Leadership: Managed the research department of the Advertising System division at Seznam.cz, a prominent Czech tech and media company, reaching millions of users with its proprietary advertising system and search engine.  \\n- Team Expansion and Organization: Led the expansion of the research department by 300% (from 6 to 24 members), establishing 5 specialized teams focused on sponsored search, display advertising, targeting, recommender systems, and operational research. Implemented a hybrid organizational structure (replacing the centralized structure) to foster greater cross-team collaboration, innovation and research throughput.  \\n- Project Management: Directed research teams, collaborated on setting project priorities both within individual teams and across the division. Initiated and drove strategic multi-team and cross-functional projects, defined requirements, and facilitated collaboration to ensure successful outcomes. Projects included:  \\n    * A universal A/B/n testing platform spanning the entire advertising and recommender systems  \\n    * Development of Machine Learning platforms to substantially accelerate the ML project life-cycle Kubeflow  \\n    * A Data Quality platform to ensure high standards in data handling and analysis  \\n- Process and Framework Development: Co-developed and implemented:  \\n    * A competency and continuous education framework  \\n    * An improved internal hiring process  \\n    * A management platform for research environments, enabling fast initialization, reliability, and reproducibility of research projects. MLFlow, CI, OpenStack  \\n- Strategic Communication: Engaged daily with developers, product managers, project managers, and business managers across the division, as well as on a regular basis with other divisions. Developed and presented vision and strategy to top management.'},\n",
       " {'section_id': 'njc8VT9aZfFR54uTq8jHjF',\n",
       "  'header': 'Research Team Leader',\n",
       "  'content': 'Feb. 2019 - Aug. 2019  \\n\\n- Team Leadership: Managed a team of Applied Machine Learning Scientists, fostering close collaboration with development teams.  \\n- Project Leadership: Directed and managed research projects, ensuring alignment with strategic goals.  \\n- Cross-functional Communication: Coordinated with product managers and development team leaders to gather and convey requests and priorities, enhancing collaboration and efficiency.  \\n- Research Contributions: Conducted and led research on video recommendation for a streaming service, resulting in a significant 28% increase in user engagement and publication (short paper) at RecSys 2020.  \\n- Technological Transformation: Oversaw the successful transition from linear model-based to neural network-based online machine learning. Tensorflow  \\n- Best Practices Development: Co-developed and implemented best practices for the ML project life-cycle and software development. Gitlab, Docker, YouTrack, Scrum  \\n- Strategic Planning: Contributed to the strategic planning and prioritization of recommender systems development.'},\n",
       " {'section_id': 'c4NbhyVgne8v5CeGLFfZYU',\n",
       "  'header': 'Applied Machine Learning Scientist',\n",
       "  'content': 'Nov. 2016 - Feb. 2019  \\n\\n- Recommender Systems Development: Worked on recommender systems (e.g., collaborative filtering, online ML learning) for lifestyle, news, and video content, reaching over half of the Czech internet population. This resulted in a substantial double-digit increase in key performance metrics.  \\n- Data Processing and Analysis: Processed and analyzed terabytes of logs daily using an on-premise cluster. Developed and maintained a proprietary framework for data manipulation and quality checks. PySpark  \\n- Collaboration and Code Review: Worked closely with the ML engineering team to reimplement prototypes into the production environment and review production code. Participated in planning and prioritization meetings.  \\n- Highlighted projects:  \\n    * Model Improvement: Continuously improved online machine learning models through data cleaning, feature selection/extraction/engineering techniques, and conducting numerous offline and online tests. Vowpal Wabbit  \\n    * Recommendation Diversification: Developed an approach for recommendation diversification based on clustering of semantic and text vectors. scikit-learn  \\n    * Hyperparameter Optimization: Developed an approach based on the Nelder-Mead method, enabling real-time adjustments based on online metrics (e.g., user engagement). Python  \\n    * Offline Evaluation Framework: Created a framework for offline evaluation of models based on matrix factorization, leading to informed deployment and improved performance in online metrics. Python  \\n    * A/B/n Test Evaluation: Coauthored a proprietary library for A/B/n test evaluation based on a frequentist approach. Designed, evaluated, and interpreted results of A/B/n tests. Python, Pyspark, Statmodels  \\n    * Production Implementation: Implemented the machine learning component of a recommender system based on matrix factorization into production, significantly optimizing its memory efficiency and performance. NumPy, multiprocessing  \\n    * Contextual Bandits Research: Focused research on the field of contextual bandits, leading to collaboration with the counterpart research department and a publication (short paper) at SIGIR 2019.'},\n",
       " {'section_id': 'A5Ah5CQwUd8Anf6mJDUkx5',\n",
       "  'header': 'Data Analyst',\n",
       "  'content': 'Jul. 2015 - Jan. 2020  \\n\\n- Data Processing and Analysis: Processed, cleaned, and analyzed data from various sources, including database dumps, Excel files, and scraped web pages. SQL, Python  \\n- Data Visualization: Generated charts and visualizations to represent data trends and insights. Python, Matplotlib  \\n- Report Automation: Developed automation scripts to generate essential annual reports that guided decisions on allocating financial support to research institutions across the Czech Republic. Python, pandas, Git  \\n- Collaboration and Presentation: Worked closely with the IT department and presented findings and recommendations to stakeholders through detailed reports and presentations.'},\n",
       " {'section_id': 'gvVbB5PMRKBqhyYDPSXhCN',\n",
       "  'header': 'Education',\n",
       "  'content': '- Master’s degree in Knowledge Engineering  \\n- Bachelor’s degree in Information Systems and Management'},\n",
       " {'section_id': '7zppdnvPPNuDbWZrZEapwr',\n",
       "  'header': 'Publication',\n",
       "  'content': '- Combining Models for Better User Satisfaction in Video Recommendation RECSYS 2020  \\n- Vertical Search Blending - A Real-world Counterfactual Dataset SIGIR 2019'},\n",
       " {'section_id': 'XAcuVS3eDNj6NPyGFWdzuE',\n",
       "  'header': 'Others',\n",
       "  'content': '- Co-authored a workshop on recommender systems  \\n- Presented on AI to 300 attendees with minimal or no background in AI  \\n- Led the organization of an AI meetup, attracting over 140 attendees  \\n- Representation and Engagement - Represented Seznam.cz at numerous events, including job fairs and meetups'},\n",
       " {'section_id': 'Jq6LhdAEfSkxeGxZf6k2wR',\n",
       "  'header': 'Technical Skills',\n",
       "  'content': '- Languages: Proficient in: Python, SQL | Basic knowledge of: C/C++, JavaScript, HTML/CSS, R, Scala  \\n- Machine Learning: Scikit-Learn, Vowpal Wabbit, NumPy, Statsmodels, SciPy, PyTorch, MLFlow  \\n- Data Processing: Apache Spark, Hadoop, pandas, SQL | Basic knowledge of: AWS  \\n- Data Visualisation: Matplotlib, Plotly, Seaborn, Dash  \\n- Tools: Git, Docker, JupyterLab, VS Code, Scrum methodologies  \\n'},\n",
       " {'section_id': 'n5ikgwy3kzt4DSPJjKYb43',\n",
       "  'header': 'Soft Skills',\n",
       "  'content': '- Leadership and Team Management  \\n- Strategic Planning and Execution  \\n- Cross-functional Collaboration  \\n- Effective Communication and Public Speaking  \\n- Event Organization and Management  \\n- Problem-solving and Critical Thinking  \\n- Language Proficiency: Czech, Conversational English, Basic Spanish, Basic German'}]"
      ]
     },
     "execution_count": 4,
     "metadata": {},
     "output_type": "execute_result"
    }
   ],
   "source": [
    "json.loads(response['body'])['semantic_sections']"
   ]
  },
  {
   "cell_type": "code",
   "execution_count": 5,
   "metadata": {},
   "outputs": [
    {
     "data": {
      "text/plain": [
       "[{'header': 'Contact Information',\n",
       "  'content': 'Jakub Drdak  \\n+420 XXX XXX XXX  \\nx@gmail.com  \\nlinkedin.com/in/x  \\n\\n',\n",
       "  'section_id': 'Z2P8yMbzhxGWoyYubDodms',\n",
       "  'advice': '1. **Improvement Suggestions**\\n\\n   a) **Relevance to the job post**: \\n   - While the contact information is essential, it does not directly relate to the job requirements. Ensure that the header includes a title or a brief professional summary that aligns with the job post, such as \"Software Developer with Machine Learning Expertise.\"\\n\\n   b) **ATS compatibility**: \\n   - The contact information is generally ATS-friendly. However, ensure that the email and LinkedIn URL are hyperlinked in digital formats, as some ATS may parse these links better when they are clickable.\\n\\n   c) **Overall appeal to human reviewers**: \\n   - Consider adding a professional title or a brief tagline under your name that summarizes your expertise (e.g., \"Machine Learning Engineer | Data Analyst\"). This will help HR professionals quickly understand your qualifications at a glance.\\n\\n2. **Overall score on the scale of 1-10**: \\n   - **Score: 5/10**. The contact information is complete but lacks a professional touch that could enhance its relevance and appeal. Adding a title or summary would significantly improve the overall impression.'},\n",
       " {'header': 'Professional Summary',\n",
       "  'content': 'Machine Learning and AI Specialist with over 6 years of experience in software development, specializing in advertising and recommendation systems. Proven expertise in machine learning algorithms, including deep learning and natural language processing, with hands-on experience using tools like TensorFlow. \\n\\n- Led research teams in large-scale data projects, focusing on developing and integrating models for recommender systems and user behavior analysis.\\n- Co-authored papers presented at top conferences such as RECSYS and SIGIR, demonstrating a commitment to innovation and collaboration in the field.\\n- Strong advocate for teamwork and cross-functional collaboration, effectively communicating complex findings to diverse audiences.',\n",
       "  'section_id': 'DFrTbnfu8PQUup5bQKDkoU',\n",
       "  'advice': '### Improvement Suggestions\\n\\n1. **Relevance to the Job Post:**\\n   - **Highlight Specific Skills:** The job post emphasizes experience with machine learning algorithms, NLP, and recommendation systems. Explicitly mention relevant technologies (e.g., TensorFlow, Python, C++) and methodologies you have used in your work.\\n   - **Quantify Achievements:** Instead of general statements, provide specific metrics or outcomes from your projects (e.g., \"improved recommendation accuracy by X%\").\\n   - **Align with Responsibilities:** Reference specific responsibilities from the job post, such as coding, modeling, and analysis, to demonstrate direct alignment with the role.\\n\\n2. **ATS Compatibility:**\\n   - **Use Keywords:** Incorporate industry-specific keywords from the job post, such as \"machine learning,\" \"artificial intelligence,\" \"NLP,\" \"recommendation systems,\" and \"data analysis.\" This will help ensure your resume is picked up by ATS.\\n   - **Standard Formatting:** Ensure that the section is formatted in a way that ATS can easily parse. Avoid using unusual fonts or graphics that may confuse the system.\\n\\n3. **Overall Appeal to Human Reviewers:**\\n   - **Conciseness and Clarity:** While your bio is informative, it could be more concise. Aim for a balance between detail and brevity to maintain the reader\\'s attention.\\n   - **Showcase Soft Skills:** While you mention teamwork and collaboration, consider providing a specific example of how these skills led to a successful project or outcome.\\n   - **Professional Tone:** Maintain a professional tone throughout, ensuring that the language reflects your expertise and aligns with the company culture described in the job post.\\n\\n### Overall Score: 7/10\\n\\nYour bio has a solid foundation, but enhancing its relevance to the job requirements, improving ATS compatibility, and refining its appeal to human reviewers will significantly increase your chances of standing out to hiring managers.'},\n",
       " {'section_id': 'agtajW9TPRpgVYrZZXM9Mh',\n",
       "  'header': 'Experience',\n",
       "  'content': '',\n",
       "  'advice': ''},\n",
       " {'header': 'Professional Development',\n",
       "  'content': 'Nov. 2022 - Present  \\n\\n- **Language Proficiency:** Enhanced English proficiency through immersive travel and intensive courses, facilitating effective collaboration in diverse, international teams.  \\n- **Continuous Learning in AI:** Actively pursued knowledge in artificial intelligence by enrolling in specialized AI courses and participating in meetups, ensuring familiarity with the latest advancements in machine learning and natural language processing.',\n",
       "  'section_id': 'mKANauGdG7SqL66o5Ye96Q',\n",
       "  'advice': '### Improvement Suggestions\\n\\n1. **Relevance to the Job Post:**\\n   - The current section lacks direct relevance to the job requirements outlined in the job post. Focus on highlighting any technical skills or projects related to software development, machine learning, or data analysis.\\n   - Consider adding any specific AI courses or projects that demonstrate your experience with machine learning algorithms, NLP, or large language models. This will directly align with the job\\'s required qualifications.\\n\\n2. **ATS Compatibility:**\\n   - The section should include keywords from the job description to improve ATS compatibility. For example, incorporate terms like \"machine learning,\" \"data analysis,\" \"recommendation systems,\" and \"programming languages\" (specifically mention any languages you are proficient in, such as Python or C++).\\n   - Use bullet points that start with action verbs relevant to the job, such as \"Developed,\" \"Implemented,\" or \"Analyzed,\" to enhance keyword optimization.\\n\\n3. **Overall Appeal to Human Reviewers:**\\n   - While the language proficiency and continuous learning aspects are valuable, they should be framed in a way that emphasizes their relevance to the job. For instance, mention how your language skills have helped in collaborating on technical projects or how your AI courses have equipped you with practical skills.\\n   - Consider adding any relevant projects or experiences that showcase your technical skills, such as coding projects, contributions to open-source, or any practical applications of AI you have worked on.\\n\\n### Overall Score: 3/10\\n\\nThe section currently lacks alignment with the job requirements and does not effectively showcase relevant skills or experiences. By focusing on technical skills, incorporating relevant keywords, and emphasizing practical applications of your learning, you can significantly improve this section\\'s effectiveness.'},\n",
       " {'header': 'Head of Research Department',\n",
       "  'content': 'Aug. 2019 - Nov. 2022  \\n\\n- **Leadership in Machine Learning and AI**: Managed the research department at Seznam.cz, focusing on machine learning and recommender systems, enhancing user experience for millions through innovative advertising solutions.  \\n\\n- **Team Expansion and Collaboration**: Expanded the research team by 300%, establishing specialized groups in recommender systems and operational research, fostering cross-team collaboration to drive innovation in AI and data analysis.  \\n\\n- **Project Management and Development**: Directed projects including a universal A/B/n testing platform and Machine Learning platforms (Kubeflow) to streamline ML project lifecycles. Developed a Data Quality platform ensuring high standards in data handling and analysis, crucial for effective machine learning and recommendation systems.',\n",
       "  'section_id': '4sATNTwQ6M6DZEQ3S23nJc',\n",
       "  'advice': '### Improvement Suggestions\\n\\n1. **Relevance to the Job Post:**\\n   - **Highlight Specific Technologies:** The job post emphasizes experience with machine learning algorithms, tools like TensorFlow, and large language models. Explicitly mention any relevant technologies or frameworks you used (e.g., TensorFlow, PyTorch) in your projects.\\n   - **Emphasize Experience with Recommendation Systems:** Since the job post specifically mentions recommendation systems, ensure that your experience in this area is clearly articulated. You could expand on the \"recommender systems\" mentioned in your team expansion and project management sections to detail your contributions and outcomes.\\n   - **Quantify Achievements:** Where possible, quantify the impact of your projects (e.g., \"increased efficiency by X%,\" \"improved user engagement by Y%\") to demonstrate the effectiveness of your leadership and initiatives.\\n\\n2. **ATS Compatibility:**\\n   - **Use Keywords from the Job Post:** Incorporate industry-specific keywords from the job description, such as \"machine learning,\" \"data analysis,\" \"NLP,\" \"C++,\" and \"statistical analysis.\" This will help ensure your resume is picked up by ATS.\\n   - **Standardize Job Titles and Terminology:** Ensure that your job title and terminology align with those used in the job post. For example, if the job post mentions \"data scientist,\" consider including that term if applicable to your role.\\n\\n3. **Overall Appeal to Human Reviewers:**\\n   - **Structure and Clarity:** Use bullet points consistently and ensure that each point is concise and impactful. Consider breaking down longer sentences for better readability.\\n   - **Soft Skills Integration:** While your leadership and project management skills are evident, explicitly mention soft skills such as versatility and enthusiasm, which are highlighted in the job post. This can be woven into your descriptions of team management and strategic communication.\\n   - **Cultural Fit:** Consider adding a brief statement about your commitment to diversity and innovation, aligning with the company’s values.\\n\\n### Overall Score: 7/10\\n\\nYour experience is strong and relevant, but enhancing the alignment with the job post, improving ATS compatibility, and refining the overall presentation will significantly increase your chances of attracting HR professionals and hiring managers.'},\n",
       " {'header': 'Research Team Leader',\n",
       "  'content': 'Feb. 2019 - Aug. 2019  \\n\\n- **Team Leadership & Collaboration:** Led a team of Applied Machine Learning Scientists, enhancing collaboration with development teams to drive project success in software engineering and machine learning.  \\n- **Project Management & Research:** Directed research on video recommendation systems, achieving a 28% increase in user engagement and contributing to a publication at RecSys 2020, demonstrating expertise in recommendation systems and user experience.  \\n- **Technological Innovation:** Spearheaded the transition to neural network-based online machine learning using TensorFlow, aligning with industry standards in artificial intelligence and deep learning.',\n",
       "  'section_id': 'njc8VT9aZfFR54uTq8jHjF',\n",
       "  'advice': '### Improvement Suggestions\\n\\n1. **Relevance to the Job Post:**\\n   - **Highlight Specific Technologies:** The job post emphasizes experience with specific tools and languages (e.g., TensorFlow, Python, C++). Ensure these are explicitly mentioned in the context of your work. For example, clarify your use of TensorFlow in the context of machine learning projects.\\n   - **Emphasize Machine Learning and NLP Experience:** The job post requires experience with machine learning algorithms and tools, as well as NLP. Make sure to explicitly mention any relevant algorithms or techniques you used in your research, especially if they relate to Large Language Models or Generative AI.\\n   - **Quantify Achievements:** While you mention a 28% increase in user engagement, consider adding more metrics or outcomes related to your projects, especially those that align with recommendation systems or user behavior analysis.\\n\\n2. **ATS Compatibility:**\\n   - **Use Keywords from the Job Post:** Incorporate industry-specific keywords from the job description, such as \"software engineering,\" \"artificial intelligence,\" \"natural language processing,\" and \"recommendation systems.\" This will help your resume rank higher in ATS scans.\\n   - **Standardize Terminology:** Ensure that the terminology used in your resume matches that of the job post. For example, if the job post mentions \"data analysis,\" ensure that this phrase is used in your resume as well.\\n\\n3. **Overall Appeal to Human Reviewers:**\\n   - **Structure and Clarity:** Consider using bullet points that start with strong action verbs and are concise. For example, \"Led a team of Applied Machine Learning Scientists to enhance collaboration and project outcomes.\"\\n   - **Soft Skills Integration:** While your technical skills are well-highlighted, consider integrating soft skills mentioned in the job post, such as versatility and leadership qualities, into your descriptions. For example, \"Demonstrated leadership and versatility by managing cross-functional teams and adapting to project needs.\"\\n   - **Education and Continuous Learning:** If applicable, mention any relevant coursework or certifications that align with the preferred qualifications, such as a Master\\'s degree or specific training in machine learning or data analysis.\\n\\n### Overall Score: 7/10\\n\\nYour resume section demonstrates strong leadership and technical skills, but it could benefit from clearer alignment with the job requirements, enhanced ATS compatibility, and a more engaging presentation for human reviewers. By incorporating specific keywords, quantifying achievements, and emphasizing relevant technologies, you can significantly improve your chances of attracting the attention of HR professionals and hiring managers.'},\n",
       " {'header': 'Applied Machine Learning Scientist',\n",
       "  'content': 'Nov. 2016 - Feb. 2019  \\n\\n- **Recommender Systems Development:** Designed and implemented collaborative filtering and online machine learning models for recommender systems, achieving a double-digit increase in key performance metrics and reaching over half of the Czech internet population.  \\n- **Machine Learning and Data Analysis:** Processed terabytes of data daily using PySpark; developed a proprietary framework for data manipulation and quality checks. Improved online machine learning models through data cleaning, feature engineering, and extensive A/B/n testing.  \\n- **Production Integration and Collaboration:** Collaborated with ML engineering teams to transition prototypes into production, optimizing memory efficiency and performance of recommender systems. Coauthored a library for A/B/n test evaluation, enhancing experiment design and data analysis capabilities.',\n",
       "  'section_id': 'c4NbhyVgne8v5CeGLFfZYU',\n",
       "  'advice': '### Improvement Suggestions\\n\\n1. **Relevance to the Job Post:**\\n   - **Highlight Key Skills:** Ensure that the programming languages and tools mentioned in the job post (e.g., TensorFlow, C++, statistical analysis) are explicitly included in your resume section. For instance, if you have experience with TensorFlow, mention it directly in the context of your projects.\\n   - **Emphasize Machine Learning Experience:** The job post emphasizes experience with machine learning algorithms and tools. While you mention online machine learning and model improvement, consider explicitly stating the algorithms you have worked with (e.g., neural networks, decision trees) to align with the job requirements.\\n   - **User Behavior Understanding:** If applicable, add any experience or projects that demonstrate your understanding of user behavior or mathematical modeling, as this is a preferred qualification.\\n\\n2. **ATS Compatibility:**\\n   - **Use Keywords from the Job Post:** Incorporate specific keywords from the job description, such as \"Large Language Models,\" \"NLP,\" \"Generative AI,\" and \"recommendation systems.\" This will help your resume pass through ATS filters.\\n   - **Consistent Formatting:** Ensure that the formatting of your section is consistent and clear. Use bullet points uniformly and avoid excessive jargon that may confuse ATS parsing.\\n\\n3. **Overall Appeal to Human Reviewers:**\\n   - **Quantify Achievements:** While you mention a \"substantial double-digit increase in key performance metrics,\" consider providing specific metrics or percentages to quantify your impact more clearly.\\n   - **Clear Project Descriptions:** While your project descriptions are detailed, consider simplifying some language for clarity. For example, instead of \"Developed an approach based on the Nelder-Mead method,\" you could say, \"Implemented real-time hyperparameter optimization using the Nelder-Mead method.\"\\n   - **Soft Skills Integration:** Integrate soft skills such as versatility and leadership into your descriptions. For example, mention how your collaboration with the ML engineering team demonstrated leadership or teamwork.\\n\\n### Overall Score: 7/10\\n\\nYour resume section is strong in technical experience and project descriptions, but it can be improved by aligning more closely with the job post\\'s requirements, enhancing ATS compatibility, and making the content more appealing to human reviewers.'},\n",
       " {'header': 'Data Analyst',\n",
       "  'content': 'Jul. 2015 - Jan. 2020  \\n\\n- **Data Processing and Analysis:** Leveraged SQL and Python to process, clean, and analyze diverse datasets, enhancing data quality and insights for decision-making.  \\n- **Machine Learning and Experiment Design:** Developed automation scripts using Python and pandas for generating reports, contributing to data-driven decisions in research funding allocation.  \\n- **Collaboration and Reporting:** Collaborated with IT to present analytical findings and recommendations, ensuring alignment with stakeholder needs and enhancing user experience.',\n",
       "  'section_id': 'A5Ah5CQwUd8Anf6mJDUkx5',\n",
       "  'advice': '1. **Improvement Suggestions**\\n\\n   a) **Relevance to the Job Post:**\\n   - **Highlight Machine Learning Experience:** The job post emphasizes experience with machine learning algorithms and tools. If applicable, include any relevant projects or experiences that demonstrate your familiarity with machine learning, especially with tools like TensorFlow.\\n   - **Incorporate Keywords:** Use specific keywords from the job description, such as \"recommendation systems,\" \"NLP,\" and \"data analysis,\" to align your experience with the job requirements. For example, if you have experience with recommendation systems, explicitly mention it.\\n   - **Emphasize Software Development:** Since the job requires software development experience, consider adding any relevant software development projects or skills that showcase your programming capabilities beyond data analysis.\\n\\n   b) **ATS Compatibility:**\\n   - **Use Standard Job Titles:** Instead of \"Data Analyst,\" consider using \"Data Analyst / Machine Learning Specialist\" if you have relevant experience, as this may help in matching the job title keywords.\\n   - **Bullet Points with Action Verbs:** Start each bullet point with strong action verbs (e.g., \"Developed,\" \"Implemented,\" \"Designed\") to enhance clarity and impact, which can improve ATS readability.\\n\\n   c) **Overall Appeal to Human Reviewers:**\\n   - **Quantify Achievements:** Where possible, quantify your achievements (e.g., \"Improved report generation efficiency by 30% through automation\") to provide concrete evidence of your impact.\\n   - **Showcase Soft Skills:** Integrate soft skills mentioned in the job post, such as versatility and leadership, by providing examples of how you demonstrated these in your previous roles.\\n\\n2. **Overall Score on the Scale of 1-10:**\\n   - **Score: 6/10**\\n   - The section demonstrates relevant experience in data analysis but lacks emphasis on machine learning and software development, which are critical for the job. By incorporating the suggested improvements, the score could be significantly increased.'},\n",
       " {'header': 'Education',\n",
       "  'content': '- Master’s degree in Knowledge Engineering, focusing on advanced machine learning and artificial intelligence applications.\\n- Bachelor’s degree in Information Systems and Management, providing a solid foundation in software development and data analysis.',\n",
       "  'section_id': 'gvVbB5PMRKBqhyYDPSXhCN',\n",
       "  'advice': '1. **Improvement Suggestions**\\n\\n   a) **Relevance to the job post**: \\n   - The resume section already includes a Master’s degree, which aligns well with the preferred qualifications of the job post. However, it would be beneficial to explicitly mention any relevant coursework or projects related to machine learning, artificial intelligence, or data analysis to further demonstrate alignment with the job requirements.\\n\\n   b) **ATS compatibility**: \\n   - Ensure that the degrees are formatted clearly and consistently. Use standard terminology (e.g., \"Master\\'s\" instead of \"Master’s\") to avoid potential misinterpretation by ATS. Consider adding the graduation years for both degrees, as this can help the ATS assess the recency of your education.\\n\\n   c) **Overall appeal to human reviewers**: \\n   - To enhance appeal, consider adding a brief description or bullet points under each degree that highlight relevant skills or projects. For example, mention any specific machine learning or data analysis projects completed during your studies. This will provide context and demonstrate practical application of your education.\\n\\n2. **Overall score on the scale of 1-10**: \\n   - **Score: 7/10** \\n   - The education section is strong, but it could be improved with additional details that directly relate to the job requirements and enhance ATS compatibility.'},\n",
       " {'header': 'Publications',\n",
       "  'content': '- **Combining Models for Better User Satisfaction in Video Recommendation**, RECSYS 2020: Focused on enhancing user experience through advanced recommendation systems, aligning with expertise in user behavior and modeling.\\n- **Vertical Search Blending - A Real-world Counterfactual Dataset**, SIGIR 2019: Developed methodologies for data analysis and modeling, relevant to large-scale system design and machine learning applications.',\n",
       "  'section_id': '7zppdnvPPNuDbWZrZEapwr',\n",
       "  'advice': '### Improvement Suggestions\\n\\n1. **Relevance to the Job Post:**\\n   - **Highlight Specific Skills:** The publications listed are relevant to recommendation systems, which is a key requirement in the job post. However, it would be beneficial to explicitly mention how these publications relate to the job\\'s focus on machine learning, data analysis, and user experience. Consider adding a brief description or bullet points under each publication that outlines the skills or technologies used (e.g., machine learning algorithms, data structures).\\n   - **Connect to Job Responsibilities:** Emphasize how the research contributes to the responsibilities outlined in the job post, such as coding, modeling, and analysis. This can be done by adding a sentence that connects the research findings to practical applications in the industry.\\n\\n2. **ATS Compatibility:**\\n   - **Use Keywords from the Job Post:** Ensure that the section includes relevant keywords from the job description, such as \"machine learning,\" \"recommendation systems,\" \"data analysis,\" and \"user experience.\" This will help the resume pass through ATS filters.\\n   - **Standardize Formatting:** Use a consistent format for the publication entries (e.g., title, conference name, year) to ensure clarity and improve ATS readability.\\n\\n3. **Overall Appeal to Human Reviewers:**\\n   - **Add Impact Statements:** Consider adding a brief statement about the impact or significance of the research. For example, mention if the work has been cited by others or how it has influenced practices in the field.\\n   - **Include Collaboration or Leadership Roles:** If applicable, mention any collaborative efforts or leadership roles taken during the research process. This aligns with the soft skills desired in the job post.\\n\\n### Overall Score: 6/10\\n\\nThe publication section demonstrates relevant experience but lacks explicit connections to the job requirements and could benefit from enhanced clarity and keyword optimization. By implementing the suggestions above, the section can significantly improve its alignment with the job post and its appeal to both ATS and human reviewers.'},\n",
       " {'header': 'Professional Engagement and Leadership',\n",
       "  'content': '- Co-authored a workshop on recommender systems, enhancing understanding of ranking and prediction algorithms.\\n- Presented on artificial intelligence to 300 attendees, demonstrating ability to communicate complex concepts effectively.\\n- Organized an AI meetup, attracting over 140 participants, showcasing leadership and community engagement in the AI field.',\n",
       "  'section_id': 'XAcuVS3eDNj6NPyGFWdzuE',\n",
       "  'advice': '### Improvement Suggestions\\n\\n1. **Relevance to the Job Post:**\\n   - **Highlight Specific Skills:** The current section lacks direct references to the required qualifications and key technical skills outlined in the job post. Consider adding specific programming languages (e.g., Python, C++) and machine learning tools (e.g., TensorFlow) to demonstrate technical expertise.\\n   - **Focus on Machine Learning and AI:** Emphasize any direct experience with machine learning algorithms, large language models, or natural language processing. For example, if the workshop on recommender systems involved practical applications of machine learning, specify that.\\n   - **Quantify Achievements:** Where possible, quantify your contributions (e.g., \"Increased engagement by X% through AI presentations\") to provide a clearer picture of your impact.\\n\\n2. **ATS Compatibility:**\\n   - **Use Keywords from the Job Post:** Incorporate industry-specific keywords such as \"machine learning,\" \"artificial intelligence,\" \"NLP,\" and \"recommendation systems\" to enhance ATS compatibility. This will help ensure that your resume is picked up by automated systems.\\n   - **Standardize Formatting:** Ensure that the section is formatted consistently with the rest of the resume. Use bullet points and clear headings to improve readability for ATS.\\n\\n3. **Overall Appeal to Human Reviewers:**\\n   - **Showcase Leadership and Collaboration:** Highlight leadership qualities and collaboration skills more explicitly. For instance, mention how leading the AI meetup contributed to team dynamics or knowledge sharing.\\n   - **Align with Company Values:** Consider adding a sentence that reflects your commitment to diversity and innovation, aligning with the company\\'s culture. For example, \"Passionate about fostering inclusive discussions in AI and technology.\"\\n\\n### Overall Score: 5/10\\n\\nThe section demonstrates some relevant experience but lacks direct alignment with the job requirements and key skills. By incorporating specific technical skills, using relevant keywords, and quantifying achievements, the section can be significantly improved to better attract HR professionals and hiring managers.'},\n",
       " {'header': 'Technical Skills',\n",
       "  'content': '- **Programming Languages:** Proficient in Python and SQL; foundational knowledge in C/C++, JavaScript, HTML/CSS, R, and Scala.\\n- **Machine Learning & AI:** Experienced with TensorFlow, Scikit-Learn, PyTorch, and MLFlow; adept in developing machine learning algorithms and tools, including deep learning and natural language processing.\\n- **Data Analysis & Processing:** Skilled in data processing with Apache Spark, Hadoop, and pandas; proficient in statistical analysis and data visualization using Matplotlib, Plotly, and Seaborn; experienced in coding, experiment design, and data analysis.',\n",
       "  'section_id': 'Jq6LhdAEfSkxeGxZf6k2wR',\n",
       "  'advice': '1. **Improvement Suggestions**\\n\\n   a) **Relevance to the job post:**\\n   - **Highlight Key Skills:** Ensure that the most relevant skills to the job post are prominently featured. For instance, explicitly mention experience with TensorFlow, as it is a key requirement in the job description.\\n   - **Focus on Machine Learning and NLP:** Since the job emphasizes machine learning algorithms, Large Language Models, and NLP, consider adding any specific projects or experiences that demonstrate your expertise in these areas.\\n   - **Recommendation Systems:** If you have experience with recommendation systems, include that explicitly in this section or in a separate project section.\\n\\n   b) **ATS compatibility:**\\n   - **Use Keywords from the Job Description:** Incorporate specific keywords from the job post, such as \"machine learning,\" \"artificial intelligence,\" \"natural language processing,\" \"recommendation systems,\" and \"data analysis.\" This will help ensure that your resume is picked up by ATS.\\n   - **Consistent Formatting:** Ensure that the formatting is consistent (e.g., using bullet points uniformly) to enhance readability for ATS.\\n\\n   c) **Overall appeal to human reviewers:**\\n   - **Organize by Relevance:** Consider organizing the skills in order of relevance to the job description. For example, place machine learning and data analysis skills at the top.\\n   - **Add Context:** Where possible, add brief context or examples of how you have used these skills in previous roles or projects. This can make your skills more tangible and relatable to hiring managers.\\n\\n2. **Overall score on the scale of 1-10:**\\n   - **Score: 6/10** \\n   - The section contains relevant skills but lacks specific alignment with the job requirements and could benefit from better organization and keyword optimization for ATS.'},\n",
       " {'header': 'Soft Skills',\n",
       "  'content': '- Leadership and Team Management: Proven ability to lead teams effectively, fostering collaboration and innovation in software development projects.\\n- Problem-solving and Critical Thinking: Strong analytical skills to tackle complex challenges in machine learning and data analysis.\\n- Cross-functional Collaboration: Experience working with diverse teams to integrate machine learning models into production systems, enhancing user experience.',\n",
       "  'section_id': 'n5ikgwy3kzt4DSPJjKYb43',\n",
       "  'advice': '### Improvement Suggestions\\n\\n1. **Relevance to the Job Post:**\\n   - The soft skills listed are valuable, but they do not directly align with the specific soft skills mentioned in the job post (versatility, leadership qualities, enthusiasm to take on new problems). \\n   - Consider rephrasing or adding skills that reflect the job requirements more closely. For example, emphasize adaptability and a willingness to tackle new challenges.\\n\\n2. **ATS Compatibility:**\\n   - The section is generally compatible with ATS, but it could benefit from incorporating keywords from the job description. For instance, include terms like \"versatility\" and \"enthusiasm\" to ensure the resume is picked up by ATS.\\n   - Consider using bullet points that start with action verbs to enhance clarity and impact.\\n\\n3. **Overall Appeal to Human Reviewers:**\\n   - While the skills listed are important, they may not stand out to HR professionals or hiring managers without context. Adding a brief introductory sentence that ties these skills to the job role or your experience in software development and machine learning could enhance engagement.\\n   - Consider removing less relevant skills (like event organization) and focusing on those that directly support the job requirements.\\n\\n### Overall Score: 5/10\\n\\nThe section has a solid foundation but lacks direct alignment with the job post and could be optimized for ATS and human reviewers. By refining the skills to better match the job requirements and incorporating relevant keywords, the section can significantly improve its effectiveness.'}]"
      ]
     },
     "execution_count": 5,
     "metadata": {},
     "output_type": "execute_result"
    }
   ],
   "source": [
    "json.loads(response['body'])['tailored_sections']"
   ]
  },
  {
   "cell_type": "code",
   "execution_count": 6,
   "metadata": {},
   "outputs": [
    {
     "data": {
      "text/markdown": [
       "Contact Information"
      ],
      "text/plain": [
       "<IPython.core.display.Markdown object>"
      ]
     },
     "metadata": {},
     "output_type": "display_data"
    },
    {
     "data": {
      "text/markdown": [
       "Jakub Drdak  \n",
       "+420 XXX XXX XXX  \n",
       "x@gmail.com  \n",
       "linkedin.com/in/x  \n",
       "\n"
      ],
      "text/plain": [
       "<IPython.core.display.Markdown object>"
      ]
     },
     "metadata": {},
     "output_type": "display_data"
    },
    {
     "data": {
      "text/markdown": [
       "Professional Summary"
      ],
      "text/plain": [
       "<IPython.core.display.Markdown object>"
      ]
     },
     "metadata": {},
     "output_type": "display_data"
    },
    {
     "data": {
      "text/markdown": [
       "Machine Learning and AI Specialist with over 6 years of experience in software development, specializing in advertising and recommendation systems. Proven expertise in machine learning algorithms, including deep learning and natural language processing, with hands-on experience using tools like TensorFlow. \n",
       "\n",
       "- Led research teams in large-scale data projects, focusing on developing and integrating models for recommender systems and user behavior analysis.\n",
       "- Co-authored papers presented at top conferences such as RECSYS and SIGIR, demonstrating a commitment to innovation and collaboration in the field.\n",
       "- Strong advocate for teamwork and cross-functional collaboration, effectively communicating complex findings to diverse audiences."
      ],
      "text/plain": [
       "<IPython.core.display.Markdown object>"
      ]
     },
     "metadata": {},
     "output_type": "display_data"
    },
    {
     "data": {
      "text/markdown": [
       "Experience"
      ],
      "text/plain": [
       "<IPython.core.display.Markdown object>"
      ]
     },
     "metadata": {},
     "output_type": "display_data"
    },
    {
     "data": {
      "text/markdown": [],
      "text/plain": [
       "<IPython.core.display.Markdown object>"
      ]
     },
     "metadata": {},
     "output_type": "display_data"
    },
    {
     "data": {
      "text/markdown": [
       "Professional Development"
      ],
      "text/plain": [
       "<IPython.core.display.Markdown object>"
      ]
     },
     "metadata": {},
     "output_type": "display_data"
    },
    {
     "data": {
      "text/markdown": [
       "Nov. 2022 - Present  \n",
       "\n",
       "- **Language Proficiency:** Enhanced English proficiency through immersive travel and intensive courses, facilitating effective collaboration in diverse, international teams.  \n",
       "- **Continuous Learning in AI:** Actively pursued knowledge in artificial intelligence by enrolling in specialized AI courses and participating in meetups, ensuring familiarity with the latest advancements in machine learning and natural language processing."
      ],
      "text/plain": [
       "<IPython.core.display.Markdown object>"
      ]
     },
     "metadata": {},
     "output_type": "display_data"
    },
    {
     "data": {
      "text/markdown": [
       "Head of Research Department"
      ],
      "text/plain": [
       "<IPython.core.display.Markdown object>"
      ]
     },
     "metadata": {},
     "output_type": "display_data"
    },
    {
     "data": {
      "text/markdown": [
       "Aug. 2019 - Nov. 2022  \n",
       "\n",
       "- **Leadership in Machine Learning and AI**: Managed the research department at Seznam.cz, focusing on machine learning and recommender systems, enhancing user experience for millions through innovative advertising solutions.  \n",
       "\n",
       "- **Team Expansion and Collaboration**: Expanded the research team by 300%, establishing specialized groups in recommender systems and operational research, fostering cross-team collaboration to drive innovation in AI and data analysis.  \n",
       "\n",
       "- **Project Management and Development**: Directed projects including a universal A/B/n testing platform and Machine Learning platforms (Kubeflow) to streamline ML project lifecycles. Developed a Data Quality platform ensuring high standards in data handling and analysis, crucial for effective machine learning and recommendation systems."
      ],
      "text/plain": [
       "<IPython.core.display.Markdown object>"
      ]
     },
     "metadata": {},
     "output_type": "display_data"
    },
    {
     "data": {
      "text/markdown": [
       "Research Team Leader"
      ],
      "text/plain": [
       "<IPython.core.display.Markdown object>"
      ]
     },
     "metadata": {},
     "output_type": "display_data"
    },
    {
     "data": {
      "text/markdown": [
       "Feb. 2019 - Aug. 2019  \n",
       "\n",
       "- **Team Leadership & Collaboration:** Led a team of Applied Machine Learning Scientists, enhancing collaboration with development teams to drive project success in software engineering and machine learning.  \n",
       "- **Project Management & Research:** Directed research on video recommendation systems, achieving a 28% increase in user engagement and contributing to a publication at RecSys 2020, demonstrating expertise in recommendation systems and user experience.  \n",
       "- **Technological Innovation:** Spearheaded the transition to neural network-based online machine learning using TensorFlow, aligning with industry standards in artificial intelligence and deep learning."
      ],
      "text/plain": [
       "<IPython.core.display.Markdown object>"
      ]
     },
     "metadata": {},
     "output_type": "display_data"
    },
    {
     "data": {
      "text/markdown": [
       "Applied Machine Learning Scientist"
      ],
      "text/plain": [
       "<IPython.core.display.Markdown object>"
      ]
     },
     "metadata": {},
     "output_type": "display_data"
    },
    {
     "data": {
      "text/markdown": [
       "Nov. 2016 - Feb. 2019  \n",
       "\n",
       "- **Recommender Systems Development:** Designed and implemented collaborative filtering and online machine learning models for recommender systems, achieving a double-digit increase in key performance metrics and reaching over half of the Czech internet population.  \n",
       "- **Machine Learning and Data Analysis:** Processed terabytes of data daily using PySpark; developed a proprietary framework for data manipulation and quality checks. Improved online machine learning models through data cleaning, feature engineering, and extensive A/B/n testing.  \n",
       "- **Production Integration and Collaboration:** Collaborated with ML engineering teams to transition prototypes into production, optimizing memory efficiency and performance of recommender systems. Coauthored a library for A/B/n test evaluation, enhancing experiment design and data analysis capabilities."
      ],
      "text/plain": [
       "<IPython.core.display.Markdown object>"
      ]
     },
     "metadata": {},
     "output_type": "display_data"
    },
    {
     "data": {
      "text/markdown": [
       "Data Analyst"
      ],
      "text/plain": [
       "<IPython.core.display.Markdown object>"
      ]
     },
     "metadata": {},
     "output_type": "display_data"
    },
    {
     "data": {
      "text/markdown": [
       "Jul. 2015 - Jan. 2020  \n",
       "\n",
       "- **Data Processing and Analysis:** Leveraged SQL and Python to process, clean, and analyze diverse datasets, enhancing data quality and insights for decision-making.  \n",
       "- **Machine Learning and Experiment Design:** Developed automation scripts using Python and pandas for generating reports, contributing to data-driven decisions in research funding allocation.  \n",
       "- **Collaboration and Reporting:** Collaborated with IT to present analytical findings and recommendations, ensuring alignment with stakeholder needs and enhancing user experience."
      ],
      "text/plain": [
       "<IPython.core.display.Markdown object>"
      ]
     },
     "metadata": {},
     "output_type": "display_data"
    },
    {
     "data": {
      "text/markdown": [
       "Education"
      ],
      "text/plain": [
       "<IPython.core.display.Markdown object>"
      ]
     },
     "metadata": {},
     "output_type": "display_data"
    },
    {
     "data": {
      "text/markdown": [
       "- Master’s degree in Knowledge Engineering, focusing on advanced machine learning and artificial intelligence applications.\n",
       "- Bachelor’s degree in Information Systems and Management, providing a solid foundation in software development and data analysis."
      ],
      "text/plain": [
       "<IPython.core.display.Markdown object>"
      ]
     },
     "metadata": {},
     "output_type": "display_data"
    },
    {
     "data": {
      "text/markdown": [
       "Publications"
      ],
      "text/plain": [
       "<IPython.core.display.Markdown object>"
      ]
     },
     "metadata": {},
     "output_type": "display_data"
    },
    {
     "data": {
      "text/markdown": [
       "- **Combining Models for Better User Satisfaction in Video Recommendation**, RECSYS 2020: Focused on enhancing user experience through advanced recommendation systems, aligning with expertise in user behavior and modeling.\n",
       "- **Vertical Search Blending - A Real-world Counterfactual Dataset**, SIGIR 2019: Developed methodologies for data analysis and modeling, relevant to large-scale system design and machine learning applications."
      ],
      "text/plain": [
       "<IPython.core.display.Markdown object>"
      ]
     },
     "metadata": {},
     "output_type": "display_data"
    },
    {
     "data": {
      "text/markdown": [
       "Professional Engagement and Leadership"
      ],
      "text/plain": [
       "<IPython.core.display.Markdown object>"
      ]
     },
     "metadata": {},
     "output_type": "display_data"
    },
    {
     "data": {
      "text/markdown": [
       "- Co-authored a workshop on recommender systems, enhancing understanding of ranking and prediction algorithms.\n",
       "- Presented on artificial intelligence to 300 attendees, demonstrating ability to communicate complex concepts effectively.\n",
       "- Organized an AI meetup, attracting over 140 participants, showcasing leadership and community engagement in the AI field."
      ],
      "text/plain": [
       "<IPython.core.display.Markdown object>"
      ]
     },
     "metadata": {},
     "output_type": "display_data"
    },
    {
     "data": {
      "text/markdown": [
       "Technical Skills"
      ],
      "text/plain": [
       "<IPython.core.display.Markdown object>"
      ]
     },
     "metadata": {},
     "output_type": "display_data"
    },
    {
     "data": {
      "text/markdown": [
       "- **Programming Languages:** Proficient in Python and SQL; foundational knowledge in C/C++, JavaScript, HTML/CSS, R, and Scala.\n",
       "- **Machine Learning & AI:** Experienced with TensorFlow, Scikit-Learn, PyTorch, and MLFlow; adept in developing machine learning algorithms and tools, including deep learning and natural language processing.\n",
       "- **Data Analysis & Processing:** Skilled in data processing with Apache Spark, Hadoop, and pandas; proficient in statistical analysis and data visualization using Matplotlib, Plotly, and Seaborn; experienced in coding, experiment design, and data analysis."
      ],
      "text/plain": [
       "<IPython.core.display.Markdown object>"
      ]
     },
     "metadata": {},
     "output_type": "display_data"
    },
    {
     "data": {
      "text/markdown": [
       "Soft Skills"
      ],
      "text/plain": [
       "<IPython.core.display.Markdown object>"
      ]
     },
     "metadata": {},
     "output_type": "display_data"
    },
    {
     "data": {
      "text/markdown": [
       "- Leadership and Team Management: Proven ability to lead teams effectively, fostering collaboration and innovation in software development projects.\n",
       "- Problem-solving and Critical Thinking: Strong analytical skills to tackle complex challenges in machine learning and data analysis.\n",
       "- Cross-functional Collaboration: Experience working with diverse teams to integrate machine learning models into production systems, enhancing user experience."
      ],
      "text/plain": [
       "<IPython.core.display.Markdown object>"
      ]
     },
     "metadata": {},
     "output_type": "display_data"
    }
   ],
   "source": [
    "for section in json.loads(response['body'])['tailored_sections']:\n",
    "    if section:\n",
    "        display(Markdown(section['header']))\n",
    "        display(Markdown(section['content']))"
   ]
  },
  {
   "cell_type": "code",
   "execution_count": 7,
   "metadata": {},
   "outputs": [],
   "source": [
    "job_post = \"\"\"\n",
    "Minimum qualifications:\n",
    "\n",
    "Bachelor’s degree or equivalent practical experience.\n",
    "2 years of experience with software development in one or more programming languages, and with data structures or algorithms. \n",
    "2 years of experience with machine learning algorithms and tools (e.g., TensorFlow), artificial intelligence, deep learning or natural language processing.\n",
    "Experience with Large Language Models, NLP, or Generative AI.\n",
    "Experience with Coding, Experiment Design, Data Analysis.\n",
    "Experience with recommendation systems/rankings/predictions.\n",
    "\n",
    "Preferred qualifications:\n",
    "\n",
    "Master's degree or PhD in Computer Science or related technical fields.\n",
    "Experience developing accessible technologies.\n",
    "Experience with C++, Statistical Analysis, Python.\n",
    "Experience with quality work in either serving quality or data quality.\n",
    "Experience as a data analyst/scientist.\n",
    "Experience in understanding user behavior (i.e., mathematical modeling or social science background).\n",
    "\n",
    "About The Job\n",
    "\n",
    "Google's software engineers develop the next-generation technologies that change how billions of users connect, explore, and interact with information and one another. Our products need to handle information at massive scale, and extend well beyond web search. We're looking for engineers who bring fresh ideas from all areas, including information retrieval, distributed computing, large-scale system design, networking and data storage, security, artificial intelligence, natural language processing, UI design and mobile; the list goes on and is growing every day. As a software engineer, you will work on a specific project critical to Google’s needs with opportunities to switch teams and projects as you and our fast-paced business grow and evolve. We need our engineers to be versatile, display leadership qualities and be enthusiastic to take on new problems across the full-stack as we continue to push technology forward.\n",
    "\n",
    "Our goal is to organize shopping results across Google surfaces to make them relevant and helpful for users on their shopping journey. Find the best configuration of Shopping units on the Shopping pages across Google surfaces by taking into consideration a wide range of Quality and UI factors: relevance of features, position on the page, collapsed/expanded states, density of the units.\n",
    "\n",
    "People shop on Google more than a billion times a day - and the Commerce team is responsible for building the experiences that serve these users. The mission for Google Commerce is to be an essential part of the shopping journey for consumers - from inspiration to to a simple and secure checkout experience - and the best place for retailers/merchants to connect with consumers. We support and partner with the commerce ecosystem, from large retailers to small local merchants, to give them the tools, technology and scale to thrive in today’s digital world.\n",
    "\n",
    "Responsibilities\n",
    "\n",
    "Work in coding, modeling, and analysis.\n",
    "Find the right signals or create them if they don't exist yet. Combine them into a model that allows you to show their merit through offline evaluation. Wire these in the production stack (e.g., search and shopping) and start a live experiment.\n",
    "\n",
    "\n",
    "Google is proud to be an equal opportunity workplace and is an affirmative action employer. We are committed to equal employment opportunity regardless of race, color, ancestry, religion, sex, national origin, sexual orientation, age, citizenship, marital status, disability, gender identity or Veteran status. We also consider qualified applicants regardless of criminal histories, consistent with legal requirements. See also Google's EEO Policy and EEO is the Law. If you have a disability or special need that requires accommodation, please let us know by completing our Accommodations for Applicants form .\n",
    "\"\"\""
   ]
  },
  {
   "cell_type": "code",
   "execution_count": 8,
   "metadata": {},
   "outputs": [],
   "source": [
    "resume = \"\"\"\n",
    "Jakub Drdak \n",
    "+420 XXX XXX XXX \n",
    "x@gmail.com \n",
    "linkedin.com/in/xxx \n",
    "\n",
    "# Bio\n",
    "\n",
    "Machine Learning and AI Specialist with 6+ years of experience having driven advancements in advertising and recommender systems at Seznam.cz, a leading Czech tech company. I’ve led research teams, tackled large-scale data projects, and initiated and driven complex strategic initiatives. I’m also a seasoned speaker and event organiser, with a few co-authored papers in top conferences such as RECSYS and SIGIR. I highly value and foster teamwork and cross-functional collaboration and enjoy seeking ways to present complex problems and findings in a clear and understandable manner for everyone. \n",
    "\n",
    "# Experience \n",
    "\n",
    "## Study and Travel \n",
    "\n",
    "Nov. 2022 - present \n",
    "\n",
    "- Language Proficiency: Traveled and studied to achieve proficiency in English, enabling effective collaboration in international teams. Enrolled in intensive courses of English and Spanish, achieved conversational proficiency in English and basic Spanish skills.\n",
    "- Continuous Learning: Maintained up-to-date knowledge of AI advancements by enrolling in AI courses, and attending AI meetups in Sydney, Australia. \n",
    "\n",
    "## Head of Research Departmen \n",
    "\n",
    "Aug. 2019 - Nov. 2022\n",
    "\n",
    "- Leadership: Managed the research department of the Advertising System division at Seznam.cz, a prominent Czech tech and media company, reaching millions of users with its proprietary advertising system and search engine. \n",
    "- Team Expansion and Organization: Led the expansion of the research department by 300% (from 6 to 24 members), establishing 5 specialized teams focused on sponsored search, display advertising, targeting, recommender systems, and operational research. Implemented a hybrid organizational structure (replacing the centralized structure) to foster greater cross-team collaboration, innovation and research throughput. \n",
    "- Project Management: Directed research teams, collaborated on setting project priorities both within individual teams and across the division. Initiated and drove strategic multi-team and cross-functional projects, defined requirements, and facilitated collaboration to ensure successful outcomes. Projects included: \n",
    "    * A universal A/B/n testing platform spanning the entire advertising and recommender systems \n",
    "    * Development of Machine Learning platforms to substantially accelerate the ML project life-cycle Kubeflow \n",
    "    * A Data Quality platform to ensure high standards in data handling and analysis \n",
    "- Process and Framework Development: Co-developed and implemented: \n",
    "    * A competency and continuous education framework \n",
    "    * An improved internal hiring process \n",
    "    * A management platform for research environments, enabling fast initialization, reliability, and reproducibility of research projects. MLFlow, CI, OpenStack \n",
    "- Strategic Communication: Engaged daily with developers, product managers, project managers, and business managers across the division, as well as on a regular basis with other divisions. Developed and presented vision and strategy to top management. \n",
    "\n",
    "## Research Team Leader \n",
    "\n",
    "Feb. 2019 - Aug. 2019\n",
    "\n",
    "- Team Leadership: Managed a team of Applied Machine Learning Scientists, fostering close collaboration with development teams. \n",
    "- Project Leadership: Directed and managed research projects, ensuring alignment with strategic goals. \n",
    "- Cross-functional Communication: Coordinated with product managers and development team leaders to gather and convey requests and priorities, enhancing collaboration and efficiency. \n",
    "- Research Contributions: Conducted and led research on video recommendation for a streaming service, resulting in a significant 28% increase in user engagement and publication (short paper) at RecSys 2020. \n",
    "- Technological Transformation: Oversaw the successful transition from linear model-based to neural network-based online machine learning. Tensorflow \n",
    "- Best Practices Development: Co-developed and implemented best practices for the ML project life-cycle and software development. Gitlab, Docker, YouTrack, Scrum \n",
    "- Strategic Planning: Contributed to the strategic planning and prioritization of recommender systems development. \n",
    "\n",
    "## Applied Machine Learning Scientist \n",
    "\n",
    "Nov. 2016 - Feb. 2019\n",
    "\n",
    "- Recommender Systems Development: Worked on recommender systems (e.g., collaborative filtering, online ML learning) for lifestyle, news, and video content, reaching over half of the Czech internet population. This resulted in a substantial double-digit increase in key performance metrics. \n",
    "- Data Processing and Analysis: Processed and analyzed terabytes of logs daily using an on-premise cluster. Developed and maintained a proprietary framework for data manipulation and quality checks. PySpark \n",
    "- Collaboration and Code Review: Worked closely with the ML engineering team to reimplement prototypes into the production environment and review production code. Participated in planning and prioritization meetings. \n",
    "- Highlighted projects: \n",
    "    * Model Improvement: Continuously improved online machine learning models through data cleaning, feature selection/extraction/engineering techniques, and conducting numerous offline and online tests. Vowpal Wabbit \n",
    "    * Recommendation Diversification: Developed an approach for recommendation diversification based on clustering of semantic and text vectors. scikit-learn \n",
    "    * Hyperparameter Optimization: Developed an approach based on the Nelder-Mead method, enabling real-time adjustments based on online metrics (e.g., user engagement). Python \n",
    "    * Offline Evaluation Framework: Created a framework for offline evaluation of models based on matrix factorization, leading to informed deployment and improved performance in online metrics. Python \n",
    "    * A/B/n Test Evaluation: Coauthored a proprietary library for A/B/n test evaluation based on a frequentist approach. Designed, evaluated, and interpreted results of A/B/n tests. Python, Pyspark, Statmodels \n",
    "    * Production Implementation: Implemented the machine learning component of a recommender system based on matrix factorization into production, significantly optimizing its memory efficiency and performance. NumPy, multiprocessing \n",
    "    * Contextual Bandits Research: Focused research on the field of contextual bandits, leading to collaboration with the counterpart research department and a publication (short paper) at SIGIR 2019. \n",
    "\n",
    "## Data Analyst \n",
    "\n",
    "Jul. 2015 - Jan. 2020\n",
    "\n",
    "- Data Processing and Analysis: Processed, cleaned, and analyzed data from various sources, including database dumps, Excel files, and scraped web pages. SQL, Python \n",
    "- Data Visualization: Generated charts and visualizations to represent data trends and insights. Python, Matplotlib \n",
    "- Report Automation: Developed automation scripts to generate essential annual reports that guided decisions on allocating financial support to research institutions across the Czech Republic. Python, pandas, Git\n",
    "- Collaboration and Presentation: Worked closely with the IT department and presented findings and recommendations to stakeholders through detailed reports and presentations. \n",
    "\n",
    "# Education \n",
    "\n",
    "- Master’s degree in Knowledge Engineering \n",
    "- Bachelor’s degree in Information Systems and Management \n",
    "\n",
    "# Publication \n",
    "\n",
    "- Combining Models for Better User Satisfaction in Video Recommendation RECSYS 2020 \n",
    "- Vertical Search Blending - A Real-world Counterfactual Dataset SIGIR 2019 \n",
    "\n",
    "# Others \n",
    "\n",
    "- Co-authored a workshop on recommender systems \n",
    "- Presented on AI to 300 attendees with minimal or no background in AI \n",
    "- Led the organization of an AI meetup, attracting over 140 attendees \n",
    "- Representation and Engagement - Represented Seznam.cz at numerous events, including job fairs and meetups \n",
    "\n",
    "# Technical Skills \n",
    "\n",
    "- Languages: Proficient in: Python, SQL | Basic knowledge of: C/C++, JavaScript, HTML/CSS, R, Scala \n",
    "- Machine Learning: Scikit-Learn, Vowpal Wabbit, NumPy, Statsmodels, SciPy, PyTorch, MLFlow \n",
    "- Data Processing: Apache Spark, Hadoop, pandas, SQL | Basic knowledge of: AWS \n",
    "- Data Visualisation: Matplotlib, Plotly, Seaborn, Dash \n",
    "- Tools: Git, Docker, JupyterLab, VS Code, Scrum methodologies \n",
    "\n",
    "\n",
    "# Soft Skills \n",
    "\n",
    "- Leadership and Team Management \n",
    "- Strategic Planning and Execution \n",
    "- Cross-functional Collaboration \n",
    "- Effective Communication and Public Speaking \n",
    "- Event Organization and Management \n",
    "- Problem-solving and Critical Thinking Language \n",
    "- Proficiency: Czech, Conversational English, Basic Spanish, Basic German\n",
    "\"\"\"\n"
   ]
  }
 ],
 "metadata": {
  "kernelspec": {
   "display_name": ".venv",
   "language": "python",
   "name": "python3"
  },
  "language_info": {
   "codemirror_mode": {
    "name": "ipython",
    "version": 3
   },
   "file_extension": ".py",
   "mimetype": "text/x-python",
   "name": "python",
   "nbconvert_exporter": "python",
   "pygments_lexer": "ipython3",
   "version": "3.11.4"
  }
 },
 "nbformat": 4,
 "nbformat_minor": 2
}
