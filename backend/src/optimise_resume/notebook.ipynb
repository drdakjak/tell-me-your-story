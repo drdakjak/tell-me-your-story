{
 "cells": [
  {
   "cell_type": "code",
   "execution_count": 1,
   "metadata": {},
   "outputs": [],
   "source": [
    "import json\n",
    "from IPython.display import display, Markdown"
   ]
  },
  {
   "cell_type": "code",
   "execution_count": 2,
   "metadata": {},
   "outputs": [],
   "source": [
    "from handler import handler"
   ]
  },
  {
   "cell_type": "code",
   "execution_count": 3,
   "metadata": {},
   "outputs": [],
   "source": [
    "with open('./events/event.json') as f:\n",
    "    event = json.load(f)\n",
    "    response = handler(event, None)"
   ]
  },
  {
   "cell_type": "code",
   "execution_count": 4,
   "metadata": {},
   "outputs": [
    {
     "data": {
      "text/markdown": [
       "Contact Information"
      ],
      "text/plain": [
       "<IPython.core.display.Markdown object>"
      ]
     },
     "metadata": {},
     "output_type": "display_data"
    },
    {
     "data": {
      "text/markdown": [
       "Jakub Drdak  \n",
       "Phone: +420 728 533 859  \n",
       "Email: jak.drd@gmail.com  \n",
       "LinkedIn: linkedin.com/in/jakub-drdak"
      ],
      "text/plain": [
       "<IPython.core.display.Markdown object>"
      ]
     },
     "metadata": {},
     "output_type": "display_data"
    },
    {
     "data": {
      "text/markdown": [
       "Professional Summary"
      ],
      "text/plain": [
       "<IPython.core.display.Markdown object>"
      ]
     },
     "metadata": {},
     "output_type": "display_data"
    },
    {
     "data": {
      "text/markdown": [
       "Machine Learning and AI Specialist with over 6 years of experience in software development, specializing in advertising and recommendation systems. Proven expertise in machine learning algorithms, including deep learning and natural language processing, with hands-on experience using tools like TensorFlow. \n",
       "\n",
       "- Led research teams in large-scale data projects, focusing on developing and integrating models for recommender systems and user behavior analysis.\n",
       "- Co-authored papers presented at top conferences such as RECSYS and SIGIR, demonstrating a commitment to innovation and collaboration in the field.\n",
       "- Strong advocate for teamwork and cross-functional collaboration, effectively communicating complex findings to diverse audiences."
      ],
      "text/plain": [
       "<IPython.core.display.Markdown object>"
      ]
     },
     "metadata": {},
     "output_type": "display_data"
    },
    {
     "data": {
      "text/markdown": [
       "Experience"
      ],
      "text/plain": [
       "<IPython.core.display.Markdown object>"
      ]
     },
     "metadata": {},
     "output_type": "display_data"
    },
    {
     "data": {
      "text/markdown": [],
      "text/plain": [
       "<IPython.core.display.Markdown object>"
      ]
     },
     "metadata": {},
     "output_type": "display_data"
    },
    {
     "data": {
      "text/markdown": [
       "Professional Development"
      ],
      "text/plain": [
       "<IPython.core.display.Markdown object>"
      ]
     },
     "metadata": {},
     "output_type": "display_data"
    },
    {
     "data": {
      "text/markdown": [
       "Nov. 2022 - Present  \n",
       "- **Language Proficiency:** Enhanced English proficiency through immersive study and travel, facilitating effective collaboration in diverse, international teams.  \n",
       "- **Continuous Learning in AI:** Actively pursued knowledge in artificial intelligence by enrolling in specialized AI courses and participating in meetups, ensuring familiarity with the latest advancements in machine learning and natural language processing."
      ],
      "text/plain": [
       "<IPython.core.display.Markdown object>"
      ]
     },
     "metadata": {},
     "output_type": "display_data"
    },
    {
     "data": {
      "text/markdown": [
       "Head of Research Department"
      ],
      "text/plain": [
       "<IPython.core.display.Markdown object>"
      ]
     },
     "metadata": {},
     "output_type": "display_data"
    },
    {
     "data": {
      "text/markdown": [
       "**Aug. 2019 - Nov. 2022**  \n",
       "- **Leadership in AI and Machine Learning:** Managed the research department at Seznam.cz, focusing on machine learning and artificial intelligence, enhancing the advertising system and search engine used by millions.  \n",
       "- **Team Development and Collaboration:** Expanded the research team by 300%, establishing specialized groups in recommender systems and operational research, fostering innovation through a hybrid organizational structure that improved cross-team collaboration.  \n",
       "- **Project Management and Experiment Design:** Directed multi-team projects, including the development of a universal A/B/n testing platform and machine learning platforms (e.g., Kubeflow) to streamline project life-cycles. Initiated a Data Quality platform to uphold high standards in data analysis, ensuring robust data handling for machine learning applications."
      ],
      "text/plain": [
       "<IPython.core.display.Markdown object>"
      ]
     },
     "metadata": {},
     "output_type": "display_data"
    },
    {
     "data": {
      "text/markdown": [
       "Research Team Leader"
      ],
      "text/plain": [
       "<IPython.core.display.Markdown object>"
      ]
     },
     "metadata": {},
     "output_type": "display_data"
    },
    {
     "data": {
      "text/markdown": [
       "Feb. 2019 - Aug. 2019\n",
       "\n",
       "- **Team Leadership & Collaboration:** Led a team of Applied Machine Learning Scientists, enhancing collaboration with development teams to drive innovation in software engineering and artificial intelligence projects.\n",
       "- **Machine Learning & Recommendation Systems:** Directed research on video recommendation systems, achieving a 28% increase in user engagement. This project utilized TensorFlow and neural network-based models, aligning with the requirements for experience in machine learning algorithms and recommendation systems.\n",
       "- **Best Practices & Experiment Design:** Co-developed best practices for the machine learning project lifecycle, incorporating experiment design and data analysis methodologies to ensure quality and efficiency in project execution."
      ],
      "text/plain": [
       "<IPython.core.display.Markdown object>"
      ]
     },
     "metadata": {},
     "output_type": "display_data"
    },
    {
     "data": {
      "text/markdown": [
       "Applied Machine Learning Scientist"
      ],
      "text/plain": [
       "<IPython.core.display.Markdown object>"
      ]
     },
     "metadata": {},
     "output_type": "display_data"
    },
    {
     "data": {
      "text/markdown": [
       "Nov. 2016 - Feb. 2019\n",
       "\n",
       "- **Recommender Systems Development:** Designed and implemented collaborative filtering and online machine learning models for lifestyle, news, and video content, achieving a double-digit increase in key performance metrics and reaching over half of the Czech internet population.\n",
       "\n",
       "- **Machine Learning and Data Analysis:** Developed and maintained a proprietary framework for processing and analyzing terabytes of logs daily using PySpark. Improved online machine learning models through data cleaning, feature engineering, and rigorous offline and online testing.\n",
       "\n",
       "- **Production Integration and Experimentation:** Collaborated with ML engineering teams to transition prototypes into production, optimizing memory efficiency and performance. Coauthored a library for A/B/n test evaluation, designing and interpreting results to inform model deployment. \n",
       "\n",
       "- **Highlighted Projects:**  \n",
       "  * **Recommendation Diversification:** Created a clustering approach for semantic and text vector-based recommendation diversification using scikit-learn.  \n",
       "  * **Hyperparameter Optimization:** Developed a real-time hyperparameter adjustment method using the Nelder-Mead approach in Python, enhancing user engagement metrics.  \n",
       "  * **Contextual Bandits Research:** Conducted research on contextual bandits, resulting in a publication at SIGIR 2019, showcasing commitment to innovation in machine learning."
      ],
      "text/plain": [
       "<IPython.core.display.Markdown object>"
      ]
     },
     "metadata": {},
     "output_type": "display_data"
    },
    {
     "data": {
      "text/markdown": [
       "Data Analyst"
      ],
      "text/plain": [
       "<IPython.core.display.Markdown object>"
      ]
     },
     "metadata": {},
     "output_type": "display_data"
    },
    {
     "data": {
      "text/markdown": [
       "Jul. 2015 - Jan. 2020\n",
       "\n",
       "- **Data Processing and Analysis:** Leveraged SQL and Python to process, clean, and analyze diverse datasets, enhancing data quality and supporting machine learning initiatives.\n",
       "- **Experiment Design and Data Visualization:** Designed experiments and utilized Python and Matplotlib to create visualizations that effectively communicated data trends and insights, aligning with user behavior analysis.\n",
       "- **Automation and Reporting:** Developed Python scripts for automating annual report generation, facilitating data-driven decision-making for financial allocations in research, demonstrating strong coding and analytical skills."
      ],
      "text/plain": [
       "<IPython.core.display.Markdown object>"
      ]
     },
     "metadata": {},
     "output_type": "display_data"
    },
    {
     "data": {
      "text/markdown": [
       "Education"
      ],
      "text/plain": [
       "<IPython.core.display.Markdown object>"
      ]
     },
     "metadata": {},
     "output_type": "display_data"
    },
    {
     "data": {
      "text/markdown": [
       "- Master’s degree in Knowledge Engineering, focusing on artificial intelligence and machine learning applications.\n",
       "- Bachelor’s degree in Information Systems and Management, providing a strong foundation in software development and data analysis."
      ],
      "text/plain": [
       "<IPython.core.display.Markdown object>"
      ]
     },
     "metadata": {},
     "output_type": "display_data"
    },
    {
     "data": {
      "text/markdown": [
       "Publications"
      ],
      "text/plain": [
       "<IPython.core.display.Markdown object>"
      ]
     },
     "metadata": {},
     "output_type": "display_data"
    },
    {
     "data": {
      "text/markdown": [
       "- **Combining Models for Better User Satisfaction in Video Recommendation**, RECSYS 2020: Focused on enhancing user experience through advanced recommendation systems, aligning with user behavior analysis and modeling.  \n",
       "- **Vertical Search Blending - A Real-world Counterfactual Dataset**, SIGIR 2019: Developed methodologies for integrating signals in search systems, relevant to large-scale system design and data analysis."
      ],
      "text/plain": [
       "<IPython.core.display.Markdown object>"
      ]
     },
     "metadata": {},
     "output_type": "display_data"
    },
    {
     "data": {
      "text/markdown": [
       "Professional Engagement and Leadership"
      ],
      "text/plain": [
       "<IPython.core.display.Markdown object>"
      ]
     },
     "metadata": {},
     "output_type": "display_data"
    },
    {
     "data": {
      "text/markdown": [
       "- Co-authored a workshop on recommendation systems, enhancing understanding of algorithms and user behavior in AI applications.\n",
       "- Presented on artificial intelligence to 300 attendees, demonstrating ability to communicate complex concepts effectively to diverse audiences.\n",
       "- Organized an AI meetup, attracting over 140 participants, showcasing leadership and commitment to fostering community engagement in technology."
      ],
      "text/plain": [
       "<IPython.core.display.Markdown object>"
      ]
     },
     "metadata": {},
     "output_type": "display_data"
    },
    {
     "data": {
      "text/markdown": [
       "Technical Skills"
      ],
      "text/plain": [
       "<IPython.core.display.Markdown object>"
      ]
     },
     "metadata": {},
     "output_type": "display_data"
    },
    {
     "data": {
      "text/markdown": [
       "- **Programming Languages:** Proficient in Python and SQL; foundational knowledge in C/C++, JavaScript, HTML/CSS, R, and Scala.\n",
       "- **Machine Learning & AI:** Experienced with TensorFlow, Scikit-Learn, PyTorch, and MLFlow; adept in implementing machine learning algorithms and tools, including deep learning and natural language processing.\n",
       "- **Data Processing & Analysis:** Skilled in Apache Spark, Hadoop, and pandas for data manipulation; proficient in SQL for data querying and analysis; experienced in experiment design and data visualization using Matplotlib, Plotly, and Seaborn."
      ],
      "text/plain": [
       "<IPython.core.display.Markdown object>"
      ]
     },
     "metadata": {},
     "output_type": "display_data"
    },
    {
     "data": {
      "text/markdown": [
       "Soft Skills"
      ],
      "text/plain": [
       "<IPython.core.display.Markdown object>"
      ]
     },
     "metadata": {},
     "output_type": "display_data"
    },
    {
     "data": {
      "text/markdown": [
       "- Leadership and Team Management: Proven ability to lead diverse teams and drive projects to successful completion, aligning with the company's emphasis on collaboration and innovation.\n",
       "- Problem-solving and Critical Thinking: Strong analytical skills to tackle complex challenges, essential for coding, modeling, and analysis in software engineering and AI.\n",
       "- Effective Communication: Excellent communication skills to convey technical concepts clearly, fostering collaboration across cross-functional teams."
      ],
      "text/plain": [
       "<IPython.core.display.Markdown object>"
      ]
     },
     "metadata": {},
     "output_type": "display_data"
    }
   ],
   "source": [
    "for section in json.loads(response['body']):\n",
    "    if section['tailored_section']:\n",
    "        display(Markdown(section['tailored_section']['title']))\n",
    "        display(Markdown(section['tailored_section']['content']))"
   ]
  },
  {
   "cell_type": "code",
   "execution_count": 5,
   "metadata": {},
   "outputs": [],
   "source": [
    "job_post = \"\"\"\n",
    "Minimum qualifications:\n",
    "\n",
    "Bachelor’s degree or equivalent practical experience.\n",
    "2 years of experience with software development in one or more programming languages, and with data structures or algorithms. \n",
    "2 years of experience with machine learning algorithms and tools (e.g., TensorFlow), artificial intelligence, deep learning or natural language processing.\n",
    "Experience with Large Language Models, NLP, or Generative AI.\n",
    "Experience with Coding, Experiment Design, Data Analysis.\n",
    "Experience with recommendation systems/rankings/predictions.\n",
    "\n",
    "Preferred qualifications:\n",
    "\n",
    "Master's degree or PhD in Computer Science or related technical fields.\n",
    "Experience developing accessible technologies.\n",
    "Experience with C++, Statistical Analysis, Python.\n",
    "Experience with quality work in either serving quality or data quality.\n",
    "Experience as a data analyst/scientist.\n",
    "Experience in understanding user behavior (i.e., mathematical modeling or social science background).\n",
    "\n",
    "About The Job\n",
    "\n",
    "Google's software engineers develop the next-generation technologies that change how billions of users connect, explore, and interact with information and one another. Our products need to handle information at massive scale, and extend well beyond web search. We're looking for engineers who bring fresh ideas from all areas, including information retrieval, distributed computing, large-scale system design, networking and data storage, security, artificial intelligence, natural language processing, UI design and mobile; the list goes on and is growing every day. As a software engineer, you will work on a specific project critical to Google’s needs with opportunities to switch teams and projects as you and our fast-paced business grow and evolve. We need our engineers to be versatile, display leadership qualities and be enthusiastic to take on new problems across the full-stack as we continue to push technology forward.\n",
    "\n",
    "Our goal is to organize shopping results across Google surfaces to make them relevant and helpful for users on their shopping journey. Find the best configuration of Shopping units on the Shopping pages across Google surfaces by taking into consideration a wide range of Quality and UI factors: relevance of features, position on the page, collapsed/expanded states, density of the units.\n",
    "\n",
    "People shop on Google more than a billion times a day - and the Commerce team is responsible for building the experiences that serve these users. The mission for Google Commerce is to be an essential part of the shopping journey for consumers - from inspiration to to a simple and secure checkout experience - and the best place for retailers/merchants to connect with consumers. We support and partner with the commerce ecosystem, from large retailers to small local merchants, to give them the tools, technology and scale to thrive in today’s digital world.\n",
    "\n",
    "Responsibilities\n",
    "\n",
    "Work in coding, modeling, and analysis.\n",
    "Find the right signals or create them if they don't exist yet. Combine them into a model that allows you to show their merit through offline evaluation. Wire these in the production stack (e.g., search and shopping) and start a live experiment.\n",
    "\n",
    "\n",
    "Google is proud to be an equal opportunity workplace and is an affirmative action employer. We are committed to equal employment opportunity regardless of race, color, ancestry, religion, sex, national origin, sexual orientation, age, citizenship, marital status, disability, gender identity or Veteran status. We also consider qualified applicants regardless of criminal histories, consistent with legal requirements. See also Google's EEO Policy and EEO is the Law. If you have a disability or special need that requires accommodation, please let us know by completing our Accommodations for Applicants form .\n",
    "\"\"\""
   ]
  },
  {
   "cell_type": "code",
   "execution_count": 6,
   "metadata": {},
   "outputs": [],
   "source": [
    "resume = \"\"\"\n",
    "Jakub Drdak \n",
    "+420 728 533 859 \n",
    "jak.drd@gmail.com \n",
    "linkedin.com/in/jakub-drdak \n",
    "\n",
    "# Bio\n",
    "\n",
    "Machine Learning and AI Specialist with 6+ years of experience having driven advancements in advertising and recommender systems at Seznam.cz, a leading Czech tech company. I’ve led research teams, tackled large-scale data projects, and initiated and driven complex strategic initiatives. I’m also a seasoned speaker and event organiser, with a few co-authored papers in top conferences such as RECSYS and SIGIR. I highly value and foster teamwork and cross-functional collaboration and enjoy seeking ways to present complex problems and findings in a clear and understandable manner for everyone. \n",
    "\n",
    "# Experience \n",
    "\n",
    "## Study and Travel \n",
    "\n",
    "Nov. 2022 - present \n",
    "\n",
    "- Language Proficiency: Traveled and studied to achieve proficiency in English, enabling effective collaboration in international teams. Enrolled in intensive courses of English and Spanish, achieved conversational proficiency in English and basic Spanish skills.\n",
    "- Continuous Learning: Maintained up-to-date knowledge of AI advancements by enrolling in AI courses, and attending AI meetups in Sydney, Australia. \n",
    "\n",
    "## Head of Research Departmen \n",
    "\n",
    "Aug. 2019 - Nov. 2022\n",
    "\n",
    "- Leadership: Managed the research department of the Advertising System division at Seznam.cz, a prominent Czech tech and media company, reaching millions of users with its proprietary advertising system and search engine. \n",
    "- Team Expansion and Organization: Led the expansion of the research department by 300% (from 6 to 24 members), establishing 5 specialized teams focused on sponsored search, display advertising, targeting, recommender systems, and operational research. Implemented a hybrid organizational structure (replacing the centralized structure) to foster greater cross-team collaboration, innovation and research throughput. \n",
    "- Project Management: Directed research teams, collaborated on setting project priorities both within individual teams and across the division. Initiated and drove strategic multi-team and cross-functional projects, defined requirements, and facilitated collaboration to ensure successful outcomes. Projects included: \n",
    "    * A universal A/B/n testing platform spanning the entire advertising and recommender systems \n",
    "    * Development of Machine Learning platforms to substantially accelerate the ML project life-cycle Kubeflow \n",
    "    * A Data Quality platform to ensure high standards in data handling and analysis \n",
    "- Process and Framework Development: Co-developed and implemented: \n",
    "    * A competency and continuous education framework \n",
    "    * An improved internal hiring process \n",
    "    * A management platform for research environments, enabling fast initialization, reliability, and reproducibility of research projects. MLFlow, CI, OpenStack \n",
    "- Strategic Communication: Engaged daily with developers, product managers, project managers, and business managers across the division, as well as on a regular basis with other divisions. Developed and presented vision and strategy to top management. \n",
    "\n",
    "## Research Team Leader \n",
    "\n",
    "Feb. 2019 - Aug. 2019\n",
    "\n",
    "- Team Leadership: Managed a team of Applied Machine Learning Scientists, fostering close collaboration with development teams. \n",
    "- Project Leadership: Directed and managed research projects, ensuring alignment with strategic goals. \n",
    "- Cross-functional Communication: Coordinated with product managers and development team leaders to gather and convey requests and priorities, enhancing collaboration and efficiency. \n",
    "- Research Contributions: Conducted and led research on video recommendation for a streaming service, resulting in a significant 28% increase in user engagement and publication (short paper) at RecSys 2020. \n",
    "- Technological Transformation: Oversaw the successful transition from linear model-based to neural network-based online machine learning. Tensorflow \n",
    "- Best Practices Development: Co-developed and implemented best practices for the ML project life-cycle and software development. Gitlab, Docker, YouTrack, Scrum \n",
    "- Strategic Planning: Contributed to the strategic planning and prioritization of recommender systems development. \n",
    "\n",
    "## Applied Machine Learning Scientist \n",
    "\n",
    "Nov. 2016 - Feb. 2019\n",
    "\n",
    "- Recommender Systems Development: Worked on recommender systems (e.g., collaborative filtering, online ML learning) for lifestyle, news, and video content, reaching over half of the Czech internet population. This resulted in a substantial double-digit increase in key performance metrics. \n",
    "- Data Processing and Analysis: Processed and analyzed terabytes of logs daily using an on-premise cluster. Developed and maintained a proprietary framework for data manipulation and quality checks. PySpark \n",
    "- Collaboration and Code Review: Worked closely with the ML engineering team to reimplement prototypes into the production environment and review production code. Participated in planning and prioritization meetings. \n",
    "- Highlighted projects: \n",
    "    * Model Improvement: Continuously improved online machine learning models through data cleaning, feature selection/extraction/engineering techniques, and conducting numerous offline and online tests. Vowpal Wabbit \n",
    "    * Recommendation Diversification: Developed an approach for recommendation diversification based on clustering of semantic and text vectors. scikit-learn \n",
    "    * Hyperparameter Optimization: Developed an approach based on the Nelder-Mead method, enabling real-time adjustments based on online metrics (e.g., user engagement). Python \n",
    "    * Offline Evaluation Framework: Created a framework for offline evaluation of models based on matrix factorization, leading to informed deployment and improved performance in online metrics. Python \n",
    "    * A/B/n Test Evaluation: Coauthored a proprietary library for A/B/n test evaluation based on a frequentist approach. Designed, evaluated, and interpreted results of A/B/n tests. Python, Pyspark, Statmodels \n",
    "    * Production Implementation: Implemented the machine learning component of a recommender system based on matrix factorization into production, significantly optimizing its memory efficiency and performance. NumPy, multiprocessing \n",
    "    * Contextual Bandits Research: Focused research on the field of contextual bandits, leading to collaboration with the counterpart research department and a publication (short paper) at SIGIR 2019. \n",
    "\n",
    "## Data Analyst \n",
    "\n",
    "Jul. 2015 - Jan. 2020\n",
    "\n",
    "- Data Processing and Analysis: Processed, cleaned, and analyzed data from various sources, including database dumps, Excel files, and scraped web pages. SQL, Python \n",
    "- Data Visualization: Generated charts and visualizations to represent data trends and insights. Python, Matplotlib \n",
    "- Report Automation: Developed automation scripts to generate essential annual reports that guided decisions on allocating financial support to research institutions across the Czech Republic. Python, pandas, Git\n",
    "- Collaboration and Presentation: Worked closely with the IT department and presented findings and recommendations to stakeholders through detailed reports and presentations. \n",
    "\n",
    "# Education \n",
    "\n",
    "- Master’s degree in Knowledge Engineering \n",
    "- Bachelor’s degree in Information Systems and Management \n",
    "\n",
    "# Publication \n",
    "\n",
    "- Combining Models for Better User Satisfaction in Video Recommendation RECSYS 2020 \n",
    "- Vertical Search Blending - A Real-world Counterfactual Dataset SIGIR 2019 \n",
    "\n",
    "# Others \n",
    "\n",
    "- Co-authored a workshop on recommender systems \n",
    "- Presented on AI to 300 attendees with minimal or no background in AI \n",
    "- Led the organization of an AI meetup, attracting over 140 attendees \n",
    "- Representation and Engagement - Represented Seznam.cz at numerous events, including job fairs and meetups \n",
    "\n",
    "# Technical Skills \n",
    "\n",
    "- Languages: Proficient in: Python, SQL | Basic knowledge of: C/C++, JavaScript, HTML/CSS, R, Scala \n",
    "- Machine Learning: Scikit-Learn, Vowpal Wabbit, NumPy, Statsmodels, SciPy, PyTorch, MLFlow \n",
    "- Data Processing: Apache Spark, Hadoop, pandas, SQL | Basic knowledge of: AWS \n",
    "- Data Visualisation: Matplotlib, Plotly, Seaborn, Dash \n",
    "- Tools: Git, Docker, JupyterLab, VS Code, Scrum methodologies \n",
    "\n",
    "\n",
    "# Soft Skills \n",
    "\n",
    "- Leadership and Team Management \n",
    "- Strategic Planning and Execution \n",
    "- Cross-functional Collaboration \n",
    "- Effective Communication and Public Speaking \n",
    "- Event Organization and Management \n",
    "- Problem-solving and Critical Thinking Language \n",
    "- Proficiency: Czech, Conversational English, Basic Spanish, Basic German\n",
    "\"\"\"\n"
   ]
  }
 ],
 "metadata": {
  "kernelspec": {
   "display_name": ".venv",
   "language": "python",
   "name": "python3"
  },
  "language_info": {
   "codemirror_mode": {
    "name": "ipython",
    "version": 3
   },
   "file_extension": ".py",
   "mimetype": "text/x-python",
   "name": "python",
   "nbconvert_exporter": "python",
   "pygments_lexer": "ipython3",
   "version": "3.11.4"
  }
 },
 "nbformat": 4,
 "nbformat_minor": 2
}
