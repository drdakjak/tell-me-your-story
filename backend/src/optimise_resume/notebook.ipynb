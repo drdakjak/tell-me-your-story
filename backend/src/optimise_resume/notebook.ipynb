{
 "cells": [
  {
   "cell_type": "code",
   "execution_count": null,
   "metadata": {},
   "outputs": [],
   "source": [
    "import sys\n",
    "sys.path.append('../shared')"
   ]
  },
  {
   "cell_type": "code",
   "execution_count": 2,
   "metadata": {},
   "outputs": [],
   "source": [
    "import json\n",
    "from IPython.display import display, Markdown"
   ]
  },
  {
   "cell_type": "code",
   "execution_count": 3,
   "metadata": {},
   "outputs": [],
   "source": [
    "from handler import handler"
   ]
  },
  {
   "cell_type": "code",
   "execution_count": 3,
   "metadata": {},
   "outputs": [],
   "source": [
    "with open('./events/event.json') as f:\n",
    "    event = json.load(f)\n",
    "    response = handler(event, None)"
   ]
  },
  {
   "cell_type": "code",
   "execution_count": 4,
   "metadata": {},
   "outputs": [
    {
     "data": {
      "text/plain": [
       "{'statusCode': 200,\n",
       " 'body': '{\"semantic_sections\": [{\"header\": \"Contact Information\", \"content\": \"Jakub Drdak  \\\\n+420 XXX XXX XXX  \\\\nx@gmail.com  \\\\nlinkedin.com/in/x  \\\\n\"}, {\"header\": \"Bio\", \"content\": \"Machine Learning and AI Specialist with 6+ years of experience having driven advancements in advertising and recommender systems at Seznam.cz, a leading Czech tech company. I\\\\u2019ve led research teams, tackled large-scale data projects, and initiated and driven complex strategic initiatives. I\\\\u2019m also a seasoned speaker and event organiser, with a few co-authored papers in top conferences such as RECSYS and SIGIR. I highly value and foster teamwork and cross-functional collaboration and enjoy seeking ways to present complex problems and findings in a clear and understandable manner for everyone.\"}, {\"header\": \"Experience\", \"content\": \"\", \"advice\": \"\", \"section_id\": \"E5ws7KWtbuPu3RgFnH9Cjf\"}, {\"header\": \"Study and Travel\", \"content\": \"Nov. 2022 - present  \\\\n\\\\n- Language Proficiency: Traveled and studied to achieve proficiency in English, enabling effective collaboration in international teams. Enrolled in intensive courses of English and Spanish, achieved conversational proficiency in English and basic Spanish skills.  \\\\n- Continuous Learning: Maintained up-to-date knowledge of AI advancements by enrolling in AI courses, and attending AI meetups in Sydney, Australia.\"}, {\"header\": \"Head of Research Department\", \"content\": \"Aug. 2019 - Nov. 2022  \\\\n\\\\n- Leadership: Managed the research department of the Advertising System division at Seznam.cz, a prominent Czech tech and media company, reaching millions of users with its proprietary advertising system and search engine.  \\\\n- Team Expansion and Organization: Led the expansion of the research department by 300% (from 6 to 24 members), establishing 5 specialized teams focused on sponsored search, display advertising, targeting, recommender systems, and operational research. Implemented a hybrid organizational structure (replacing the centralized structure) to foster greater cross-team collaboration, innovation and research throughput.  \\\\n- Project Management: Directed research teams, collaborated on setting project priorities both within individual teams and across the division. Initiated and drove strategic multi-team and cross-functional projects, defined requirements, and facilitated collaboration to ensure successful outcomes. Projects included:  \\\\n    * A universal A/B/n testing platform spanning the entire advertising and recommender systems  \\\\n    * Development of Machine Learning platforms to substantially accelerate the ML project life-cycle Kubeflow  \\\\n    * A Data Quality platform to ensure high standards in data handling and analysis  \\\\n- Process and Framework Development: Co-developed and implemented:  \\\\n    * A competency and continuous education framework  \\\\n    * An improved internal hiring process  \\\\n    * A management platform for research environments, enabling fast initialization, reliability, and reproducibility of research projects. MLFlow, CI, OpenStack  \\\\n- Strategic Communication: Engaged daily with developers, product managers, project managers, and business managers across the division, as well as on a regular basis with other divisions. Developed and presented vision and strategy to top management.\"}, {\"header\": \"Research Team Leader\", \"content\": \"Feb. 2019 - Aug. 2019  \\\\n\\\\n- Team Leadership: Managed a team of Applied Machine Learning Scientists, fostering close collaboration with development teams.  \\\\n- Project Leadership: Directed and managed research projects, ensuring alignment with strategic goals.  \\\\n- Cross-functional Communication: Coordinated with product managers and development team leaders to gather and convey requests and priorities, enhancing collaboration and efficiency.  \\\\n- Research Contributions: Conducted and led research on video recommendation for a streaming service, resulting in a significant 28% increase in user engagement and publication (short paper) at RecSys 2020.  \\\\n- Technological Transformation: Oversaw the successful transition from linear model-based to neural network-based online machine learning. Tensorflow  \\\\n- Best Practices Development: Co-developed and implemented best practices for the ML project life-cycle and software development. Gitlab, Docker, YouTrack, Scrum  \\\\n- Strategic Planning: Contributed to the strategic planning and prioritization of recommender systems development.\"}, {\"header\": \"Applied Machine Learning Scientist\", \"content\": \"Nov. 2016 - Feb. 2019  \\\\n\\\\n- Recommender Systems Development: Worked on recommender systems (e.g., collaborative filtering, online ML learning) for lifestyle, news, and video content, reaching over half of the Czech internet population. This resulted in a substantial double-digit increase in key performance metrics.  \\\\n- Data Processing and Analysis: Processed and analyzed terabytes of logs daily using an on-premise cluster. Developed and maintained a proprietary framework for data manipulation and quality checks. PySpark  \\\\n- Collaboration and Code Review: Worked closely with the ML engineering team to reimplement prototypes into the production environment and review production code. Participated in planning and prioritization meetings.  \\\\n- Highlighted projects:  \\\\n    * Model Improvement: Continuously improved online machine learning models through data cleaning, feature selection/extraction/engineering techniques, and conducting numerous offline and online tests. Vowpal Wabbit  \\\\n    * Recommendation Diversification: Developed an approach for recommendation diversification based on clustering of semantic and text vectors. scikit-learn  \\\\n    * Hyperparameter Optimization: Developed an approach based on the Nelder-Mead method, enabling real-time adjustments based on online metrics (e.g., user engagement). Python  \\\\n    * Offline Evaluation Framework: Created a framework for offline evaluation of models based on matrix factorization, leading to informed deployment and improved performance in online metrics. Python  \\\\n    * A/B/n Test Evaluation: Coauthored a proprietary library for A/B/n test evaluation based on a frequentist approach. Designed, evaluated, and interpreted results of A/B/n tests. Python, Pyspark, Statmodels  \\\\n    * Production Implementation: Implemented the machine learning component of a recommender system based on matrix factorization into production, significantly optimizing its memory efficiency and performance. NumPy, multiprocessing  \\\\n    * Contextual Bandits Research: Focused research on the field of contextual bandits, leading to collaboration with the counterpart research department and a publication (short paper) at SIGIR 2019.\"}, {\"header\": \"Data Analyst\", \"content\": \"Jul. 2015 - Jan. 2020  \\\\n\\\\n- Data Processing and Analysis: Processed, cleaned, and analyzed data from various sources, including database dumps, Excel files, and scraped web pages. SQL, Python  \\\\n- Data Visualization: Generated charts and visualizations to represent data trends and insights. Python, Matplotlib  \\\\n- Report Automation: Developed automation scripts to generate essential annual reports that guided decisions on allocating financial support to research institutions across the Czech Republic. Python, pandas, Git  \\\\n- Collaboration and Presentation: Worked closely with the IT department and presented findings and recommendations to stakeholders through detailed reports and presentations.\"}, {\"header\": \"Education\", \"content\": \"- Master\\\\u2019s degree in Knowledge Engineering  \\\\n- Bachelor\\\\u2019s degree in Information Systems and Management\"}, {\"header\": \"Publication\", \"content\": \"- Combining Models for Better User Satisfaction in Video Recommendation RECSYS 2020  \\\\n- Vertical Search Blending - A Real-world Counterfactual Dataset SIGIR 2019\"}, {\"header\": \"Others\", \"content\": \"- Co-authored a workshop on recommender systems  \\\\n- Presented on AI to 300 attendees with minimal or no background in AI  \\\\n- Led the organization of an AI meetup, attracting over 140 attendees  \\\\n- Representation and Engagement - Represented Seznam.cz at numerous events, including job fairs and meetups\"}, {\"header\": \"Technical Skills\", \"content\": \"- Languages: Proficient in: Python, SQL | Basic knowledge of: C/C++, JavaScript, HTML/CSS, R, Scala  \\\\n- Machine Learning: Scikit-Learn, Vowpal Wabbit, NumPy, Statsmodels, SciPy, PyTorch, MLFlow  \\\\n- Data Processing: Apache Spark, Hadoop, pandas, SQL | Basic knowledge of: AWS  \\\\n- Data Visualisation: Matplotlib, Plotly, Seaborn, Dash  \\\\n- Tools: Git, Docker, JupyterLab, VS Code, Scrum methodologies  \\\\n\"}, {\"header\": \"Soft Skills\", \"content\": \"- Leadership and Team Management  \\\\n- Strategic Planning and Execution  \\\\n- Cross-functional Collaboration  \\\\n- Effective Communication and Public Speaking  \\\\n- Event Organization and Management  \\\\n- Problem-solving and Critical Thinking  \\\\n- Language Proficiency: Czech, Conversational English, Basic Spanish, Basic German\"}], \"tailored_sections\": [{\"header\": \"Contact Information\", \"content\": \"Jakub Drdak  \\\\n+420 XXX XXX XXX  \\\\nx@gmail.com  \\\\n[linkedin.com/in/x](http://linkedin.com/in/x)  \\\\n\\\\n*Note: Ensure that your contact information is up-to-date and accessible for potential employers.*\", \"advice\": \"1. **Improvement Suggestions**\\\\n\\\\n   a) **Relevance to the job post**: \\\\n   - While the contact information is essential, consider adding a professional title or a brief tagline that reflects your expertise in software development, machine learning, or AI. This can help immediately convey your relevance to the job.\\\\n\\\\n   b) **ATS compatibility**: \\\\n   - Ensure that your email address and LinkedIn URL are hyperlinked in the digital version of your resume. This can help ATS systems parse your information more effectively. Additionally, avoid using special characters in your phone number format (e.g., use only numbers) to ensure compatibility.\\\\n\\\\n   c) **Overall appeal to human reviewers**: \\\\n   - Make sure your LinkedIn profile is up-to-date and reflects the skills and experiences relevant to the job post. Consider including a link to a personal portfolio or GitHub if applicable, showcasing your projects or contributions in software development and machine learning.\\\\n\\\\n2. **Overall score on the scale of 1-10**: \\\\n   - **Score: 5/10** \\\\n   - The contact information is clear and well-structured, but it lacks additional context that could enhance its relevance and appeal to both ATS and human reviewers.\", \"section_id\": \"TFcBCnBp4fUydUnWETzr2H\"}, {\"header\": \"Professional Summary\", \"content\": \"Machine Learning and AI Specialist with over 6 years of experience in software development, specializing in recommender systems and large-scale data projects at Seznam.cz, a leading Czech tech company. Proven expertise in machine learning algorithms, including deep learning and natural language processing, with hands-on experience in tools such as TensorFlow. \\\\n\\\\n- Led research teams to drive advancements in advertising and recommender systems, enhancing user engagement and operational efficiency.\\\\n- Co-authored papers presented at top conferences (RECSYS, SIGIR), demonstrating a commitment to innovation and knowledge sharing in the AI field.\\\\n- Strong advocate for cross-functional collaboration, effectively communicating complex findings to diverse audiences.\", \"advice\": \"### Improvement Suggestions\\\\n\\\\n1. **Relevance to the Job Post:**\\\\n   - **Highlight Specific Skills:** The job post emphasizes experience with machine learning algorithms, large language models, and recommendation systems. Explicitly mention your experience with these technologies and tools (e.g., TensorFlow) in your bio.\\\\n   - **Quantify Achievements:** Instead of general statements about leading teams and projects, provide specific examples of your contributions to advertising and recommender systems, such as metrics or outcomes that demonstrate your impact.\\\\n   - **Align with Responsibilities:** Incorporate language that reflects the responsibilities outlined in the job post, such as \\\\\"coding, modeling, and analysis\\\\\" and \\\\\"experiment design.\\\\\"\\\\n\\\\n2. **ATS Compatibility:**\\\\n   - **Use Keywords from the Job Post:** Integrate keywords from the job description, such as \\\\\"artificial intelligence,\\\\\" \\\\\"deep learning,\\\\\" \\\\\"natural language processing,\\\\\" and \\\\\"data analysis.\\\\\" This will help ensure your resume is picked up by ATS.\\\\n   - **Structured Format:** Consider using bullet points for clarity and to enhance readability for both ATS and human reviewers. This format can help highlight your skills and experiences more effectively.\\\\n\\\\n3. **Overall Appeal to Human Reviewers:**\\\\n   - **Showcase Soft Skills:** While you mention teamwork and collaboration, consider adding specific examples of how these skills have led to successful project outcomes or innovations.\\\\n   - **Professional Tone:** While the current tone is professional, ensure that it remains concise and focused on your technical expertise and achievements. Avoid overly broad statements that do not directly relate to the job requirements.\\\\n\\\\n### Overall Score: 6/10\\\\n\\\\nYour bio has a solid foundation, but it needs to be more tailored to the specific job requirements and should include more quantifiable achievements and relevant keywords to improve both ATS compatibility and appeal to hiring managers.\", \"section_id\": \"FrFuMno5UAPgJx5xxnxTdU\"}, {\"header\": \"Experience\", \"content\": \"\", \"advice\": \"\", \"section_id\": \"E5ws7KWtbuPu3RgFnH9Cjf\"}, {\"header\": \"Continuous Learning and Language Proficiency\", \"content\": \"Nov. 2022 - present  \\\\n\\\\n- **Continuous Learning:** Engaged in AI courses and meetups to stay current with advancements in machine learning, artificial intelligence, and natural language processing, enhancing expertise in relevant technologies.  \\\\n- **Language Proficiency:** Achieved conversational proficiency in English, facilitating effective collaboration in international teams and enhancing communication in diverse environments.\", \"advice\": \"### Improvement Suggestions\\\\n\\\\n1. **Relevance to the Job Post:**\\\\n   - The current section lacks direct relevance to the job requirements outlined in the job post. Focus on highlighting any technical skills or projects related to software development, machine learning, or AI that you may have worked on during your study and travel.\\\\n   - Consider adding any specific programming languages or tools you learned or used during your courses or meetups, especially those mentioned in the job post (e.g., TensorFlow, Python).\\\\n\\\\n2. **ATS Compatibility:**\\\\n   - The section should include keywords from the job description to improve ATS compatibility. For example, incorporate terms like \\\\\"machine learning,\\\\\" \\\\\"data analysis,\\\\\" \\\\\"NLP,\\\\\" \\\\\"recommendation systems,\\\\\" and \\\\\"artificial intelligence.\\\\\"\\\\n   - Use bullet points that start with action verbs and include quantifiable achievements or specific skills learned that align with the job requirements.\\\\n\\\\n3. **Overall Appeal to Human Reviewers:**\\\\n   - While the language proficiency and continuous learning aspects are valuable, they should be framed in a way that connects them to the job role. For instance, explain how your language skills facilitate collaboration in technical environments or how your AI courses have prepared you for practical applications in the field.\\\\n   - Consider reformatting the section to emphasize relevant skills and experiences more clearly, possibly under a new header like \\\\\"Relevant Skills and Learning Experiences.\\\\\"\\\\n\\\\n### Revised Example:\\\\n**Relevant Skills and Learning Experiences**\\\\n- **Language Proficiency:** Achieved conversational proficiency in English and basic Spanish, enhancing collaboration in diverse, international teams.\\\\n- **AI and Machine Learning Knowledge:** Completed multiple AI courses focusing on machine learning algorithms and tools, including TensorFlow, and attended AI meetups to network and discuss advancements in the field.\\\\n- **Practical Application:** Engaged in projects that involved data analysis and experimentation design, applying theoretical knowledge to real-world scenarios.\\\\n\\\\n### Overall Score: 4/10\\\\nThe current section does not effectively align with the job requirements and lacks the necessary technical focus. By incorporating relevant skills and experiences, the score can be significantly improved.\", \"section_id\": \"9NHgoAAm3QfdQ2BYcuFJHV\"}, {\"header\": \"Head of Research Department\", \"content\": \"Aug. 2019 - Nov. 2022  \\\\n\\\\n- **Leadership in Machine Learning**: Managed the research department at Seznam.cz, focusing on machine learning and recommender systems, enhancing user engagement through innovative AI solutions.  \\\\n- **Project Management & Experiment Design**: Directed cross-functional projects, including a universal A/B/n testing platform and machine learning lifecycle acceleration with Kubeflow, ensuring high-quality data handling and analysis.  \\\\n- **Collaboration & Communication**: Fostered collaboration among developers and product managers, presenting strategic initiatives to top management, and driving innovation in AI and data analysis.\", \"advice\": \"### Improvement Suggestions\\\\n\\\\n1. **Relevance to the Job Post:**\\\\n   - **Highlight Specific Technologies:** The job post emphasizes experience with machine learning algorithms, tools like TensorFlow, and large language models. Explicitly mention any relevant technologies or frameworks you used (e.g., TensorFlow, PyTorch) in your projects.\\\\n   - **Focus on Machine Learning and AI:** While you mention the development of machine learning platforms, it would be beneficial to elaborate on specific machine learning algorithms or techniques you implemented, especially those related to NLP or generative AI.\\\\n   - **Emphasize Recommendation Systems:** Since the job post specifically mentions experience with recommendation systems, ensure that your contributions in this area are clearly articulated, perhaps by detailing the impact of the recommender systems you developed.\\\\n\\\\n2. **ATS Compatibility:**\\\\n   - **Use Keywords from the Job Post:** Incorporate industry-specific keywords from the job description, such as \\\\\"artificial intelligence,\\\\\" \\\\\"deep learning,\\\\\" \\\\\"natural language processing,\\\\\" and \\\\\"data analysis.\\\\\" This will help your resume pass through ATS filters.\\\\n   - **Standardize Terminology:** Ensure that the terminology used in your resume matches that of the job post. For example, if the job post mentions \\\\\"data structures,\\\\\" ensure that you include this term if applicable to your experience.\\\\n\\\\n3. **Overall Appeal to Human Reviewers:**\\\\n   - **Quantify Achievements:** Where possible, quantify your achievements (e.g., \\\\\"increased efficiency by X%,\\\\\" \\\\\"reduced project lifecycle by Y weeks\\\\\") to provide concrete evidence of your impact.\\\\n   - **Soft Skills Integration:** While your leadership and project management skills are evident, consider integrating soft skills like \\\\\"versatility\\\\\" and \\\\\"enthusiasm\\\\\" into your descriptions to align with the company culture.\\\\n   - **Conciseness and Clarity:** Ensure that each bullet point is concise and directly related to the job requirements. Avoid overly complex language and focus on clarity to enhance readability.\\\\n\\\\n### Overall Score: 7/10\\\\n\\\\nYour experience is strong and relevant, but enhancing the alignment with the job post, improving ATS compatibility, and making the content more appealing to human reviewers will significantly increase your chances of standing out.\", \"section_id\": \"Pm8WYy8pmUTqucTmfx7Jza\"}, {\"header\": \"Research Team Leader\", \"content\": \"Feb. 2019 - Aug. 2019  \\\\n\\\\n- **Project Leadership:** Directed research projects focused on recommender systems, ensuring alignment with strategic goals and enhancing user engagement by 28% through innovative video recommendation solutions.  \\\\n- **Machine Learning Expertise:** Led the transition to neural network-based online machine learning using TensorFlow, optimizing model performance and scalability.  \\\\n- **Cross-functional Collaboration:** Coordinated with product managers and development teams to streamline project priorities, fostering effective communication and collaboration across departments.\", \"advice\": \"### Improvement Suggestions\\\\n\\\\n1. **Relevance to the Job Post:**\\\\n   - **Highlight Specific Technologies:** The job post emphasizes experience with specific tools and languages (e.g., TensorFlow, Python, C++). Ensure these are explicitly mentioned in the context of your work. For example, clarify your use of TensorFlow in the context of machine learning projects.\\\\n   - **Emphasize Machine Learning Experience:** The job post requires 2 years of experience with machine learning algorithms. Make sure to quantify your experience and specify the algorithms or models you worked with, especially if they relate to Large Language Models, NLP, or Generative AI.\\\\n   - **Focus on Results:** While you mention a 28% increase in user engagement, consider adding more metrics or outcomes related to your work on recommendation systems or any other relevant projects.\\\\n\\\\n2. **ATS Compatibility:**\\\\n   - **Use Keywords from the Job Post:** Incorporate industry-specific keywords from the job description, such as \\\\\"artificial intelligence,\\\\\" \\\\\"deep learning,\\\\\" \\\\\"natural language processing,\\\\\" and \\\\\"recommendation systems.\\\\\" This will help your resume rank higher in ATS scans.\\\\n   - **Standardize Job Titles and Terminology:** Ensure that the terminology used in your resume matches that of the job description. For instance, if the job post mentions \\\\\"data analysis,\\\\\" ensure that this term is used in your section.\\\\n\\\\n3. **Overall Appeal to Human Reviewers:**\\\\n   - **Structure and Clarity:** Consider using bullet points that start with strong action verbs and are concise. For example, \\\\\"Led a team of Applied Machine Learning Scientists to enhance collaboration and project outcomes.\\\\\"\\\\n   - **Soft Skills Integration:** While you mention team leadership and cross-functional communication, explicitly state soft skills like \\\\\"versatility\\\\\" and \\\\\"enthusiasm\\\\\" that align with the company culture.\\\\n   - **Visual Appeal:** Ensure that the formatting is clean and professional. Use consistent font sizes and styles, and consider adding a brief summary at the top of this section to encapsulate your experience and skills.\\\\n\\\\n### Overall Score: 7/10\\\\n\\\\nYour resume section demonstrates relevant experience and leadership in machine learning, but it can be improved by aligning more closely with the job requirements, enhancing ATS compatibility, and increasing overall clarity and appeal to human reviewers.\", \"section_id\": \"ipXS9QFnvHYqRMdQFRsQsk\"}, {\"header\": \"Applied Machine Learning Scientist\", \"content\": \"Nov. 2016 - Feb. 2019  \\\\n\\\\n- **Recommender Systems Development:** Developed and optimized recommender systems using collaborative filtering and online machine learning, achieving significant performance improvements for lifestyle, news, and video content, impacting over half of the Czech internet population.  \\\\n- **Machine Learning and Data Analysis:** Processed and analyzed terabytes of data daily, utilizing PySpark to maintain data quality and develop a proprietary framework for data manipulation. Conducted extensive offline and online testing to enhance model performance.  \\\\n- **Experiment Design and A/B Testing:** Coauthored a library for A/B/n test evaluation, designing and interpreting results to inform model deployment. Implemented machine learning components into production, optimizing memory efficiency and performance for recommender systems.\", \"advice\": \"### Improvement Suggestions\\\\n\\\\n1. **Relevance to the Job Post:**\\\\n   - **Highlight Key Skills:** Ensure that the most relevant skills and experiences align closely with the job requirements. For instance, explicitly mention experience with Large Language Models, NLP, and Generative AI if applicable. \\\\n   - **Quantify Achievements:** While you have provided some metrics, consider adding more specific numbers or percentages to demonstrate the impact of your work, especially in areas like user engagement or performance improvements.\\\\n   - **Directly Address Job Responsibilities:** Incorporate language from the job post, such as \\\\\"coding, modeling, and analysis,\\\\\" to make it clear that your experience directly relates to the responsibilities outlined.\\\\n\\\\n2. **ATS Compatibility:**\\\\n   - **Use Keywords from the Job Post:** Integrate specific keywords from the job description, such as \\\\\"machine learning algorithms,\\\\\" \\\\\"data analysis,\\\\\" \\\\\"recommendation systems,\\\\\" and \\\\\"experiment design.\\\\\" This will help ensure that your resume is picked up by ATS.\\\\n   - **Consistent Formatting:** Ensure that the formatting is simple and clear, avoiding complex layouts that may confuse ATS. Use standard headings and bullet points.\\\\n\\\\n3. **Overall Appeal to Human Reviewers:**\\\\n   - **Clear Structure:** Consider breaking down the content into more digestible sections or bullet points. This will make it easier for hiring managers to scan your resume quickly.\\\\n   - **Soft Skills Integration:** While your technical skills are well-highlighted, consider adding a brief section or bullet points that showcase your soft skills, such as leadership, versatility, and enthusiasm for problem-solving, as these are valued by employers.\\\\n   - **Project Highlights:** Instead of listing all projects under \\\\\"Highlighted projects,\\\\\" consider creating a separate section for key projects that had significant impacts, making it easier for reviewers to identify your most impressive work.\\\\n\\\\n### Overall Score: 7/10\\\\n\\\\nYour resume section demonstrates strong technical skills and relevant experience, but it could benefit from clearer alignment with the job post, improved ATS compatibility, and enhanced appeal to human reviewers. By implementing the suggestions above, you can significantly increase your chances of standing out to both ATS and hiring managers.\", \"section_id\": \"QqmUdzWKiDzrmHaL5bk8Wn\"}, {\"header\": \"Data Analyst\", \"content\": \"Jul. 2015 - Jan. 2020  \\\\n\\\\n- **Data Processing and Analysis:** Processed and analyzed large datasets from diverse sources, utilizing SQL and Python to ensure data integrity and quality, aligning with machine learning and AI project requirements.  \\\\n- **Report Automation:** Developed automation scripts in Python and pandas to streamline reporting processes, enhancing decision-making for resource allocation, which supports data-driven strategies in AI and machine learning.  \\\\n- **Collaboration and Presentation:** Collaborated with cross-functional teams, effectively communicating insights and recommendations to stakeholders through detailed reports and visualizations, fostering a data-informed culture.\", \"advice\": \"1. **Improvement Suggestions**\\\\n\\\\n   a) **Relevance to the Job Post:**\\\\n   - Emphasize experience with machine learning algorithms and tools, as the job requires 2 years of experience in this area. If applicable, mention any specific projects or tools (e.g., TensorFlow) you have used.\\\\n   - Highlight any experience with recommendation systems, rankings, or predictions, as these are explicitly mentioned in the job requirements.\\\\n   - If you have experience with Large Language Models, NLP, or Generative AI, include that information to align with the job\\'s key technical skills.\\\\n\\\\n   b) **ATS Compatibility:**\\\\n   - Use keywords from the job description, such as \\\\\"machine learning,\\\\\" \\\\\"data analysis,\\\\\" \\\\\"recommendation systems,\\\\\" \\\\\"NLP,\\\\\" and \\\\\"artificial intelligence.\\\\\" This will help ensure your resume is picked up by ATS.\\\\n   - Ensure that the formatting is simple and clean, avoiding complex layouts or graphics that could confuse ATS.\\\\n\\\\n   c) **Overall Appeal to Human Reviewers:**\\\\n   - Quantify your achievements where possible (e.g., \\\\\"Improved report generation time by X%,\\\\\" \\\\\"Analyzed data sets of X size\\\\\") to provide a clearer picture of your impact.\\\\n   - Use action verbs to start each bullet point (e.g., \\\\\"Executed,\\\\\" \\\\\"Designed,\\\\\" \\\\\"Collaborated\\\\\") to create a more dynamic and engaging narrative.\\\\n   - Consider adding a brief summary at the top of this section that encapsulates your experience and skills relevant to the job.\\\\n\\\\n2. **Overall Score on the Scale of 1-10:**\\\\n   - **Score: 6/10**\\\\n   - The section demonstrates relevant experience in data analysis but lacks specific alignment with the job\\'s requirements in machine learning and related technologies. Enhancing the relevance and incorporating more keywords will improve both ATS compatibility and appeal to hiring managers.\", \"section_id\": \"NPsqyd3PMMAXn75QH4rBty\"}, {\"header\": \"Education\", \"content\": \"- Master\\\\u2019s degree in Knowledge Engineering, providing a strong foundation in advanced computational techniques and machine learning principles.\\\\n- Bachelor\\\\u2019s degree in Information Systems and Management, equipping with essential skills in software development and data analysis.\", \"advice\": \"1. **Improvement Suggestions**\\\\n\\\\n   a) **Relevance to the job post**: \\\\n   - The resume section already meets the educational requirements, as it includes a Master\\\\u2019s degree, which is preferred. However, it would be beneficial to explicitly mention any relevant coursework or projects related to machine learning, artificial intelligence, or data analysis to further align with the job requirements.\\\\n\\\\n   b) **ATS compatibility**: \\\\n   - Ensure that the degrees are formatted consistently and include the full name of the degrees (e.g., \\\\\"Master of Science in Knowledge Engineering\\\\\"). This can help ATS systems accurately parse the information. Additionally, consider adding keywords from the job post, such as \\\\\"Computer Science\\\\\" or \\\\\"related technical fields,\\\\\" to enhance ATS compatibility.\\\\n\\\\n   c) **Overall appeal to human reviewers**: \\\\n   - To make the education section more appealing, consider adding any honors, relevant certifications, or notable projects completed during the degrees that relate to the job requirements. This can help demonstrate not just the qualifications but also the candidate\\'s proactive engagement in the field.\\\\n\\\\n2. **Overall score on the scale of 1-10**: \\\\n   - **Score: 7/10** \\\\n   - The education section is strong but could be improved with additional details and keywords to enhance relevance and appeal.\", \"section_id\": \"8v4QKKbxZLtWS79aV8rKe6\"}, {\"header\": \"Publications\", \"content\": \"- **Combining Models for Better User Satisfaction in Video Recommendation**, RECSYS 2020: Focused on enhancing user engagement through advanced recommendation techniques, aligning with machine learning and user behavior modeling.  \\\\n- **Vertical Search Blending - A Real-world Counterfactual Dataset**, SIGIR 2019: Contributed to the understanding of search algorithms and their impact on user experience, relevant to artificial intelligence and data analysis.\", \"advice\": \"### Improvement Suggestions\\\\n\\\\n1. **Relevance to the Job Post:**\\\\n   - **Highlight Relevant Skills:** The publications listed should explicitly connect to the job requirements. For instance, if the publications involve machine learning, recommendation systems, or user behavior modeling, consider adding a brief description of the methodologies or technologies used in these studies. This will demonstrate direct relevance to the job\\'s focus on recommendation systems and user behavior.\\\\n   - **Add Context:** Include a sentence or two about the significance of these publications in relation to the job role. For example, mention how the findings contribute to advancements in recommendation systems or user satisfaction, which aligns with the responsibilities outlined in the job post.\\\\n\\\\n2. **ATS Compatibility:**\\\\n   - **Use Keywords:** Ensure that the titles of the publications include keywords from the job description, such as \\\\\"recommendation systems,\\\\\" \\\\\"machine learning,\\\\\" or \\\\\"user behavior.\\\\\" This will help the resume pass through ATS filters that look for specific terms.\\\\n   - **Standard Formatting:** Use a consistent format for listing publications (e.g., title, conference name, year) to ensure clarity and improve ATS readability.\\\\n\\\\n3. **Overall Appeal to Human Reviewers:**\\\\n   - **Add Impact Metrics:** If available, include metrics or outcomes from the research (e.g., improvements in user satisfaction percentages, citation counts, or industry impact). This can make the section more compelling to hiring managers.\\\\n   - **Professional Tone:** Consider rephrasing the header to something more descriptive, such as \\\\\"Research Publications in Machine Learning and User Experience,\\\\\" to immediately convey the relevance of the work to the job.\\\\n\\\\n### Overall Score: 6/10\\\\n\\\\nThe section demonstrates relevant experience but lacks explicit connections to the job requirements and could benefit from enhanced clarity and keyword optimization. By implementing the suggestions above, the section can significantly improve its alignment with the job post and its appeal to both ATS and human reviewers.\", \"section_id\": \"oRtswtBQviqw9y3jh6BCB6\"}, {\"header\": \"Professional Engagement and Leadership\", \"content\": \"- Co-authored a workshop on recommender systems, enhancing knowledge sharing and collaboration in the field of AI.\\\\n- Delivered presentations on AI to diverse audiences, effectively communicating complex concepts to non-experts, demonstrating strong communication skills.\\\\n- Organized and led AI meetups, fostering community engagement and networking among professionals, with attendance exceeding 140 participants.\", \"advice\": \"### Improvement Suggestions\\\\n\\\\n1. **Relevance to the Job Post:**\\\\n   - **Highlight Technical Skills:** The current section lacks specific technical skills related to the job requirements. Incorporate mentions of programming languages (e.g., Python, C++) and machine learning tools (e.g., TensorFlow) to align with the job\\'s technical expectations.\\\\n   - **Focus on Machine Learning and AI:** Emphasize any direct experience with machine learning algorithms, large language models, or natural language processing. For example, if any of the workshops or presentations involved these topics, explicitly state that.\\\\n   - **Quantify Achievements:** Where possible, quantify your contributions to the workshops or meetups (e.g., \\\\\"Increased attendee engagement by X% through interactive sessions on recommender systems\\\\\").\\\\n\\\\n2. **ATS Compatibility:**\\\\n   - **Use Keywords from the Job Post:** Integrate industry-specific keywords such as \\\\\"machine learning,\\\\\" \\\\\"deep learning,\\\\\" \\\\\"NLP,\\\\\" and \\\\\"recommendation systems\\\\\" into your bullet points. This will help ensure that the ATS recognizes your experience as relevant.\\\\n   - **Standardize Terminology:** Use consistent terminology that matches the job description. For instance, instead of \\\\\"AI,\\\\\" use \\\\\"artificial intelligence\\\\\" to match the language of the job post.\\\\n\\\\n3. **Overall Appeal to Human Reviewers:**\\\\n   - **Showcase Leadership and Initiative:** While you mention leading events, consider framing this in a way that highlights your leadership skills and initiative. For example, \\\\\"Demonstrated leadership by organizing and leading AI meetups, fostering community engagement and knowledge sharing.\\\\\"\\\\n   - **Connect to Company Values:** If possible, relate your experiences to the company\\\\u2019s values, such as innovation or diversity. For instance, mention how your workshops promoted diversity in tech or how your presentations aimed to make AI accessible to a broader audience.\\\\n\\\\n### Overall Score: 5/10\\\\n\\\\nThe section demonstrates engagement and initiative but lacks direct relevance to the job requirements and technical skills. By incorporating specific keywords, quantifying achievements, and aligning more closely with the job description, the section can significantly improve its effectiveness.\", \"section_id\": \"MTgmhMCUZkpuevk8txqmmg\"}, {\"header\": \"Technical Skills\", \"content\": \"- **Programming Languages:** Proficient in Python, SQL; basic knowledge of C/C++, JavaScript, R, Scala.\\\\n- **Machine Learning & AI:** Extensive experience with TensorFlow, Scikit-Learn, PyTorch, and Vowpal Wabbit; skilled in developing and implementing machine learning algorithms, including deep learning and natural language processing.\\\\n- **Data Processing & Analysis:** Proficient in Apache Spark, Hadoop, and pandas for large-scale data manipulation; experienced in data visualization using Matplotlib, Plotly, and Seaborn; familiar with AWS for cloud-based data solutions.\", \"advice\": \"1. **Improvement Suggestions**\\\\n\\\\n   a) **Relevance to the job post:**\\\\n   - Highlight specific experience with machine learning algorithms and tools mentioned in the job post, such as TensorFlow, as it is a key requirement.\\\\n   - Include any experience with Large Language Models, NLP, or Generative AI explicitly, as these are critical to the role.\\\\n   - Emphasize experience with recommendation systems or predictive modeling, as this aligns directly with the responsibilities outlined in the job post.\\\\n\\\\n   b) **ATS compatibility:**\\\\n   - Ensure that the section includes keywords from the job description, such as \\\\\"machine learning,\\\\\" \\\\\"data analysis,\\\\\" \\\\\"recommendation systems,\\\\\" and \\\\\"natural language processing.\\\\\" This will help the resume rank higher in ATS scans.\\\\n   - Use consistent terminology that matches the job description (e.g., \\\\\"Data Analysis\\\\\" instead of \\\\\"Data Processing\\\\\" if the job post uses that term).\\\\n\\\\n   c) **Overall appeal to human reviewers:**\\\\n   - Organize the skills in a more visually appealing way, possibly using bullet points or categories that align with the job requirements (e.g., separate sections for Programming Languages, Machine Learning Tools, Data Analysis, etc.).\\\\n   - Consider adding a brief summary statement at the top of the technical skills section that encapsulates your expertise and aligns with the job requirements.\\\\n\\\\n2. **Overall score on the scale of 1-10:**\\\\n   - **Score: 6/10**\\\\n   - The section contains relevant skills but lacks specific alignment with the job post\\'s requirements and could benefit from improved organization and keyword optimization for ATS.\", \"section_id\": \"Lsu5b7TM4axEogWDanr99n\"}, {\"header\": \"Soft Skills\", \"content\": \"- **Leadership and Team Management:** Proven ability to lead and expand research teams, fostering collaboration and innovation across departments.\\\\n- **Effective Communication:** Skilled in presenting complex AI concepts to diverse audiences, ensuring clarity and understanding.\\\\n- **Strategic Planning and Execution:** Experience in directing multi-team projects and aligning research initiatives with organizational goals, enhancing overall productivity.\", \"advice\": \"### Improvement Suggestions\\\\n\\\\n1. **Relevance to the Job Post:**\\\\n   - The job post emphasizes soft skills such as versatility and leadership qualities. However, the current section lacks direct alignment with the specific soft skills mentioned in the job post. Consider adding skills that reflect adaptability and enthusiasm for tackling new challenges, as these are highlighted in the job requirements.\\\\n   - Remove less relevant skills like \\\\\"Event Organization and Management\\\\\" unless they can be tied back to the role\\'s responsibilities. Instead, focus on skills that directly relate to the job, such as \\\\\"Adaptability to New Technologies\\\\\" or \\\\\"Innovative Problem-Solving.\\\\\"\\\\n\\\\n2. **ATS Compatibility:**\\\\n   - Ensure that the soft skills listed include keywords from the job description. For example, include \\\\\"Versatility\\\\\" and \\\\\"Enthusiasm\\\\\" explicitly in the list to improve ATS compatibility.\\\\n   - Consider using bullet points that start with action verbs or keywords that are likely to be searched by ATS, such as \\\\\"Demonstrated Leadership\\\\\" or \\\\\"Proven Problem-Solving Skills.\\\\\"\\\\n\\\\n3. **Overall Appeal to Human Reviewers:**\\\\n   - The current section is somewhat generic. To enhance appeal, consider providing brief examples or context for each skill. For instance, instead of just listing \\\\\"Effective Communication,\\\\\" you could say \\\\\"Effective Communication: Successfully led cross-functional teams to achieve project goals.\\\\\"\\\\n   - Highlight any specific achievements or experiences that demonstrate these soft skills in action, which can make the section more compelling to HR professionals and hiring managers.\\\\n\\\\n### Overall Score: 5/10\\\\n\\\\nThe section has a solid foundation but lacks direct relevance to the job post and could benefit from more specific examples and alignment with the required soft skills. By refining the content to better match the job description and enhancing the presentation, the score can be significantly improved.\", \"section_id\": \"dkskcXbDPF3J7GsWnw9onr\"}]}',\n",
       " 'headers': {'Access-Control-Allow-Headers': '*',\n",
       "  'Access-Control-Allow-Origin': '*',\n",
       "  'Access-Control-Allow-Methods': '*'}}"
      ]
     },
     "execution_count": 4,
     "metadata": {},
     "output_type": "execute_result"
    }
   ],
   "source": [
    "response"
   ]
  },
  {
   "cell_type": "code",
   "execution_count": 6,
   "metadata": {},
   "outputs": [
    {
     "data": {
      "text/markdown": [
       "Contact Information"
      ],
      "text/plain": [
       "<IPython.core.display.Markdown object>"
      ]
     },
     "metadata": {},
     "output_type": "display_data"
    },
    {
     "data": {
      "text/markdown": [
       "Jakub Drdak  \n",
       "+420 XXX XXX XXX  \n",
       "x@gmail.com  \n",
       "[linkedin.com/in/x](http://linkedin.com/in/x)  \n",
       "\n",
       "*Note: Ensure that your contact information is up-to-date and accessible for potential employers.*"
      ],
      "text/plain": [
       "<IPython.core.display.Markdown object>"
      ]
     },
     "metadata": {},
     "output_type": "display_data"
    },
    {
     "data": {
      "text/markdown": [
       "Professional Summary"
      ],
      "text/plain": [
       "<IPython.core.display.Markdown object>"
      ]
     },
     "metadata": {},
     "output_type": "display_data"
    },
    {
     "data": {
      "text/markdown": [
       "Machine Learning and AI Specialist with over 6 years of experience in software development, specializing in recommender systems and large-scale data projects at Seznam.cz, a leading Czech tech company. Proven expertise in machine learning algorithms, including deep learning and natural language processing, with hands-on experience in tools such as TensorFlow. \n",
       "\n",
       "- Led research teams to drive advancements in advertising and recommender systems, enhancing user engagement and operational efficiency.\n",
       "- Co-authored papers presented at top conferences (RECSYS, SIGIR), demonstrating a commitment to innovation and knowledge sharing in the AI field.\n",
       "- Strong advocate for cross-functional collaboration, effectively communicating complex findings to diverse audiences."
      ],
      "text/plain": [
       "<IPython.core.display.Markdown object>"
      ]
     },
     "metadata": {},
     "output_type": "display_data"
    },
    {
     "data": {
      "text/markdown": [
       "Experience"
      ],
      "text/plain": [
       "<IPython.core.display.Markdown object>"
      ]
     },
     "metadata": {},
     "output_type": "display_data"
    },
    {
     "data": {
      "text/markdown": [],
      "text/plain": [
       "<IPython.core.display.Markdown object>"
      ]
     },
     "metadata": {},
     "output_type": "display_data"
    },
    {
     "data": {
      "text/markdown": [
       "Continuous Learning and Language Proficiency"
      ],
      "text/plain": [
       "<IPython.core.display.Markdown object>"
      ]
     },
     "metadata": {},
     "output_type": "display_data"
    },
    {
     "data": {
      "text/markdown": [
       "Nov. 2022 - present  \n",
       "\n",
       "- **Continuous Learning:** Engaged in AI courses and meetups to stay current with advancements in machine learning, artificial intelligence, and natural language processing, enhancing expertise in relevant technologies.  \n",
       "- **Language Proficiency:** Achieved conversational proficiency in English, facilitating effective collaboration in international teams and enhancing communication in diverse environments."
      ],
      "text/plain": [
       "<IPython.core.display.Markdown object>"
      ]
     },
     "metadata": {},
     "output_type": "display_data"
    },
    {
     "data": {
      "text/markdown": [
       "Head of Research Department"
      ],
      "text/plain": [
       "<IPython.core.display.Markdown object>"
      ]
     },
     "metadata": {},
     "output_type": "display_data"
    },
    {
     "data": {
      "text/markdown": [
       "Aug. 2019 - Nov. 2022  \n",
       "\n",
       "- **Leadership in Machine Learning**: Managed the research department at Seznam.cz, focusing on machine learning and recommender systems, enhancing user engagement through innovative AI solutions.  \n",
       "- **Project Management & Experiment Design**: Directed cross-functional projects, including a universal A/B/n testing platform and machine learning lifecycle acceleration with Kubeflow, ensuring high-quality data handling and analysis.  \n",
       "- **Collaboration & Communication**: Fostered collaboration among developers and product managers, presenting strategic initiatives to top management, and driving innovation in AI and data analysis."
      ],
      "text/plain": [
       "<IPython.core.display.Markdown object>"
      ]
     },
     "metadata": {},
     "output_type": "display_data"
    },
    {
     "data": {
      "text/markdown": [
       "Research Team Leader"
      ],
      "text/plain": [
       "<IPython.core.display.Markdown object>"
      ]
     },
     "metadata": {},
     "output_type": "display_data"
    },
    {
     "data": {
      "text/markdown": [
       "Feb. 2019 - Aug. 2019  \n",
       "\n",
       "- **Project Leadership:** Directed research projects focused on recommender systems, ensuring alignment with strategic goals and enhancing user engagement by 28% through innovative video recommendation solutions.  \n",
       "- **Machine Learning Expertise:** Led the transition to neural network-based online machine learning using TensorFlow, optimizing model performance and scalability.  \n",
       "- **Cross-functional Collaboration:** Coordinated with product managers and development teams to streamline project priorities, fostering effective communication and collaboration across departments."
      ],
      "text/plain": [
       "<IPython.core.display.Markdown object>"
      ]
     },
     "metadata": {},
     "output_type": "display_data"
    },
    {
     "data": {
      "text/markdown": [
       "Applied Machine Learning Scientist"
      ],
      "text/plain": [
       "<IPython.core.display.Markdown object>"
      ]
     },
     "metadata": {},
     "output_type": "display_data"
    },
    {
     "data": {
      "text/markdown": [
       "Nov. 2016 - Feb. 2019  \n",
       "\n",
       "- **Recommender Systems Development:** Developed and optimized recommender systems using collaborative filtering and online machine learning, achieving significant performance improvements for lifestyle, news, and video content, impacting over half of the Czech internet population.  \n",
       "- **Machine Learning and Data Analysis:** Processed and analyzed terabytes of data daily, utilizing PySpark to maintain data quality and develop a proprietary framework for data manipulation. Conducted extensive offline and online testing to enhance model performance.  \n",
       "- **Experiment Design and A/B Testing:** Coauthored a library for A/B/n test evaluation, designing and interpreting results to inform model deployment. Implemented machine learning components into production, optimizing memory efficiency and performance for recommender systems."
      ],
      "text/plain": [
       "<IPython.core.display.Markdown object>"
      ]
     },
     "metadata": {},
     "output_type": "display_data"
    },
    {
     "data": {
      "text/markdown": [
       "Data Analyst"
      ],
      "text/plain": [
       "<IPython.core.display.Markdown object>"
      ]
     },
     "metadata": {},
     "output_type": "display_data"
    },
    {
     "data": {
      "text/markdown": [
       "Jul. 2015 - Jan. 2020  \n",
       "\n",
       "- **Data Processing and Analysis:** Processed and analyzed large datasets from diverse sources, utilizing SQL and Python to ensure data integrity and quality, aligning with machine learning and AI project requirements.  \n",
       "- **Report Automation:** Developed automation scripts in Python and pandas to streamline reporting processes, enhancing decision-making for resource allocation, which supports data-driven strategies in AI and machine learning.  \n",
       "- **Collaboration and Presentation:** Collaborated with cross-functional teams, effectively communicating insights and recommendations to stakeholders through detailed reports and visualizations, fostering a data-informed culture."
      ],
      "text/plain": [
       "<IPython.core.display.Markdown object>"
      ]
     },
     "metadata": {},
     "output_type": "display_data"
    },
    {
     "data": {
      "text/markdown": [
       "Education"
      ],
      "text/plain": [
       "<IPython.core.display.Markdown object>"
      ]
     },
     "metadata": {},
     "output_type": "display_data"
    },
    {
     "data": {
      "text/markdown": [
       "- Master’s degree in Knowledge Engineering, providing a strong foundation in advanced computational techniques and machine learning principles.\n",
       "- Bachelor’s degree in Information Systems and Management, equipping with essential skills in software development and data analysis."
      ],
      "text/plain": [
       "<IPython.core.display.Markdown object>"
      ]
     },
     "metadata": {},
     "output_type": "display_data"
    },
    {
     "data": {
      "text/markdown": [
       "Publications"
      ],
      "text/plain": [
       "<IPython.core.display.Markdown object>"
      ]
     },
     "metadata": {},
     "output_type": "display_data"
    },
    {
     "data": {
      "text/markdown": [
       "- **Combining Models for Better User Satisfaction in Video Recommendation**, RECSYS 2020: Focused on enhancing user engagement through advanced recommendation techniques, aligning with machine learning and user behavior modeling.  \n",
       "- **Vertical Search Blending - A Real-world Counterfactual Dataset**, SIGIR 2019: Contributed to the understanding of search algorithms and their impact on user experience, relevant to artificial intelligence and data analysis."
      ],
      "text/plain": [
       "<IPython.core.display.Markdown object>"
      ]
     },
     "metadata": {},
     "output_type": "display_data"
    },
    {
     "data": {
      "text/markdown": [
       "Professional Engagement and Leadership"
      ],
      "text/plain": [
       "<IPython.core.display.Markdown object>"
      ]
     },
     "metadata": {},
     "output_type": "display_data"
    },
    {
     "data": {
      "text/markdown": [
       "- Co-authored a workshop on recommender systems, enhancing knowledge sharing and collaboration in the field of AI.\n",
       "- Delivered presentations on AI to diverse audiences, effectively communicating complex concepts to non-experts, demonstrating strong communication skills.\n",
       "- Organized and led AI meetups, fostering community engagement and networking among professionals, with attendance exceeding 140 participants."
      ],
      "text/plain": [
       "<IPython.core.display.Markdown object>"
      ]
     },
     "metadata": {},
     "output_type": "display_data"
    },
    {
     "data": {
      "text/markdown": [
       "Technical Skills"
      ],
      "text/plain": [
       "<IPython.core.display.Markdown object>"
      ]
     },
     "metadata": {},
     "output_type": "display_data"
    },
    {
     "data": {
      "text/markdown": [
       "- **Programming Languages:** Proficient in Python, SQL; basic knowledge of C/C++, JavaScript, R, Scala.\n",
       "- **Machine Learning & AI:** Extensive experience with TensorFlow, Scikit-Learn, PyTorch, and Vowpal Wabbit; skilled in developing and implementing machine learning algorithms, including deep learning and natural language processing.\n",
       "- **Data Processing & Analysis:** Proficient in Apache Spark, Hadoop, and pandas for large-scale data manipulation; experienced in data visualization using Matplotlib, Plotly, and Seaborn; familiar with AWS for cloud-based data solutions."
      ],
      "text/plain": [
       "<IPython.core.display.Markdown object>"
      ]
     },
     "metadata": {},
     "output_type": "display_data"
    },
    {
     "data": {
      "text/markdown": [
       "Soft Skills"
      ],
      "text/plain": [
       "<IPython.core.display.Markdown object>"
      ]
     },
     "metadata": {},
     "output_type": "display_data"
    },
    {
     "data": {
      "text/markdown": [
       "- **Leadership and Team Management:** Proven ability to lead and expand research teams, fostering collaboration and innovation across departments.\n",
       "- **Effective Communication:** Skilled in presenting complex AI concepts to diverse audiences, ensuring clarity and understanding.\n",
       "- **Strategic Planning and Execution:** Experience in directing multi-team projects and aligning research initiatives with organizational goals, enhancing overall productivity."
      ],
      "text/plain": [
       "<IPython.core.display.Markdown object>"
      ]
     },
     "metadata": {},
     "output_type": "display_data"
    }
   ],
   "source": [
    "for section in json.loads(response['body'])['tailored_sections']:\n",
    "    if section:\n",
    "        display(Markdown(section['header']))\n",
    "        display(Markdown(section['content']))"
   ]
  },
  {
   "cell_type": "code",
   "execution_count": 7,
   "metadata": {},
   "outputs": [],
   "source": [
    "job_post = \"\"\"\n",
    "Minimum qualifications:\n",
    "\n",
    "Bachelor’s degree or equivalent practical experience.\n",
    "2 years of experience with software development in one or more programming languages, and with data structures or algorithms. \n",
    "2 years of experience with machine learning algorithms and tools (e.g., TensorFlow), artificial intelligence, deep learning or natural language processing.\n",
    "Experience with Large Language Models, NLP, or Generative AI.\n",
    "Experience with Coding, Experiment Design, Data Analysis.\n",
    "Experience with recommendation systems/rankings/predictions.\n",
    "\n",
    "Preferred qualifications:\n",
    "\n",
    "Master's degree or PhD in Computer Science or related technical fields.\n",
    "Experience developing accessible technologies.\n",
    "Experience with C++, Statistical Analysis, Python.\n",
    "Experience with quality work in either serving quality or data quality.\n",
    "Experience as a data analyst/scientist.\n",
    "Experience in understanding user behavior (i.e., mathematical modeling or social science background).\n",
    "\n",
    "About The Job\n",
    "\n",
    "Google's software engineers develop the next-generation technologies that change how billions of users connect, explore, and interact with information and one another. Our products need to handle information at massive scale, and extend well beyond web search. We're looking for engineers who bring fresh ideas from all areas, including information retrieval, distributed computing, large-scale system design, networking and data storage, security, artificial intelligence, natural language processing, UI design and mobile; the list goes on and is growing every day. As a software engineer, you will work on a specific project critical to Google’s needs with opportunities to switch teams and projects as you and our fast-paced business grow and evolve. We need our engineers to be versatile, display leadership qualities and be enthusiastic to take on new problems across the full-stack as we continue to push technology forward.\n",
    "\n",
    "Our goal is to organize shopping results across Google surfaces to make them relevant and helpful for users on their shopping journey. Find the best configuration of Shopping units on the Shopping pages across Google surfaces by taking into consideration a wide range of Quality and UI factors: relevance of features, position on the page, collapsed/expanded states, density of the units.\n",
    "\n",
    "People shop on Google more than a billion times a day - and the Commerce team is responsible for building the experiences that serve these users. The mission for Google Commerce is to be an essential part of the shopping journey for consumers - from inspiration to to a simple and secure checkout experience - and the best place for retailers/merchants to connect with consumers. We support and partner with the commerce ecosystem, from large retailers to small local merchants, to give them the tools, technology and scale to thrive in today’s digital world.\n",
    "\n",
    "Responsibilities\n",
    "\n",
    "Work in coding, modeling, and analysis.\n",
    "Find the right signals or create them if they don't exist yet. Combine them into a model that allows you to show their merit through offline evaluation. Wire these in the production stack (e.g., search and shopping) and start a live experiment.\n",
    "\n",
    "\n",
    "Google is proud to be an equal opportunity workplace and is an affirmative action employer. We are committed to equal employment opportunity regardless of race, color, ancestry, religion, sex, national origin, sexual orientation, age, citizenship, marital status, disability, gender identity or Veteran status. We also consider qualified applicants regardless of criminal histories, consistent with legal requirements. See also Google's EEO Policy and EEO is the Law. If you have a disability or special need that requires accommodation, please let us know by completing our Accommodations for Applicants form .\n",
    "\"\"\""
   ]
  },
  {
   "cell_type": "code",
   "execution_count": 8,
   "metadata": {},
   "outputs": [],
   "source": [
    "resume = \"\"\"\n",
    "Jakub Drdak \n",
    "+420 XXX XXX XXX \n",
    "x@gmail.com \n",
    "linkedin.com/in/xxx \n",
    "\n",
    "# Bio\n",
    "\n",
    "Machine Learning and AI Specialist with 6+ years of experience having driven advancements in advertising and recommender systems at Seznam.cz, a leading Czech tech company. I’ve led research teams, tackled large-scale data projects, and initiated and driven complex strategic initiatives. I’m also a seasoned speaker and event organiser, with a few co-authored papers in top conferences such as RECSYS and SIGIR. I highly value and foster teamwork and cross-functional collaboration and enjoy seeking ways to present complex problems and findings in a clear and understandable manner for everyone. \n",
    "\n",
    "# Experience \n",
    "\n",
    "## Study and Travel \n",
    "\n",
    "Nov. 2022 - present \n",
    "\n",
    "- Language Proficiency: Traveled and studied to achieve proficiency in English, enabling effective collaboration in international teams. Enrolled in intensive courses of English and Spanish, achieved conversational proficiency in English and basic Spanish skills.\n",
    "- Continuous Learning: Maintained up-to-date knowledge of AI advancements by enrolling in AI courses, and attending AI meetups in Sydney, Australia. \n",
    "\n",
    "## Head of Research Departmen \n",
    "\n",
    "Aug. 2019 - Nov. 2022\n",
    "\n",
    "- Leadership: Managed the research department of the Advertising System division at Seznam.cz, a prominent Czech tech and media company, reaching millions of users with its proprietary advertising system and search engine. \n",
    "- Team Expansion and Organization: Led the expansion of the research department by 300% (from 6 to 24 members), establishing 5 specialized teams focused on sponsored search, display advertising, targeting, recommender systems, and operational research. Implemented a hybrid organizational structure (replacing the centralized structure) to foster greater cross-team collaboration, innovation and research throughput. \n",
    "- Project Management: Directed research teams, collaborated on setting project priorities both within individual teams and across the division. Initiated and drove strategic multi-team and cross-functional projects, defined requirements, and facilitated collaboration to ensure successful outcomes. Projects included: \n",
    "    * A universal A/B/n testing platform spanning the entire advertising and recommender systems \n",
    "    * Development of Machine Learning platforms to substantially accelerate the ML project life-cycle Kubeflow \n",
    "    * A Data Quality platform to ensure high standards in data handling and analysis \n",
    "- Process and Framework Development: Co-developed and implemented: \n",
    "    * A competency and continuous education framework \n",
    "    * An improved internal hiring process \n",
    "    * A management platform for research environments, enabling fast initialization, reliability, and reproducibility of research projects. MLFlow, CI, OpenStack \n",
    "- Strategic Communication: Engaged daily with developers, product managers, project managers, and business managers across the division, as well as on a regular basis with other divisions. Developed and presented vision and strategy to top management. \n",
    "\n",
    "## Research Team Leader \n",
    "\n",
    "Feb. 2019 - Aug. 2019\n",
    "\n",
    "- Team Leadership: Managed a team of Applied Machine Learning Scientists, fostering close collaboration with development teams. \n",
    "- Project Leadership: Directed and managed research projects, ensuring alignment with strategic goals. \n",
    "- Cross-functional Communication: Coordinated with product managers and development team leaders to gather and convey requests and priorities, enhancing collaboration and efficiency. \n",
    "- Research Contributions: Conducted and led research on video recommendation for a streaming service, resulting in a significant 28% increase in user engagement and publication (short paper) at RecSys 2020. \n",
    "- Technological Transformation: Oversaw the successful transition from linear model-based to neural network-based online machine learning. Tensorflow \n",
    "- Best Practices Development: Co-developed and implemented best practices for the ML project life-cycle and software development. Gitlab, Docker, YouTrack, Scrum \n",
    "- Strategic Planning: Contributed to the strategic planning and prioritization of recommender systems development. \n",
    "\n",
    "## Applied Machine Learning Scientist \n",
    "\n",
    "Nov. 2016 - Feb. 2019\n",
    "\n",
    "- Recommender Systems Development: Worked on recommender systems (e.g., collaborative filtering, online ML learning) for lifestyle, news, and video content, reaching over half of the Czech internet population. This resulted in a substantial double-digit increase in key performance metrics. \n",
    "- Data Processing and Analysis: Processed and analyzed terabytes of logs daily using an on-premise cluster. Developed and maintained a proprietary framework for data manipulation and quality checks. PySpark \n",
    "- Collaboration and Code Review: Worked closely with the ML engineering team to reimplement prototypes into the production environment and review production code. Participated in planning and prioritization meetings. \n",
    "- Highlighted projects: \n",
    "    * Model Improvement: Continuously improved online machine learning models through data cleaning, feature selection/extraction/engineering techniques, and conducting numerous offline and online tests. Vowpal Wabbit \n",
    "    * Recommendation Diversification: Developed an approach for recommendation diversification based on clustering of semantic and text vectors. scikit-learn \n",
    "    * Hyperparameter Optimization: Developed an approach based on the Nelder-Mead method, enabling real-time adjustments based on online metrics (e.g., user engagement). Python \n",
    "    * Offline Evaluation Framework: Created a framework for offline evaluation of models based on matrix factorization, leading to informed deployment and improved performance in online metrics. Python \n",
    "    * A/B/n Test Evaluation: Coauthored a proprietary library for A/B/n test evaluation based on a frequentist approach. Designed, evaluated, and interpreted results of A/B/n tests. Python, Pyspark, Statmodels \n",
    "    * Production Implementation: Implemented the machine learning component of a recommender system based on matrix factorization into production, significantly optimizing its memory efficiency and performance. NumPy, multiprocessing \n",
    "    * Contextual Bandits Research: Focused research on the field of contextual bandits, leading to collaboration with the counterpart research department and a publication (short paper) at SIGIR 2019. \n",
    "\n",
    "## Data Analyst \n",
    "\n",
    "Jul. 2015 - Jan. 2020\n",
    "\n",
    "- Data Processing and Analysis: Processed, cleaned, and analyzed data from various sources, including database dumps, Excel files, and scraped web pages. SQL, Python \n",
    "- Data Visualization: Generated charts and visualizations to represent data trends and insights. Python, Matplotlib \n",
    "- Report Automation: Developed automation scripts to generate essential annual reports that guided decisions on allocating financial support to research institutions across the Czech Republic. Python, pandas, Git\n",
    "- Collaboration and Presentation: Worked closely with the IT department and presented findings and recommendations to stakeholders through detailed reports and presentations. \n",
    "\n",
    "# Education \n",
    "\n",
    "- Master’s degree in Knowledge Engineering \n",
    "- Bachelor’s degree in Information Systems and Management \n",
    "\n",
    "# Publication \n",
    "\n",
    "- Combining Models for Better User Satisfaction in Video Recommendation RECSYS 2020 \n",
    "- Vertical Search Blending - A Real-world Counterfactual Dataset SIGIR 2019 \n",
    "\n",
    "# Others \n",
    "\n",
    "- Co-authored a workshop on recommender systems \n",
    "- Presented on AI to 300 attendees with minimal or no background in AI \n",
    "- Led the organization of an AI meetup, attracting over 140 attendees \n",
    "- Representation and Engagement - Represented Seznam.cz at numerous events, including job fairs and meetups \n",
    "\n",
    "# Technical Skills \n",
    "\n",
    "- Languages: Proficient in: Python, SQL | Basic knowledge of: C/C++, JavaScript, HTML/CSS, R, Scala \n",
    "- Machine Learning: Scikit-Learn, Vowpal Wabbit, NumPy, Statsmodels, SciPy, PyTorch, MLFlow \n",
    "- Data Processing: Apache Spark, Hadoop, pandas, SQL | Basic knowledge of: AWS \n",
    "- Data Visualisation: Matplotlib, Plotly, Seaborn, Dash \n",
    "- Tools: Git, Docker, JupyterLab, VS Code, Scrum methodologies \n",
    "\n",
    "\n",
    "# Soft Skills \n",
    "\n",
    "- Leadership and Team Management \n",
    "- Strategic Planning and Execution \n",
    "- Cross-functional Collaboration \n",
    "- Effective Communication and Public Speaking \n",
    "- Event Organization and Management \n",
    "- Problem-solving and Critical Thinking Language \n",
    "- Proficiency: Czech, Conversational English, Basic Spanish, Basic German\n",
    "\"\"\"\n"
   ]
  }
 ],
 "metadata": {
  "kernelspec": {
   "display_name": ".venv",
   "language": "python",
   "name": "python3"
  },
  "language_info": {
   "codemirror_mode": {
    "name": "ipython",
    "version": 3
   },
   "file_extension": ".py",
   "mimetype": "text/x-python",
   "name": "python",
   "nbconvert_exporter": "python",
   "pygments_lexer": "ipython3",
   "version": "3.11.4"
  }
 },
 "nbformat": 4,
 "nbformat_minor": 2
}
