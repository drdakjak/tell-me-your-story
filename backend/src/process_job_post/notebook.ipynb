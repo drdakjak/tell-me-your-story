{
 "cells": [
  {
   "cell_type": "code",
   "execution_count": 4,
   "metadata": {},
   "outputs": [
    {
     "name": "stdout",
     "output_type": "stream",
     "text": [
      "The autoreload extension is already loaded. To reload it, use:\n",
      "  %reload_ext autoreload\n"
     ]
    }
   ],
   "source": [
    "import json\n",
    "\n",
    "from backend.src.process_job_post.processor import process_job_post\n",
    "from prompt import JOB_POST_ANALYST\n",
    "from handler import handler\n",
    "\n",
    "%load_ext autoreload\n",
    "%autoreload 2"
   ]
  },
  {
   "cell_type": "code",
   "execution_count": 6,
   "metadata": {},
   "outputs": [
    {
     "data": {
      "text/plain": [
       "'{\"body\": {\"job_post\": \"\\\\nClipchamp is the go-to video platform with one simple mission: to empower anyone to tell stories worth sharing. Since 2016 we\\\\u2019ve attracted over seventeen million registered users globally and counting, and that\\\\u2019s only the beginning. We\\'ve now joined Microsoft\\'s Office Product Group (OPG).\\\\n\\\\nBuilding and maintaining strong connections across location and time is critical in the world we live in, and the emotional power of media \\\\u2013 video, audio, and photos \\\\u2013 makes it perfect for fostering personal connections and sharing information.\\\\n\\\\nOur in-browser platform gives users access to professional video editing tools and features alongside a one million asset-strong stock library and hundreds of editable video templates. We\\'re the video platform that\\'s built with everyday editors and creators in mind.\\\\n\\\\nWhile Clipchamp is predominantly based in Australia, Office Product Group is a global team with offices\\\\u202fin five countries. Joining Clipchamp means you\\'ll join a team of colleagues who live all around the world. We\\\\u2019re\\\\u202fcommitted to each team member feeling connected, regardless of where they work and live.\\\\n\\\\nAt Clipchamp, we endeavour to innovate. We believe the path to innovation lies in valuing questions, craving feedback and exploring new ideas. Team members are encouraged to take ownership and drive change, and we\\\\u2019ll support you in receiving the resources needed to get the job done.\\\\n\\\\nMicrosoft\\\\u2019s mission is to empower every person and every organization on the planet to achieve more. As employees we come together with a growth mindset, innovate to empower others, and collaborate to realize our shared goals. Each day we build on our values of respect, integrity, and accountability to create a culture of inclusion where everyone can thrive at work and beyond.\\\\n\\\\nIn alignment with our Microsoft values, we are committed to cultivating an inclusive work environment for all employees to positively impact our culture every day.\\\\n\\\\nResponsibilities\\\\n\\\\nAnalyse Data: Use statistical tools to identify, analyse, and interpret patterns and trends in complex data sets that can assist in diagnosis and prediction. \\\\nPrepare Reports: Prepare and present reports to management, highlighting trends, patterns, and predictions using relevant data. \\\\nSupport Data Engineering: Assist data engineers in transforming raw data and modelling. \\\\nReporting and Visualization: Design dashboards, create visualizations, and automate report generation. \\\\nCross-functional Collaboration: Work closely with product teams, leadership, and other departments. \\\\nData Strategy: Contribute to data strategy, conduct feasibility studies, and identify innovation opportunities. \\\\nA/B Experimentation: Help teams design insightful experiments and interpret results as part of our data-driven culture. \\\\nPromote Data Literacy: Help spread data literacy across the company. \\\\n\\\\nQualifications\\\\n\\\\nRequired Qualifications\\\\n\\\\nDoctorate in Data Science, Mathematics, Statistics, Econometrics, Economics, Operations Research, Computer Science, or related field\\\\nOR Master\\'s Degree in Data Science, Mathematics, Statistics, Econometrics, Economics, Operations Research, Computer Science, or related field AND 1+ year(s) data-science experience (e.g., managing structured and unstructured data, applying statistical tec\\\\nOR Bachelor\\'s Degree in Data Science, Mathematics, Statistics, Econometrics, Economics, Operations Research, Computer Science, or related field AND 2+ years data-science experience (e.g., managing structured and unstructured data, applying statistical tec\\\\nOR equivalent experience.\\\\n1+ year(s) customer-facing, project-delivery experience, professional services, and/or consulting experience.\\\\nGreat communicator with stakeholder management skills. \\\\nAnalytical and critical thinker who can look beyond the question to identify the real problems. \\\\nStrong mathematical aptitude, with good understanding of probability and statistics. \\\\nData Visualization (PowerBI is a bonus) \\\\nStrong programming skills in Python, R, or SQL. \\\\nUnderstanding of ETL pipelines.\\\\nOther Requirements\\\\n\\\\nAbility to meet Microsoft, customer and/or government security screening requirements are required for this role. These requirements include, but are not limited to the following specialized security screenings: \\\\n\\\\nMicrosoft Cloud Background Check: This position will be required to pass the Microsoft Cloud Background Check upon hire/transfer and every two years thereafter. \\\\n\\\\nPreferred Qualifications\\\\n\\\\nBachelor\\'s Degree in Data Science, Mathematics, Statistics, Econometrics, Economics, Operations Research, Computer Science,\\\\nOR related field AND 5+ years data-science experience (e.g., managing structured and unstructured data, applying statistical techniques and reporting results)\\\\nOR equivalent experience.\\\\nLove online video, solving new, challenging problems \\\\nHave start-up experience \\\\u2013 ever changing landscape, experimentation, innovation, and direct impact on the direction of the company \\\\nHave hands on experience with modern product stack for road mapping, documentation, sprint planning, research and more \\\\nExperience with big data technologies and cloud platforms. \\\\nFamiliarity with machine learning and predictive modelling. \\\\nMicrosoft is an equal opportunity employer. Consistent with applicable law, all qualified applicants will receive consideration for employment without regard to age, ancestry, citizenship, color, family or medical care leave, gender identity or expression, genetic information, immigration status, marital status, medical condition, national origin, physical or mental disability, political affiliation, protected veteran or military status, race, ethnicity, religion, sex (including pregnancy), sexual orientation, or any other characteristic protected by applicable local laws, regulations and ordinances. If you need assistance and/or a reasonable accommodation due to a disability during the application process, read more about requesting accommodations.\\\\n\"}, \"requestContext\": {\"authorizer\": {\"claims\": {\"sub\": \"1234567890\"}}}}'"
      ]
     },
     "execution_count": 6,
     "metadata": {},
     "output_type": "execute_result"
    }
   ],
   "source": [
    "json.dumps(event)"
   ]
  },
  {
   "cell_type": "code",
   "execution_count": 5,
   "metadata": {},
   "outputs": [],
   "source": [
    "with open('./events/event.json') as f:\n",
    "    event = json.load(f)\n",
    "    handler(json.dumps(event), None)\n",
    "\n"
   ]
  },
  {
   "cell_type": "code",
   "execution_count": 5,
   "metadata": {},
   "outputs": [],
   "source": []
  },
  {
   "cell_type": "code",
   "execution_count": 44,
   "metadata": {},
   "outputs": [],
   "source": [
    "job_post_1 = \"\"\"\n",
    "Minimum qualifications:\n",
    "\n",
    "Bachelor’s degree in Computer Science, or equivalent practical experience.\n",
    "2 years of experience with software development in one or more programming languages, or 1 year of experience with an advanced degree.\n",
    "2 years of experience with data structures or algorithms.\n",
    "2 years of experience with machine learning algorithms and tools (e.g., TensorFlow), artificial intelligence, deep learning, or natural language processing.\n",
    "\n",
    "Preferred qualifications:\n",
    "\n",
    "PhD in Machine Learning or a related field.\n",
    "Experience with Supervised Fine-Tuning (SFT) and Reinforcement Learning with Human Feedback (RLHF).\n",
    "Experience working with Large Language Models (LLMs).\n",
    "Ability to grow under pressure in high-stakes, high-visibility environments.\n",
    "Excellent data analysis skills.\n",
    "\n",
    "About The Job\n",
    "\n",
    "Google's software engineers develop the next-generation technologies that change how billions of users connect, explore, and interact with information and one another. Our products need to handle information at massive scale, and extend well beyond web search. We're looking for engineers who bring fresh ideas from all areas, including information retrieval, distributed computing, large-scale system design, networking and data storage, security, artificial intelligence, natural language processing, UI design and mobile; the list goes on and is growing every day. As a software engineer, you will work on a specific project critical to Google’s needs with opportunities to switch teams and projects as you and our fast-paced business grow and evolve. We need our engineers to be versatile, display leadership qualities and be enthusiastic to take on new problems across the full-stack as we continue to push technology forward.\n",
    "\n",
    "The team is working on all Multimodal efforts across Gemini. We launched image retrieval, image understanding and generation. This includes a significant amount of deep modeling such as Supervised Fine-Tuning (SFT), Reinforcement Learning with Human Feedback (RLHF), and iterative process optimization (IPO) establishing data flywheel, etc. Part of the team is also involved in building necessary infrastructure and landing multimodal model capabilities and features.\n",
    "\n",
    "In this role, you will have significant external impact, offering tremendous potential for growth and increased responsibility.\n",
    "\n",
    "A conversational AI tool that enables users to collaborate with generative AI and help augment their imagination, expand their curiosity, and enhance their productivity.\n",
    "\n",
    "Responsibilities\n",
    "\n",
    "Collaborate with Research teams to understand technologies, adapting and integrating them into Gemini/Bard to drive continuous improvement.\n",
    "Leverage Supervised Fine-Tuning (SFT), Reinforcement Learning with Human Feedback (RLHF), and Preference Optimization (IPO) to quality hill climb.\n",
    "Conduct in-depth data analysis to uncover insights, pinpoint opportunities, and inform the strategic development of a data flywheel.\n",
    "\n",
    "\n",
    "Google is proud to be an equal opportunity workplace and is an affirmative action employer. We are committed to equal employment opportunity regardless of race, color, ancestry, religion, sex, national origin, sexual orientation, age, citizenship, marital status, disability, gender identity or Veteran status. We also consider qualified applicants regardless of criminal histories, consistent with legal requirements. See also Google's EEO Policy and EEO is the Law. If you have a disability or special need that requires accommodation, please let us know by completing our Accommodations for Applicants form .\n",
    "\"\"\""
   ]
  },
  {
   "cell_type": "code",
   "execution_count": 45,
   "metadata": {},
   "outputs": [],
   "source": [
    "job_post_2 = \"\"\"\n",
    "Clipchamp is the go-to video platform with one simple mission: to empower anyone to tell stories worth sharing. Since 2016 we’ve attracted over seventeen million registered users globally and counting, and that’s only the beginning. We've now joined Microsoft's Office Product Group (OPG).\n",
    "\n",
    "Building and maintaining strong connections across location and time is critical in the world we live in, and the emotional power of media – video, audio, and photos – makes it perfect for fostering personal connections and sharing information.\n",
    "\n",
    "Our in-browser platform gives users access to professional video editing tools and features alongside a one million asset-strong stock library and hundreds of editable video templates. We're the video platform that's built with everyday editors and creators in mind.\n",
    "\n",
    "While Clipchamp is predominantly based in Australia, Office Product Group is a global team with offices in five countries. Joining Clipchamp means you'll join a team of colleagues who live all around the world. We’re committed to each team member feeling connected, regardless of where they work and live.\n",
    "\n",
    "At Clipchamp, we endeavour to innovate. We believe the path to innovation lies in valuing questions, craving feedback and exploring new ideas. Team members are encouraged to take ownership and drive change, and we’ll support you in receiving the resources needed to get the job done.\n",
    "\n",
    "Microsoft’s mission is to empower every person and every organization on the planet to achieve more. As employees we come together with a growth mindset, innovate to empower others, and collaborate to realize our shared goals. Each day we build on our values of respect, integrity, and accountability to create a culture of inclusion where everyone can thrive at work and beyond.\n",
    "\n",
    "In alignment with our Microsoft values, we are committed to cultivating an inclusive work environment for all employees to positively impact our culture every day.\n",
    "\n",
    "Responsibilities\n",
    "\n",
    "Analyse Data: Use statistical tools to identify, analyse, and interpret patterns and trends in complex data sets that can assist in diagnosis and prediction. \n",
    "Prepare Reports: Prepare and present reports to management, highlighting trends, patterns, and predictions using relevant data. \n",
    "Support Data Engineering: Assist data engineers in transforming raw data and modelling. \n",
    "Reporting and Visualization: Design dashboards, create visualizations, and automate report generation. \n",
    "Cross-functional Collaboration: Work closely with product teams, leadership, and other departments. \n",
    "Data Strategy: Contribute to data strategy, conduct feasibility studies, and identify innovation opportunities. \n",
    "A/B Experimentation: Help teams design insightful experiments and interpret results as part of our data-driven culture. \n",
    "Promote Data Literacy: Help spread data literacy across the company. \n",
    "\n",
    "Qualifications\n",
    "\n",
    "Required Qualifications\n",
    "\n",
    "Doctorate in Data Science, Mathematics, Statistics, Econometrics, Economics, Operations Research, Computer Science, or related field\n",
    "OR Master's Degree in Data Science, Mathematics, Statistics, Econometrics, Economics, Operations Research, Computer Science, or related field AND 1+ year(s) data-science experience (e.g., managing structured and unstructured data, applying statistical tec\n",
    "OR Bachelor's Degree in Data Science, Mathematics, Statistics, Econometrics, Economics, Operations Research, Computer Science, or related field AND 2+ years data-science experience (e.g., managing structured and unstructured data, applying statistical tec\n",
    "OR equivalent experience.\n",
    "1+ year(s) customer-facing, project-delivery experience, professional services, and/or consulting experience.\n",
    "Great communicator with stakeholder management skills. \n",
    "Analytical and critical thinker who can look beyond the question to identify the real problems. \n",
    "Strong mathematical aptitude, with good understanding of probability and statistics. \n",
    "Data Visualization (PowerBI is a bonus) \n",
    "Strong programming skills in Python, R, or SQL. \n",
    "Understanding of ETL pipelines.\n",
    "Other Requirements\n",
    "\n",
    "Ability to meet Microsoft, customer and/or government security screening requirements are required for this role. These requirements include, but are not limited to the following specialized security screenings: \n",
    "\n",
    "Microsoft Cloud Background Check: This position will be required to pass the Microsoft Cloud Background Check upon hire/transfer and every two years thereafter. \n",
    "\n",
    "Preferred Qualifications\n",
    "\n",
    "Bachelor's Degree in Data Science, Mathematics, Statistics, Econometrics, Economics, Operations Research, Computer Science,\n",
    "OR related field AND 5+ years data-science experience (e.g., managing structured and unstructured data, applying statistical techniques and reporting results)\n",
    "OR equivalent experience.\n",
    "Love online video, solving new, challenging problems \n",
    "Have start-up experience – ever changing landscape, experimentation, innovation, and direct impact on the direction of the company \n",
    "Have hands on experience with modern product stack for road mapping, documentation, sprint planning, research and more \n",
    "Experience with big data technologies and cloud platforms. \n",
    "Familiarity with machine learning and predictive modelling. \n",
    "Microsoft is an equal opportunity employer. Consistent with applicable law, all qualified applicants will receive consideration for employment without regard to age, ancestry, citizenship, color, family or medical care leave, gender identity or expression, genetic information, immigration status, marital status, medical condition, national origin, physical or mental disability, political affiliation, protected veteran or military status, race, ethnicity, religion, sex (including pregnancy), sexual orientation, or any other characteristic protected by applicable local laws, regulations and ordinances. If you need assistance and/or a reasonable accommodation due to a disability during the application process, read more about requesting accommodations.\n",
    "\"\"\""
   ]
  },
  {
   "cell_type": "code",
   "execution_count": 8,
   "metadata": {},
   "outputs": [
    {
     "name": "stdout",
     "output_type": "stream",
     "text": [
      "You are an expert Resume Analyzer and Job Requirement Extractor. Your task is to thoroughly analyze the given job post and extract the following information:\n",
      "\n",
      "Required Qualifications: List all mandatory qualifications, skills, or experiences explicitly stated as required in the job post.\n",
      "Preferred Qualifications: Identify and list any qualifications, skills, or experiences mentioned as preferred, desired, or beneficial but not explicitly required.\n",
      "Key Technical Skills: Extract and list all technical skills, tools, programming languages, or software mentioned in the job post.\n",
      "Soft Skills: Identify and list any soft skills or personal attributes mentioned (e.g., communication, teamwork, leadership).\n",
      "Education Requirements: Note any specific educational qualifications mentioned.\n",
      "Experience Level: Determine the level of experience required or preferred for the position.\n",
      "Industry-Specific Keywords: Identify and list any industry-specific terms, jargon, or buzzwords used in the job post.\n",
      "Responsibilities and Duties: Summarize the main responsibilities and duties of the role.\n",
      "Company Values or Culture Fit: Note any mentions of company culture, values, or desired personality traits.\n",
      "\n",
      "For each item extracted, clearly indicate whether it is a required or preferred qualification.\n",
      "Important: When extracting requirements, pay special attention to disjunctive requirements (those connected by \"or\" or similar language indicating alternatives). Group disjunctive requirements as a single requirement. For example:\n",
      "\n",
      "\"Bachelor's degree in Computer Science or related field\" should be listed as one requirement.\n",
      "\"5+ years of experience with Java or C++\" should be treated as a single requirement.\n",
      "\n"
     ]
    }
   ],
   "source": [
    "print(JOB_POST_ANALYST)"
   ]
  },
  {
   "cell_type": "code",
   "execution_count": 10,
   "metadata": {},
   "outputs": [],
   "source": [
    "response = process_job_post(job_post_1)\n",
    "response"
   ]
  }
 ],
 "metadata": {
  "kernelspec": {
   "display_name": ".venv",
   "language": "python",
   "name": "python3"
  },
  "language_info": {
   "codemirror_mode": {
    "name": "ipython",
    "version": 3
   },
   "file_extension": ".py",
   "mimetype": "text/x-python",
   "name": "python",
   "nbconvert_exporter": "python",
   "pygments_lexer": "ipython3",
   "version": "3.11.4"
  }
 },
 "nbformat": 4,
 "nbformat_minor": 2
}
