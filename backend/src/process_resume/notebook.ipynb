{
 "cells": [
  {
   "cell_type": "code",
   "execution_count": 1,
   "metadata": {},
   "outputs": [],
   "source": [
    "from typing import List\n",
    "from dotenv import load_dotenv\n",
    "from langchain_core.pydantic_v1 import BaseModel, Field\n",
    "from langchain_openai import ChatOpenAI\n",
    "from langchain_core.messages import HumanMessage, SystemMessage\n",
    "\n",
    "\n",
    "from prompt import JOB_POST_ANALYST\n",
    "from config import MODEL_NAME"
   ]
  },
  {
   "cell_type": "code",
   "execution_count": 2,
   "metadata": {},
   "outputs": [],
   "source": [
    "%load_ext autoreload\n",
    "%autoreload 2"
   ]
  },
  {
   "cell_type": "code",
   "execution_count": 3,
   "metadata": {},
   "outputs": [
    {
     "data": {
      "text/plain": [
       "True"
      ]
     },
     "execution_count": 3,
     "metadata": {},
     "output_type": "execute_result"
    }
   ],
   "source": [
    "load_dotenv()"
   ]
  },
  {
   "cell_type": "code",
   "execution_count": 4,
   "metadata": {},
   "outputs": [],
   "source": [
    "class SemanticSection(BaseModel):\n",
    "    title: str = Field(description=\"Title of the section\")\n",
    "    content: str = Field(description=\"Content of the section\")\n",
    "\n",
    "class Sections(BaseModel):\n",
    "    sections: List[SemanticSection] = Field(description=\"List of sections\")"
   ]
  },
  {
   "cell_type": "code",
   "execution_count": 5,
   "metadata": {},
   "outputs": [],
   "source": [
    "resume = \"\"\"\n",
    "Clipchamp is the go-to video platform with one simple mission: to empower anyone to tell stories worth sharing. Since 2016 we’ve attracted over seventeen million registered users globally and counting, and that’s only the beginning. We've now joined Microsoft's Office Product Group (OPG).\n",
    "\n",
    "Building and maintaining strong connections across location and time is critical in the world we live in, and the emotional power of media – video, audio, and photos – makes it perfect for fostering personal connections and sharing information.\n",
    "\n",
    "Our in-browser platform gives users access to professional video editing tools and features alongside a one million asset-strong stock library and hundreds of editable video templates. We're the video platform that's built with everyday editors and creators in mind.\n",
    "\n",
    "While Clipchamp is predominantly based in Australia, Office Product Group is a global team with offices in five countries. Joining Clipchamp means you'll join a team of colleagues who live all around the world. We’re committed to each team member feeling connected, regardless of where they work and live.\n",
    "\n",
    "At Clipchamp, we endeavour to innovate. We believe the path to innovation lies in valuing questions, craving feedback and exploring new ideas. Team members are encouraged to take ownership and drive change, and we’ll support you in receiving the resources needed to get the job done.\n",
    "\n",
    "Microsoft’s mission is to empower every person and every organization on the planet to achieve more. As employees we come together with a growth mindset, innovate to empower others, and collaborate to realize our shared goals. Each day we build on our values of respect, integrity, and accountability to create a culture of inclusion where everyone can thrive at work and beyond.\n",
    "\n",
    "In alignment with our Microsoft values, we are committed to cultivating an inclusive work environment for all employees to positively impact our culture every day.\n",
    "\n",
    "Responsibilities\n",
    "\n",
    "Analyse Data: Use statistical tools to identify, analyse, and interpret patterns and trends in complex data sets that can assist in diagnosis and prediction. \n",
    "Prepare Reports: Prepare and present reports to management, highlighting trends, patterns, and predictions using relevant data. \n",
    "Support Data Engineering: Assist data engineers in transforming raw data and modelling. \n",
    "Reporting and Visualization: Design dashboards, create visualizations, and automate report generation. \n",
    "Cross-functional Collaboration: Work closely with product teams, leadership, and other departments. \n",
    "Data Strategy: Contribute to data strategy, conduct feasibility studies, and identify innovation opportunities. \n",
    "A/B Experimentation: Help teams design insightful experiments and interpret results as part of our data-driven culture. \n",
    "Promote Data Literacy: Help spread data literacy across the company. \n",
    "\n",
    "Qualifications\n",
    "\n",
    "Required Qualifications\n",
    "\n",
    "Doctorate in Data Science, Mathematics, Statistics, Econometrics, Economics, Operations Research, Computer Science, or related field\n",
    "OR Master's Degree in Data Science, Mathematics, Statistics, Econometrics, Economics, Operations Research, Computer Science, or related field AND 1+ year(s) data-science experience (e.g., managing structured and unstructured data, applying statistical tec\n",
    "OR Bachelor's Degree in Data Science, Mathematics, Statistics, Econometrics, Economics, Operations Research, Computer Science, or related field AND 2+ years data-science experience (e.g., managing structured and unstructured data, applying statistical tec\n",
    "OR equivalent experience.\n",
    "1+ year(s) customer-facing, project-delivery experience, professional services, and/or consulting experience.\n",
    "Great communicator with stakeholder management skills. \n",
    "Analytical and critical thinker who can look beyond the question to identify the real problems. \n",
    "Strong mathematical aptitude, with good understanding of probability and statistics. \n",
    "Data Visualization (PowerBI is a bonus) \n",
    "Strong programming skills in Python, R, or SQL. \n",
    "Understanding of ETL pipelines.\n",
    "Other Requirements\n",
    "\n",
    "Ability to meet Microsoft, customer and/or government security screening requirements are required for this role. These requirements include, but are not limited to the following specialized security screenings: \n",
    "\n",
    "Microsoft Cloud Background Check: This position will be required to pass the Microsoft Cloud Background Check upon hire/transfer and every two years thereafter. \n",
    "\n",
    "Preferred Qualifications\n",
    "\n",
    "Bachelor's Degree in Data Science, Mathematics, Statistics, Econometrics, Economics, Operations Research, Computer Science,\n",
    "OR related field AND 5+ years data-science experience (e.g., managing structured and unstructured data, applying statistical techniques and reporting results)\n",
    "OR equivalent experience.\n",
    "Love online video, solving new, challenging problems \n",
    "Have start-up experience – ever changing landscape, experimentation, innovation, and direct impact on the direction of the company \n",
    "Have hands on experience with modern product stack for road mapping, documentation, sprint planning, research and more \n",
    "Experience with big data technologies and cloud platforms. \n",
    "Familiarity with machine learning and predictive modelling. \n",
    "Microsoft is an equal opportunity employer. Consistent with applicable law, all qualified applicants will receive consideration for employment without regard to age, ancestry, citizenship, color, family or medical care leave, gender identity or expression, genetic information, immigration status, marital status, medical condition, national origin, physical or mental disability, political affiliation, protected veteran or military status, race, ethnicity, religion, sex (including pregnancy), sexual orientation, or any other characteristic protected by applicable local laws, regulations and ordinances. If you need assistance and/or a reasonable accommodation due to a disability during the application process, read more about requesting accommodations.\n",
    "\"\"\""
   ]
  },
  {
   "cell_type": "code",
   "execution_count": 6,
   "metadata": {},
   "outputs": [],
   "source": [
    "model = ChatOpenAI(model=MODEL_NAME, temperature=0, verbose=True)\n"
   ]
  },
  {
   "cell_type": "code",
   "execution_count": 8,
   "metadata": {},
   "outputs": [],
   "source": [
    "\n",
    "messages = [\n",
    "    SystemMessage(\n",
    "        content=JOB_POST_ANALYST\n",
    "    ),\n",
    "    HumanMessage(\n",
    "        content=job_description\n",
    "    )\n",
    "]\n",
    "\n",
    "# Define a chat model and invoke it with the messages\n",
    "response = model.with_structured_output(Sections).invoke(messages)"
   ]
  },
  {
   "cell_type": "code",
   "execution_count": 9,
   "metadata": {},
   "outputs": [
    {
     "data": {
      "text/plain": [
       "[JobRequirement(requirement=\"Doctorate in Data Science, Mathematics, Statistics, Econometrics, Economics, Operations Research, Computer Science, or related field OR Master's Degree in Data Science, Mathematics, Statistics, Econometrics, Economics, Operations Research, Computer Science, or related field AND 1+ year(s) data-science experience OR Bachelor's Degree in Data Science, Mathematics, Statistics, Econometrics, Economics, Operations Research, Computer Science, or related field AND 2+ years data-science experience OR equivalent experience\", required=True),\n",
       " JobRequirement(requirement='1+ year(s) customer-facing, project-delivery experience, professional services, and/or consulting experience', required=True),\n",
       " JobRequirement(requirement='Great communicator with stakeholder management skills', required=True),\n",
       " JobRequirement(requirement='Analytical and critical thinker who can look beyond the question to identify the real problems', required=True),\n",
       " JobRequirement(requirement='Strong mathematical aptitude, with good understanding of probability and statistics', required=True),\n",
       " JobRequirement(requirement='Data Visualization (PowerBI is a bonus)', required=False),\n",
       " JobRequirement(requirement='Strong programming skills in Python, R, or SQL', required=True),\n",
       " JobRequirement(requirement='Understanding of ETL pipelines', required=True),\n",
       " JobRequirement(requirement=\"Bachelor's Degree in Data Science, Mathematics, Statistics, Econometrics, Economics, Operations Research, Computer Science, or related field AND 5+ years data-science experience OR equivalent experience\", required=False),\n",
       " JobRequirement(requirement='Love online video, solving new, challenging problems', required=False),\n",
       " JobRequirement(requirement='Have start-up experience – ever changing landscape, experimentation, innovation, and direct impact on the direction of the company', required=False),\n",
       " JobRequirement(requirement='Have hands on experience with modern product stack for road mapping, documentation, sprint planning, research and more', required=False),\n",
       " JobRequirement(requirement='Experience with big data technologies and cloud platforms', required=False),\n",
       " JobRequirement(requirement='Familiarity with machine learning and predictive modelling', required=False),\n",
       " JobRequirement(requirement='Ability to meet Microsoft, customer and/or government security screening requirements', required=True)]"
      ]
     },
     "execution_count": 9,
     "metadata": {},
     "output_type": "execute_result"
    }
   ],
   "source": [
    "response.job_requirements"
   ]
  },
  {
   "cell_type": "code",
   "execution_count": 10,
   "metadata": {},
   "outputs": [
    {
     "data": {
      "text/plain": [
       "['data science',\n",
       " 'statistical tools',\n",
       " 'data analysis',\n",
       " 'data engineering',\n",
       " 'data visualization',\n",
       " 'ETL pipelines',\n",
       " 'Python',\n",
       " 'R',\n",
       " 'SQL',\n",
       " 'PowerBI',\n",
       " 'big data technologies',\n",
       " 'cloud platforms',\n",
       " 'machine learning',\n",
       " 'predictive modelling',\n",
       " 'stakeholder management',\n",
       " 'customer-facing experience',\n",
       " 'project delivery',\n",
       " 'consulting experience',\n",
       " 'analytical thinking',\n",
       " 'mathematical aptitude',\n",
       " 'data literacy',\n",
       " 'A/B experimentation',\n",
       " 'cross-functional collaboration',\n",
       " 'data strategy']"
      ]
     },
     "execution_count": 10,
     "metadata": {},
     "output_type": "execute_result"
    }
   ],
   "source": [
    "response.key_words"
   ]
  },
  {
   "cell_type": "code",
   "execution_count": null,
   "metadata": {},
   "outputs": [],
   "source": []
  }
 ],
 "metadata": {
  "kernelspec": {
   "display_name": ".venv",
   "language": "python",
   "name": "python3"
  },
  "language_info": {
   "codemirror_mode": {
    "name": "ipython",
    "version": 3
   },
   "file_extension": ".py",
   "mimetype": "text/x-python",
   "name": "python",
   "nbconvert_exporter": "python",
   "pygments_lexer": "ipython3",
   "version": "3.11.4"
  }
 },
 "nbformat": 4,
 "nbformat_minor": 2
}
