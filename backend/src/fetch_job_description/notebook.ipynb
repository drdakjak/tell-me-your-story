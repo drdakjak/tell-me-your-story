{
 "cells": [
  {
   "cell_type": "code",
   "execution_count": 33,
   "metadata": {},
   "outputs": [],
   "source": [
    "from typing import List\n",
    "from dotenv import load_dotenv\n",
    "\n",
    "from IPython.display import display, Markdown, HTML\n",
    "\n",
    "\n",
    "from langchain_core.pydantic_v1 import BaseModel, Field\n",
    "from langchain_openai import ChatOpenAI\n",
    "from langchain_core.messages import HumanMessage, SystemMessage\n",
    "from langchain_community.document_loaders import SeleniumURLLoader, UnstructuredURLLoader, PlaywrightURLLoader\n",
    "\n",
    "\n",
    "\n",
    "from prompt import JOB_DESCRIPTION_EXTRACTOR\n",
    "from config import MODEL_NAME"
   ]
  },
  {
   "cell_type": "code",
   "execution_count": 2,
   "metadata": {},
   "outputs": [],
   "source": [
    "%load_ext autoreload\n",
    "%autoreload 2"
   ]
  },
  {
   "cell_type": "code",
   "execution_count": 3,
   "metadata": {},
   "outputs": [
    {
     "data": {
      "text/plain": [
       "True"
      ]
     },
     "execution_count": 3,
     "metadata": {},
     "output_type": "execute_result"
    }
   ],
   "source": [
    "load_dotenv()"
   ]
  },
  {
   "cell_type": "code",
   "execution_count": 39,
   "metadata": {},
   "outputs": [],
   "source": [
    "urls = [\n",
    "    # \"https://www.google.com/about/careers/applications/jobs/results/111711038985904838-software-engineering-manager-ii-site-reliability-engineering-shopping\"\n",
    "    \"https://jobs.careers.microsoft.com/global/en/job/1761526/Principal-Applied-Machine-Learning-Engineer\",\n",
    "]\n"
   ]
  },
  {
   "cell_type": "code",
   "execution_count": 14,
   "metadata": {},
   "outputs": [
    {
     "data": {
      "text/plain": [
       "Document(metadata={'source': 'https://www.google.com/about/careers/applications/jobs/results/111711038985904838-software-engineering-manager-ii-site-reliability-engineering-shopping'}, page_content='')"
      ]
     },
     "execution_count": 14,
     "metadata": {},
     "output_type": "execute_result"
    }
   ],
   "source": [
    "loader = UnstructuredURLLoader(urls=urls)\n",
    "\n",
    "data = loader.load()\n",
    "\n",
    "data[0]"
   ]
  },
  {
   "cell_type": "code",
   "execution_count": 15,
   "metadata": {},
   "outputs": [
    {
     "data": {
      "text/plain": [
       "Document(metadata={'source': 'https://www.google.com/about/careers/applications/jobs/results/111711038985904838-software-engineering-manager-ii-site-reliability-engineering-shopping'}, page_content='')"
      ]
     },
     "execution_count": 15,
     "metadata": {},
     "output_type": "execute_result"
    }
   ],
   "source": [
    "loader = PlaywrightURLLoader(urls=urls, remove_selectors=[\"header\", \"footer\"])\n",
    "\n",
    "data = await loader.aload()\n",
    "\n",
    "data[0]"
   ]
  },
  {
   "cell_type": "code",
   "execution_count": 16,
   "metadata": {},
   "outputs": [
    {
     "data": {
      "text/plain": [
       "Document(metadata={'source': 'https://www.google.com/about/careers/applications/jobs/results/111711038985904838-software-engineering-manager-ii-site-reliability-engineering-shopping', 'title': 'Software Engineering Manager II, Site Reliability Engineering, Shopping — Google Careers', 'description': 'No description found.', 'language': 'en-US'}, page_content='')"
      ]
     },
     "execution_count": 16,
     "metadata": {},
     "output_type": "execute_result"
    }
   ],
   "source": [
    "loader = SeleniumURLLoader(urls=urls)\n",
    "\n",
    "data = loader.load()\n",
    "data[0]"
   ]
  },
  {
   "cell_type": "code",
   "execution_count": 18,
   "metadata": {},
   "outputs": [],
   "source": [
    "from selenium import webdriver"
   ]
  },
  {
   "cell_type": "code",
   "execution_count": 19,
   "metadata": {},
   "outputs": [],
   "source": [
    "driver = webdriver.Firefox()"
   ]
  },
  {
   "cell_type": "code",
   "execution_count": 40,
   "metadata": {},
   "outputs": [],
   "source": [
    "driver.get(urls[0])"
   ]
  },
  {
   "cell_type": "code",
   "execution_count": 41,
   "metadata": {},
   "outputs": [],
   "source": [
    "from bs4 import BeautifulSoup"
   ]
  },
  {
   "cell_type": "code",
   "execution_count": 42,
   "metadata": {},
   "outputs": [],
   "source": [
    "soup = BeautifulSoup(driver.page_source, features=\"html.parser\")\n",
    "\n",
    "for script in soup([\"script\", \"style\"]):\n",
    "    script.extract()    # rip it out\n",
    "\n",
    "text = soup.get_text()\n",
    "\n",
    "# break into lines and remove leading and trailing space on each\n",
    "lines = (line.strip() for line in text.splitlines())\n",
    "chunks = (phrase.strip() for line in lines for phrase in line.split(\"  \"))\n",
    "text = '\\n'.join(chunk for chunk in chunks if chunk)\n"
   ]
  },
  {
   "cell_type": "code",
   "execution_count": 59,
   "metadata": {},
   "outputs": [
    {
     "data": {
      "text/plain": [
       "9962"
      ]
     },
     "execution_count": 59,
     "metadata": {},
     "output_type": "execute_result"
    }
   ],
   "source": [
    "len(text)"
   ]
  },
  {
   "cell_type": "code",
   "execution_count": 46,
   "metadata": {},
   "outputs": [],
   "source": [
    "model = ChatOpenAI(model=MODEL_NAME, temperature=0, verbose=True)\n"
   ]
  },
  {
   "cell_type": "code",
   "execution_count": null,
   "metadata": {},
   "outputs": [],
   "source": [
    "import html2text\n"
   ]
  },
  {
   "cell_type": "code",
   "execution_count": 47,
   "metadata": {},
   "outputs": [],
   "source": [
    "\n",
    "messages = [\n",
    "    SystemMessage(\n",
    "        content=JOB_DESCRIPTION_EXTRACTOR\n",
    "    ),\n",
    "    HumanMessage(\n",
    "        content=text\n",
    "    )\n",
    "]\n",
    "\n",
    "# Define a chat model and invoke it with the messages\n",
    "response = model.invoke(messages)"
   ]
  },
  {
   "cell_type": "code",
   "execution_count": 51,
   "metadata": {},
   "outputs": [
    {
     "data": {
      "text/markdown": [
       "**Job Title:** Principal Applied Machine Learning Engineer  \n",
       "**Location:** Redmond, Washington, United States  \n",
       "**Date Posted:** August 28, 2024  \n",
       "**Job Number:** 1761526  \n",
       "**Work Site:** Up to 100% work from home  \n",
       "**Travel:** 0-25%  \n",
       "**Role Type:** Individual Contributor  \n",
       "**Profession:** Research, Applied, & Data Sciences  \n",
       "**Discipline:** Applied Sciences  \n",
       "**Employment Type:** Full-Time  \n",
       "\n",
       "### Overview\n",
       "Microsoft Security is seeking a Principal Applied Machine Learning Engineer to join a dedicated team focused on cybersecurity. The role involves leveraging machine learning and artificial intelligence to address the evolving challenges in digital security. The team aims to create innovative solutions that enhance security for users, customers, and developers.\n",
       "\n",
       "### Responsibilities\n",
       "- Develop and execute advanced research projects in machine learning and AI for cybersecurity, particularly in cloud security.\n",
       "- Stay updated on industry trends and advancements, providing expertise to the team.\n",
       "- Communicate research findings to senior leadership and external audiences through publications and presentations.\n",
       "- Write production-ready code to implement research projects into AI products.\n",
       "\n",
       "### Qualifications\n",
       "\n",
       "#### Required/Minimum Qualifications\n",
       "- **Education:** \n",
       "  - Bachelor's Degree in Statistics, Econometrics, Computer Science, Electrical or Computer Engineering, or related field AND 6+ years of related experience\n",
       "  - OR Master's Degree in the same fields AND 4+ years of related experience\n",
       "  - OR Doctorate in the same fields AND 3+ years of related experience\n",
       "  - OR equivalent experience.\n",
       "  \n",
       "- **Experience:**\n",
       "  - 5+ years of hands-on experience in programming languages such as C# or Python.\n",
       "  - Proven problem-solving and architecture design skills with the ability to write high-quality production code.\n",
       "  - Experience working with cross-functional teams and strong communication skills.\n",
       "\n",
       "#### Additional or Preferred Qualifications\n",
       "- **Education:** \n",
       "  - Master's Degree AND 9+ years of related experience\n",
       "  - OR Doctorate AND 6+ years of related experience.\n",
       "  \n",
       "- **Experience:**\n",
       "  - 5+ years of experience in creating publications (patents, peer-reviewed papers).\n",
       "  - 3+ years of experience developing and deploying live production systems.\n",
       "  - 2+ years of experience presenting at conferences as an invited speaker.\n",
       "  - Prior experience in AI product development and familiarity with LLM/NLP.\n",
       "  - Knowledge of large language models, deep learning, and cloud technologies.\n",
       "\n",
       "### Compensation\n",
       "- **Base Pay Range (U.S.):** $137,600 - $267,000 per year.\n",
       "- **Base Pay Range (San Francisco Bay Area and New York City):** $180,400 - $294,000 per year.\n",
       "\n",
       "### Benefits\n",
       "- Industry-leading healthcare\n",
       "- Educational resources\n",
       "- Discounts on products and services\n",
       "- Generous time away\n",
       "- Maternity and paternity leave\n",
       "- Opportunities to network and connect\n",
       "\n",
       "### Application Information\n",
       "Microsoft will accept applications for this role until September 18, 2024. Microsoft is an equal opportunity employer and encourages applications from all qualified individuals.\n",
       "\n",
       "For more details and to apply, visit the Microsoft Careers website."
      ],
      "text/plain": [
       "<IPython.core.display.Markdown object>"
      ]
     },
     "metadata": {},
     "output_type": "display_data"
    }
   ],
   "source": [
    "display(Markdown(response.content))"
   ]
  },
  {
   "cell_type": "code",
   "execution_count": null,
   "metadata": {},
   "outputs": [],
   "source": []
  }
 ],
 "metadata": {
  "kernelspec": {
   "display_name": ".venv",
   "language": "python",
   "name": "python3"
  },
  "language_info": {
   "codemirror_mode": {
    "name": "ipython",
    "version": 3
   },
   "file_extension": ".py",
   "mimetype": "text/x-python",
   "name": "python",
   "nbconvert_exporter": "python",
   "pygments_lexer": "ipython3",
   "version": "3.11.4"
  }
 },
 "nbformat": 4,
 "nbformat_minor": 2
}
