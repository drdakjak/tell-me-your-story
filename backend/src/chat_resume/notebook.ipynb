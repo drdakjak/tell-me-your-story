{
 "cells": [
  {
   "cell_type": "code",
   "execution_count": 1,
   "metadata": {},
   "outputs": [],
   "source": [
    "from handler import handler, get_message_history"
   ]
  },
  {
   "cell_type": "code",
   "execution_count": 2,
   "metadata": {},
   "outputs": [],
   "source": [
    "conversation_id = \"0\"\n",
    "user_message_1 = \"I'm software engineer.\"\n",
    "user_message_2 = \"What is my job?\""
   ]
  },
  {
   "cell_type": "code",
   "execution_count": 3,
   "metadata": {},
   "outputs": [
    {
     "data": {
      "text/plain": [
       "{'statusCode': 200,\n",
       " 'body': '{\"type\": \"ai\", \"data\": {\"content\": \"Great! As a software engineer, we can focus on highlighting your technical skills, programming languages, tools, and technologies you are proficient in. We can also showcase your experience with software development projects, problem-solving abilities, and any relevant certifications. Let\\'s start with the \\\\\"Skills\\\\\" section. Can you provide me with a list of your technical skills and expertise that you want to include in your resume?\", \"additional_kwargs\": {\"refusal\": null}, \"response_metadata\": {\"token_usage\": {\"completion_tokens\": 80, \"prompt_tokens\": 416, \"total_tokens\": 496}, \"model_name\": \"gpt-3.5-turbo-0125\", \"system_fingerprint\": null, \"finish_reason\": \"stop\", \"logprobs\": null}, \"type\": \"ai\", \"name\": null, \"id\": \"run-93eb09de-d693-4143-a932-5db6f5457583-0\", \"example\": false, \"tool_calls\": [], \"invalid_tool_calls\": [], \"usage_metadata\": {\"input_tokens\": 416, \"output_tokens\": 80, \"total_tokens\": 496}}}'}"
      ]
     },
     "execution_count": 3,
     "metadata": {},
     "output_type": "execute_result"
    }
   ],
   "source": [
    "handler({\"body\": {\n",
    "    \"conversation_id\": conversation_id,\n",
    "    \"message\": user_message_1\n",
    "}}, None)"
   ]
  },
  {
   "cell_type": "code",
   "execution_count": 4,
   "metadata": {},
   "outputs": [
    {
     "data": {
      "text/plain": [
       "[SystemMessage(content='You are expert resume section writer.'),\n",
       " HumanMessage(content='Hello, my name is Alice.'),\n",
       " AIMessage(content='Hello, Alice! How can I assist you with your resume sections today?', additional_kwargs={'refusal': None}, response_metadata={'token_usage': {'total_tokens': Decimal('40'), 'completion_tokens': Decimal('15'), 'prompt_tokens': Decimal('25')}, 'finish_reason': 'stop', 'model_name': 'gpt-3.5-turbo-0125', 'system_fingerprint': None, 'logprobs': None}, id='run-65f8f7ee-2f2b-4125-89b6-9d7c3aaea44e-0', usage_metadata={'input_tokens': 25, 'output_tokens': 15, 'total_tokens': 40}),\n",
       " HumanMessage(content='What is my name?'),\n",
       " AIMessage(content='Your name is Alice. How can I help you today, Alice?', additional_kwargs={'refusal': None}, response_metadata={'token_usage': {'total_tokens': Decimal('67'), 'completion_tokens': Decimal('14'), 'prompt_tokens': Decimal('53')}, 'finish_reason': 'stop', 'model_name': 'gpt-3.5-turbo-0125', 'system_fingerprint': None, 'logprobs': None}, id='run-637db077-2eb2-4039-b898-90cb62dd242c-0', usage_metadata={'input_tokens': 53, 'output_tokens': 14, 'total_tokens': 67}),\n",
       " HumanMessage(content='Hello, my name is Alice.'),\n",
       " AIMessage(content='Hello, Alice! How can I assist you with your resume sections today?', additional_kwargs={'refusal': None}, response_metadata={'token_usage': {'total_tokens': Decimal('97'), 'completion_tokens': Decimal('15'), 'prompt_tokens': Decimal('82')}, 'finish_reason': 'stop', 'model_name': 'gpt-3.5-turbo-0125', 'system_fingerprint': None, 'logprobs': None}, id='run-068e3f6c-1d04-4eca-823a-de609c3a17ba-0', usage_metadata={'input_tokens': 82, 'output_tokens': 15, 'total_tokens': 97}),\n",
       " HumanMessage(content='Hello, my name is Alice.'),\n",
       " AIMessage(content='Hello, Alice! How can I assist you with your resume sections today?', additional_kwargs={'refusal': None}, response_metadata={'token_usage': {'total_tokens': Decimal('127'), 'completion_tokens': Decimal('15'), 'prompt_tokens': Decimal('112')}, 'finish_reason': 'stop', 'model_name': 'gpt-3.5-turbo-0125', 'system_fingerprint': None, 'logprobs': None}, id='run-dae236e7-c580-42dd-b7f6-b80f9ef1edd1-0', usage_metadata={'input_tokens': 112, 'output_tokens': 15, 'total_tokens': 127}),\n",
       " HumanMessage(content=\"I'm software engineer.\"),\n",
       " AIMessage(content='Great! As a software engineer, we can work on crafting your resume sections to highlight your skills, experience, and achievements in the field. Which section would you like to start with - such as summary, experience, skills, or education?', additional_kwargs={'refusal': None}, response_metadata={'token_usage': {'total_tokens': Decimal('188'), 'completion_tokens': Decimal('48'), 'prompt_tokens': Decimal('140')}, 'finish_reason': 'stop', 'model_name': 'gpt-3.5-turbo-0125', 'system_fingerprint': None, 'logprobs': None}, id='run-dc0232c6-acf0-4fe6-aead-db1c751e7770-0', usage_metadata={'input_tokens': 140, 'output_tokens': 48, 'total_tokens': 188}),\n",
       " HumanMessage(content=\"I'm software engineer.\"),\n",
       " AIMessage(content='Great! As a software engineer, we can work on crafting your resume sections to highlight your skills, experience, and achievements in the field. Which section would you like to start with - such as summary, experience, skills, or education?', additional_kwargs={'refusal': None}, response_metadata={'token_usage': {'total_tokens': Decimal('249'), 'completion_tokens': Decimal('48'), 'prompt_tokens': Decimal('201')}, 'finish_reason': 'stop', 'model_name': 'gpt-3.5-turbo-0125', 'system_fingerprint': None, 'logprobs': None}, id='run-938ba295-06b5-4844-939e-40ebabfbceda-0', usage_metadata={'input_tokens': 201, 'output_tokens': 48, 'total_tokens': 249}),\n",
       " HumanMessage(content=\"I'm software engineer.\"),\n",
       " AIMessage(content='Great! As a software engineer, we can work on crafting your resume sections to highlight your skills, experience, and achievements in the field. Which section would you like to start with - such as summary, experience, skills, or education?', additional_kwargs={'refusal': None}, response_metadata={'token_usage': {'total_tokens': Decimal('310'), 'completion_tokens': Decimal('48'), 'prompt_tokens': Decimal('262')}, 'finish_reason': 'stop', 'model_name': 'gpt-3.5-turbo-0125', 'system_fingerprint': None, 'logprobs': None}, id='run-4f3b3eff-5acf-464c-a804-5adbcc4b98f0-0', usage_metadata={'input_tokens': 262, 'output_tokens': 48, 'total_tokens': 310}),\n",
       " HumanMessage(content=\"I'm software engineer.\"),\n",
       " AIMessage(content='Great! As a software engineer, we can focus on highlighting your technical skills, programming languages, tools, and technologies you are proficient in. We can also showcase your experience with software development projects, problem-solving abilities, and any relevant certifications. Let\\'s start with the \"Skills\" section. Can you provide me with a list of your technical skills and expertise that you want to include in your resume?', additional_kwargs={'refusal': None}, response_metadata={'token_usage': {'total_tokens': Decimal('403'), 'completion_tokens': Decimal('80'), 'prompt_tokens': Decimal('323')}, 'finish_reason': 'stop', 'model_name': 'gpt-3.5-turbo-0125', 'system_fingerprint': None, 'logprobs': None}, id='run-532ee351-fe62-4c9a-8590-4a1e4e9503d3-0', usage_metadata={'input_tokens': 323, 'output_tokens': 80, 'total_tokens': 403}),\n",
       " HumanMessage(content=\"I'm software engineer.\"),\n",
       " AIMessage(content='Great! As a software engineer, we can focus on highlighting your technical skills, programming languages, tools, and technologies you are proficient in. We can also showcase your experience with software development projects, problem-solving abilities, and any relevant certifications. Let\\'s start with the \"Skills\" section. Can you provide me with a list of your technical skills and expertise that you want to include in your resume?', additional_kwargs={'refusal': None}, response_metadata={'token_usage': {'total_tokens': Decimal('496'), 'completion_tokens': Decimal('80'), 'prompt_tokens': Decimal('416')}, 'finish_reason': 'stop', 'model_name': 'gpt-3.5-turbo-0125', 'system_fingerprint': None, 'logprobs': None}, id='run-93eb09de-d693-4143-a932-5db6f5457583-0', usage_metadata={'input_tokens': 416, 'output_tokens': 80, 'total_tokens': 496})]"
      ]
     },
     "execution_count": 4,
     "metadata": {},
     "output_type": "execute_result"
    }
   ],
   "source": [
    "get_message_history(conversation_id=conversation_id).messages"
   ]
  },
  {
   "cell_type": "code",
   "execution_count": null,
   "metadata": {},
   "outputs": [],
   "source": [
    "handler({\"body\": {\n",
    "    \"conversation_id\": conversation_id,\n",
    "    \"message\": user_message_2\n",
    "}}, None)"
   ]
  }
 ],
 "metadata": {
  "kernelspec": {
   "display_name": ".venv",
   "language": "python",
   "name": "python3"
  },
  "language_info": {
   "codemirror_mode": {
    "name": "ipython",
    "version": 3
   },
   "file_extension": ".py",
   "mimetype": "text/x-python",
   "name": "python",
   "nbconvert_exporter": "python",
   "pygments_lexer": "ipython3",
   "version": "3.11.4"
  }
 },
 "nbformat": 4,
 "nbformat_minor": 2
}
