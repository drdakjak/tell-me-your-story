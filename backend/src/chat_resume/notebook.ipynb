{
 "cells": [
  {
   "cell_type": "code",
   "execution_count": 1,
   "metadata": {},
   "outputs": [],
   "source": [
    "from IPython.display import display, Markdown\n",
    "import json"
   ]
  },
  {
   "cell_type": "code",
   "execution_count": 2,
   "metadata": {},
   "outputs": [],
   "source": [
    "from handler import handler, get_message_history"
   ]
  },
  {
   "cell_type": "code",
   "execution_count": 3,
   "metadata": {},
   "outputs": [],
   "source": [
    "%load_ext autoreload\n",
    "%autoreload 2"
   ]
  },
  {
   "cell_type": "code",
   "execution_count": 4,
   "metadata": {},
   "outputs": [],
   "source": [
    "def format_response(response):\n",
    "    response = json.loads(response['body'])\n",
    "    print('Response')\n",
    "    display(Markdown(response['text']))\n",
    "    print('Tailored Section')\n",
    "    display(Markdown(response['tailored_section']))"
   ]
  },
  {
   "cell_type": "code",
   "execution_count": 5,
   "metadata": {},
   "outputs": [
    {
     "data": {
      "text/markdown": [
       "## Applied Machine Learning Scientist \n",
       "\n",
       "Nov. 2016 - Feb. 2019\n",
       "\n",
       "- Recommender Systems Development: Worked on recommender systems (e.g., collaborative filtering, online ML learning) for lifestyle, news, and video content, reaching over half of the Czech internet population. This resulted in a substantial double-digit increase in key performance metrics. \n",
       "- Data Processing and Analysis: Processed and analyzed terabytes of logs daily using an on-premise cluster. Developed and maintained a proprietary framework for data manipulation and quality checks. PySpark \n",
       "- Collaboration and Code Review: Worked closely with the ML engineering team to reimplement prototypes into the production environment and review production code. Participated in planning and prioritization meetings. \n",
       "- Highlighted projects: \n",
       "    * Model Improvement: Continuously improved online machine learning models through data cleaning, feature selection/extraction/engineering techniques, and conducting numerous offline and online tests. Vowpal Wabbit \n",
       "    * Recommendation Diversification: Developed an approach for recommendation diversification based on clustering of semantic and text vectors. scikit-learn \n",
       "    * Hyperparameter Optimization: Developed an approach based on the Nelder-Mead method, enabling real-time adjustments based on online metrics (e.g., user engagement). Python \n",
       "    * Offline Evaluation Framework: Created a framework for offline evaluation of models based on matrix factorization, leading to informed deployment and improved performance in online metrics. Python \n",
       "    * A/B/n Test Evaluation: Coauthored a proprietary library for A/B/n test evaluation based on a frequentist approach. Designed, evaluated, and interpreted results of A/B/n tests. Python, Pyspark, Statmodels \n",
       "    * Production Implementation: Implemented the machine learning component of a recommender system based on matrix factorization into production, significantly optimizing its memory efficiency and performance. NumPy, multiprocessing \n",
       "    * Contextual Bandits Research: Focused research on the field of contextual bandits, leading to collaboration with the counterpart research department and a publication (short paper) at SIGIR 2019."
      ],
      "text/plain": [
       "<IPython.core.display.Markdown object>"
      ]
     },
     "metadata": {},
     "output_type": "display_data"
    }
   ],
   "source": [
    "original_section = \"## Applied Machine Learning Scientist \\n\\nNov. 2016 - Feb. 2019\\n\\n- Recommender Systems Development: Worked on recommender systems (e.g., collaborative filtering, online ML learning) for lifestyle, news, and video content, reaching over half of the Czech internet population. This resulted in a substantial double-digit increase in key performance metrics. \\n- Data Processing and Analysis: Processed and analyzed terabytes of logs daily using an on-premise cluster. Developed and maintained a proprietary framework for data manipulation and quality checks. PySpark \\n- Collaboration and Code Review: Worked closely with the ML engineering team to reimplement prototypes into the production environment and review production code. Participated in planning and prioritization meetings. \\n- Highlighted projects: \\n    * Model Improvement: Continuously improved online machine learning models through data cleaning, feature selection/extraction/engineering techniques, and conducting numerous offline and online tests. Vowpal Wabbit \\n    * Recommendation Diversification: Developed an approach for recommendation diversification based on clustering of semantic and text vectors. scikit-learn \\n    * Hyperparameter Optimization: Developed an approach based on the Nelder-Mead method, enabling real-time adjustments based on online metrics (e.g., user engagement). Python \\n    * Offline Evaluation Framework: Created a framework for offline evaluation of models based on matrix factorization, leading to informed deployment and improved performance in online metrics. Python \\n    * A/B/n Test Evaluation: Coauthored a proprietary library for A/B/n test evaluation based on a frequentist approach. Designed, evaluated, and interpreted results of A/B/n tests. Python, Pyspark, Statmodels \\n    * Production Implementation: Implemented the machine learning component of a recommender system based on matrix factorization into production, significantly optimizing its memory efficiency and performance. NumPy, multiprocessing \\n    * Contextual Bandits Research: Focused research on the field of contextual bandits, leading to collaboration with the counterpart research department and a publication (short paper) at SIGIR 2019.\"\n",
    "display(Markdown(original_section))"
   ]
  },
  {
   "cell_type": "code",
   "execution_count": 6,
   "metadata": {},
   "outputs": [
    {
     "data": {
      "text/markdown": [
       "\n",
       "**Applied Machine Learning Scientist**  \n",
       "*Nov. 2016 - Feb. 2019*\n",
       "\n",
       "- **Recommender Systems Development:** Engineered collaborative filtering and online machine learning recommender systems for lifestyle, news, and video content, achieving a double-digit increase in key performance metrics and reaching over half of the Czech internet population.\n",
       "  \n",
       "- **Data Processing and Analysis:** Processed and analyzed terabytes of logs daily using PySpark on an on-premise cluster. Developed a proprietary framework for data manipulation and quality checks, ensuring high data integrity for machine learning applications.\n",
       "\n",
       "- **Model Optimization and Evaluation:** \n",
       "  - Improved online machine learning models through data cleaning, feature engineering, and rigorous offline/online testing, utilizing tools such as Vowpal Wabbit and Python.\n",
       "  - Developed a framework for offline evaluation of models based on matrix factorization, enhancing deployment decisions and online performance.\n",
       "  - Coauthored a library for A/B/n test evaluation, applying statistical methods to interpret results and optimize user engagement.\n",
       "\n",
       "- **Research and Collaboration:** Conducted research on contextual bandits, collaborating with the research department, resulting in a publication at SIGIR 2019. Worked closely with ML engineering teams to transition prototypes to production, ensuring code quality through reviews and participation in planning meetings.\n"
      ],
      "text/plain": [
       "<IPython.core.display.Markdown object>"
      ]
     },
     "metadata": {},
     "output_type": "display_data"
    }
   ],
   "source": [
    "tailored_section = '\\n**Applied Machine Learning Scientist**  \\n*Nov. 2016 - Feb. 2019*\\n\\n- **Recommender Systems Development:** Engineered collaborative filtering and online machine learning recommender systems for lifestyle, news, and video content, achieving a double-digit increase in key performance metrics and reaching over half of the Czech internet population.\\n  \\n- **Data Processing and Analysis:** Processed and analyzed terabytes of logs daily using PySpark on an on-premise cluster. Developed a proprietary framework for data manipulation and quality checks, ensuring high data integrity for machine learning applications.\\n\\n- **Model Optimization and Evaluation:** \\n  - Improved online machine learning models through data cleaning, feature engineering, and rigorous offline/online testing, utilizing tools such as Vowpal Wabbit and Python.\\n  - Developed a framework for offline evaluation of models based on matrix factorization, enhancing deployment decisions and online performance.\\n  - Coauthored a library for A/B/n test evaluation, applying statistical methods to interpret results and optimize user engagement.\\n\\n- **Research and Collaboration:** Conducted research on contextual bandits, collaborating with the research department, resulting in a publication at SIGIR 2019. Worked closely with ML engineering teams to transition prototypes to production, ensuring code quality through reviews and participation in planning meetings.\\n'\n",
    "display(Markdown(tailored_section))"
   ]
  },
  {
   "cell_type": "code",
   "execution_count": 7,
   "metadata": {},
   "outputs": [],
   "source": [
    "def get_event(file_name):\n",
    "    path = f\"events/{file_name}\"\n",
    "    with open(path, 'r') as file:\n",
    "        return json.load(file)"
   ]
  },
  {
   "cell_type": "code",
   "execution_count": 8,
   "metadata": {},
   "outputs": [],
   "source": [
    "event_1 = get_event(\"event_1.json\")\n",
    "conversation_id = json.loads(event_1['body'])['conversationId']\n",
    "user_id = event_1[\"requestContext\"][\"authorizer\"][\"claims\"][\"sub\"]\n"
   ]
  },
  {
   "cell_type": "code",
   "execution_count": 9,
   "metadata": {},
   "outputs": [
    {
     "data": {
      "text/plain": [
       "[AIMessage(content='{\"text\": \"\\\\nHi! \\\\n\\\\nI\\'m here to help you tailor this section. I have access to the:\\\\n\\\\n- hiring criteria, \\\\n- original section, \\\\n- current tailored section, \\\\n- the whole resume.\\\\n\\\\nHow can I help you?\\\\n\", \"tailored_section\": \"\"}')]"
      ]
     },
     "execution_count": 9,
     "metadata": {},
     "output_type": "execute_result"
    }
   ],
   "source": [
    "get_message_history(user_id=user_id, session_id=conversation_id).messages\n"
   ]
  },
  {
   "cell_type": "code",
   "execution_count": 10,
   "metadata": {},
   "outputs": [
    {
     "name": "stdout",
     "output_type": "stream",
     "text": [
      "{'statusCode': 200, 'headers': {'Access-Control-Allow-Headers': '*', 'Access-Control-Allow-Origin': '*', 'Access-Control-Allow-Methods': '*'}, 'body': '{\"text\": \"The original section is as follows:\\\\n\\\\n## Applied Machine Learning Scientist \\\\n\\\\nNov. 2016 - Feb. 2019\\\\n\\\\n- Recommender Systems Development: Worked on recommender systems (e.g., collaborative filtering, online ML learning) for lifestyle, news, and video content, reaching over half of the Czech internet population. This resulted in a substantial double-digit increase in key performance metrics. \\\\n- Data Processing and Analysis: Processed and analyzed terabytes of logs daily using an on-premise cluster. Developed and maintained a proprietary framework for data manipulation and quality checks. PySpark \\\\n- Collaboration and Code Review: Worked closely with the ML engineering team to reimplement prototypes into the production environment and review production code. Participated in planning and prioritization meetings. \\\\n- Highlighted projects: \\\\n    * Model Improvement: Continuously improved online machine learning models through data cleaning, feature selection/extraction/engineering techniques, and conducting numerous offline and online tests. Vowpal Wabbit \\\\n    * Recommendation Diversification: Developed an approach for recommendation diversification based on clustering of semantic and text vectors. scikit-learn \\\\n    * Hyperparameter Optimization: Developed an approach based on the Nelder-Mead method, enabling real-time adjustments based on online metrics (e.g., user engagement). Python \\\\n    * Offline Evaluation Framework: Created a framework for offline evaluation of models based on matrix factorization, leading to informed deployment and improved performance in online metrics. Python \\\\n    * A/B/n Test Evaluation: Coauthored a proprietary library for A/B/n test evaluation based on a frequentist approach. Designed, evaluated, and interpreted results of A/B/n tests. Python, Pyspark, Statmodels \\\\n    * Production Implementation: Implemented the machine learning component of a recommender system based on matrix factorization into production, significantly optimizing its memory efficiency and performance. NumPy, multiprocessing \\\\n    * Contextual Bandits Research: Focused research on the field of contextual bandits, leading to collaboration with the counterpart research department and a publication (short paper) at SIGIR 2019.\\\\n\", \"tailored_section\": \"\"}'}\n",
      "Response\n"
     ]
    },
    {
     "data": {
      "text/markdown": [
       "The original section is as follows:\n",
       "\n",
       "## Applied Machine Learning Scientist \n",
       "\n",
       "Nov. 2016 - Feb. 2019\n",
       "\n",
       "- Recommender Systems Development: Worked on recommender systems (e.g., collaborative filtering, online ML learning) for lifestyle, news, and video content, reaching over half of the Czech internet population. This resulted in a substantial double-digit increase in key performance metrics. \n",
       "- Data Processing and Analysis: Processed and analyzed terabytes of logs daily using an on-premise cluster. Developed and maintained a proprietary framework for data manipulation and quality checks. PySpark \n",
       "- Collaboration and Code Review: Worked closely with the ML engineering team to reimplement prototypes into the production environment and review production code. Participated in planning and prioritization meetings. \n",
       "- Highlighted projects: \n",
       "    * Model Improvement: Continuously improved online machine learning models through data cleaning, feature selection/extraction/engineering techniques, and conducting numerous offline and online tests. Vowpal Wabbit \n",
       "    * Recommendation Diversification: Developed an approach for recommendation diversification based on clustering of semantic and text vectors. scikit-learn \n",
       "    * Hyperparameter Optimization: Developed an approach based on the Nelder-Mead method, enabling real-time adjustments based on online metrics (e.g., user engagement). Python \n",
       "    * Offline Evaluation Framework: Created a framework for offline evaluation of models based on matrix factorization, leading to informed deployment and improved performance in online metrics. Python \n",
       "    * A/B/n Test Evaluation: Coauthored a proprietary library for A/B/n test evaluation based on a frequentist approach. Designed, evaluated, and interpreted results of A/B/n tests. Python, Pyspark, Statmodels \n",
       "    * Production Implementation: Implemented the machine learning component of a recommender system based on matrix factorization into production, significantly optimizing its memory efficiency and performance. NumPy, multiprocessing \n",
       "    * Contextual Bandits Research: Focused research on the field of contextual bandits, leading to collaboration with the counterpart research department and a publication (short paper) at SIGIR 2019.\n"
      ],
      "text/plain": [
       "<IPython.core.display.Markdown object>"
      ]
     },
     "metadata": {},
     "output_type": "display_data"
    },
    {
     "name": "stdout",
     "output_type": "stream",
     "text": [
      "Tailored Section\n"
     ]
    },
    {
     "data": {
      "text/markdown": [],
      "text/plain": [
       "<IPython.core.display.Markdown object>"
      ]
     },
     "metadata": {},
     "output_type": "display_data"
    }
   ],
   "source": [
    "response = handler(event_1, None)\n",
    "print(response)\n",
    "format_response(response)"
   ]
  },
  {
   "cell_type": "code",
   "execution_count": 12,
   "metadata": {},
   "outputs": [
    {
     "data": {
      "text/plain": [
       "[AIMessage(content='{\"text\": \"\\\\nHi! \\\\n\\\\nI\\'m here to help you tailor this section. I have access to the:\\\\n\\\\n- hiring criteria, \\\\n- original section, \\\\n- current tailored section, \\\\n- the whole resume.\\\\n\\\\nHow can I help you?\\\\n\", \"tailored_section\": \"\"}'),\n",
       " HumanMessage(content='Can you tell me what the text of the original section is?'),\n",
       " AIMessage(content='{\"text\": \"The original section is as follows:\\\\n\\\\n## Applied Machine Learning Scientist \\\\n\\\\nNov. 2016 - Feb. 2019\\\\n\\\\n- Recommender Systems Development: Worked on recommender systems (e.g., collaborative filtering, online ML learning) for lifestyle, news, and video content, reaching over half of the Czech internet population. This resulted in a substantial double-digit increase in key performance metrics. \\\\n- Data Processing and Analysis: Processed and analyzed terabytes of logs daily using an on-premise cluster. Developed and maintained a proprietary framework for data manipulation and quality checks. PySpark \\\\n- Collaboration and Code Review: Worked closely with the ML engineering team to reimplement prototypes into the production environment and review production code. Participated in planning and prioritization meetings. \\\\n- Highlighted projects: \\\\n    * Model Improvement: Continuously improved online machine learning models through data cleaning, feature selection/extraction/engineering techniques, and conducting numerous offline and online tests. Vowpal Wabbit \\\\n    * Recommendation Diversification: Developed an approach for recommendation diversification based on clustering of semantic and text vectors. scikit-learn \\\\n    * Hyperparameter Optimization: Developed an approach based on the Nelder-Mead method, enabling real-time adjustments based on online metrics (e.g., user engagement). Python \\\\n    * Offline Evaluation Framework: Created a framework for offline evaluation of models based on matrix factorization, leading to informed deployment and improved performance in online metrics. Python \\\\n    * A/B/n Test Evaluation: Coauthored a proprietary library for A/B/n test evaluation based on a frequentist approach. Designed, evaluated, and interpreted results of A/B/n tests. Python, Pyspark, Statmodels \\\\n    * Production Implementation: Implemented the machine learning component of a recommender system based on matrix factorization into production, significantly optimizing its memory efficiency and performance. NumPy, multiprocessing \\\\n    * Contextual Bandits Research: Focused research on the field of contextual bandits, leading to collaboration with the counterpart research department and a publication (short paper) at SIGIR 2019.\\\\n\", \"tailored_section\": \"\"}', additional_kwargs={'refusal': None}, response_metadata={'token_usage': {'total_tokens': Decimal('1908'), 'completion_tokens': Decimal('448'), 'prompt_tokens': Decimal('1460'), 'completion_tokens_details': {'reasoning_tokens': Decimal('0')}}, 'finish_reason': 'stop', 'model_name': 'gpt-4o-mini-2024-07-18', 'system_fingerprint': 'fp_1bb46167f9', 'logprobs': None}, id='run-f385d80b-ea25-427d-a259-a65b29ba9904-0', usage_metadata={'input_tokens': 1460, 'output_tokens': 448, 'total_tokens': 1908})]"
      ]
     },
     "execution_count": 12,
     "metadata": {},
     "output_type": "execute_result"
    }
   ],
   "source": [
    "get_message_history(user_id=user_id, session_id=conversation_id).messages\n"
   ]
  },
  {
   "cell_type": "code",
   "execution_count": 13,
   "metadata": {},
   "outputs": [],
   "source": [
    "event_2 = get_event(\"event_2.json\")"
   ]
  },
  {
   "cell_type": "code",
   "execution_count": 14,
   "metadata": {},
   "outputs": [
    {
     "name": "stdout",
     "output_type": "stream",
     "text": [
      "Response\n"
     ]
    },
    {
     "data": {
      "text/markdown": [
       "The tailored section is as follows:\n",
       "\n",
       "**Applied Machine Learning Scientist**  \n",
       "*Nov. 2016 - Feb. 2019*\n",
       "\n",
       "- **Recommender Systems Development:** Engineered collaborative filtering and online machine learning recommender systems for lifestyle, news, and video content, achieving a double-digit increase in key performance metrics and reaching over half of the Czech internet population.\n",
       "  \n",
       "- **Data Processing and Analysis:** Processed and analyzed terabytes of logs daily using PySpark on an on-premise cluster. Developed a proprietary framework for data manipulation and quality checks, ensuring high data integrity for machine learning applications.\n",
       "\n",
       "- **Model Optimization and Evaluation:**  \n",
       "  - Improved online machine learning models through data cleaning, feature engineering, and rigorous offline/online testing, utilizing tools such as Vowpal Wabbit and Python.  \n",
       "  - Developed a framework for offline evaluation of models based on matrix factorization, enhancing deployment decisions and online performance.  \n",
       "  - Coauthored a library for A/B/n test evaluation, applying statistical methods to interpret results and optimize user engagement.\n",
       "\n",
       "- **Research and Collaboration:** Conducted research on contextual bandits, collaborating with the research department, resulting in a publication at SIGIR 2019. Worked closely with ML engineering teams to transition prototypes to production, ensuring code quality through reviews and participation in planning meetings.\n"
      ],
      "text/plain": [
       "<IPython.core.display.Markdown object>"
      ]
     },
     "metadata": {},
     "output_type": "display_data"
    },
    {
     "name": "stdout",
     "output_type": "stream",
     "text": [
      "Tailored Section\n"
     ]
    },
    {
     "data": {
      "text/markdown": [],
      "text/plain": [
       "<IPython.core.display.Markdown object>"
      ]
     },
     "metadata": {},
     "output_type": "display_data"
    }
   ],
   "source": [
    "response = handler(event_2, None)\n",
    "format_response(response)"
   ]
  },
  {
   "cell_type": "code",
   "execution_count": 15,
   "metadata": {},
   "outputs": [
    {
     "data": {
      "text/plain": [
       "[AIMessage(content='{\"text\": \"\\\\nHi! \\\\n\\\\nI\\'m here to help you tailor this section. I have access to the:\\\\n\\\\n- hiring criteria, \\\\n- original section, \\\\n- current tailored section, \\\\n- the whole resume.\\\\n\\\\nHow can I help you?\\\\n\", \"tailored_section\": \"\"}'),\n",
       " HumanMessage(content='Can you tell me what the text of the original section is?'),\n",
       " AIMessage(content='{\"text\": \"The original section is as follows:\\\\n\\\\n## Applied Machine Learning Scientist \\\\n\\\\nNov. 2016 - Feb. 2019\\\\n\\\\n- Recommender Systems Development: Worked on recommender systems (e.g., collaborative filtering, online ML learning) for lifestyle, news, and video content, reaching over half of the Czech internet population. This resulted in a substantial double-digit increase in key performance metrics. \\\\n- Data Processing and Analysis: Processed and analyzed terabytes of logs daily using an on-premise cluster. Developed and maintained a proprietary framework for data manipulation and quality checks. PySpark \\\\n- Collaboration and Code Review: Worked closely with the ML engineering team to reimplement prototypes into the production environment and review production code. Participated in planning and prioritization meetings. \\\\n- Highlighted projects: \\\\n    * Model Improvement: Continuously improved online machine learning models through data cleaning, feature selection/extraction/engineering techniques, and conducting numerous offline and online tests. Vowpal Wabbit \\\\n    * Recommendation Diversification: Developed an approach for recommendation diversification based on clustering of semantic and text vectors. scikit-learn \\\\n    * Hyperparameter Optimization: Developed an approach based on the Nelder-Mead method, enabling real-time adjustments based on online metrics (e.g., user engagement). Python \\\\n    * Offline Evaluation Framework: Created a framework for offline evaluation of models based on matrix factorization, leading to informed deployment and improved performance in online metrics. Python \\\\n    * A/B/n Test Evaluation: Coauthored a proprietary library for A/B/n test evaluation based on a frequentist approach. Designed, evaluated, and interpreted results of A/B/n tests. Python, Pyspark, Statmodels \\\\n    * Production Implementation: Implemented the machine learning component of a recommender system based on matrix factorization into production, significantly optimizing its memory efficiency and performance. NumPy, multiprocessing \\\\n    * Contextual Bandits Research: Focused research on the field of contextual bandits, leading to collaboration with the counterpart research department and a publication (short paper) at SIGIR 2019.\\\\n\", \"tailored_section\": \"\"}', additional_kwargs={'refusal': None}, response_metadata={'token_usage': {'total_tokens': Decimal('1908'), 'completion_tokens': Decimal('448'), 'prompt_tokens': Decimal('1460'), 'completion_tokens_details': {'reasoning_tokens': Decimal('0')}}, 'finish_reason': 'stop', 'model_name': 'gpt-4o-mini-2024-07-18', 'system_fingerprint': 'fp_1bb46167f9', 'logprobs': None}, id='run-f385d80b-ea25-427d-a259-a65b29ba9904-0', usage_metadata={'input_tokens': 1460, 'output_tokens': 448, 'total_tokens': 1908}),\n",
       " HumanMessage(content='Can you tell me what the tailored section is?'),\n",
       " AIMessage(content='{\"text\": \"The tailored section is as follows:\\\\n\\\\n**Applied Machine Learning Scientist**  \\\\n*Nov. 2016 - Feb. 2019*\\\\n\\\\n- **Recommender Systems Development:** Engineered collaborative filtering and online machine learning recommender systems for lifestyle, news, and video content, achieving a double-digit increase in key performance metrics and reaching over half of the Czech internet population.\\\\n  \\\\n- **Data Processing and Analysis:** Processed and analyzed terabytes of logs daily using PySpark on an on-premise cluster. Developed a proprietary framework for data manipulation and quality checks, ensuring high data integrity for machine learning applications.\\\\n\\\\n- **Model Optimization and Evaluation:**  \\\\n  - Improved online machine learning models through data cleaning, feature engineering, and rigorous offline/online testing, utilizing tools such as Vowpal Wabbit and Python.  \\\\n  - Developed a framework for offline evaluation of models based on matrix factorization, enhancing deployment decisions and online performance.  \\\\n  - Coauthored a library for A/B/n test evaluation, applying statistical methods to interpret results and optimize user engagement.\\\\n\\\\n- **Research and Collaboration:** Conducted research on contextual bandits, collaborating with the research department, resulting in a publication at SIGIR 2019. Worked closely with ML engineering teams to transition prototypes to production, ensuring code quality through reviews and participation in planning meetings.\\\\n\", \"tailored_section\": \"\"}', additional_kwargs={'refusal': None}, response_metadata={'token_usage': {'total_tokens': Decimal('2224'), 'completion_tokens': Decimal('299'), 'prompt_tokens': Decimal('1925'), 'completion_tokens_details': {'reasoning_tokens': Decimal('0')}}, 'finish_reason': 'stop', 'model_name': 'gpt-4o-mini-2024-07-18', 'system_fingerprint': 'fp_1bb46167f9', 'logprobs': None}, id='run-4b9c9310-fdbf-4423-8403-64018e71bd53-0', usage_metadata={'input_tokens': 1925, 'output_tokens': 299, 'total_tokens': 2224})]"
      ]
     },
     "execution_count": 15,
     "metadata": {},
     "output_type": "execute_result"
    }
   ],
   "source": [
    "get_message_history(user_id=user_id, session_id=conversation_id).messages\n",
    "\n"
   ]
  },
  {
   "cell_type": "code",
   "execution_count": 16,
   "metadata": {},
   "outputs": [],
   "source": [
    "event_3 = get_event(\"event_3.json\")"
   ]
  },
  {
   "cell_type": "code",
   "execution_count": 17,
   "metadata": {},
   "outputs": [
    {
     "name": "stdout",
     "output_type": "stream",
     "text": [
      "Response\n"
     ]
    },
    {
     "data": {
      "text/markdown": [
       "I will include your co-authorship of the workshop on recommendation systems at the ML Prague conference in the tailored section. Here’s the updated version:\n"
      ],
      "text/plain": [
       "<IPython.core.display.Markdown object>"
      ]
     },
     "metadata": {},
     "output_type": "display_data"
    },
    {
     "name": "stdout",
     "output_type": "stream",
     "text": [
      "Tailored Section\n"
     ]
    },
    {
     "data": {
      "text/markdown": [
       "**Applied Machine Learning Scientist**  \n",
       "*Nov. 2016 - Feb. 2019*\n",
       "\n",
       "- **Recommender Systems Development:** Engineered collaborative filtering and online machine learning recommender systems for lifestyle, news, and video content, achieving a double-digit increase in key performance metrics and reaching over half of the Czech internet population.\n",
       "  \n",
       "- **Data Processing and Analysis:** Processed and analyzed terabytes of logs daily using PySpark on an on-premise cluster. Developed a proprietary framework for data manipulation and quality checks, ensuring high data integrity for machine learning applications.\n",
       "\n",
       "- **Model Optimization and Evaluation:**  \n",
       "  - Improved online machine learning models through data cleaning, feature engineering, and rigorous offline/online testing, utilizing tools such as Vowpal Wabbit and Python.  \n",
       "  - Developed a framework for offline evaluation of models based on matrix factorization, enhancing deployment decisions and online performance.  \n",
       "  - Coauthored a library for A/B/n test evaluation, applying statistical methods to interpret results and optimize user engagement.\n",
       "\n",
       "- **Research and Collaboration:** Conducted research on contextual bandits, collaborating with the research department, resulting in a publication at SIGIR 2019. Co-authored a workshop on recommendation systems at the ML Prague conference. Worked closely with ML engineering teams to transition prototypes to production, ensuring code quality through reviews and participation in planning meetings."
      ],
      "text/plain": [
       "<IPython.core.display.Markdown object>"
      ]
     },
     "metadata": {},
     "output_type": "display_data"
    }
   ],
   "source": [
    "response = handler(event_3, None)\n",
    "format_response(response)\n"
   ]
  },
  {
   "cell_type": "code",
   "execution_count": 18,
   "metadata": {},
   "outputs": [
    {
     "data": {
      "text/plain": [
       "[AIMessage(content='{\"text\": \"\\\\nHi! \\\\n\\\\nI\\'m here to help you tailor this section. I have access to the:\\\\n\\\\n- hiring criteria, \\\\n- original section, \\\\n- current tailored section, \\\\n- the whole resume.\\\\n\\\\nHow can I help you?\\\\n\", \"tailored_section\": \"\"}'),\n",
       " HumanMessage(content='Can you tell me what the text of the original section is?'),\n",
       " AIMessage(content='{\"text\": \"The original section is as follows:\\\\n\\\\n## Applied Machine Learning Scientist \\\\n\\\\nNov. 2016 - Feb. 2019\\\\n\\\\n- Recommender Systems Development: Worked on recommender systems (e.g., collaborative filtering, online ML learning) for lifestyle, news, and video content, reaching over half of the Czech internet population. This resulted in a substantial double-digit increase in key performance metrics. \\\\n- Data Processing and Analysis: Processed and analyzed terabytes of logs daily using an on-premise cluster. Developed and maintained a proprietary framework for data manipulation and quality checks. PySpark \\\\n- Collaboration and Code Review: Worked closely with the ML engineering team to reimplement prototypes into the production environment and review production code. Participated in planning and prioritization meetings. \\\\n- Highlighted projects: \\\\n    * Model Improvement: Continuously improved online machine learning models through data cleaning, feature selection/extraction/engineering techniques, and conducting numerous offline and online tests. Vowpal Wabbit \\\\n    * Recommendation Diversification: Developed an approach for recommendation diversification based on clustering of semantic and text vectors. scikit-learn \\\\n    * Hyperparameter Optimization: Developed an approach based on the Nelder-Mead method, enabling real-time adjustments based on online metrics (e.g., user engagement). Python \\\\n    * Offline Evaluation Framework: Created a framework for offline evaluation of models based on matrix factorization, leading to informed deployment and improved performance in online metrics. Python \\\\n    * A/B/n Test Evaluation: Coauthored a proprietary library for A/B/n test evaluation based on a frequentist approach. Designed, evaluated, and interpreted results of A/B/n tests. Python, Pyspark, Statmodels \\\\n    * Production Implementation: Implemented the machine learning component of a recommender system based on matrix factorization into production, significantly optimizing its memory efficiency and performance. NumPy, multiprocessing \\\\n    * Contextual Bandits Research: Focused research on the field of contextual bandits, leading to collaboration with the counterpart research department and a publication (short paper) at SIGIR 2019.\\\\n\", \"tailored_section\": \"\"}', additional_kwargs={'refusal': None}, response_metadata={'token_usage': {'total_tokens': Decimal('1908'), 'completion_tokens': Decimal('448'), 'prompt_tokens': Decimal('1460'), 'completion_tokens_details': {'reasoning_tokens': Decimal('0')}}, 'finish_reason': 'stop', 'model_name': 'gpt-4o-mini-2024-07-18', 'system_fingerprint': 'fp_1bb46167f9', 'logprobs': None}, id='run-f385d80b-ea25-427d-a259-a65b29ba9904-0', usage_metadata={'input_tokens': 1460, 'output_tokens': 448, 'total_tokens': 1908}),\n",
       " HumanMessage(content='Can you tell me what the tailored section is?'),\n",
       " AIMessage(content='{\"text\": \"The tailored section is as follows:\\\\n\\\\n**Applied Machine Learning Scientist**  \\\\n*Nov. 2016 - Feb. 2019*\\\\n\\\\n- **Recommender Systems Development:** Engineered collaborative filtering and online machine learning recommender systems for lifestyle, news, and video content, achieving a double-digit increase in key performance metrics and reaching over half of the Czech internet population.\\\\n  \\\\n- **Data Processing and Analysis:** Processed and analyzed terabytes of logs daily using PySpark on an on-premise cluster. Developed a proprietary framework for data manipulation and quality checks, ensuring high data integrity for machine learning applications.\\\\n\\\\n- **Model Optimization and Evaluation:**  \\\\n  - Improved online machine learning models through data cleaning, feature engineering, and rigorous offline/online testing, utilizing tools such as Vowpal Wabbit and Python.  \\\\n  - Developed a framework for offline evaluation of models based on matrix factorization, enhancing deployment decisions and online performance.  \\\\n  - Coauthored a library for A/B/n test evaluation, applying statistical methods to interpret results and optimize user engagement.\\\\n\\\\n- **Research and Collaboration:** Conducted research on contextual bandits, collaborating with the research department, resulting in a publication at SIGIR 2019. Worked closely with ML engineering teams to transition prototypes to production, ensuring code quality through reviews and participation in planning meetings.\\\\n\", \"tailored_section\": \"\"}', additional_kwargs={'refusal': None}, response_metadata={'token_usage': {'total_tokens': Decimal('2224'), 'completion_tokens': Decimal('299'), 'prompt_tokens': Decimal('1925'), 'completion_tokens_details': {'reasoning_tokens': Decimal('0')}}, 'finish_reason': 'stop', 'model_name': 'gpt-4o-mini-2024-07-18', 'system_fingerprint': 'fp_1bb46167f9', 'logprobs': None}, id='run-4b9c9310-fdbf-4423-8403-64018e71bd53-0', usage_metadata={'input_tokens': 1925, 'output_tokens': 299, 'total_tokens': 2224}),\n",
       " HumanMessage(content='I forgot to mention that I co-authored a workshop on the recommendation systems at the conference ML Prague. Can you include that?'),\n",
       " AIMessage(content='{\"text\": \"I will include your co-authorship of the workshop on recommendation systems at the ML Prague conference in the tailored section. Here’s the updated version:\\\\n\", \"tailored_section\": \"**Applied Machine Learning Scientist**  \\\\n*Nov. 2016 - Feb. 2019*\\\\n\\\\n- **Recommender Systems Development:** Engineered collaborative filtering and online machine learning recommender systems for lifestyle, news, and video content, achieving a double-digit increase in key performance metrics and reaching over half of the Czech internet population.\\\\n  \\\\n- **Data Processing and Analysis:** Processed and analyzed terabytes of logs daily using PySpark on an on-premise cluster. Developed a proprietary framework for data manipulation and quality checks, ensuring high data integrity for machine learning applications.\\\\n\\\\n- **Model Optimization and Evaluation:**  \\\\n  - Improved online machine learning models through data cleaning, feature engineering, and rigorous offline/online testing, utilizing tools such as Vowpal Wabbit and Python.  \\\\n  - Developed a framework for offline evaluation of models based on matrix factorization, enhancing deployment decisions and online performance.  \\\\n  - Coauthored a library for A/B/n test evaluation, applying statistical methods to interpret results and optimize user engagement.\\\\n\\\\n- **Research and Collaboration:** Conducted research on contextual bandits, collaborating with the research department, resulting in a publication at SIGIR 2019. Co-authored a workshop on recommendation systems at the ML Prague conference. Worked closely with ML engineering teams to transition prototypes to production, ensuring code quality through reviews and participation in planning meetings.\"}', additional_kwargs={'refusal': None}, response_metadata={'token_usage': {'total_tokens': Decimal('2589'), 'completion_tokens': Decimal('332'), 'prompt_tokens': Decimal('2257'), 'completion_tokens_details': {'reasoning_tokens': Decimal('0')}}, 'finish_reason': 'stop', 'model_name': 'gpt-4o-mini-2024-07-18', 'system_fingerprint': 'fp_1bb46167f9', 'logprobs': None}, id='run-fb8231ab-437f-46e4-b369-aa6f2adda618-0', usage_metadata={'input_tokens': 2257, 'output_tokens': 332, 'total_tokens': 2589})]"
      ]
     },
     "execution_count": 18,
     "metadata": {},
     "output_type": "execute_result"
    }
   ],
   "source": [
    "get_message_history(user_id=user_id, session_id=conversation_id).messages\n"
   ]
  },
  {
   "cell_type": "code",
   "execution_count": 19,
   "metadata": {},
   "outputs": [],
   "source": [
    "event_4 = get_event(\"event_4.json\")"
   ]
  },
  {
   "cell_type": "code",
   "execution_count": 20,
   "metadata": {},
   "outputs": [],
   "source": [
    "response = handler(event_4, None)\n",
    "format_response(response)\n"
   ]
  },
  {
   "cell_type": "code",
   "execution_count": 21,
   "metadata": {},
   "outputs": [
    {
     "data": {
      "text/plain": [
       "[AIMessage(content='{\"text\": \"\\\\nHi! I\\'m here to help you to tailor this section. \\\\n\\\\nI have access to the:\\\\n\\\\n- hiring criteria, \\\\n- original section, \\\\n- current tailored section \\\\n- the whole resume.\\\\n\", \"tailored_section\": \"\"}'),\n",
       " HumanMessage(content='Can you tell me what the text of the original section is?'),\n",
       " AIMessage(content='', additional_kwargs={'refusal': None, 'tool_calls': [{'type': 'function', 'id': 'call_iLTkNmwDVJqONHCnMvz3ATdc', 'function': {'name': 'get_resume', 'arguments': '{}'}}]}, response_metadata={'token_usage': {'total_tokens': Decimal('1549'), 'completion_tokens': Decimal('10'), 'prompt_tokens': Decimal('1539'), 'completion_tokens_details': {'reasoning_tokens': Decimal('0')}}, 'finish_reason': 'tool_calls', 'model_name': 'gpt-4o-mini-2024-07-18', 'system_fingerprint': 'fp_1bb46167f9', 'logprobs': None}, id='run-9dfe7eee-e071-483c-8e43-615c8c866c30-0', tool_calls=[{'name': 'get_resume', 'args': {}, 'id': 'call_iLTkNmwDVJqONHCnMvz3ATdc', 'type': 'tool_call'}], usage_metadata={'input_tokens': 1539, 'output_tokens': 10, 'total_tokens': 1549}),\n",
       " ToolMessage(content='\\nJakub Drdak \\n+420 XXX XXX XXX \\nx@gmail.com \\nlinkedin.com/in/x \\n\\n# Bio\\n\\nMachine Learning and AI Specialist with 6+ years of experience having driven advancements in advertising and recommender systems at Seznam.cz, a leading Czech tech company. I’ve led research teams, tackled large-scale data projects, and initiated and driven complex strategic initiatives. I’m also a seasoned speaker and event organiser, with a few co-authored papers in top conferences such as RECSYS and SIGIR. I highly value and foster teamwork and cross-functional collaboration and enjoy seeking ways to present complex problems and findings in a clear and understandable manner for everyone. \\n\\n# Experience \\n\\n## Study and Travel \\n\\nNov. 2022 - present \\n\\n- Language Proficiency: Traveled and studied to achieve proficiency in English, enabling effective collaboration in international teams. Enrolled in intensive courses of English and Spanish, achieved conversational proficiency in English and basic Spanish skills.\\n- Continuous Learning: Maintained up-to-date knowledge of AI advancements by enrolling in AI courses, and attending AI meetups in Sydney, Australia. \\n\\n## Head of Research Departmen \\n\\nAug. 2019 - Nov. 2022\\n\\n- Leadership: Managed the research department of the Advertising System division at Seznam.cz, a prominent Czech tech and media company, reaching millions of users with its proprietary advertising system and search engine. \\n- Team Expansion and Organization: Led the expansion of the research department by 300% (from 6 to 24 members), establishing 5 specialized teams focused on sponsored search, display advertising, targeting, recommender systems, and operational research. Implemented a hybrid organizational structure (replacing the centralized structure) to foster greater cross-team collaboration, innovation and research throughput. \\n- Project Management: Directed research teams, collaborated on setting project priorities both within individual teams and across the division. Initiated and drove strategic multi-team and cross-functional projects, defined requirements, and facilitated collaboration to ensure successful outcomes. Projects included: \\n    * A universal A/B/n testing platform spanning the entire advertising and recommender systems \\n    * Development of Machine Learning platforms to substantially accelerate the ML project life-cycle Kubeflow \\n    * A Data Quality platform to ensure high standards in data handling and analysis \\n- Process and Framework Development: Co-developed and implemented: \\n    * A competency and continuous education framework \\n    * An improved internal hiring process \\n    * A management platform for research environments, enabling fast initialization, reliability, and reproducibility of research projects. MLFlow, CI, OpenStack \\n- Strategic Communication: Engaged daily with developers, product managers, project managers, and business managers across the division, as well as on a regular basis with other divisions. Developed and presented vision and strategy to top management. \\n\\n## Research Team Leader \\n\\nFeb. 2019 - Aug. 2019\\n\\n- Team Leadership: Managed a team of Applied Machine Learning Scientists, fostering close collaboration with development teams. \\n- Project Leadership: Directed and managed research projects, ensuring alignment with strategic goals. \\n- Cross-functional Communication: Coordinated with product managers and development team leaders to gather and convey requests and priorities, enhancing collaboration and efficiency. \\n- Research Contributions: Conducted and led research on video recommendation for a streaming service, resulting in a significant 28% increase in user engagement and publication (short paper) at RecSys 2020. \\n- Technological Transformation: Oversaw the successful transition from linear model-based to neural network-based online machine learning. Tensorflow \\n- Best Practices Development: Co-developed and implemented best practices for the ML project life-cycle and software development. Gitlab, Docker, YouTrack, Scrum \\n- Strategic Planning: Contributed to the strategic planning and prioritization of recommender systems development. \\n\\n## Applied Machine Learning Scientist \\n\\nNov. 2016 - Feb. 2019\\n\\n- Recommender Systems Development: Worked on recommender systems (e.g., collaborative filtering, online ML learning) for lifestyle, news, and video content, reaching over half of the Czech internet population. This resulted in a substantial double-digit increase in key performance metrics. \\n- Data Processing and Analysis: Processed and analyzed terabytes of logs daily using an on-premise cluster. Developed and maintained a proprietary framework for data manipulation and quality checks. PySpark \\n- Collaboration and Code Review: Worked closely with the ML engineering team to reimplement prototypes into the production environment and review production code. Participated in planning and prioritization meetings. \\n- Highlighted projects: \\n    * Model Improvement: Continuously improved online machine learning models through data cleaning, feature selection/extraction/engineering techniques, and conducting numerous offline and online tests. Vowpal Wabbit \\n    * Recommendation Diversification: Developed an approach for recommendation diversification based on clustering of semantic and text vectors. scikit-learn \\n    * Hyperparameter Optimization: Developed an approach based on the Nelder-Mead method, enabling real-time adjustments based on online metrics (e.g., user engagement). Python \\n    * Offline Evaluation Framework: Created a framework for offline evaluation of models based on matrix factorization, leading to informed deployment and improved performance in online metrics. Python \\n    * A/B/n Test Evaluation: Coauthored a proprietary library for A/B/n test evaluation based on a frequentist approach. Designed, evaluated, and interpreted results of A/B/n tests. Python, Pyspark, Statmodels \\n    * Production Implementation: Implemented the machine learning component of a recommender system based on matrix factorization into production, significantly optimizing its memory efficiency and performance. NumPy, multiprocessing \\n    * Contextual Bandits Research: Focused research on the field of contextual bandits, leading to collaboration with the counterpart research department and a publication (short paper) at SIGIR 2019. \\n\\n## Data Analyst \\n\\nJul. 2015 - Jan. 2020\\n\\n- Data Processing and Analysis: Processed, cleaned, and analyzed data from various sources, including database dumps, Excel files, and scraped web pages. SQL, Python \\n- Data Visualization: Generated charts and visualizations to represent data trends and insights. Python, Matplotlib \\n- Report Automation: Developed automation scripts to generate essential annual reports that guided decisions on allocating financial support to research institutions across the Czech Republic. Python, pandas, Git\\n- Collaboration and Presentation: Worked closely with the IT department and presented findings and recommendations to stakeholders through detailed reports and presentations. \\n\\n# Education \\n\\n- Master’s degree in Knowledge Engineering \\n- Bachelor’s degree in Information Systems and Management \\n\\n# Publication \\n\\n- Combining Models for Better User Satisfaction in Video Recommendation RECSYS 2020 \\n- Vertical Search Blending - A Real-world Counterfactual Dataset SIGIR 2019 \\n\\n# Others \\n\\n- Co-authored a workshop on recommender systems \\n- Presented on AI to 300 attendees with minimal or no background in AI \\n- Led the organization of an AI meetup, attracting over 140 attendees \\n- Representation and Engagement - Represented Seznam.cz at numerous events, including job fairs and meetups \\n\\n# Technical Skills \\n\\n- Languages: Proficient in: Python, SQL | Basic knowledge of: C/C++, JavaScript, HTML/CSS, R, Scala \\n- Machine Learning: Scikit-Learn, Vowpal Wabbit, NumPy, Statsmodels, SciPy, PyTorch, MLFlow \\n- Data Processing: Apache Spark, Hadoop, pandas, SQL | Basic knowledge of: AWS \\n- Data Visualisation: Matplotlib, Plotly, Seaborn, Dash \\n- Tools: Git, Docker, JupyterLab, VS Code, Scrum methodologies \\n\\n\\n# Soft Skills \\n\\n- Leadership and Team Management \\n- Strategic Planning and Execution \\n- Cross-functional Collaboration \\n- Effective Communication and Public Speaking \\n- Event Organization and Management \\n- Problem-solving and Critical Thinking Language \\n- Proficiency: Czech, Conversational English, Basic Spanish, Basic German\\n', name='get_resume', tool_call_id='call_iLTkNmwDVJqONHCnMvz3ATdc'),\n",
       " AIMessage(content='{\"text\": \"The original section of your resume is as follows:\\\\n\\\\n## Applied Machine Learning Scientist \\\\n\\\\nNov. 2016 - Feb. 2019\\\\n\\\\n- Recommender Systems Development: Worked on recommender systems (e.g., collaborative filtering, online ML learning) for lifestyle, news, and video content, reaching over half of the Czech internet population. This resulted in a substantial double-digit increase in key performance metrics. \\\\n- Data Processing and Analysis: Processed and analyzed terabytes of logs daily using an on-premise cluster. Developed and maintained a proprietary framework for data manipulation and quality checks. PySpark \\\\n- Collaboration and Code Review: Worked closely with the ML engineering team to reimplement prototypes into the production environment and review production code. Participated in planning and prioritization meetings. \\\\n- Highlighted projects: \\\\n    * Model Improvement: Continuously improved online machine learning models through data cleaning, feature selection/extraction/engineering techniques, and conducting numerous offline and online tests. Vowpal Wabbit \\\\n    * Recommendation Diversification: Developed an approach for recommendation diversification based on clustering of semantic and text vectors. scikit-learn \\\\n    * Hyperparameter Optimization: Developed an approach based on the Nelder-Mead method, enabling real-time adjustments based on online metrics (e.g., user engagement). Python \\\\n    * Offline Evaluation Framework: Created a framework for offline evaluation of models based on matrix factorization, leading to informed deployment and improved performance in online metrics. Python \\\\n    * A/B/n Test Evaluation: Coauthored a proprietary library for A/B/n test evaluation based on a frequentist approach. Designed, evaluated, and interpreted results of A/B/n tests. Python, Pyspark, Statmodels \\\\n    * Production Implementation: Implemented the machine learning component of a recommender system based on matrix factorization into production, significantly optimizing its memory efficiency and performance. NumPy, multiprocessing \\\\n    * Contextual Bandits Research: Focused research on the field of contextual bandits, leading to collaboration with the counterpart research department and a publication (short paper) at SIGIR 2019.\\\\n\", \"tailored_section\": \"\"}', additional_kwargs={'refusal': None}, response_metadata={'token_usage': {'total_tokens': Decimal('3614'), 'completion_tokens': Decimal('451'), 'prompt_tokens': Decimal('3163'), 'completion_tokens_details': {'reasoning_tokens': Decimal('0')}}, 'finish_reason': 'stop', 'model_name': 'gpt-4o-mini-2024-07-18', 'system_fingerprint': 'fp_1bb46167f9', 'logprobs': None}, id='run-460a1150-21a5-48d1-a40b-1bbf94bc296d-0', usage_metadata={'input_tokens': 3163, 'output_tokens': 451, 'total_tokens': 3614}),\n",
       " HumanMessage(content='Can you tell me what the tailored section is?'),\n",
       " AIMessage(content='{\"text\": \"The tailored section of your resume is as follows:\\\\n\\\\n**Applied Machine Learning Scientist**  \\\\n*Nov. 2016 - Feb. 2019*\\\\n\\\\n- **Recommender Systems Development:** Engineered collaborative filtering and online machine learning recommender systems for lifestyle, news, and video content, achieving a double-digit increase in key performance metrics and reaching over half of the Czech internet population.\\\\n  \\\\n- **Data Processing and Analysis:** Processed and analyzed terabytes of logs daily using PySpark on an on-premise cluster. Developed a proprietary framework for data manipulation and quality checks, ensuring high data integrity for machine learning applications.\\\\n\\\\n- **Model Optimization and Evaluation:**  \\\\n  - Improved online machine learning models through data cleaning, feature engineering, and rigorous offline/online testing, utilizing tools such as Vowpal Wabbit and Python.  \\\\n  - Developed a framework for offline evaluation of models based on matrix factorization, enhancing deployment decisions and online performance.  \\\\n  - Coauthored a library for A/B/n test evaluation, applying statistical methods to interpret results and optimize user engagement.\\\\n\\\\n- **Research and Collaboration:** Conducted research on contextual bandits, collaborating with the research department, resulting in a publication at SIGIR 2019. Worked closely with ML engineering teams to transition prototypes to production, ensuring code quality through reviews and participation in planning meetings.\\\\n\", \"tailored_section\": \"\"}', additional_kwargs={'refusal': None}, response_metadata={'token_usage': {'total_tokens': Decimal('3933'), 'completion_tokens': Decimal('302'), 'prompt_tokens': Decimal('3631'), 'completion_tokens_details': {'reasoning_tokens': Decimal('0')}}, 'finish_reason': 'stop', 'model_name': 'gpt-4o-mini-2024-07-18', 'system_fingerprint': 'fp_1bb46167f9', 'logprobs': None}, id='run-8ee4d92d-0800-43aa-b525-93cc58a264a8-0', usage_metadata={'input_tokens': 3631, 'output_tokens': 302, 'total_tokens': 3933}),\n",
       " HumanMessage(content='I forgot to mention that I co-authored a workshop on the recommendation systems at the conference ML Prague. Can you include that?'),\n",
       " AIMessage(content='{\"text\": \"I will include your co-authorship of the workshop on recommendation systems at the conference ML Prague in the tailored section. Here’s the updated tailored section:\\\\n\", \"tailored_section\": \"**Applied Machine Learning Scientist**  \\\\n*Nov. 2016 - Feb. 2019*\\\\n\\\\n- **Recommender Systems Development:** Engineered collaborative filtering and online machine learning recommender systems for lifestyle, news, and video content, achieving a double-digit increase in key performance metrics and reaching over half of the Czech internet population.\\\\n  \\\\n- **Data Processing and Analysis:** Processed and analyzed terabytes of logs daily using PySpark on an on-premise cluster. Developed a proprietary framework for data manipulation and quality checks, ensuring high data integrity for machine learning applications.\\\\n\\\\n- **Model Optimization and Evaluation:**  \\\\n  - Improved online machine learning models through data cleaning, feature engineering, and rigorous offline/online testing, utilizing tools such as Vowpal Wabbit and Python.  \\\\n  - Developed a framework for offline evaluation of models based on matrix factorization, enhancing deployment decisions and online performance.  \\\\n  - Coauthored a library for A/B/n test evaluation, applying statistical methods to interpret results and optimize user engagement.\\\\n\\\\n- **Research and Collaboration:** Conducted research on contextual bandits, collaborating with the research department, resulting in a publication at SIGIR 2019. Worked closely with ML engineering teams to transition prototypes to production, ensuring code quality through reviews and participation in planning meetings. Co-authored a workshop on recommendation systems at the ML Prague conference.\"}', additional_kwargs={'refusal': None}, response_metadata={'token_usage': {'total_tokens': Decimal('4299'), 'completion_tokens': Decimal('333'), 'prompt_tokens': Decimal('3966'), 'completion_tokens_details': {'reasoning_tokens': Decimal('0')}}, 'finish_reason': 'stop', 'model_name': 'gpt-4o-mini-2024-07-18', 'system_fingerprint': 'fp_1bb46167f9', 'logprobs': None}, id='run-2ca405f5-00c7-4963-b88f-36b29e1b95f4-0', usage_metadata={'input_tokens': 3966, 'output_tokens': 333, 'total_tokens': 4299}),\n",
       " HumanMessage(content='Can you tell me what the original resume is?'),\n",
       " AIMessage(content='{\"text\": \"The original resume includes all sections such as Bio, Experience, Education, Publication, Others, Technical Skills, and Soft Skills. Here’s a summary of the original resume:\\\\n\\\\n**Jakub Drdak**  \\\\n+420 XXX XXX XXX  \\\\nx@gmail.com  \\\\nlinkedin.com/in/x  \\\\n\\\\n# Bio  \\\\nMachine Learning and AI Specialist with 6+ years of experience having driven advancements in advertising and recommender systems at Seznam.cz, a leading Czech tech company. I’ve led research teams, tackled large-scale data projects, and initiated and driven complex strategic initiatives. I’m also a seasoned speaker and event organiser, with a few co-authored papers in top conferences such as RECSYS and SIGIR. I highly value and foster teamwork and cross-functional collaboration and enjoy seeking ways to present complex problems and findings in a clear and understandable manner for everyone.  \\\\n\\\\n# Experience  \\\\n## Study and Travel  \\\\nNov. 2022 - present  \\\\n- Language Proficiency: Traveled and studied to achieve proficiency in English, enabling effective collaboration in international teams. Enrolled in intensive courses of English and Spanish, achieved conversational proficiency in English and basic Spanish skills.  \\\\n- Continuous Learning: Maintained up-to-date knowledge of AI advancements by enrolling in AI courses, and attending AI meetups in Sydney, Australia.  \\\\n\\\\n## Head of Research Department  \\\\nAug. 2019 - Nov. 2022  \\\\n- Leadership: Managed the research department of the Advertising System division at Seznam.cz, a prominent Czech tech and media company, reaching millions of users with its proprietary advertising system and search engine.  \\\\n- Team Expansion and Organization: Led the expansion of the research department by 300% (from 6 to 24 members), establishing 5 specialized teams focused on sponsored search, display advertising, targeting, recommender systems, and operational research. Implemented a hybrid organizational structure (replacing the centralized structure) to foster greater cross-team collaboration, innovation and research throughput.  \\\\n- Project Management: Directed research teams, collaborated on setting project priorities both within individual teams and across the division. Initiated and drove strategic multi-team and cross-functional projects, defined requirements, and facilitated collaboration to ensure successful outcomes. Projects included:  \\\\n    * A universal A/B/n testing platform spanning the entire advertising and recommender systems  \\\\n    * Development of Machine Learning platforms to substantially accelerate the ML project life-cycle Kubeflow  \\\\n    * A Data Quality platform to ensure high standards in data handling and analysis  \\\\n- Process and Framework Development: Co-developed and implemented:  \\\\n    * A competency and continuous education framework  \\\\n    * An improved internal hiring process  \\\\n    * A management platform for research environments, enabling fast initialization, reliability, and reproducibility of research projects. MLFlow, CI, OpenStack  \\\\n- Strategic Communication: Engaged daily with developers, product managers, project managers, and business managers across the division, as well as on a regular basis with other divisions. Developed and presented vision and strategy to top management.  \\\\n\\\\n## Research Team Leader  \\\\nFeb. 2019 - Aug. 2019  \\\\n- Team Leadership: Managed a team of Applied Machine Learning Scientists, fostering close collaboration with development teams.  \\\\n- Project Leadership: Directed and managed research projects, ensuring alignment with strategic goals.  \\\\n- Cross-functional Communication: Coordinated with product managers and development team leaders to gather and convey requests and priorities, enhancing collaboration and efficiency.  \\\\n- Research Contributions: Conducted and led research on video recommendation for a streaming service, resulting in a significant 28% increase in user engagement and publication (short paper) at RecSys 2020.  \\\\n- Technological Transformation: Oversaw the successful transition from linear model-based to neural network-based online machine learning. Tensorflow  \\\\n- Best Practices Development: Co-developed and implemented best practices for the ML project life-cycle and software development. Gitlab, Docker, YouTrack, Scrum  \\\\n- Strategic Planning: Contributed to the strategic planning and prioritization of recommender systems development.  \\\\n\\\\n## Applied Machine Learning Scientist  \\\\nNov. 2016 - Feb. 2019  \\\\n- Recommender Systems Development: Worked on recommender systems (e.g., collaborative filtering, online ML learning) for lifestyle, news, and video content, reaching over half of the Czech internet population. This resulted in a substantial double-digit increase in key performance metrics.  \\\\n- Data Processing and Analysis: Processed and analyzed terabytes of logs daily using an on-premise cluster. Developed and maintained a proprietary framework for data manipulation and quality checks. PySpark  \\\\n- Collaboration and Code Review: Worked closely with the ML engineering team to reimplement prototypes into the production environment and review production code. Participated in planning and prioritization meetings.  \\\\n- Highlighted projects:  \\\\n    * Model Improvement: Continuously improved online machine learning models through data cleaning, feature selection/extraction/engineering techniques, and conducting numerous offline and online tests. Vowpal Wabbit  \\\\n    * Recommendation Diversification: Developed an approach for recommendation diversification based on clustering of semantic and text vectors. scikit-learn  \\\\n    * Hyperparameter Optimization: Developed an approach based on the Nelder-Mead method, enabling real-time adjustments based on online metrics (e.g., user engagement). Python  \\\\n    * Offline Evaluation Framework: Created a framework for offline evaluation of models based on matrix factorization, leading to informed deployment and improved performance in online metrics. Python  \\\\n    * A/B/n Test Evaluation: Coauthored a proprietary library for A/B/n test evaluation based on a frequentist approach. Designed, evaluated, and interpreted results of A/B/n tests. Python, Pyspark, Statmodels  \\\\n    * Production Implementation: Implemented the machine learning component of a recommender system based on matrix factorization into production, significantly optimizing its memory efficiency and performance. NumPy, multiprocessing  \\\\n    * Contextual Bandits Research: Focused research on the field of contextual bandits, leading to collaboration with the counterpart research department and a publication (short paper) at SIGIR 2019.  \\\\n\\\\n## Data Analyst  \\\\nJul. 2015 - Jan. 2020  \\\\n- Data Processing and Analysis: Processed, cleaned, and analyzed data from various sources, including database dumps, Excel files, and scraped web pages. SQL, Python  \\\\n- Data Visualization: Generated charts and visualizations to represent data trends and insights. Python, Matplotlib  \\\\n- Report Automation: Developed automation scripts to generate essential annual reports that guided decisions on allocating financial support to research institutions across the Czech Republic. Python, pandas, Git  \\\\n- Collaboration and Presentation: Worked closely with the IT department and presented findings and recommendations to stakeholders through detailed reports and presentations.  \\\\n\\\\n# Education  \\\\n- Master’s degree in Knowledge Engineering  \\\\n- Bachelor’s degree in Information Systems and Management  \\\\n\\\\n# Publication  \\\\n- Combining Models for Better User Satisfaction in Video Recommendation RECSYS 2020  \\\\n- Vertical Search Blending - A Real-world Counterfactual Dataset SIGIR 2019  \\\\n\\\\n# Others  \\\\n- Co-authored a workshop on recommender systems  \\\\n- Presented on AI to 300 attendees with minimal or no background in AI  \\\\n- Led the organization of an AI meetup, attracting over 140 attendees  \\\\n- Representation and Engagement - Represented Seznam.cz at numerous events, including job fairs and meetups  \\\\n\\\\n# Technical Skills  \\\\n- Languages: Proficient in: Python, SQL | Basic knowledge of: C/C++, JavaScript, HTML/CSS, R, Scala  \\\\n- Machine Learning: Scikit-Learn, Vowpal Wabbit, NumPy, Statsmodels, SciPy, PyTorch, MLFlow  \\\\n- Data Processing: Apache Spark, Hadoop, pandas, SQL | Basic knowledge of: AWS  \\\\n- Data Visualization: Matplotlib, Plotly, Seaborn, Dash  \\\\n- Tools: Git, Docker, JupyterLab, VS Code, Scrum methodologies  \\\\n\\\\n# Soft Skills  \\\\n- Leadership and Team Management  \\\\n- Strategic Planning and Execution  \\\\n- Cross-functional Collaboration  \\\\n- Effective Communication and Public Speaking  \\\\n- Event Organization and Management  \\\\n- Problem-solving and Critical Thinking  \\\\n\\\\nLanguage  \\\\n- Proficiency: Czech, Conversational English, Basic Spanish, Basic German  \\\\n\", \"tailored_section\": \"\"}', additional_kwargs={'refusal': None}, response_metadata={'token_usage': {'total_tokens': Decimal('6139'), 'completion_tokens': Decimal('1823'), 'prompt_tokens': Decimal('4316'), 'completion_tokens_details': {'reasoning_tokens': Decimal('0')}}, 'finish_reason': 'stop', 'model_name': 'gpt-4o-mini-2024-07-18', 'system_fingerprint': 'fp_1bb46167f9', 'logprobs': None}, id='run-e7b4839e-c91b-480a-91ef-bb1dab07149b-0', usage_metadata={'input_tokens': 4316, 'output_tokens': 1823, 'total_tokens': 6139})]"
      ]
     },
     "execution_count": 21,
     "metadata": {},
     "output_type": "execute_result"
    }
   ],
   "source": [
    "get_message_history(user_id=user_id, session_id=conversation_id).messages\n"
   ]
  }
 ],
 "metadata": {
  "kernelspec": {
   "display_name": ".venv",
   "language": "python",
   "name": "python3"
  },
  "language_info": {
   "codemirror_mode": {
    "name": "ipython",
    "version": 3
   },
   "file_extension": ".py",
   "mimetype": "text/x-python",
   "name": "python",
   "nbconvert_exporter": "python",
   "pygments_lexer": "ipython3",
   "version": "3.11.4"
  }
 },
 "nbformat": 4,
 "nbformat_minor": 2
}
