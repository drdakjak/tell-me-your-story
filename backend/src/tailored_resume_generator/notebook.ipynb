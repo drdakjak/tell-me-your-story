{
 "cells": [
  {
   "cell_type": "code",
   "execution_count": 1,
   "metadata": {},
   "outputs": [],
   "source": [
    "import json\n",
    "from IPython.display import display, Markdown"
   ]
  },
  {
   "cell_type": "code",
   "execution_count": 2,
   "metadata": {},
   "outputs": [],
   "source": [
    "from handler import handler"
   ]
  },
  {
   "cell_type": "code",
   "execution_count": 3,
   "metadata": {},
   "outputs": [],
   "source": [
    "with open('./events/event.json') as f:\n",
    "    event = json.load(f)\n",
    "    response = handler(event, None)"
   ]
  },
  {
   "cell_type": "code",
   "execution_count": 4,
   "metadata": {},
   "outputs": [],
   "source": [
    "resume = json.loads(response['body'])"
   ]
  },
  {
   "cell_type": "code",
   "execution_count": 6,
   "metadata": {},
   "outputs": [
    {
     "data": {
      "text/markdown": [
       "# Jakub Drdak\n",
       "\n",
       "**Contact Information**  \n",
       "+420 XXX XXX XXX  \n",
       "x@gmail.com  \n",
       "[LinkedIn](https://linkedin.com/in/x)  \n",
       "\n",
       "---\n",
       "\n",
       "## Professional Summary\n",
       "\n",
       "Machine Learning and AI Specialist with over 6 years of experience in software development, specializing in advertising and recommendation systems. Proven expertise in machine learning algorithms, including deep learning and natural language processing, with hands-on experience using tools like TensorFlow. \n",
       "\n",
       "- Led research teams in large-scale data projects, focusing on developing and integrating models for recommender systems and user behavior analysis.\n",
       "- Co-authored papers presented at top conferences such as RECSYS and SIGIR, demonstrating a commitment to innovation and collaboration in the field.\n",
       "- Strong advocate for teamwork and cross-functional collaboration, effectively communicating complex findings to diverse audiences.\n",
       "\n",
       "---\n",
       "\n",
       "## Experience\n",
       "\n",
       "### Head of Research Department  \n",
       "**Seznam.cz**  \n",
       "*Aug. 2019 - Nov. 2022*  \n",
       "- **Leadership in Machine Learning and AI:** Managed the research department, focusing on machine learning and recommender systems, enhancing user experience for millions through innovative advertising solutions.  \n",
       "- **Team Expansion and Collaboration:** Expanded the research team by 300%, establishing specialized groups in recommender systems and operational research, fostering cross-team collaboration to drive innovation in AI and data analysis.  \n",
       "- **Project Management and Development:** Directed projects including a universal A/B/n testing platform and Machine Learning platforms (Kubeflow) to streamline ML project lifecycles. Developed a Data Quality platform ensuring high standards in data handling and analysis.\n",
       "\n",
       "### Research Team Leader  \n",
       "*Feb. 2019 - Aug. 2019*  \n",
       "- **Team Leadership & Collaboration:** Led a team of Applied Machine Learning Scientists, enhancing collaboration with development teams to drive project success in software engineering and machine learning.  \n",
       "- **Project Management & Research:** Directed research on video recommendation systems, achieving a 28% increase in user engagement and contributing to a publication at RecSys 2020.  \n",
       "- **Technological Innovation:** Spearheaded the transition to neural network-based online machine learning using TensorFlow.\n",
       "\n",
       "### Applied Machine Learning Scientist  \n",
       "*Nov. 2016 - Feb. 2019*  \n",
       "- **Recommender Systems Development:** Designed and implemented collaborative filtering and online machine learning models for recommender systems, achieving a double-digit increase in key performance metrics.  \n",
       "- **Machine Learning and Data Analysis:** Processed terabytes of data daily using PySpark; developed a proprietary framework for data manipulation and quality checks.  \n",
       "- **Production Integration and Collaboration:** Collaborated with ML engineering teams to transition prototypes into production, optimizing memory efficiency and performance of recommender systems.\n",
       "\n",
       "### Data Analyst  \n",
       "*Jul. 2015 - Jan. 2020*  \n",
       "- **Data Processing and Analysis:** Leveraged SQL and Python to process, clean, and analyze diverse datasets, enhancing data quality and insights for decision-making.  \n",
       "- **Machine Learning and Experiment Design:** Developed automation scripts using Python and pandas for generating reports, contributing to data-driven decisions.  \n",
       "- **Collaboration and Reporting:** Collaborated with IT to present analytical findings and recommendations, ensuring alignment with stakeholder needs.\n",
       "\n",
       "---\n",
       "\n",
       "## Professional Development\n",
       "\n",
       "**Nov. 2022 - Present**  \n",
       "- **Language Proficiency:** Enhanced English proficiency through immersive travel and intensive courses.  \n",
       "- **Continuous Learning in AI:** Actively pursued knowledge in artificial intelligence by enrolling in specialized AI courses and participating in meetups.\n",
       "\n",
       "---\n",
       "\n",
       "## Education\n",
       "\n",
       "- **Master’s Degree in Knowledge Engineering**  \n",
       "  Focused on advanced machine learning and artificial intelligence applications.\n",
       "  \n",
       "- **Bachelor’s Degree in Information Systems and Management**  \n",
       "  Provided a solid foundation in software development and data analysis.\n",
       "\n",
       "---\n",
       "\n",
       "## Publications\n",
       "\n",
       "- **Combining Models for Better User Satisfaction in Video Recommendation**, RECSYS 2020  \n",
       "- **Vertical Search Blending - A Real-world Counterfactual Dataset**, SIGIR 2019  \n",
       "\n",
       "---\n",
       "\n",
       "## Professional Engagement and Leadership\n",
       "\n",
       "- Co-authored a workshop on recommender systems.\n",
       "- Presented on artificial intelligence to 300 attendees.\n",
       "- Organized an AI meetup, attracting over 140 participants.\n",
       "\n",
       "---\n",
       "\n",
       "## Technical Skills\n",
       "\n",
       "- **Programming Languages:** Python, SQL; foundational knowledge in C/C++, JavaScript, HTML/CSS, R, Scala.\n",
       "- **Machine Learning & AI:** TensorFlow, Scikit-Learn, PyTorch, MLFlow.\n",
       "- **Data Analysis & Processing:** Apache Spark, Hadoop, pandas; statistical analysis and data visualization using Matplotlib, Plotly, Seaborn.\n",
       "\n",
       "---\n",
       "\n",
       "## Soft Skills\n",
       "\n",
       "- **Leadership and Team Management:** Proven ability to lead teams effectively.\n",
       "- **Problem-solving and Critical Thinking:** Strong analytical skills for complex challenges.\n",
       "- **Cross-functional Collaboration:** Experience working with diverse teams to integrate machine learning models into production systems."
      ],
      "text/plain": [
       "<IPython.core.display.Markdown object>"
      ]
     },
     "metadata": {},
     "output_type": "display_data"
    }
   ],
   "source": [
    "display(Markdown(resume))"
   ]
  },
  {
   "cell_type": "code",
   "execution_count": null,
   "metadata": {},
   "outputs": [],
   "source": []
  }
 ],
 "metadata": {
  "kernelspec": {
   "display_name": ".venv",
   "language": "python",
   "name": "python3"
  },
  "language_info": {
   "codemirror_mode": {
    "name": "ipython",
    "version": 3
   },
   "file_extension": ".py",
   "mimetype": "text/x-python",
   "name": "python",
   "nbconvert_exporter": "python",
   "pygments_lexer": "ipython3",
   "version": "3.11.4"
  }
 },
 "nbformat": 4,
 "nbformat_minor": 2
}
