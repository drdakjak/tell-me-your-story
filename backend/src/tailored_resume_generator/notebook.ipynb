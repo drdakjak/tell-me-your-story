{
 "cells": [
  {
   "cell_type": "code",
   "execution_count": null,
   "metadata": {},
   "outputs": [],
   "source": [
    "import sys\n",
    "sys.path.append('../shared')"
   ]
  },
  {
   "cell_type": "code",
   "execution_count": 1,
   "metadata": {},
   "outputs": [],
   "source": [
    "import json\n",
    "from IPython.display import display, Markdown"
   ]
  },
  {
   "cell_type": "code",
   "execution_count": 2,
   "metadata": {},
   "outputs": [],
   "source": [
    "from handler import handler"
   ]
  },
  {
   "cell_type": "code",
   "execution_count": 3,
   "metadata": {},
   "outputs": [],
   "source": [
    "with open('./events/event.json') as f:\n",
    "    event = json.load(f)\n",
    "    response = handler(event, None)"
   ]
  },
  {
   "cell_type": "code",
   "execution_count": 4,
   "metadata": {},
   "outputs": [],
   "source": [
    "resume = json.loads(response['body'])"
   ]
  },
  {
   "cell_type": "code",
   "execution_count": 6,
   "metadata": {},
   "outputs": [
    {
     "data": {
      "text/plain": [
       "'# Jakub Drdak\\n\\n+420 XXX XXX XXX  \\nx@gmail.com  \\n[linkedin.com/in/x](http://linkedin.com/in/x)  \\n\\n---\\n\\n## Professional Summary\\n\\nMachine Learning and AI Specialist with over 6 years of experience in software development, focusing on machine learning algorithms and recommender systems at Seznam.cz, a leading Czech tech company. Proven expertise in developing and implementing large-scale data projects, including A/B/n testing platforms and machine learning frameworks, enhancing user engagement and data quality.\\n\\n- Led research teams in the design and execution of machine learning models, including deep learning and natural language processing, resulting in significant advancements in advertising technologies.\\n- Co-authored research papers presented at top conferences such as RECSYS and SIGIR, demonstrating a commitment to innovation and knowledge sharing in the field.\\n- Strong advocate for cross-functional collaboration, effectively communicating complex findings to diverse audiences and fostering teamwork to drive strategic initiatives.\\n\\n---\\n\\n## Experience\\n\\n### Head of Research Department  \\n**Seznam.cz**  \\n*Aug. 2019 - Nov. 2022*  \\n- **Leadership in Machine Learning:** Managed the research department, focusing on machine learning and recommender systems, driving innovations that reached millions of users.  \\n- **Project Management & Development:** Initiated and led strategic projects, including a universal A/B/n testing platform and a Machine Learning platform (Kubeflow) to enhance project life-cycles and data quality standards.  \\n- **Cross-Functional Collaboration:** Fostered collaboration across teams, engaging with developers and product managers to align project priorities and ensure successful outcomes in machine learning and AI initiatives.\\n\\n### Research Team Leader  \\n**Seznam.cz**  \\n*Feb. 2019 - Aug. 2019*  \\n- **Project Leadership:** Directed research projects focused on machine learning and recommender systems, enhancing user engagement by 28% through innovative video recommendation solutions.  \\n- **Technological Transformation:** Led the transition to neural network-based online machine learning using TensorFlow, improving model performance and scalability.  \\n- **Best Practices Development:** Co-developed best practices for the machine learning project life-cycle, utilizing tools such as GitLab and Docker to streamline processes and enhance collaboration across teams.\\n\\n### Applied Machine Learning Scientist  \\n**Seznam.cz**  \\n*Nov. 2016 - Feb. 2019*  \\n- **Recommender Systems Development:** Developed and optimized recommender systems using collaborative filtering and online machine learning, impacting over half of the Czech internet population.  \\n- **Machine Learning and Data Analysis:** Processed and analyzed terabytes of data daily, utilizing PySpark for data manipulation and quality checks.  \\n- **Experimentation and Optimization:** Coauthored a library for A/B/n test evaluation, designed and interpreted results to inform decision-making.\\n\\n### Data Analyst  \\n**Seznam.cz**  \\n*Jul. 2015 - Jan. 2020*  \\n- **Data Processing and Analysis:** Processed, cleaned, and analyzed large datasets from diverse sources, ensuring data integrity and quality.  \\n- **Report Automation:** Developed automation scripts in Python and pandas to streamline reporting processes.  \\n- **Collaboration and Presentation:** Collaborated with cross-functional teams, effectively communicating insights and recommendations through detailed reports and visualizations.\\n\\n---\\n\\n## Professional Development\\n\\n- **Continuous Learning in AI:** Engaged in AI courses and meetups to stay current with advancements in machine learning, natural language processing, and generative AI.  \\n- **Language Proficiency:** Achieved conversational proficiency in English, facilitating effective collaboration in international teams.\\n\\n---\\n\\n## Education\\n\\n- **Master’s Degree in Knowledge Engineering**  \\n- **Bachelor’s Degree in Information Systems and Management**  \\n\\n---\\n\\n## Publications\\n\\n- **Combining Models for Better User Satisfaction in Video Recommendation**, RECSYS 2020  \\n- **Vertical Search Blending - A Real-world Counterfactual Dataset**, SIGIR 2019  \\n\\n---\\n\\n## Professional Engagement and Leadership\\n\\n- Co-authored a workshop on recommender systems, enhancing knowledge sharing and collaboration in the field.\\n- Delivered a presentation on AI to 300 attendees, effectively communicating complex concepts to diverse audiences.\\n- Organized an AI meetup, successfully attracting over 140 participants.\\n\\n---\\n\\n## Technical Skills\\n\\n- **Programming Languages:** Python, SQL; basic knowledge of C++, JavaScript, HTML/CSS, R, Scala.  \\n- **Machine Learning & AI:** Scikit-Learn, TensorFlow, Vowpal Wabbit, PyTorch, MLFlow.  \\n- **Data Processing & Analysis:** Apache Spark, Hadoop, pandas; statistical analysis and data visualization using Matplotlib, Plotly, Seaborn.\\n\\n---\\n\\n## Soft Skills\\n\\n- **Leadership and Team Management:** Successfully led and expanded research teams, fostering collaboration and innovation.  \\n- **Effective Communication:** Developed and presented strategic visions to top management.  \\n- **Cross-functional Collaboration:** Engaged with product managers, developers, and business stakeholders to align project goals.'"
      ]
     },
     "execution_count": 6,
     "metadata": {},
     "output_type": "execute_result"
    }
   ],
   "source": [
    "resume"
   ]
  },
  {
   "cell_type": "code",
   "execution_count": 5,
   "metadata": {},
   "outputs": [
    {
     "data": {
      "text/markdown": [
       "# Jakub Drdak\n",
       "\n",
       "+420 XXX XXX XXX  \n",
       "x@gmail.com  \n",
       "[linkedin.com/in/x](http://linkedin.com/in/x)  \n",
       "\n",
       "---\n",
       "\n",
       "## Professional Summary\n",
       "\n",
       "Machine Learning and AI Specialist with over 6 years of experience in software development, focusing on machine learning algorithms and recommender systems at Seznam.cz, a leading Czech tech company. Proven expertise in developing and implementing large-scale data projects, including A/B/n testing platforms and machine learning frameworks, enhancing user engagement and data quality.\n",
       "\n",
       "- Led research teams in the design and execution of machine learning models, including deep learning and natural language processing, resulting in significant advancements in advertising technologies.\n",
       "- Co-authored research papers presented at top conferences such as RECSYS and SIGIR, demonstrating a commitment to innovation and knowledge sharing in the field.\n",
       "- Strong advocate for cross-functional collaboration, effectively communicating complex findings to diverse audiences and fostering teamwork to drive strategic initiatives.\n",
       "\n",
       "---\n",
       "\n",
       "## Experience\n",
       "\n",
       "### Head of Research Department  \n",
       "**Seznam.cz**  \n",
       "*Aug. 2019 - Nov. 2022*  \n",
       "- **Leadership in Machine Learning:** Managed the research department, focusing on machine learning and recommender systems, driving innovations that reached millions of users.  \n",
       "- **Project Management & Development:** Initiated and led strategic projects, including a universal A/B/n testing platform and a Machine Learning platform (Kubeflow) to enhance project life-cycles and data quality standards.  \n",
       "- **Cross-Functional Collaboration:** Fostered collaboration across teams, engaging with developers and product managers to align project priorities and ensure successful outcomes in machine learning and AI initiatives.\n",
       "\n",
       "### Research Team Leader  \n",
       "**Seznam.cz**  \n",
       "*Feb. 2019 - Aug. 2019*  \n",
       "- **Project Leadership:** Directed research projects focused on machine learning and recommender systems, enhancing user engagement by 28% through innovative video recommendation solutions.  \n",
       "- **Technological Transformation:** Led the transition to neural network-based online machine learning using TensorFlow, improving model performance and scalability.  \n",
       "- **Best Practices Development:** Co-developed best practices for the machine learning project life-cycle, utilizing tools such as GitLab and Docker to streamline processes and enhance collaboration across teams.\n",
       "\n",
       "### Applied Machine Learning Scientist  \n",
       "**Seznam.cz**  \n",
       "*Nov. 2016 - Feb. 2019*  \n",
       "- **Recommender Systems Development:** Developed and optimized recommender systems using collaborative filtering and online machine learning, impacting over half of the Czech internet population.  \n",
       "- **Machine Learning and Data Analysis:** Processed and analyzed terabytes of data daily, utilizing PySpark for data manipulation and quality checks.  \n",
       "- **Experimentation and Optimization:** Coauthored a library for A/B/n test evaluation, designed and interpreted results to inform decision-making.\n",
       "\n",
       "### Data Analyst  \n",
       "**Seznam.cz**  \n",
       "*Jul. 2015 - Jan. 2020*  \n",
       "- **Data Processing and Analysis:** Processed, cleaned, and analyzed large datasets from diverse sources, ensuring data integrity and quality.  \n",
       "- **Report Automation:** Developed automation scripts in Python and pandas to streamline reporting processes.  \n",
       "- **Collaboration and Presentation:** Collaborated with cross-functional teams, effectively communicating insights and recommendations through detailed reports and visualizations.\n",
       "\n",
       "---\n",
       "\n",
       "## Professional Development\n",
       "\n",
       "- **Continuous Learning in AI:** Engaged in AI courses and meetups to stay current with advancements in machine learning, natural language processing, and generative AI.  \n",
       "- **Language Proficiency:** Achieved conversational proficiency in English, facilitating effective collaboration in international teams.\n",
       "\n",
       "---\n",
       "\n",
       "## Education\n",
       "\n",
       "- **Master’s Degree in Knowledge Engineering**  \n",
       "- **Bachelor’s Degree in Information Systems and Management**  \n",
       "\n",
       "---\n",
       "\n",
       "## Publications\n",
       "\n",
       "- **Combining Models for Better User Satisfaction in Video Recommendation**, RECSYS 2020  \n",
       "- **Vertical Search Blending - A Real-world Counterfactual Dataset**, SIGIR 2019  \n",
       "\n",
       "---\n",
       "\n",
       "## Professional Engagement and Leadership\n",
       "\n",
       "- Co-authored a workshop on recommender systems, enhancing knowledge sharing and collaboration in the field.\n",
       "- Delivered a presentation on AI to 300 attendees, effectively communicating complex concepts to diverse audiences.\n",
       "- Organized an AI meetup, successfully attracting over 140 participants.\n",
       "\n",
       "---\n",
       "\n",
       "## Technical Skills\n",
       "\n",
       "- **Programming Languages:** Python, SQL; basic knowledge of C++, JavaScript, HTML/CSS, R, Scala.  \n",
       "- **Machine Learning & AI:** Scikit-Learn, TensorFlow, Vowpal Wabbit, PyTorch, MLFlow.  \n",
       "- **Data Processing & Analysis:** Apache Spark, Hadoop, pandas; statistical analysis and data visualization using Matplotlib, Plotly, Seaborn.\n",
       "\n",
       "---\n",
       "\n",
       "## Soft Skills\n",
       "\n",
       "- **Leadership and Team Management:** Successfully led and expanded research teams, fostering collaboration and innovation.  \n",
       "- **Effective Communication:** Developed and presented strategic visions to top management.  \n",
       "- **Cross-functional Collaboration:** Engaged with product managers, developers, and business stakeholders to align project goals."
      ],
      "text/plain": [
       "<IPython.core.display.Markdown object>"
      ]
     },
     "metadata": {},
     "output_type": "display_data"
    }
   ],
   "source": [
    "display(Markdown(resume))"
   ]
  },
  {
   "cell_type": "code",
   "execution_count": null,
   "metadata": {},
   "outputs": [],
   "source": []
  }
 ],
 "metadata": {
  "kernelspec": {
   "display_name": ".venv",
   "language": "python",
   "name": "python3"
  },
  "language_info": {
   "codemirror_mode": {
    "name": "ipython",
    "version": 3
   },
   "file_extension": ".py",
   "mimetype": "text/x-python",
   "name": "python",
   "nbconvert_exporter": "python",
   "pygments_lexer": "ipython3",
   "version": "3.11.4"
  }
 },
 "nbformat": 4,
 "nbformat_minor": 2
}
