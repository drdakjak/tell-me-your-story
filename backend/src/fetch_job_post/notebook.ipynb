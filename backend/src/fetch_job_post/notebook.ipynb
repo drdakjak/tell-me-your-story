{
 "cells": [
  {
   "cell_type": "code",
   "execution_count": null,
   "metadata": {},
   "outputs": [],
   "source": [
    "import sys\n",
    "sys.path.append('../shared')"
   ]
  },
  {
   "cell_type": "code",
   "execution_count": 1,
   "metadata": {},
   "outputs": [],
   "source": [
    "from IPython.display import display, Markdown\n",
    "\n",
    "from web_url_text_extractor import extract_text_from_url\n",
    "from job_post_extractor import extract_job_post_text"
   ]
  },
  {
   "cell_type": "code",
   "execution_count": 2,
   "metadata": {},
   "outputs": [],
   "source": [
    "%load_ext autoreload\n",
    "%autoreload 2"
   ]
  },
  {
   "cell_type": "code",
   "execution_count": 3,
   "metadata": {},
   "outputs": [],
   "source": [
    "urls = [\n",
    "    \"https://www.google.com/about/careers/applications/jobs/results/111711038985904838-software-engineering-manager-ii-site-reliability-engineering-shopping\",\n",
    "    \"https://jobs.careers.microsoft.com/global/en/job/1761526/Principal-Applied-Machine-Learning-Engineer\",\n",
    "]\n"
   ]
  },
  {
   "cell_type": "code",
   "execution_count": 4,
   "metadata": {},
   "outputs": [],
   "source": [
    "from requests_html import HTMLSession"
   ]
  },
  {
   "cell_type": "code",
   "execution_count": 5,
   "metadata": {},
   "outputs": [],
   "source": [
    "from requests_html import AsyncHTMLSession\n"
   ]
  },
  {
   "cell_type": "code",
   "execution_count": 6,
   "metadata": {},
   "outputs": [],
   "source": [
    "# asession = AsyncHTMLSession()\n",
    "# r = await asession.get(urls[0])\n",
    "# await r.html.arender(timeout=10)\n",
    "# resp=r.html.raw_html"
   ]
  },
  {
   "cell_type": "code",
   "execution_count": 7,
   "metadata": {},
   "outputs": [
    {
     "data": {
      "text/markdown": [
       "**Job Title:** Software Engineering Manager II, Site Reliability Engineering, Shopping  \n",
       "**Location:** Dublin, Ireland  \n",
       "\n",
       "**Minimum Qualifications:**  \n",
       "- Bachelor’s degree in Computer Science, a related field, or equivalent practical experience.  \n",
       "- 8 years of experience with data structures or algorithms.  \n",
       "- 5 years of experience with software development in one or more programming languages.  \n",
       "- 3 years of experience in people management, designing, analyzing, and troubleshooting distributed systems.  \n",
       "\n",
       "**Preferred Qualifications:**  \n",
       "- Experience working in computing, distributed systems, storage, or networking.  \n",
       "- Ability to debug, optimize code, and automate routine tasks.  \n",
       "- Excellent problem-solving and communication skills.  \n",
       "\n",
       "**About the Job:**  \n",
       "Site Reliability Engineering (SRE) combines software and systems engineering to build and run large-scale, massively distributed, fault-tolerant systems. SRE ensures that Google's services—both our internally critical and our externally-visible systems—have reliability, uptime appropriate to users' needs and a fast rate of improvement. Additionally, SRE’s will keep an ever-watchful eye on our systems capacity and performance. Much of our software development focuses on optimizing existing systems, building infrastructure and eliminating work through automation. On the SRE team, you will have the opportunity to manage the complex challenges of scale which are unique to Google, while using your expertise in coding, algorithms, complexity analysis and large-scale system design. SRE's culture of diversity, intellectual curiosity, problem solving and openness is key to its success. Our organization brings together people with a wide variety of backgrounds, experiences and perspectives. We encourage them to collaborate, think big and take risks in a blame-free environment. We promote self-direction to work on meaningful projects, while we also strive to create an environment that provides the support and mentorship needed to learn and grow.  \n",
       "\n",
       "**Responsibilities:**  \n",
       "- Lead a team of Software/Systems Engineers on projects for users and be responsible for uptime.  \n",
       "- Own availability and performance of key services and build automation to prevent problem recurrence. Automate response to all non-exceptional service conditions.  \n",
       "- Lead and mentor the team and establish credibility through quality technical execution.  \n",
       "- Manage on-call rotations across continents using a follow-the-sun model.  \n",
       "- Design, write and deliver software to improve the availability, scalability, latency and efficiency of Google's services.  \n",
       "\n",
       "**Equal Opportunity Statement:**  \n",
       "Google is proud to be an equal opportunity and affirmative action employer. We are committed to building a workforce that is representative of the users we serve, creating a culture of belonging, and providing an equal employment opportunity regardless of race, creed, color, religion, gender, sexual orientation, gender identity/expression, national origin, disability, age, genetic information, veteran status, marital status, pregnancy or related condition (including breastfeeding), expecting or parents-to-be, criminal histories consistent with legal requirements, or any other basis protected by law.  \n",
       "\n",
       "**Additional Information:**  \n",
       "- Information collected and processed as part of your Google Careers profile, and any job applications you choose to submit is subject to Google's Applicant and Candidate Privacy Policy.  \n",
       "- Google does not accept agency resumes. Please do not forward resumes to our jobs alias, Google employees, or any other organization location. Google is not responsible for any fees related to unsolicited resumes.  \n",
       "- English proficiency is a requirement for all roles unless stated otherwise in the job posting."
      ],
      "text/plain": [
       "<IPython.core.display.Markdown object>"
      ]
     },
     "metadata": {},
     "output_type": "display_data"
    }
   ],
   "source": [
    "extracted_text = extract_text_from_url(urls[0])\n",
    "text = extract_job_post_text(extracted_text)\n",
    "display(Markdown(text))\n"
   ]
  },
  {
   "cell_type": "code",
   "execution_count": 8,
   "metadata": {},
   "outputs": [
    {
     "data": {
      "text/markdown": [
       "No job post information is available in the provided text."
      ],
      "text/plain": [
       "<IPython.core.display.Markdown object>"
      ]
     },
     "metadata": {},
     "output_type": "display_data"
    }
   ],
   "source": [
    "extracted_text = extract_text_from_url(urls[1])\n",
    "text = extract_job_post_text(extracted_text)\n",
    "display(Markdown(text))"
   ]
  },
  {
   "cell_type": "code",
   "execution_count": null,
   "metadata": {},
   "outputs": [],
   "source": []
  }
 ],
 "metadata": {
  "kernelspec": {
   "display_name": ".venv",
   "language": "python",
   "name": "python3"
  },
  "language_info": {
   "codemirror_mode": {
    "name": "ipython",
    "version": 3
   },
   "file_extension": ".py",
   "mimetype": "text/x-python",
   "name": "python",
   "nbconvert_exporter": "python",
   "pygments_lexer": "ipython3",
   "version": "3.11.4"
  }
 },
 "nbformat": 4,
 "nbformat_minor": 2
}
