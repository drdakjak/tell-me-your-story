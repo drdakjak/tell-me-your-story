{
 "cells": [
  {
   "cell_type": "code",
   "execution_count": 1,
   "metadata": {},
   "outputs": [],
   "source": [
    "from typing import List\n",
    "from dotenv import load_dotenv\n",
    "\n",
    "from IPython.display import display, Markdown, HTML\n",
    "\n",
    "from web_url_text_extractor import extract_text_from_url\n",
    "from job_post_extractor import extract_job_post_text"
   ]
  },
  {
   "cell_type": "code",
   "execution_count": 2,
   "metadata": {},
   "outputs": [],
   "source": [
    "%load_ext autoreload\n",
    "%autoreload 2"
   ]
  },
  {
   "cell_type": "code",
   "execution_count": 3,
   "metadata": {},
   "outputs": [
    {
     "data": {
      "text/plain": [
       "True"
      ]
     },
     "execution_count": 3,
     "metadata": {},
     "output_type": "execute_result"
    }
   ],
   "source": [
    "load_dotenv()"
   ]
  },
  {
   "cell_type": "code",
   "execution_count": 4,
   "metadata": {},
   "outputs": [],
   "source": [
    "urls = [\n",
    "    \"https://www.google.com/about/careers/applications/jobs/results/111711038985904838-software-engineering-manager-ii-site-reliability-engineering-shopping\",\n",
    "    \"https://jobs.careers.microsoft.com/global/en/job/1761526/Principal-Applied-Machine-Learning-Engineer\",\n",
    "]\n"
   ]
  },
  {
   "cell_type": "code",
   "execution_count": 5,
   "metadata": {},
   "outputs": [
    {
     "data": {
      "text/markdown": [
       "**Job Title:** Software Engineering Manager II, Site Reliability Engineering, Shopping  \n",
       "**Location:** Dublin, Ireland  \n",
       "\n",
       "**Minimum Qualifications:**\n",
       "- Bachelor’s degree in Computer Science, a related field, or equivalent practical experience.\n",
       "- 8 years of experience with data structures or algorithms.\n",
       "- 5 years of experience with software development in one or more programming languages.\n",
       "- 3 years of experience in people management, designing, analyzing, and troubleshooting distributed systems.\n",
       "\n",
       "**Preferred Qualifications:**\n",
       "- Experience working in computing, distributed systems, storage, or networking.\n",
       "- Ability to debug, optimize code, and automate routine tasks.\n",
       "- Excellent problem-solving and communication skills.\n",
       "\n",
       "**About the Job:**\n",
       "Site Reliability Engineering (SRE) combines software and systems engineering to build and run large-scale, massively distributed, fault-tolerant systems. SRE ensures that Google's services—both our internally critical and our externally-visible systems—have reliability, uptime appropriate to users' needs and a fast rate of improvement. Additionally, SRE’s will keep an ever-watchful eye on our systems capacity and performance. Much of our software development focuses on optimizing existing systems, building infrastructure and eliminating work through automation. On the SRE team, you will have the opportunity to manage the complex challenges of scale which are unique to Google, while using your expertise in coding, algorithms, complexity analysis and large-scale system design. SRE's culture of diversity, intellectual curiosity, problem solving and openness is key to its success. Our organization brings together people with a wide variety of backgrounds, experiences and perspectives. We encourage them to collaborate, think big and take risks in a blame-free environment. We promote self-direction to work on meaningful projects, while we also strive to create an environment that provides the support and mentorship needed to learn and grow.\n",
       "\n",
       "**Responsibilities:**\n",
       "- Lead a team of Software/Systems Engineers on projects for users and be responsible for uptime.\n",
       "- Own availability and performance of key services and build automation to prevent problem recurrence. Automate response to all non-exceptional service conditions.\n",
       "- Lead and mentor the team and establish credibility through quality technical execution.\n",
       "- Manage on-call rotations across continents using a follow-the-sun model.\n",
       "- Design, write and deliver software to improve the availability, scalability, latency and efficiency of Google's services.\n",
       "\n",
       "**Equal Opportunity Statement:**\n",
       "Google is proud to be an equal opportunity and affirmative action employer. We are committed to building a workforce that is representative of the users we serve, creating a culture of belonging, and providing an equal employment opportunity regardless of race, creed, color, religion, gender, sexual orientation, gender identity/expression, national origin, disability, age, genetic information, veteran status, marital status, pregnancy or related condition (including breastfeeding), expecting or parents-to-be, criminal histories consistent with legal requirements, or any other basis protected by law."
      ],
      "text/plain": [
       "<IPython.core.display.Markdown object>"
      ]
     },
     "metadata": {},
     "output_type": "display_data"
    }
   ],
   "source": [
    "extracted_text = extract_text_from_url(urls[0])\n",
    "text = extract_job_post_text(extracted_text)\n",
    "display(Markdown(text))\n"
   ]
  },
  {
   "cell_type": "code",
   "execution_count": 6,
   "metadata": {},
   "outputs": [
    {
     "data": {
      "text/markdown": [
       "**Job Title:** Principal Applied Machine Learning Engineer  \n",
       "**Company:** Microsoft  \n",
       "**Location:** Redmond, Washington, United States  \n",
       "**Date Posted:** Aug 28, 2024  \n",
       "**Job Number:** 1761526  \n",
       "**Work Site:** Up to 100% work from home  \n",
       "**Travel:** 0-25%  \n",
       "**Role Type:** Individual Contributor  \n",
       "**Profession:** Research, Applied, & Data Sciences  \n",
       "**Discipline:** Applied Sciences  \n",
       "**Employment Type:** Full-Time  \n",
       "\n",
       "**Overview:**  \n",
       "Our team is seeking a Principal Applied Machine Learning Engineer to join us at Microsoft Security. Security represents the most critical priorities for our customers in a world awash in digital threats, regulatory scrutiny, and estate complexity. Microsoft Security aspires to make the world a safer place for all. We want to reshape security and empower every user, customer, and developer with a security cloud that protects them with end to end, simplified solutions. The Microsoft Security organization accelerates Microsoft’s mission and bold ambitions to ensure that our company and industry is securing digital technology platforms, devices, and clouds in our customers’ heterogeneous environments, as well as ensuring the security of our own internal estate. Our culture is centered on embracing a growth mindset, a theme of inspiring excellence, and encouraging teams and leaders to bring their best each day. In doing so, we create life-changing innovations that impact billions of lives around the world.  \n",
       "\n",
       "**What We Do:**  \n",
       "We are a research team of dedicated and innovative experts specializing in machine learning and artificial intelligence research for cybersecurity. We stand at the forefront of revolutionizing cybersecurity solutions in a rapidly evolving digital landscape where cyber threats persistently challenge the boundaries of security. Come and work with a team of world-class researchers and engineers who are passionate about advancing the state-of-the-art in cybersecurity and creating impactful solutions for customers. Help us build a culture of learning, growth, and inclusion, where everyone thrives and makes a difference in the security domain. Microsoft’s mission is to empower every person and every organization on the planet to achieve more. As employees we come together with a growth mindset, innovate to empower others, and collaborate to realize our shared goals. Each day we build on our values of respect, integrity, and accountability to create a culture of inclusion where everyone can thrive at work and beyond.  \n",
       "\n",
       "**Qualifications:**  \n",
       "**Required/Minimum Qualifications:**  \n",
       "- Bachelor's Degree in Statistics, Econometrics, Computer Science, Electrical or Computer Engineering, or related field AND 6+ years related experience (e.g., statistics, predictive analytics, research)  \n",
       "- OR Master's Degree in Statistics, Econometrics, Computer Science, Electrical or Computer Engineering, or related field AND 4+ years related experience (e.g., statistics, predictive analytics, research)  \n",
       "- OR Doctorate in Statistics, Econometrics, Computer Science, Electrical or Computer Engineering, or related field AND 3+ years related experience (e.g., statistics, predictive analytics, research)  \n",
       "- OR equivalent experience.  \n",
       "- 5+ years of hands-on experience in programming language such as C#, Python  \n",
       "- Technical skills involving problem-solving, architecture design and be able to write high quality production code  \n",
       "- Experience in working with cross-functional teams, such as product managers, designers, researchers, engineers, and stakeholders, with good communication, collaboration, and leadership skills, for translating research into a production service.  \n",
       "\n",
       "**Other Requirements:**  \n",
       "- Ability to meet Microsoft, customer and/or government security screening requirements are required for this role. These requirements include, but are not limited to the following specialized security screenings: Microsoft Cloud Background Check: This position will be required to pass the Microsoft Cloud background check upon hire/transfer and every two years thereafter.  \n",
       "\n",
       "**Additional or Preferred Qualifications:**  \n",
       "- Master's Degree in Statistics, Econometrics, Computer Science, Electrical or Computer Engineering, or related field AND 9+ years related experience (e.g., statistics, predictive analytics, research)  \n",
       "- OR Doctorate in Statistics, Econometrics, Computer Science, Electrical or Computer Engineering, or related field AND 6+ years related experience (e.g., statistics, predictive analytics, research)  \n",
       "- OR equivalent experience.  \n",
       "- 5+ years experience creating publications (e.g., patents, libraries, peer-reviewed academic papers).  \n",
       "- 5+ years experience conducting research as part of a research program (in academic or industry settings).  \n",
       "- 3+ years experience developing and deploying live production systems, as part of a product team.  \n",
       "- 3+ years experience developing and deploying products or systems at multiple points in the product cycle from ideation to shipping.  \n",
       "- 2+ years experience presenting at conferences or other events in the outside research/industry community as an invited speaker.  \n",
       "- Prior experience in Artificial Intelligence (AI) product development is preferred  \n",
       "- Prior experience with LLM (Large language model) /NLP (Natural language processing) is preferred  \n",
       "- Experience in technical skills and knowledge in large language model, deep learning, transformer models, data engineering, cloud stack technologies, information fusion, large-scale machine learning models.  \n",
       "- Ability to work effectively in a collaborative and fast-paced environment, and to adapt to changing priorities and feedback  \n",
       "- Ability to deal with ambiguity at work; identify research areas independently; shape the direction of research to product in a practical way  \n",
       "- Understanding of statistics, machine learning algorithms and data visualization.  \n",
       "- Independent and self-motivated.  \n",
       "- Knowledge of cross team and cross org collaboration  \n",
       "\n",
       "**Compensation:**  \n",
       "Applied Sciences IC5 - The typical base pay range for this role across the U.S. is USD $137,600 - $267,000 per year. There is a different range applicable to specific work locations, within the San Francisco Bay area and New York City metropolitan area, and the base pay range for this role in those locations is USD $180,400 - $294,000 per year. Certain roles may be eligible for benefits and other compensation. Find additional benefits and pay information here: https://careers.microsoft.com/us/en/us-corporate-pay  \n",
       "\n",
       "**Application Deadline:**  \n",
       "Microsoft will accept applications for the role until September 18, 2024  \n",
       "\n",
       "**Responsibilities:**  \n",
       "- Develop and execute cutting-edge research projects in machine learning and artificial intelligence for cybersecurity, with a focus on cloud security challenges and opportunities.  \n",
       "- Serve as an expertise within team on changes in industry/market trends, products, industry advances, and opportunities in applied technologies across a broad range of applied research areas.  \n",
       "- Communicate the results and impact of your research and development to senior leadership and external audiences through publications, presentations, and demos.  \n",
       "- Write production-ready code to successfully deliver research project into Artificial Intelligence (AI) product.  \n",
       "\n",
       "**Benefits/Perks:**  \n",
       "- Industry leading healthcare  \n",
       "- Educational resources  \n",
       "- Discounts on products and services  \n",
       "- Savings and investments  \n",
       "- Maternity and paternity leave  \n",
       "- Generous time away  \n",
       "- Giving programs  \n",
       "- Opportunities to network and connect  \n",
       "\n",
       "**Equal Opportunity Employer Statement:**  \n",
       "Microsoft is an equal opportunity employer. All qualified applicants will receive consideration for employment without regard to age, ancestry, citizenship, color, family or medical care leave, gender identity or expression, genetic information, immigration status, marital status, medical condition, national origin, physical or mental disability, political affiliation, protected veteran or military status, race, ethnicity, religion, sex (including pregnancy), sexual orientation, or any other characteristic protected by applicable local laws, regulations and ordinances. If you need assistance and/or a reasonable accommodation due to a disability during the application process, read more about requesting accommodations."
      ],
      "text/plain": [
       "<IPython.core.display.Markdown object>"
      ]
     },
     "metadata": {},
     "output_type": "display_data"
    }
   ],
   "source": [
    "extracted_text = extract_text_from_url(urls[1])\n",
    "text = extract_job_post_text(extracted_text)\n",
    "display(Markdown(text))"
   ]
  },
  {
   "cell_type": "code",
   "execution_count": null,
   "metadata": {},
   "outputs": [],
   "source": []
  }
 ],
 "metadata": {
  "kernelspec": {
   "display_name": ".venv",
   "language": "python",
   "name": "python3"
  },
  "language_info": {
   "codemirror_mode": {
    "name": "ipython",
    "version": 3
   },
   "file_extension": ".py",
   "mimetype": "text/x-python",
   "name": "python",
   "nbconvert_exporter": "python",
   "pygments_lexer": "ipython3",
   "version": "3.11.4"
  }
 },
 "nbformat": 4,
 "nbformat_minor": 2
}
