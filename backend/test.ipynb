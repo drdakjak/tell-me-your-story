{
 "cells": [
  {
   "cell_type": "code",
   "execution_count": 1,
   "metadata": {},
   "outputs": [],
   "source": [
    "# !sam local invoke \"FetchJobPost\" -e src/fetch_job_post/events/event.json -n src/.env.json"
   ]
  },
  {
   "cell_type": "code",
   "execution_count": 2,
   "metadata": {},
   "outputs": [
    {
     "name": "stdout",
     "output_type": "stream",
     "text": [
      "Invoking handler.handler \u001b[1m(\u001b[0mpython3.\u001b[1;36m11\u001b[0m\u001b[1m)\u001b[0m                                           \n",
      "Local image is up-to-date                                                       \n",
      "Using local image: public.ecr.aws/lambda/python:\u001b[1;36m3.11\u001b[0m-rapid-arm64.               \n",
      "                                                                                \n",
      "Mounting                                                                        \n",
      "\u001b[35m/Users/jakubdrdak/VScodeProjects/tell-me-your-story/backend/.aws-sam/build/\u001b[0m\u001b[95mProce\u001b[0m\n",
      "\u001b[95mssResume\u001b[0m as \u001b[35m/var/\u001b[0m\u001b[95mtask\u001b[0m:ro,delegated, inside runtime container                    \n",
      "START RequestId: 9eb4c9cc-dfe8-489f-9ba9-b51621730e06 Version: $LATEST\n",
      "END RequestId: d1fee39b-42f0-443d-b715-69fabbd87535\n",
      "REPORT RequestId: d1fee39b-42f0-443d-b715-69fabbd87535\tInit Duration: 0.18 ms\tDuration: 53223.73 ms\tBilled Duration: 53224 ms\tMemory Size: 128 MB\tMax Memory Used: 128 MB\t\n",
      "{\"statusCode\": 200, \"headers\": {\"Access-Control-Allow-Headers\": \"*\", \"Access-Control-Allow-Origin\": \"*\", \"Access-Control-Allow-Methods\": \"*\"}, \"body\": \"[{\\\"header\\\": \\\"Contact Information\\\", \\\"content\\\": \\\"Jakub Drdak  \\\\n+420 XXX XXX XXX  \\\\nx@gmail.com  \\\\nlinkedin.com/in/x  \\\\n\\\"}, {\\\"header\\\": \\\"Bio\\\", \\\"content\\\": \\\"Machine Learning and AI Specialist with 6+ years of experience having driven advancements in advertising and recommender systems at Seznam.cz, a leading Czech tech company. I\\\\u2019ve led research teams, tackled large-scale data projects, and initiated and driven complex strategic initiatives. I\\\\u2019m also a seasoned speaker and event organiser, with a few co-authored papers in top conferences such as RECSYS and SIGIR. I highly value and foster teamwork and cross-functional collaboration and enjoy seeking ways to present complex problems and findings in a clear and understandable manner for everyone.\\\"}, {\\\"header\\\": \\\"Experience\\\", \\\"content\\\": \\\"\\\"}, {\\\"header\\\": \\\"Study and Travel\\\", \\\"content\\\": \\\"Nov. 2022 - present  \\\\n\\\\n- Language Proficiency: Traveled and studied to achieve proficiency in English, enabling effective collaboration in international teams. Enrolled in intensive courses of English and Spanish, achieved conversational proficiency in English and basic Spanish skills.  \\\\n- Continuous Learning: Maintained up-to-date knowledge of AI advancements by enrolling in AI courses, and attending AI meetups in Sydney, Australia.\\\"}, {\\\"header\\\": \\\"Head of Research Department\\\", \\\"content\\\": \\\"Aug. 2019 - Nov. 2022  \\\\n\\\\n- Leadership: Managed the research department of the Advertising System division at Seznam.cz, a prominent Czech tech and media company, reaching millions of users with its proprietary advertising system and search engine.  \\\\n- Team Expansion and Organization: Led the expansion of the research department by 300% (from 6 to 24 members), establishing 5 specialized teams focused on sponsored search, display advertising, targeting, recommender systems, and operational research. Implemented a hybrid organizational structure (replacing the centralized structure) to foster greater cross-team collaboration, innovation and research throughput.  \\\\n- Project Management: Directed research teams, collaborated on setting project priorities both within individual teams and across the division. Initiated and drove strategic multi-team and cross-functional projects, defined requirements, and facilitated collaboration to ensure successful outcomes. Projects included:  \\\\n    * A universal A/B/n testing platform spanning the entire advertising and recommender systems  \\\\n    * Development of Machine Learning platforms to substantially accelerate the ML project life-cycle Kubeflow  \\\\n    * A Data Quality platform to ensure high standards in data handling and analysis  \\\\n- Process and Framework Development: Co-developed and implemented:  \\\\n    * A competency and continuous education framework  \\\\n    * An improved internal hiring process  \\\\n    * A management platform for research environments, enabling fast initialization, reliability, and reproducibility of research projects. MLFlow, CI, OpenStack  \\\\n- Strategic Communication: Engaged daily with developers, product managers, project managers, and business managers across the division, as well as on a regular basis with other divisions. Developed and presented vision and strategy to top management.\\\"}, {\\\"header\\\": \\\"Research Team Leader\\\", \\\"content\\\": \\\"Feb. 2019 - Aug. 2019  \\\\n\\\\n- Team Leadership: Managed a team of Applied Machine Learning Scientists, fostering close collaboration with development teams.  \\\\n- Project Leadership: Directed and managed research projects, ensuring alignment with strategic goals.  \\\\n- Cross-functional Communication: Coordinated with product managers and development team leaders to gather and convey requests and priorities, enhancing collaboration and efficiency.  \\\\n- Research Contributions: Conducted and led research on video recommendation for a streaming service, resulting in a significant 28% increase in user engagement and publication (short paper) at RecSys 2020.  \\\\n- Technological Transformation: Oversaw the successful transition from linear model-based to neural network-based online machine learning. Tensorflow  \\\\n- Best Practices Development: Co-developed and implemented best practices for the ML project life-cycle and software development. Gitlab, Docker, YouTrack, Scrum  \\\\n- Strategic Planning: Contributed to the strategic planning and prioritization of recommender systems development.\\\"}, {\\\"header\\\": \\\"Applied Machine Learning Scientist\\\", \\\"content\\\": \\\"Nov. 2016 - Feb. 2019  \\\\n\\\\n- Recommender Systems Development: Worked on recommender systems (e.g., collaborative filtering, online ML learning) for lifestyle, news, and video content, reaching over half of the Czech internet population. This resulted in a substantial double-digit increase in key performance metrics.  \\\\n- Data Processing and Analysis: Processed and analyzed terabytes of logs daily using an on-premise cluster. Developed and maintained a proprietary framework for data manipulation and quality checks. PySpark  \\\\n- Collaboration and Code Review: Worked closely with the ML engineering team to reimplement prototypes into the production environment and review production code. Participated in planning and prioritization meetings.  \\\\n- Highlighted projects:  \\\\n    * Model Improvement: Continuously improved online machine learning models through data cleaning, feature selection/extraction/engineering techniques, and conducting numerous offline and online tests. Vowpal Wabbit  \\\\n    * Recommendation Diversification: Developed an approach for recommendation diversification based on clustering of semantic and text vectors. scikit-learn  \\\\n    * Hyperparameter Optimization: Developed an approach based on the Nelder-Mead method, enabling real-time adjustments based on online metrics (e.g., user engagement). Python  \\\\n    * Offline Evaluation Framework: Created a framework for offline evaluation of models based on matrix factorization, leading to informed deployment and improved performance in online metrics. Python  \\\\n    * A/B/n Test Evaluation: Coauthored a proprietary library for A/B/n test evaluation based on a frequentist approach. Designed, evaluated, and interpreted results of A/B/n tests. Python, Pyspark, Statmodels  \\\\n    * Production Implementation: Implemented the machine learning component of a recommender system based on matrix factorization into production, significantly optimizing its memory efficiency and performance. NumPy, multiprocessing  \\\\n    * Contextual Bandits Research: Focused research on the field of contextual bandits, leading to collaboration with the counterpart research department and a publication (short paper) at SIGIR 2019.\\\"}, {\\\"header\\\": \\\"Data Analyst\\\", \\\"content\\\": \\\"Jul. 2015 - Jan. 2020  \\\\n\\\\n- Data Processing and Analysis: Processed, cleaned, and analyzed data from various sources, including database dumps, Excel files, and scraped web pages. SQL, Python  \\\\n- Data Visualization: Generated charts and visualizations to represent data trends and insights. Python, Matplotlib  \\\\n- Report Automation: Developed automation scripts to generate essential annual reports that guided decisions on allocating financial support to research institutions across the Czech Republic. Python, pandas, Git  \\\\n- Collaboration and Presentation: Worked closely with the IT department and presented findings and recommendations to stakeholders through detailed reports and presentations.\\\"}, {\\\"header\\\": \\\"Education\\\", \\\"content\\\": \\\"- Master\\\\u2019s degree in Knowledge Engineering  \\\\n- Bachelor\\\\u2019s degree in Information Systems and Management\\\"}, {\\\"header\\\": \\\"Publication\\\", \\\"content\\\": \\\"- Combining Models for Better User Satisfaction in Video Recommendation RECSYS 2020  \\\\n- Vertical Search Blending - A Real-world Counterfactual Dataset SIGIR 2019\\\"}, {\\\"header\\\": \\\"Others\\\", \\\"content\\\": \\\"- Co-authored a workshop on recommender systems  \\\\n- Presented on AI to 300 attendees with minimal or no background in AI  \\\\n- Led the organization of an AI meetup, attracting over 140 attendees  \\\\n- Representation and Engagement - Represented Seznam.cz at numerous events, including job fairs and meetups\\\"}, {\\\"header\\\": \\\"Technical Skills\\\", \\\"content\\\": \\\"- Languages: Proficient in: Python, SQL | Basic knowledge of: C/C++, JavaScript, HTML/CSS, R, Scala  \\\\n- Machine Learning: Scikit-Learn, Vowpal Wabbit, NumPy, Statsmodels, SciPy, PyTorch, MLFlow  \\\\n- Data Processing: Apache Spark, Hadoop, pandas, SQL | Basic knowledge of: AWS  \\\\n- Data Visualisation: Matplotlib, Plotly, Seaborn, Dash  \\\\n- Tools: Git, Docker, JupyterLab, VS Code, Scrum methodologies  \\\\n\\\"}, {\\\"header\\\": \\\"Soft Skills\\\", \\\"content\\\": \\\"- Leadership and Team Management  \\\\n- Strategic Planning and Execution  \\\\n- Cross-functional Collaboration  \\\\n- Effective Communication and Public Speaking  \\\\n- Event Organization and Management  \\\\n- Problem-solving and Critical Thinking  \\\\n- Language Proficiency: Czech, Conversational English, Basic Spanish, Basic German\\\"}]\"}\n"
     ]
    }
   ],
   "source": [
    "!sam local invoke \"ProcessResume\" -e src/process_resume/events/event.json -n src/.env.json\n"
   ]
  },
  {
   "cell_type": "code",
   "execution_count": 14,
   "metadata": {},
   "outputs": [
    {
     "name": "stdout",
     "output_type": "stream",
     "text": [
      "Invoking handler.handler \u001b[1m(\u001b[0mpython3.\u001b[1;36m11\u001b[0m\u001b[1m)\u001b[0m                                           \n",
      "Local image is up-to-date                                                       \n",
      "Using local image: public.ecr.aws/lambda/python:\u001b[1;36m3.11\u001b[0m-rapid-arm64.               \n",
      "                                                                                \n",
      "Mounting                                                                        \n",
      "\u001b[35m/Users/jakubdrdak/VScodeProjects/tell-me-your-story/backend/.aws-sam/build/\u001b[0m\u001b[95mProce\u001b[0m\n",
      "\u001b[95mssJobPost\u001b[0m as \u001b[35m/var/\u001b[0m\u001b[95mtask\u001b[0m:ro,delegated, inside runtime container                   \n",
      "START RequestId: 99168074-3eff-4080-a15b-9cf7e0bc0c1f Version: $LATEST\n",
      "END RequestId: eaef608b-a8bc-42d6-9b2e-b539277cbf1b\n",
      "REPORT RequestId: eaef608b-a8bc-42d6-9b2e-b539277cbf1b\tInit Duration: 0.02 ms\tDuration: 9598.21 ms\tBilled Duration: 9599 ms\tMemory Size: 128 MB\tMax Memory Used: 128 MB\t\n",
      "{\"statusCode\": 200, \"body\": \"\\\"**Required Qualifications:**\\\\n- Bachelor's degree or equivalent practical experience.\\\\n- 2 years of experience with software development in one or more programming languages, and with data structures or algorithms.\\\\n- 2 years of experience with machine learning algorithms and tools (e.g., TensorFlow), artificial intelligence, deep learning or natural language processing.\\\\n- Experience with Large Language Models, NLP, or Generative AI.\\\\n- Experience with Coding, Experiment Design, Data Analysis.\\\\n- Experience with recommendation systems/rankings/predictions.\\\\n\\\\n**Preferred Qualifications:**\\\\n- Master's degree or PhD in Computer Science or related technical fields.\\\\n- Experience developing accessible technologies.\\\\n- Experience with C++, Statistical Analysis, Python.\\\\n- Experience with quality work in either serving quality or data quality.\\\\n- Experience as a data analyst/scientist.\\\\n- Experience in understanding user behavior (i.e., mathematical modeling or social science background).\\\\n\\\\n**Key Technical Skills:**\\\\n- Programming languages (specific languages not mentioned).\\\\n- Machine learning algorithms and tools (e.g., TensorFlow).\\\\n- Large Language Models, NLP, Generative AI.\\\\n- C++, Statistical Analysis, Python.\\\\n- Data Analysis.\\\\n- Experiment Design.\\\\n- Recommendation systems/rankings/predictions.\\\\n\\\\n**Soft Skills:**\\\\n- Versatility.\\\\n- Leadership qualities.\\\\n- Enthusiasm to take on new problems.\\\\n\\\\n**Education Requirements:**\\\\n- Bachelor's degree or equivalent practical experience (required).\\\\n- Master's degree or PhD in Computer Science or related technical fields (preferred).\\\\n\\\\n**Experience Level:**\\\\n- Minimum of 2 years of experience in software development and machine learning (required).\\\\n- Experience as a data analyst/scientist (preferred).\\\\n\\\\n**Industry-Specific Keywords:**\\\\n- Software engineering.\\\\n- Artificial intelligence.\\\\n- Natural language processing.\\\\n- Large-scale system design.\\\\n- E-commerce.\\\\n- User behavior modeling.\\\\n\\\\n**Responsibilities and Duties:**\\\\n- Work in coding, modeling, and analysis.\\\\n- Find and create signals for modeling.\\\\n- Combine signals into a model for offline evaluation.\\\\n- Integrate models into the production stack (e.g., search and shopping) and initiate live experiments.\\\\n\\\\n**Company Values or Culture Fit:**\\\\n- Commitment to equal employment opportunity and diversity.\\\\n- Emphasis on innovation and technology advancement.\\\\n- Support for the commerce ecosystem, including large retailers and small local merchants.\\\"\", \"headers\": {\"Access-Control-Allow-Headers\": \"*\", \"Access-Control-Allow-Origin\": \"*\", \"Access-Control-Allow-Methods\": \"*\"}}\n"
     ]
    }
   ],
   "source": [
    "!sam local invoke \"ProcessJobPost\" -e src/process_job_post/events/event.json -n src/.env.json\n"
   ]
  },
  {
   "cell_type": "code",
   "execution_count": 15,
   "metadata": {},
   "outputs": [
    {
     "name": "stdout",
     "output_type": "stream",
     "text": [
      "Invoking handler.handler \u001b[1m(\u001b[0mpython3.\u001b[1;36m11\u001b[0m\u001b[1m)\u001b[0m                                           \n",
      "Local image is up-to-date                                                       \n",
      "Using local image: public.ecr.aws/lambda/python:\u001b[1;36m3.11\u001b[0m-rapid-arm64.               \n",
      "                                                                                \n",
      "Mounting                                                                        \n",
      "\u001b[35m/Users/jakubdrdak/VScodeProjects/tell-me-your-story/backend/.aws-sam/build/\u001b[0m\u001b[95mOptim\u001b[0m\n",
      "\u001b[95miseResume\u001b[0m as \u001b[35m/var/\u001b[0m\u001b[95mtask\u001b[0m:ro,delegated, inside runtime container                   \n",
      "START RequestId: e5b929e7-bd9a-4e2a-89a5-9a82298fc1a7 Version: $LATEST\n"
     ]
    }
   ],
   "source": [
    "!sam local invoke \"OptimiseResume\" -e src/optimise_resume/events/event.json -n src/.env.json\n"
   ]
  },
  {
   "cell_type": "code",
   "execution_count": 5,
   "metadata": {},
   "outputs": [
    {
     "name": "stdout",
     "output_type": "stream",
     "text": [
      "Invoking handler.handler \u001b[1m(\u001b[0mpython3.\u001b[1;36m11\u001b[0m\u001b[1m)\u001b[0m                                           \n",
      "Local image is up-to-date                                                       \n",
      "Using local image: public.ecr.aws/lambda/python:\u001b[1;36m3.11\u001b[0m-rapid-arm64.               \n",
      "                                                                                \n",
      "Mounting                                                                        \n",
      "\u001b[35m/Users/jakubdrdak/VScodeProjects/tell-me-your-story/backend/.aws-sam/build/\u001b[0m\u001b[95mReset\u001b[0m\n",
      "\u001b[95mChat\u001b[0m as \u001b[35m/var/\u001b[0m\u001b[95mtask\u001b[0m:ro,delegated, inside runtime container                        \n",
      "START RequestId: 2a1e2b58-8ea0-4a44-981b-13a8215e28c7 Version: $LATEST\n",
      "END RequestId: c88293cc-1531-44d4-9c9a-dad6322a2bc0\n",
      "REPORT RequestId: c88293cc-1531-44d4-9c9a-dad6322a2bc0\tInit Duration: 0.02 ms\tDuration: 1591.14 ms\tBilled Duration: 1592 ms\tMemory Size: 128 MB\tMax Memory Used: 128 MB\t\n",
      "{\"statusCode\": 200, \"headers\": {\"Access-Control-Allow-Headers\": \"*\", \"Access-Control-Allow-Origin\": \"*\", \"Access-Control-Allow-Methods\": \"*\"}, \"body\": \"\\\"Chat history reset successfully.\\\"\"}\n"
     ]
    }
   ],
   "source": [
    "!sam local invoke \"ResetChat\" -e src/reset_chat/events/event.json -n src/.env.json\n"
   ]
  },
  {
   "cell_type": "code",
   "execution_count": 6,
   "metadata": {},
   "outputs": [
    {
     "name": "stdout",
     "output_type": "stream",
     "text": [
      "Invoking handler.handler \u001b[1m(\u001b[0mpython3.\u001b[1;36m11\u001b[0m\u001b[1m)\u001b[0m                                           \n",
      "Local image is up-to-date                                                       \n",
      "Using local image: public.ecr.aws/lambda/python:\u001b[1;36m3.11\u001b[0m-rapid-arm64.               \n",
      "                                                                                \n",
      "Mounting                                                                        \n",
      "\u001b[35m/Users/jakubdrdak/VScodeProjects/tell-me-your-story/backend/.aws-sam/build/\u001b[0m\u001b[95mInvok\u001b[0m\n",
      "\u001b[95meChat\u001b[0m as \u001b[35m/var/\u001b[0m\u001b[95mtask\u001b[0m:ro,delegated, inside runtime container                       \n",
      "START RequestId: 91d08887-ec05-4734-a1b1-ef326beaac85 Version: $LATEST\n",
      "[INFO]\t2024-09-20T18:16:17.704Z\t56f3c384-205d-4a0e-85a8-745a6f3aec6f\tFound credentials in environment variables.\n",
      "END RequestId: 56f3c384-205d-4a0e-85a8-745a6f3aec6f\n",
      "REPORT RequestId: 56f3c384-205d-4a0e-85a8-745a6f3aec6f\tInit Duration: 0.02 ms\tDuration: 3047.11 ms\tBilled Duration: 3048 ms\tMemory Size: 128 MB\tMax Memory Used: 128 MB\t\n",
      "{\"statusCode\": 200, \"headers\": {\"Access-Control-Allow-Headers\": \"*\", \"Access-Control-Allow-Origin\": \"*\", \"Access-Control-Allow-Methods\": \"*\"}, \"body\": \"[{\\\"type\\\": \\\"ai\\\", \\\"content\\\": \\\"{\\\\\\\"text\\\\\\\": \\\\\\\"\\\\\\\\nHi! \\\\\\\\n\\\\\\\\nI'm here to help you tailor this section. I have access to the:\\\\\\\\n\\\\\\\\n- hiring criteria, \\\\\\\\n- original section, \\\\\\\\n- current tailored section, \\\\\\\\n- the whole resume.\\\\\\\\n\\\\\\\\nHow can I help you?\\\\\\\\n\\\\\\\", \\\\\\\"tailored_section\\\\\\\": \\\\\\\"\\\\\\\"}\\\"}]\"}\n"
     ]
    }
   ],
   "source": [
    "!sam local invoke \"InvokeChat\" -e src/invoke_chat/events/event.json -n src/.env.json\n"
   ]
  },
  {
   "cell_type": "code",
   "execution_count": 7,
   "metadata": {},
   "outputs": [
    {
     "name": "stdout",
     "output_type": "stream",
     "text": [
      "Invoking handler.handler \u001b[1m(\u001b[0mpython3.\u001b[1;36m11\u001b[0m\u001b[1m)\u001b[0m                                           \n",
      "Local image is up-to-date                                                       \n",
      "Using local image: public.ecr.aws/lambda/python:\u001b[1;36m3.11\u001b[0m-rapid-arm64.               \n",
      "                                                                                \n",
      "Mounting                                                                        \n",
      "\u001b[35m/Users/jakubdrdak/VScodeProjects/tell-me-your-story/backend/.aws-sam/build/\u001b[0m\u001b[95mChatR\u001b[0m\n",
      "\u001b[95mesume\u001b[0m as \u001b[35m/var/\u001b[0m\u001b[95mtask\u001b[0m:ro,delegated, inside runtime container                       \n",
      "START RequestId: 4f0222ef-bafd-4dc2-a9d9-a112259b2acc Version: $LATEST\n",
      "END RequestId: 8d128b25-55d1-4bd9-8aa1-c50a987aa7c4\n",
      "REPORT RequestId: 8d128b25-55d1-4bd9-8aa1-c50a987aa7c4\tInit Duration: 0.07 ms\tDuration: 3006.78 ms\tBilled Duration: 3007 ms\tMemory Size: 128 MB\tMax Memory Used: 128 MB\t\n",
      "{\"statusCode\": 500, \"body\": \"\\\"KeyError('job_requirements')\\\"\", \"headers\": {\"Access-Control-Allow-Headers\": \"*\", \"Access-Control-Allow-Origin\": \"*\", \"Access-Control-Allow-Methods\": \"*\"}}\n"
     ]
    }
   ],
   "source": [
    "!sam local invoke \"ChatResume\" -e src/chat_resume/events/event_1.json -n src/.env.json"
   ]
  },
  {
   "cell_type": "code",
   "execution_count": 8,
   "metadata": {},
   "outputs": [
    {
     "name": "stdout",
     "output_type": "stream",
     "text": [
      "Invoking handler.handler \u001b[1m(\u001b[0mpython3.\u001b[1;36m11\u001b[0m\u001b[1m)\u001b[0m                                           \n",
      "Local image is up-to-date                                                       \n",
      "Using local image: public.ecr.aws/lambda/python:\u001b[1;36m3.11\u001b[0m-rapid-arm64.               \n",
      "                                                                                \n",
      "Mounting                                                                        \n",
      "\u001b[35m/Users/jakubdrdak/VScodeProjects/tell-me-your-story/backend/.aws-sam/build/\u001b[0m\u001b[95mChatR\u001b[0m\n",
      "\u001b[95mesume\u001b[0m as \u001b[35m/var/\u001b[0m\u001b[95mtask\u001b[0m:ro,delegated, inside runtime container                       \n",
      "START RequestId: 06caa8b7-a09c-498c-9517-ecbc334e8bec Version: $LATEST\n",
      "END RequestId: 76704c74-9ab2-4080-9ed2-709a58a8c5a9\n",
      "REPORT RequestId: 76704c74-9ab2-4080-9ed2-709a58a8c5a9\tInit Duration: 0.03 ms\tDuration: 2947.90 ms\tBilled Duration: 2948 ms\tMemory Size: 128 MB\tMax Memory Used: 128 MB\t\n",
      "{\"statusCode\": 500, \"body\": \"\\\"KeyError('job_requirements')\\\"\", \"headers\": {\"Access-Control-Allow-Headers\": \"*\", \"Access-Control-Allow-Origin\": \"*\", \"Access-Control-Allow-Methods\": \"*\"}}\n"
     ]
    }
   ],
   "source": [
    "!sam local invoke \"ChatResume\" -e src/chat_resume/events/event_2.json -n src/.env.json\n"
   ]
  },
  {
   "cell_type": "code",
   "execution_count": 9,
   "metadata": {},
   "outputs": [
    {
     "name": "stdout",
     "output_type": "stream",
     "text": [
      "Invoking handler.handler \u001b[1m(\u001b[0mpython3.\u001b[1;36m11\u001b[0m\u001b[1m)\u001b[0m                                           \n",
      "Local image is up-to-date                                                       \n",
      "Using local image: public.ecr.aws/lambda/python:\u001b[1;36m3.11\u001b[0m-rapid-arm64.               \n",
      "                                                                                \n",
      "Mounting                                                                        \n",
      "\u001b[35m/Users/jakubdrdak/VScodeProjects/tell-me-your-story/backend/.aws-sam/build/\u001b[0m\u001b[95mChatR\u001b[0m\n",
      "\u001b[95mesume\u001b[0m as \u001b[35m/var/\u001b[0m\u001b[95mtask\u001b[0m:ro,delegated, inside runtime container                       \n",
      "START RequestId: e672e7d6-1f53-4033-8844-f8d459a7ecec Version: $LATEST\n",
      "END RequestId: cd0cb6d5-6a69-4e88-8bc0-6bc40472ea77\n",
      "REPORT RequestId: cd0cb6d5-6a69-4e88-8bc0-6bc40472ea77\tInit Duration: 0.07 ms\tDuration: 2816.47 ms\tBilled Duration: 2817 ms\tMemory Size: 128 MB\tMax Memory Used: 128 MB\t\n",
      "{\"statusCode\": 500, \"body\": \"\\\"KeyError('job_requirements')\\\"\", \"headers\": {\"Access-Control-Allow-Headers\": \"*\", \"Access-Control-Allow-Origin\": \"*\", \"Access-Control-Allow-Methods\": \"*\"}}\n"
     ]
    }
   ],
   "source": [
    "!sam local invoke \"ChatResume\" -e src/chat_resume/events/event_3.json -n src/.env.json\n"
   ]
  },
  {
   "cell_type": "code",
   "execution_count": 10,
   "metadata": {},
   "outputs": [
    {
     "name": "stdout",
     "output_type": "stream",
     "text": [
      "Invoking handler.handler \u001b[1m(\u001b[0mpython3.\u001b[1;36m11\u001b[0m\u001b[1m)\u001b[0m                                           \n",
      "Local image is up-to-date                                                       \n",
      "Using local image: public.ecr.aws/lambda/python:\u001b[1;36m3.11\u001b[0m-rapid-arm64.               \n",
      "                                                                                \n",
      "Mounting                                                                        \n",
      "\u001b[35m/Users/jakubdrdak/VScodeProjects/tell-me-your-story/backend/.aws-sam/build/\u001b[0m\u001b[95mChatR\u001b[0m\n",
      "\u001b[95mesume\u001b[0m as \u001b[35m/var/\u001b[0m\u001b[95mtask\u001b[0m:ro,delegated, inside runtime container                       \n",
      "START RequestId: 6b785eb0-36a8-40b6-9767-dd13e989e26c Version: $LATEST\n",
      "END RequestId: c612a62d-b0f8-422d-88e4-c14a3313e6b1\n",
      "REPORT RequestId: c612a62d-b0f8-422d-88e4-c14a3313e6b1\tInit Duration: 0.03 ms\tDuration: 3108.38 ms\tBilled Duration: 3109 ms\tMemory Size: 128 MB\tMax Memory Used: 128 MB\t\n",
      "{\"statusCode\": 500, \"body\": \"\\\"KeyError('job_requirements')\\\"\", \"headers\": {\"Access-Control-Allow-Headers\": \"*\", \"Access-Control-Allow-Origin\": \"*\", \"Access-Control-Allow-Methods\": \"*\"}}\n"
     ]
    }
   ],
   "source": [
    "!sam local invoke \"ChatResume\" -e src/chat_resume/events/event_4.json -n src/.env.json\n"
   ]
  },
  {
   "cell_type": "code",
   "execution_count": 11,
   "metadata": {},
   "outputs": [
    {
     "name": "stdout",
     "output_type": "stream",
     "text": [
      "Invoking handler.handler \u001b[1m(\u001b[0mpython3.\u001b[1;36m11\u001b[0m\u001b[1m)\u001b[0m                                           \n",
      "Local image is up-to-date                                                       \n",
      "Using local image: public.ecr.aws/lambda/python:\u001b[1;36m3.11\u001b[0m-rapid-arm64.               \n",
      "                                                                                \n",
      "Mounting                                                                        \n",
      "\u001b[35m/Users/jakubdrdak/VScodeProjects/tell-me-your-story/backend/.aws-sam/build/\u001b[0m\u001b[95mTailo\u001b[0m\n",
      "\u001b[95mredResumeGenerator\u001b[0m as \u001b[35m/var/\u001b[0m\u001b[95mtask\u001b[0m:ro,delegated, inside runtime container          \n",
      "START RequestId: 0bca0d15-c2fb-4e4c-8d22-07a9404abfaa Version: $LATEST\n",
      "END RequestId: ee19cf45-33e1-4842-90ad-e955dc9b478c\n",
      "REPORT RequestId: ee19cf45-33e1-4842-90ad-e955dc9b478c\tInit Duration: 0.13 ms\tDuration: 3731.96 ms\tBilled Duration: 3732 ms\tMemory Size: 128 MB\tMax Memory Used: 128 MB\t\n",
      "{\"statusCode\": 500, \"headers\": {\"Access-Control-Allow-Headers\": \"*\", \"Access-Control-Allow-Origin\": \"*\", \"Access-Control-Allow-Methods\": \"*\"}, \"body\": \"{\\\"error\\\": \\\"'tailored_sections'\\\"}\"}\n"
     ]
    }
   ],
   "source": [
    "!sam local invoke \"TailoredResumeGenerator\" -e src/tailored_resume_generator/events/event.json -n src/.env.json\n"
   ]
  },
  {
   "cell_type": "code",
   "execution_count": null,
   "metadata": {},
   "outputs": [],
   "source": []
  }
 ],
 "metadata": {
  "kernelspec": {
   "display_name": ".venv",
   "language": "python",
   "name": "python3"
  },
  "language_info": {
   "codemirror_mode": {
    "name": "ipython",
    "version": 3
   },
   "file_extension": ".py",
   "mimetype": "text/x-python",
   "name": "python",
   "nbconvert_exporter": "python",
   "pygments_lexer": "ipython3",
   "version": "3.11.4"
  },
  "orig_nbformat": 4
 },
 "nbformat": 4,
 "nbformat_minor": 2
}
