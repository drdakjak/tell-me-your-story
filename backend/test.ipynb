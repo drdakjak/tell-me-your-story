{
 "cells": [
  {
   "cell_type": "code",
   "execution_count": 2,
   "metadata": {},
   "outputs": [
    {
     "name": "stdout",
     "output_type": "stream",
     "text": [
      "aiohappyeyeballs==2.4.0\n",
      "aiohttp==3.10.5\n",
      "aiosignal==1.3.1\n",
      "annotated-types==0.7.0\n",
      "anthropic==0.34.1\n",
      "anyio==4.4.0\n",
      "appdirs==1.4.4\n",
      "appnope==0.1.4\n",
      "asttokens==2.4.1\n",
      "astunparse==1.6.3\n",
      "attrs==24.2.0\n",
      "beautifulsoup4==4.12.3\n",
      "blinker==1.7.0\n",
      "boto==2.49.0\n",
      "boto3==1.35.13\n",
      "botocore==1.35.13\n",
      "Brotli==1.1.0\n",
      "bs4==0.0.2\n",
      "certifi==2024.8.30\n",
      "cffi==1.17.0\n",
      "charset-normalizer==3.3.2\n",
      "chromedriver-py==128.0.6613.119\n",
      "comm==0.2.2\n",
      "cryptography==43.0.1\n",
      "cssselect==1.2.0\n",
      "dataclasses-json==0.6.7\n",
      "debugpy==1.8.5\n",
      "decorator==5.1.1\n",
      "defusedxml==0.7.1\n",
      "distro==1.9.0\n",
      "executing==2.1.0\n",
      "fake-useragent==1.5.1\n",
      "filelock==3.15.4\n",
      "frozenlist==1.4.1\n",
      "fsspec==2024.6.1\n",
      "h11==0.14.0\n",
      "h2==4.1.0\n",
      "hpack==4.0.0\n",
      "httpcore==1.0.5\n",
      "httpx==0.27.2\n",
      "huggingface-hub==0.24.6\n",
      "hyperframe==6.0.1\n",
      "idna==3.8\n",
      "importlib_metadata==8.4.0\n",
      "ipykernel==6.29.5\n",
      "ipython==8.27.0\n",
      "ipython-cache==0.2.6\n",
      "jedi==0.19.1\n",
      "jiter==0.5.0\n",
      "jmespath==1.0.1\n",
      "jsonpatch==1.33\n",
      "jsonpointer==3.0.0\n",
      "jupyter_client==8.6.2\n",
      "jupyter_core==5.7.2\n",
      "kaitaistruct==0.10\n",
      "langchain==0.2.16\n",
      "langchain-anthropic==0.1.23\n",
      "langchain-community==0.2.16\n",
      "langchain-core==0.2.38\n",
      "langchain-openai==0.1.23\n",
      "langchain-text-splitters==0.2.4\n",
      "langgraph==0.2.16\n",
      "langgraph-checkpoint==1.0.8\n",
      "langsmith==0.1.111\n",
      "lxml==5.3.0\n",
      "lxml_html_clean==0.2.2\n",
      "marshmallow==3.22.0\n",
      "matplotlib-inline==0.1.7\n",
      "multidict==6.0.5\n",
      "mypy-extensions==1.0.0\n",
      "nest-asyncio==1.6.0\n",
      "numpy==1.26.4\n",
      "openai==1.43.0\n",
      "orjson==3.10.7\n",
      "outcome==1.3.0.post0\n",
      "packaging==24.1\n",
      "parse==1.20.2\n",
      "parso==0.8.4\n",
      "pexpect==4.9.0\n",
      "platformdirs==4.2.2\n",
      "prompt_toolkit==3.0.47\n",
      "psutil==6.0.0\n",
      "ptyprocess==0.7.0\n",
      "pure_eval==0.2.3\n",
      "pyasn1==0.6.0\n",
      "pycparser==2.22\n",
      "pydantic==2.8.2\n",
      "pydantic_core==2.20.1\n",
      "pyee==11.1.1\n",
      "Pygments==2.18.0\n",
      "pyOpenSSL==24.2.1\n",
      "pyparsing==3.1.4\n",
      "pyppeteer==2.0.0\n",
      "pyquery==2.0.1\n",
      "PySocks==1.7.1\n",
      "python-dateutil==2.9.0.post0\n",
      "python-dotenv==1.0.1\n",
      "PyYAML==6.0.2\n",
      "pyzmq==26.2.0\n",
      "regex==2024.7.24\n",
      "requests==2.32.3\n",
      "requests-html==0.10.0\n",
      "s3transfer==0.10.2\n",
      "selenium==4.24.0\n",
      "selenium-wire==5.1.0\n",
      "shortuuid==1.0.13\n",
      "six==1.16.0\n",
      "sniffio==1.3.1\n",
      "sortedcontainers==2.4.0\n",
      "soupsieve==2.6\n",
      "SQLAlchemy==2.0.33\n",
      "stack-data==0.6.3\n",
      "tabulate==0.9.0\n",
      "tenacity==8.5.0\n",
      "tiktoken==0.7.0\n",
      "tokenizers==0.20.0\n",
      "tornado==6.4.1\n",
      "tqdm==4.66.5\n",
      "traitlets==5.14.3\n",
      "trio==0.26.2\n",
      "trio-websocket==0.11.1\n",
      "typing-inspect==0.9.0\n",
      "typing_extensions==4.12.2\n",
      "urllib3==1.26.20\n",
      "w3lib==2.2.1\n",
      "wcwidth==0.2.13\n",
      "webdriver-manager==4.0.2\n",
      "websocket-client==1.8.0\n",
      "websockets==10.4\n",
      "wsproto==1.2.0\n",
      "yarl==1.9.8\n",
      "zipp==3.20.1\n",
      "zstandard==0.23.0\n"
     ]
    }
   ],
   "source": [
    "!pip freeze"
   ]
  },
  {
   "cell_type": "code",
   "execution_count": 2,
   "metadata": {},
   "outputs": [
    {
     "name": "stdout",
     "output_type": "stream",
     "text": [
      "Invoking handler.handler \u001b[1m(\u001b[0mpython3.\u001b[1;36m11\u001b[0m\u001b[1m)\u001b[0m                                           \n",
      "Local image is up-to-date                                                       \n",
      "Using local image: public.ecr.aws/lambda/python:\u001b[1;36m3.11\u001b[0m-rapid-x86_64.              \n",
      "                                                                                \n",
      "Mounting                                                                        \n",
      "\u001b[35m/Users/jakubdrdak/VScodeProjects/tell-me-your-story/backend/.aws-sam/build/\u001b[0m\u001b[95mFetch\u001b[0m\n",
      "\u001b[95mJobPost\u001b[0m as \u001b[35m/var/\u001b[0m\u001b[95mtask\u001b[0m:ro,delegated, inside runtime container                     \n",
      "START RequestId: 7cc1988e-ef1f-4c61-b232-fe856d1ab1c0 Version: $LATEST\n",
      "END RequestId: 4275fa6b-719a-494e-ab5d-a91b855becd3\n",
      "REPORT RequestId: 4275fa6b-719a-494e-ab5d-a91b855becd3\tInit Duration: 0.45 ms\tDuration: 4389.18 ms\tBilled Duration: 4390 ms\tMemory Size: 128 MB\tMax Memory Used: 128 MB\t\n",
      "{\"statusCode\": 500, \"body\": \"\\\"Message: Unable to obtain driver for chrome; For documentation on this error, please visit: https://www.selenium.dev/documentation/webdriver/troubleshooting/errors/driver_location\\\\n\\\"\"}\n"
     ]
    }
   ],
   "source": [
    "!sam local invoke \"FetchJobPost\" -e src/fetch_job_post/events/event.json -n src/.env.json"
   ]
  },
  {
   "cell_type": "code",
   "execution_count": 1,
   "metadata": {},
   "outputs": [
    {
     "name": "stdout",
     "output_type": "stream",
     "text": [
      "Invoking handler.handler \u001b[1m(\u001b[0mpython3.\u001b[1;36m11\u001b[0m\u001b[1m)\u001b[0m                                           \n",
      "Local image was not found.                                                      \n",
      "Removing rapid images for repo public.ecr.aws/sam/emulation-python3.\u001b[1;36m11\u001b[0m          \n",
      "Building image.................................................................................................................................................................................................................................................\n",
      "Using local image: public.ecr.aws/lambda/python:\u001b[1;36m3.11\u001b[0m-rapid-arm64.               \n",
      "                                                                                \n",
      "Mounting                                                                        \n",
      "\u001b[35m/Users/jakubdrdak/VScodeProjects/tell-me-your-story/backend/.aws-sam/build/\u001b[0m\u001b[95mProce\u001b[0m\n",
      "\u001b[95mssResume\u001b[0m as \u001b[35m/var/\u001b[0m\u001b[95mtask\u001b[0m:ro,delegated, inside runtime container                    \n",
      "START RequestId: f0c16a9f-3c89-44da-8280-e85d33c74456 Version: $LATEST\n",
      "[ERROR] Runtime.ImportModuleError: Unable to import module 'handler': No module named 'pydantic'\n",
      "Traceback (most recent call last):\n",
      "20 Sep 2024 17:16:11,033 [ERROR] (rapid) Init failed error=Runtime exited with error: exit status 1 InvokeID=\n",
      "20 Sep 2024 17:16:11,033 [ERROR] (rapid) Invoke failed InvokeID=96f1faa5-3505-4177-82b8-426f1e119eee error=Runtime exited with error: exit status 1\n",
      "20 Sep 2024 17:16:11,033 [ERROR] (rapid) Invoke DONE failed: Sandbox.Failure\n",
      "{\"errorMessage\": \"Unable to import module 'handler': No module named 'pydantic'\", \"errorType\": \"Runtime.ImportModuleError\", \"requestId\": \"\", \"stackTrace\": []}\n"
     ]
    }
   ],
   "source": [
    "!sam local invoke \"ProcessResume\" -e src/process_resume/events/event.json -n src/.env.json\n"
   ]
  },
  {
   "cell_type": "code",
   "execution_count": 2,
   "metadata": {},
   "outputs": [
    {
     "name": "stdout",
     "output_type": "stream",
     "text": [
      "Invoking handler.handler \u001b[1m(\u001b[0mpython3.\u001b[1;36m11\u001b[0m\u001b[1m)\u001b[0m                                           \n",
      "Local image is up-to-date                                                       \n",
      "Using local image: public.ecr.aws/lambda/python:\u001b[1;36m3.11\u001b[0m-rapid-arm64.               \n",
      "                                                                                \n",
      "Mounting                                                                        \n",
      "\u001b[35m/Users/jakubdrdak/VScodeProjects/tell-me-your-story/backend/.aws-sam/build/\u001b[0m\u001b[95mProce\u001b[0m\n",
      "\u001b[95mssJobPost\u001b[0m as \u001b[35m/var/\u001b[0m\u001b[95mtask\u001b[0m:ro,delegated, inside runtime container                   \n",
      "START RequestId: a62a06ba-cc2c-4b23-b259-7316d58268e9 Version: $LATEST\n",
      "[ERROR] Runtime.ImportModuleError: Unable to import module 'handler': No module named 'langchain_core'\n",
      "Traceback (most recent call last):\n",
      "20 Sep 2024 15:34:23,906 [ERROR] (rapid) Init failed error=Runtime exited with error: exit status 1 InvokeID=\n",
      "20 Sep 2024 15:34:23,907 [ERROR] (rapid) Invoke failed error=Runtime exited with error: exit status 1 InvokeID=45636eb5-60eb-4b0b-9bc5-b50cbe40ffca\n",
      "20 Sep 2024 15:34:23,907 [ERROR] (rapid) Invoke DONE failed: Sandbox.Failure\n",
      "{\"errorMessage\": \"Unable to import module 'handler': No module named 'langchain_core'\", \"errorType\": \"Runtime.ImportModuleError\", \"requestId\": \"\", \"stackTrace\": []}\n"
     ]
    }
   ],
   "source": [
    "!sam local invoke \"ProcessJobPost\" -e src/process_job_post/events/event.json -n src/.env.json\n"
   ]
  },
  {
   "cell_type": "code",
   "execution_count": 3,
   "metadata": {},
   "outputs": [
    {
     "name": "stdout",
     "output_type": "stream",
     "text": [
      "Invoking handler.handler \u001b[1m(\u001b[0mpython3.\u001b[1;36m11\u001b[0m\u001b[1m)\u001b[0m                                           \n",
      "Local image is up-to-date                                                       \n",
      "Using local image: public.ecr.aws/lambda/python:\u001b[1;36m3.11\u001b[0m-rapid-arm64.               \n",
      "                                                                                \n",
      "Mounting                                                                        \n",
      "\u001b[35m/Users/jakubdrdak/VScodeProjects/tell-me-your-story/backend/.aws-sam/build/\u001b[0m\u001b[95mOptim\u001b[0m\n",
      "\u001b[95miseResume\u001b[0m as \u001b[35m/var/\u001b[0m\u001b[95mtask\u001b[0m:ro,delegated, inside runtime container                   \n",
      "START RequestId: 483c31fa-ad1d-421d-a8eb-6ac0796af1b8 Version: $LATEST\n",
      "[ERROR] Runtime.ImportModuleError: Unable to import module 'handler': No module named 'shortuuid'\n",
      "Traceback (most recent call last):\n",
      "20 Sep 2024 15:34:31,221 [ERROR] (rapid) Init failed error=Runtime exited with error: exit status 1 InvokeID=\n",
      "20 Sep 2024 15:34:31,221 [ERROR] (rapid) Invoke failed error=Runtime exited with error: exit status 1 InvokeID=bcfe0e0a-841c-4d93-a6f3-a11fecd7c427\n",
      "20 Sep 2024 15:34:31,221 [ERROR] (rapid) Invoke DONE failed: Sandbox.Failure\n",
      "{\"errorMessage\": \"Unable to import module 'handler': No module named 'shortuuid'\", \"errorType\": \"Runtime.ImportModuleError\", \"requestId\": \"\", \"stackTrace\": []}\n"
     ]
    }
   ],
   "source": [
    "!sam local invoke \"OptimiseResume\" -e src/optimise_resume/events/event.json -n src/.env.json\n"
   ]
  },
  {
   "cell_type": "code",
   "execution_count": 4,
   "metadata": {},
   "outputs": [
    {
     "name": "stdout",
     "output_type": "stream",
     "text": [
      "RestChat not found. Possible options in your template: \u001b[1m[\u001b[0m\u001b[32m'FetchJobPost'\u001b[0m,         \n",
      "\u001b[32m'ProcessJobPost'\u001b[0m, \u001b[32m'UploadResume'\u001b[0m, \u001b[32m'ProcessResume'\u001b[0m, \u001b[32m'OptimiseResume'\u001b[0m,            \n",
      "\u001b[32m'ChatResume'\u001b[0m, \u001b[32m'InvokeChat'\u001b[0m, \u001b[32m'ResetChat'\u001b[0m, \u001b[32m'TailoredResumeGenerator'\u001b[0m,             \n",
      "\u001b[32m'UpdateTailoredSection'\u001b[0m\u001b[1m]\u001b[0m                                                        \n",
      "Error: Function RestChat not found in template\n"
     ]
    }
   ],
   "source": [
    "!sam local invoke \"ResetChat\" -e src/reset_chat/events/event.json -n src/.env.json\n"
   ]
  },
  {
   "cell_type": "code",
   "execution_count": 5,
   "metadata": {},
   "outputs": [
    {
     "name": "stdout",
     "output_type": "stream",
     "text": [
      "Invoking handler.handler \u001b[1m(\u001b[0mpython3.\u001b[1;36m11\u001b[0m\u001b[1m)\u001b[0m                                           \n",
      "Local image is up-to-date                                                       \n",
      "Using local image: public.ecr.aws/lambda/python:\u001b[1;36m3.11\u001b[0m-rapid-arm64.               \n",
      "                                                                                \n",
      "Mounting                                                                        \n",
      "\u001b[35m/Users/jakubdrdak/VScodeProjects/tell-me-your-story/backend/.aws-sam/build/\u001b[0m\u001b[95mInvok\u001b[0m\n",
      "\u001b[95meChat\u001b[0m as \u001b[35m/var/\u001b[0m\u001b[95mtask\u001b[0m:ro,delegated, inside runtime container                       \n",
      "START RequestId: bb12e74f-e74c-4356-baf8-415260e652eb Version: $LATEST\n",
      "[ERROR] Runtime.ImportModuleError: Unable to import module 'handler': No module named 'langchain_community'\n",
      "Traceback (most recent call last):\n",
      "20 Sep 2024 15:34:41,032 [ERROR] (rapid) Init failed error=Runtime exited with error: exit status 1 InvokeID=\n",
      "20 Sep 2024 15:34:41,032 [ERROR] (rapid) Invoke failed error=Runtime exited with error: exit status 1 InvokeID=c5cd325a-1760-40bb-8329-e2a10e7c0255\n",
      "20 Sep 2024 15:34:41,032 [ERROR] (rapid) Invoke DONE failed: Sandbox.Failure\n",
      "{\"errorMessage\": \"Unable to import module 'handler': No module named 'langchain_community'\", \"errorType\": \"Runtime.ImportModuleError\", \"requestId\": \"\", \"stackTrace\": []}\n"
     ]
    }
   ],
   "source": [
    "!sam local invoke \"InvokeChat\" -e src/invoke_chat/events/event.json -n src/.env.json\n"
   ]
  },
  {
   "cell_type": "code",
   "execution_count": 6,
   "metadata": {},
   "outputs": [
    {
     "name": "stdout",
     "output_type": "stream",
     "text": [
      "Invoking handler.handler \u001b[1m(\u001b[0mpython3.\u001b[1;36m11\u001b[0m\u001b[1m)\u001b[0m                                           \n",
      "Local image is up-to-date                                                       \n",
      "Using local image: public.ecr.aws/lambda/python:\u001b[1;36m3.11\u001b[0m-rapid-arm64.               \n",
      "                                                                                \n",
      "Mounting                                                                        \n",
      "\u001b[35m/Users/jakubdrdak/VScodeProjects/tell-me-your-story/backend/.aws-sam/build/\u001b[0m\u001b[95mChatR\u001b[0m\n",
      "\u001b[95mesume\u001b[0m as \u001b[35m/var/\u001b[0m\u001b[95mtask\u001b[0m:ro,delegated, inside runtime container                       \n",
      "START RequestId: bb58c2ca-24a2-4e00-9027-705f0e48c345 Version: $LATEST\n",
      "[ERROR] Runtime.ImportModuleError: Unable to import module 'handler': No module named 'langchain_core'\n",
      "Traceback (most recent call last):\n",
      "20 Sep 2024 15:34:48,479 [ERROR] (rapid) Init failed error=Runtime exited with error: exit status 1 InvokeID=\n",
      "20 Sep 2024 15:34:48,479 [ERROR] (rapid) Invoke failed error=Runtime exited with error: exit status 1 InvokeID=d7bc9e91-13b9-41e8-86b3-d62e9220a2e8\n",
      "20 Sep 2024 15:34:48,479 [ERROR] (rapid) Invoke DONE failed: Sandbox.Failure\n",
      "{\"errorMessage\": \"Unable to import module 'handler': No module named 'langchain_core'\", \"errorType\": \"Runtime.ImportModuleError\", \"requestId\": \"\", \"stackTrace\": []}\n"
     ]
    }
   ],
   "source": [
    "!sam local invoke \"ChatResume\" -e src/chat_resume/events/event_1.json -n src/.env.json"
   ]
  },
  {
   "cell_type": "code",
   "execution_count": 7,
   "metadata": {},
   "outputs": [
    {
     "name": "stdout",
     "output_type": "stream",
     "text": [
      "Invoking handler.handler \u001b[1m(\u001b[0mpython3.\u001b[1;36m11\u001b[0m\u001b[1m)\u001b[0m                                           \n",
      "Local image is up-to-date                                                       \n",
      "Using local image: public.ecr.aws/lambda/python:\u001b[1;36m3.11\u001b[0m-rapid-arm64.               \n",
      "                                                                                \n",
      "Mounting                                                                        \n",
      "\u001b[35m/Users/jakubdrdak/VScodeProjects/tell-me-your-story/backend/.aws-sam/build/\u001b[0m\u001b[95mChatR\u001b[0m\n",
      "\u001b[95mesume\u001b[0m as \u001b[35m/var/\u001b[0m\u001b[95mtask\u001b[0m:ro,delegated, inside runtime container                       \n",
      "START RequestId: 795e4fb8-273b-4969-9c71-38669f7700bc Version: $LATEST\n",
      "[ERROR] Runtime.ImportModuleError: Unable to import module 'handler': No module named 'langchain_core'\n",
      "Traceback (most recent call last):\n",
      "20 Sep 2024 15:34:55,853 [ERROR] (rapid) Init failed error=Runtime exited with error: exit status 1 InvokeID=\n",
      "20 Sep 2024 15:34:55,864 [ERROR] (rapid) Invoke failed InvokeID=d841f37f-f1c7-4a57-8405-20d7a624a4f5 error=Runtime exited with error: exit status 1\n",
      "20 Sep 2024 15:34:55,864 [ERROR] (rapid) Invoke DONE failed: Sandbox.Failure\n",
      "{\"errorMessage\": \"Unable to import module 'handler': No module named 'langchain_core'\", \"errorType\": \"Runtime.ImportModuleError\", \"requestId\": \"\", \"stackTrace\": []}\n"
     ]
    }
   ],
   "source": [
    "!sam local invoke \"ChatResume\" -e src/chat_resume/events/event_2.json -n src/.env.json\n"
   ]
  },
  {
   "cell_type": "code",
   "execution_count": 8,
   "metadata": {},
   "outputs": [
    {
     "name": "stdout",
     "output_type": "stream",
     "text": [
      "Invoking handler.handler \u001b[1m(\u001b[0mpython3.\u001b[1;36m11\u001b[0m\u001b[1m)\u001b[0m                                           \n",
      "Local image is up-to-date                                                       \n",
      "Using local image: public.ecr.aws/lambda/python:\u001b[1;36m3.11\u001b[0m-rapid-arm64.               \n",
      "                                                                                \n",
      "Mounting                                                                        \n",
      "\u001b[35m/Users/jakubdrdak/VScodeProjects/tell-me-your-story/backend/.aws-sam/build/\u001b[0m\u001b[95mChatR\u001b[0m\n",
      "\u001b[95mesume\u001b[0m as \u001b[35m/var/\u001b[0m\u001b[95mtask\u001b[0m:ro,delegated, inside runtime container                       \n",
      "START RequestId: 16ebdb0a-9187-4e92-98f0-3548a7f0c020 Version: $LATEST\n",
      "[ERROR] Runtime.ImportModuleError: Unable to import module 'handler': No module named 'langchain_core'\n",
      "Traceback (most recent call last):\n",
      "20 Sep 2024 15:35:03,173 [ERROR] (rapid) Init failed error=Runtime exited with error: exit status 1 InvokeID=\n",
      "20 Sep 2024 15:35:03,173 [ERROR] (rapid) Invoke failed InvokeID=dc3a4a1a-d792-45f1-872e-94a35c7d567c error=Runtime exited with error: exit status 1\n",
      "20 Sep 2024 15:35:03,173 [ERROR] (rapid) Invoke DONE failed: Sandbox.Failure\n",
      "{\"errorMessage\": \"Unable to import module 'handler': No module named 'langchain_core'\", \"errorType\": \"Runtime.ImportModuleError\", \"requestId\": \"\", \"stackTrace\": []}\n"
     ]
    }
   ],
   "source": [
    "!sam local invoke \"ChatResume\" -e src/chat_resume/events/event_3.json -n src/.env.json\n"
   ]
  },
  {
   "cell_type": "code",
   "execution_count": 9,
   "metadata": {},
   "outputs": [
    {
     "name": "stdout",
     "output_type": "stream",
     "text": [
      "Invoking handler.handler \u001b[1m(\u001b[0mpython3.\u001b[1;36m11\u001b[0m\u001b[1m)\u001b[0m                                           \n",
      "Local image is up-to-date                                                       \n",
      "Using local image: public.ecr.aws/lambda/python:\u001b[1;36m3.11\u001b[0m-rapid-arm64.               \n",
      "                                                                                \n",
      "Mounting                                                                        \n",
      "\u001b[35m/Users/jakubdrdak/VScodeProjects/tell-me-your-story/backend/.aws-sam/build/\u001b[0m\u001b[95mChatR\u001b[0m\n",
      "\u001b[95mesume\u001b[0m as \u001b[35m/var/\u001b[0m\u001b[95mtask\u001b[0m:ro,delegated, inside runtime container                       \n",
      "START RequestId: 474ad69d-e40e-45d4-a5c3-49e286fcb335 Version: $LATEST\n",
      "[ERROR] Runtime.ImportModuleError: Unable to import module 'handler': No module named 'langchain_core'\n",
      "Traceback (most recent call last):\n",
      "20 Sep 2024 15:35:10,850 [ERROR] (rapid) Init failed error=Runtime exited with error: exit status 1 InvokeID=\n",
      "20 Sep 2024 15:35:10,850 [ERROR] (rapid) Invoke failed error=Runtime exited with error: exit status 1 InvokeID=ed754a7d-824d-461f-bf6b-c17f638a2340\n",
      "20 Sep 2024 15:35:10,851 [ERROR] (rapid) Invoke DONE failed: Sandbox.Failure\n",
      "{\"errorMessage\": \"Unable to import module 'handler': No module named 'langchain_core'\", \"errorType\": \"Runtime.ImportModuleError\", \"requestId\": \"\", \"stackTrace\": []}\n"
     ]
    }
   ],
   "source": [
    "!sam local invoke \"ChatResume\" -e src/chat_resume/events/event_4.json -n src/.env.json\n"
   ]
  },
  {
   "cell_type": "code",
   "execution_count": 10,
   "metadata": {},
   "outputs": [
    {
     "name": "stdout",
     "output_type": "stream",
     "text": [
      "Invoking handler.handler \u001b[1m(\u001b[0mpython3.\u001b[1;36m11\u001b[0m\u001b[1m)\u001b[0m                                           \n",
      "Local image is up-to-date                                                       \n",
      "Using local image: public.ecr.aws/lambda/python:\u001b[1;36m3.11\u001b[0m-rapid-arm64.               \n",
      "                                                                                \n",
      "Mounting                                                                        \n",
      "\u001b[35m/Users/jakubdrdak/VScodeProjects/tell-me-your-story/backend/.aws-sam/build/\u001b[0m\u001b[95mTailo\u001b[0m\n",
      "\u001b[95mredResumeGenerator\u001b[0m as \u001b[35m/var/\u001b[0m\u001b[95mtask\u001b[0m:ro,delegated, inside runtime container          \n",
      "START RequestId: a75dba06-8a43-412e-93d4-cffbb2d4adfe Version: $LATEST\n",
      "END RequestId: b40016a6-6532-4db3-9139-1fa8cf3b5ed6\n",
      "REPORT RequestId: b40016a6-6532-4db3-9139-1fa8cf3b5ed6\tInit Duration: 0.04 ms\tDuration: 2905.87 ms\tBilled Duration: 2906 ms\tMemory Size: 128 MB\tMax Memory Used: 128 MB\t\n",
      "{\"statusCode\": 500, \"headers\": {\"Access-Control-Allow-Headers\": \"*\", \"Access-Control-Allow-Origin\": \"*\", \"Access-Control-Allow-Methods\": \"*\"}, \"body\": \"{\\\"error\\\": \\\"'tailored_sections'\\\"}\"}\n"
     ]
    }
   ],
   "source": [
    "!sam local invoke \"TailoredResumeGenerator\" -e src/tailored_resume_generator/events/event.json -n src/.env.json\n"
   ]
  },
  {
   "cell_type": "code",
   "execution_count": null,
   "metadata": {},
   "outputs": [],
   "source": []
  }
 ],
 "metadata": {
  "kernelspec": {
   "display_name": ".venv",
   "language": "python",
   "name": "python3"
  },
  "language_info": {
   "codemirror_mode": {
    "name": "ipython",
    "version": 3
   },
   "file_extension": ".py",
   "mimetype": "text/x-python",
   "name": "python",
   "nbconvert_exporter": "python",
   "pygments_lexer": "ipython3",
   "version": "3.11.4"
  },
  "orig_nbformat": 4
 },
 "nbformat": 4,
 "nbformat_minor": 2
}
